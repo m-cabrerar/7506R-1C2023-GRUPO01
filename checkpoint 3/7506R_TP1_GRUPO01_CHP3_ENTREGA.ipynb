{
 "cells": [
  {
   "attachments": {},
   "cell_type": "markdown",
   "metadata": {},
   "source": [
    "# Trabajo Práctico 1 : Reservas de Hotel\n",
    "\n",
    "### Grupo 01 - Integrantes:\n",
    "        Cabrera Rodríguez, Mateo \n",
    "        Gonzalez Alejo, Camila\n",
    "        Bocanegra, Eduardo Martín"
   ]
  },
  {
   "attachments": {},
   "cell_type": "markdown",
   "metadata": {},
   "source": [
    "### Instalar dependencias"
   ]
  },
  {
   "cell_type": "code",
   "execution_count": 11,
   "metadata": {
    "vscode": {
     "languageId": "shellscript"
    }
   },
   "outputs": [
    {
     "name": "stdout",
     "output_type": "stream",
     "text": [
      "Requirement already satisfied: pandas in c:\\users\\hp\\appdata\\local\\programs\\python\\python310\\lib\\site-packages (from -r ../requirements.txt (line 1)) (1.5.3)Note: you may need to restart the kernel to use updated packages.\n",
      "\n",
      "Requirement already satisfied: numpy in c:\\users\\hp\\appdata\\local\\programs\\python\\python310\\lib\\site-packages (from -r ../requirements.txt (line 2)) (1.24.2)\n",
      "Requirement already satisfied: seaborn in c:\\users\\hp\\appdata\\local\\programs\\python\\python310\\lib\\site-packages (from -r ../requirements.txt (line 3)) (0.12.2)\n",
      "Requirement already satisfied: scikit-learn in c:\\users\\hp\\appdata\\local\\programs\\python\\python310\\lib\\site-packages (from -r ../requirements.txt (line 4)) (1.2.2)\n",
      "Requirement already satisfied: graphviz in c:\\users\\hp\\appdata\\local\\programs\\python\\python310\\lib\\site-packages (from -r ../requirements.txt (line 5)) (0.20.1)\n",
      "Requirement already satisfied: python-dateutil>=2.8.1 in c:\\users\\hp\\appdata\\local\\programs\\python\\python310\\lib\\site-packages (from pandas->-r ../requirements.txt (line 1)) (2.8.2)\n",
      "Requirement already satisfied: pytz>=2020.1 in c:\\users\\hp\\appdata\\local\\programs\\python\\python310\\lib\\site-packages (from pandas->-r ../requirements.txt (line 1)) (2023.3)\n",
      "Requirement already satisfied: matplotlib!=3.6.1,>=3.1 in c:\\users\\hp\\appdata\\local\\programs\\python\\python310\\lib\\site-packages (from seaborn->-r ../requirements.txt (line 3)) (3.7.1)\n",
      "Requirement already satisfied: scipy>=1.3.2 in c:\\users\\hp\\appdata\\local\\programs\\python\\python310\\lib\\site-packages (from scikit-learn->-r ../requirements.txt (line 4)) (1.10.1)\n",
      "Requirement already satisfied: joblib>=1.1.1 in c:\\users\\hp\\appdata\\local\\programs\\python\\python310\\lib\\site-packages (from scikit-learn->-r ../requirements.txt (line 4)) (1.2.0)\n",
      "Requirement already satisfied: threadpoolctl>=2.0.0 in c:\\users\\hp\\appdata\\local\\programs\\python\\python310\\lib\\site-packages (from scikit-learn->-r ../requirements.txt (line 4)) (3.1.0)\n",
      "Requirement already satisfied: contourpy>=1.0.1 in c:\\users\\hp\\appdata\\local\\programs\\python\\python310\\lib\\site-packages (from matplotlib!=3.6.1,>=3.1->seaborn->-r ../requirements.txt (line 3)) (1.0.7)\n",
      "Requirement already satisfied: cycler>=0.10 in c:\\users\\hp\\appdata\\local\\programs\\python\\python310\\lib\\site-packages (from matplotlib!=3.6.1,>=3.1->seaborn->-r ../requirements.txt (line 3)) (0.11.0)\n",
      "Requirement already satisfied: fonttools>=4.22.0 in c:\\users\\hp\\appdata\\local\\programs\\python\\python310\\lib\\site-packages (from matplotlib!=3.6.1,>=3.1->seaborn->-r ../requirements.txt (line 3)) (4.39.3)\n",
      "Requirement already satisfied: kiwisolver>=1.0.1 in c:\\users\\hp\\appdata\\local\\programs\\python\\python310\\lib\\site-packages (from matplotlib!=3.6.1,>=3.1->seaborn->-r ../requirements.txt (line 3)) (1.4.4)\n",
      "Requirement already satisfied: packaging>=20.0 in c:\\users\\hp\\appdata\\roaming\\python\\python310\\site-packages (from matplotlib!=3.6.1,>=3.1->seaborn->-r ../requirements.txt (line 3)) (23.0)\n",
      "Requirement already satisfied: pillow>=6.2.0 in c:\\users\\hp\\appdata\\local\\programs\\python\\python310\\lib\\site-packages (from matplotlib!=3.6.1,>=3.1->seaborn->-r ../requirements.txt (line 3)) (9.5.0)\n",
      "Requirement already satisfied: pyparsing>=2.3.1 in c:\\users\\hp\\appdata\\local\\programs\\python\\python310\\lib\\site-packages (from matplotlib!=3.6.1,>=3.1->seaborn->-r ../requirements.txt (line 3)) (3.0.9)\n",
      "Requirement already satisfied: six>=1.5 in c:\\users\\hp\\appdata\\local\\programs\\python\\python310\\lib\\site-packages (from python-dateutil>=2.8.1->pandas->-r ../requirements.txt (line 1)) (1.16.0)\n"
     ]
    }
   ],
   "source": [
    "pip install -r ../requirements.txt"
   ]
  },
  {
   "attachments": {},
   "cell_type": "markdown",
   "metadata": {},
   "source": [
    "### Cargado de bibliotecas"
   ]
  },
  {
   "cell_type": "code",
   "execution_count": 77,
   "metadata": {},
   "outputs": [],
   "source": [
    "#Datos\n",
    "import numpy as np\n",
    "import pandas as pd\n",
    "\n",
    "#Plots\n",
    "import matplotlib.pyplot as plt\n",
    "import seaborn as sns\n",
    "\n",
    "#Modelado\n",
    "from sklearn.svm import SVC\n",
    "from sklearn.model_selection import train_test_split\n",
    "from sklearn.model_selection import GridSearchCV\n",
    "from sklearn.neighbors import KNeighborsClassifier\n",
    "from sklearn.metrics import accuracy_score\n",
    "from sklearn.metrics import confusion_matrix, classification_report\n",
    "\n",
    "#preprocesamiento\n",
    "from sklearn.preprocessing import LabelEncoder\n",
    "from sklearn import preprocessing\n"
   ]
  },
  {
   "attachments": {},
   "cell_type": "markdown",
   "metadata": {},
   "source": [
    "### Cargado de Dataset"
   ]
  },
  {
   "cell_type": "code",
   "execution_count": 37,
   "metadata": {},
   "outputs": [
    {
     "data": {
      "text/html": [
       "<div>\n",
       "<style scoped>\n",
       "    .dataframe tbody tr th:only-of-type {\n",
       "        vertical-align: middle;\n",
       "    }\n",
       "\n",
       "    .dataframe tbody tr th {\n",
       "        vertical-align: top;\n",
       "    }\n",
       "\n",
       "    .dataframe thead th {\n",
       "        text-align: right;\n",
       "    }\n",
       "</style>\n",
       "<table border=\"1\" class=\"dataframe\">\n",
       "  <thead>\n",
       "    <tr style=\"text-align: right;\">\n",
       "      <th></th>\n",
       "      <th>hotel</th>\n",
       "      <th>lead_time</th>\n",
       "      <th>arrival_date_year</th>\n",
       "      <th>arrival_date_month</th>\n",
       "      <th>arrival_date_week_number</th>\n",
       "      <th>arrival_date_day_of_month</th>\n",
       "      <th>stays_in_weekend_nights</th>\n",
       "      <th>stays_in_week_nights</th>\n",
       "      <th>adults</th>\n",
       "      <th>children</th>\n",
       "      <th>...</th>\n",
       "      <th>deposit_type</th>\n",
       "      <th>agent</th>\n",
       "      <th>days_in_waiting_list</th>\n",
       "      <th>customer_type</th>\n",
       "      <th>adr</th>\n",
       "      <th>required_car_parking_spaces</th>\n",
       "      <th>total_of_special_requests</th>\n",
       "      <th>reservation_status_date</th>\n",
       "      <th>id</th>\n",
       "      <th>is_canceled</th>\n",
       "    </tr>\n",
       "  </thead>\n",
       "  <tbody>\n",
       "    <tr>\n",
       "      <th>0</th>\n",
       "      <td>City Hotel</td>\n",
       "      <td>49</td>\n",
       "      <td>2016</td>\n",
       "      <td>September</td>\n",
       "      <td>37</td>\n",
       "      <td>5</td>\n",
       "      <td>1</td>\n",
       "      <td>2</td>\n",
       "      <td>1</td>\n",
       "      <td>0</td>\n",
       "      <td>...</td>\n",
       "      <td>No Deposit</td>\n",
       "      <td>9.0</td>\n",
       "      <td>0</td>\n",
       "      <td>Transient</td>\n",
       "      <td>115.5</td>\n",
       "      <td>0</td>\n",
       "      <td>1</td>\n",
       "      <td>2016-08-25</td>\n",
       "      <td>7aa4cc6b-b92c-4061-b21d-4f9e0cac4689</td>\n",
       "      <td>1</td>\n",
       "    </tr>\n",
       "    <tr>\n",
       "      <th>1</th>\n",
       "      <td>Resort Hotel</td>\n",
       "      <td>4</td>\n",
       "      <td>2015</td>\n",
       "      <td>October</td>\n",
       "      <td>44</td>\n",
       "      <td>31</td>\n",
       "      <td>0</td>\n",
       "      <td>1</td>\n",
       "      <td>2</td>\n",
       "      <td>0</td>\n",
       "      <td>...</td>\n",
       "      <td>No Deposit</td>\n",
       "      <td>NaN</td>\n",
       "      <td>0</td>\n",
       "      <td>Transient</td>\n",
       "      <td>42.0</td>\n",
       "      <td>1</td>\n",
       "      <td>0</td>\n",
       "      <td>2015-11-01</td>\n",
       "      <td>b1428f80-c56c-4ae4-91a9-6962edae08b1</td>\n",
       "      <td>0</td>\n",
       "    </tr>\n",
       "    <tr>\n",
       "      <th>2</th>\n",
       "      <td>City Hotel</td>\n",
       "      <td>25</td>\n",
       "      <td>2016</td>\n",
       "      <td>October</td>\n",
       "      <td>42</td>\n",
       "      <td>13</td>\n",
       "      <td>0</td>\n",
       "      <td>1</td>\n",
       "      <td>2</td>\n",
       "      <td>2</td>\n",
       "      <td>...</td>\n",
       "      <td>No Deposit</td>\n",
       "      <td>9.0</td>\n",
       "      <td>0</td>\n",
       "      <td>Transient</td>\n",
       "      <td>229.0</td>\n",
       "      <td>0</td>\n",
       "      <td>2</td>\n",
       "      <td>2016-10-14</td>\n",
       "      <td>2226c018-ea20-4c4e-8f71-ea66aee70d7c</td>\n",
       "      <td>0</td>\n",
       "    </tr>\n",
       "    <tr>\n",
       "      <th>3</th>\n",
       "      <td>City Hotel</td>\n",
       "      <td>26</td>\n",
       "      <td>2016</td>\n",
       "      <td>December</td>\n",
       "      <td>51</td>\n",
       "      <td>12</td>\n",
       "      <td>2</td>\n",
       "      <td>5</td>\n",
       "      <td>2</td>\n",
       "      <td>0</td>\n",
       "      <td>...</td>\n",
       "      <td>Non Refund</td>\n",
       "      <td>154.0</td>\n",
       "      <td>0</td>\n",
       "      <td>Transient</td>\n",
       "      <td>75.0</td>\n",
       "      <td>0</td>\n",
       "      <td>0</td>\n",
       "      <td>2016-11-29</td>\n",
       "      <td>314f56dc-2e4d-4298-9bdd-27bb008bffff</td>\n",
       "      <td>1</td>\n",
       "    </tr>\n",
       "    <tr>\n",
       "      <th>4</th>\n",
       "      <td>City Hotel</td>\n",
       "      <td>104</td>\n",
       "      <td>2017</td>\n",
       "      <td>March</td>\n",
       "      <td>12</td>\n",
       "      <td>19</td>\n",
       "      <td>2</td>\n",
       "      <td>5</td>\n",
       "      <td>2</td>\n",
       "      <td>0</td>\n",
       "      <td>...</td>\n",
       "      <td>No Deposit</td>\n",
       "      <td>20.0</td>\n",
       "      <td>0</td>\n",
       "      <td>Transient-Party</td>\n",
       "      <td>75.0</td>\n",
       "      <td>0</td>\n",
       "      <td>1</td>\n",
       "      <td>2017-03-26</td>\n",
       "      <td>28c75445-c603-413a-babf-ad377018b592</td>\n",
       "      <td>0</td>\n",
       "    </tr>\n",
       "  </tbody>\n",
       "</table>\n",
       "<p>5 rows × 30 columns</p>\n",
       "</div>"
      ],
      "text/plain": [
       "          hotel  lead_time  arrival_date_year arrival_date_month  \\\n",
       "0    City Hotel         49               2016          September   \n",
       "1  Resort Hotel          4               2015            October   \n",
       "2    City Hotel         25               2016            October   \n",
       "3    City Hotel         26               2016           December   \n",
       "4    City Hotel        104               2017              March   \n",
       "\n",
       "   arrival_date_week_number  arrival_date_day_of_month  \\\n",
       "0                        37                          5   \n",
       "1                        44                         31   \n",
       "2                        42                         13   \n",
       "3                        51                         12   \n",
       "4                        12                         19   \n",
       "\n",
       "   stays_in_weekend_nights  stays_in_week_nights  adults  children  ...  \\\n",
       "0                        1                     2       1         0  ...   \n",
       "1                        0                     1       2         0  ...   \n",
       "2                        0                     1       2         2  ...   \n",
       "3                        2                     5       2         0  ...   \n",
       "4                        2                     5       2         0  ...   \n",
       "\n",
       "   deposit_type  agent days_in_waiting_list    customer_type    adr  \\\n",
       "0    No Deposit    9.0                    0        Transient  115.5   \n",
       "1    No Deposit    NaN                    0        Transient   42.0   \n",
       "2    No Deposit    9.0                    0        Transient  229.0   \n",
       "3    Non Refund  154.0                    0        Transient   75.0   \n",
       "4    No Deposit   20.0                    0  Transient-Party   75.0   \n",
       "\n",
       "   required_car_parking_spaces  total_of_special_requests  \\\n",
       "0                            0                          1   \n",
       "1                            1                          0   \n",
       "2                            0                          2   \n",
       "3                            0                          0   \n",
       "4                            0                          1   \n",
       "\n",
       "  reservation_status_date                                    id  is_canceled  \n",
       "0              2016-08-25  7aa4cc6b-b92c-4061-b21d-4f9e0cac4689            1  \n",
       "1              2015-11-01  b1428f80-c56c-4ae4-91a9-6962edae08b1            0  \n",
       "2              2016-10-14  2226c018-ea20-4c4e-8f71-ea66aee70d7c            0  \n",
       "3              2016-11-29  314f56dc-2e4d-4298-9bdd-27bb008bffff            1  \n",
       "4              2017-03-26  28c75445-c603-413a-babf-ad377018b592            0  \n",
       "\n",
       "[5 rows x 30 columns]"
      ]
     },
     "execution_count": 37,
     "metadata": {},
     "output_type": "execute_result"
    }
   ],
   "source": [
    "ds = pd.read_csv('../datasets/hoteles_train2.csv')\n",
    "ds_test = pd.read_csv('../datasets/hotels_test.csv')\n",
    "ds.head(5)"
   ]
  },
  {
   "attachments": {},
   "cell_type": "markdown",
   "metadata": {},
   "source": [
    "## Checkpoint 3"
   ]
  },
  {
   "attachments": {},
   "cell_type": "markdown",
   "metadata": {},
   "source": [
    "### K-Nearest Neighbors (KNN)"
   ]
  },
  {
   "attachments": {},
   "cell_type": "markdown",
   "metadata": {},
   "source": [
    "El algoritmo K-Nearest Neighbors, o simplemente KNN, funciona obteniendo un punto dado y evaluando sus \"k\" vecinos para encontrar similitudes. \n",
    "\n",
    "Se puede utilizar para clasificación o regresión.\n",
    "\n",
    "La idea se basa en el hecho de que los puntos de datos similares estarán más cerca en el espacio que los puntos que son muy diferentes entre sí.  "
   ]
  },
  {
   "attachments": {},
   "cell_type": "markdown",
   "metadata": {},
   "source": [
    "#### Trabajo sobre nulos"
   ]
  },
  {
   "cell_type": "code",
   "execution_count": 58,
   "metadata": {},
   "outputs": [],
   "source": [
    "# Trabajo sobre valores nulos\n",
    "agents = ds['agent'].unique()\n",
    "agents = np.delete(agents, 1)\n",
    "ds['agent'].fillna(0, inplace=True)\n",
    "\n",
    "agents = ds_test['agent'].unique()\n",
    "agents = np.delete(agents, 1)\n",
    "ds_test['agent'].fillna(0, inplace=True)"
   ]
  },
  {
   "attachments": {},
   "cell_type": "markdown",
   "metadata": {},
   "source": [
    "#### Transformacion de variables categoricas"
   ]
  },
  {
   "cell_type": "code",
   "execution_count": 59,
   "metadata": {},
   "outputs": [],
   "source": [
    "# Transformacion de variables categoricas\n",
    "\n",
    "import string\n",
    "\n",
    "# encoding ordinal\n",
    "\n",
    "ds = ds.replace({'meal': {'BB': 0, 'HB': 1, 'FB': 2, 'SC': 3, 'Undefined': 4},# ver que hacer con undefined\n",
    "                 'arrival_date_month': {'January': 1, 'February': 2, 'March': 3, 'April': 4, 'May': 5, 'June': 6, 'July': 7, 'August': 8, 'September': 9, 'October': 10,'November': 11, 'December': 12},\n",
    "                 'reserved_room_type': {a : n for n, a in enumerate(string.ascii_uppercase)},\n",
    "                 'assigned_room_type': {a : n for n, a in enumerate(string.ascii_uppercase)},\n",
    "                 'deposit_type': {'No Deposit': 0, 'Refundable': 1, 'Non Refund': 2},\n",
    "                 'agent': {agent : 1 for agent in agents}})\n",
    "\n",
    "ds_test = ds_test.replace({'meal': {'BB': 0, 'HB': 1, 'FB': 2, 'SC': 3, 'Undefined': 4},# ver que hacer con undefined\n",
    "                 'arrival_date_month': {'January': 1, 'February': 2, 'March': 3, 'April': 4, 'May': 5, 'June': 6, 'July': 7, 'August': 8, 'September': 9, 'October': 10,'November': 11, 'December': 12},\n",
    "                 'reserved_room_type': {a : n for n, a in enumerate(string.ascii_uppercase)},\n",
    "                 'assigned_room_type': {a : n for n, a in enumerate(string.ascii_uppercase)},\n",
    "                 'deposit_type': {'No Deposit': 0, 'Refundable': 1, 'Non Refund': 2},\n",
    "                 'agent': {agent : 1 for agent in agents}})\n",
    "\n",
    "# Si meal es Undefined o vacío, reemplazamos por SC (dice el paper)\n",
    "# ds['meal'] = ds['meal'].apply(lambda x: 'SC' if x in ['Undefined', 'null', ''] else x)\n",
    "# ds = pd.get_dummies(ds, columns=['assigned_room_type'], drop_first=True)\n",
    "# ds = pd.get_dummies(ds, columns=['reserved_room_type'], drop_first=True)\n",
    "# ds = pd.get_dummies(ds, columns=['meal'], drop_first=True)\n",
    "# ds = pd.get_dummies(ds, columns=['deposit_type'], drop_first=True)\n",
    "# ds = pd.get_dummies(ds, columns=['agent'], drop_first=True)"
   ]
  },
  {
   "cell_type": "code",
   "execution_count": 60,
   "metadata": {},
   "outputs": [],
   "source": [
    "label_encoder = LabelEncoder()\n",
    "ds['market_segment'] = label_encoder.fit_transform(ds['market_segment'])\n",
    "ds['distribution_channel'] = label_encoder.fit_transform(ds['distribution_channel'])\n",
    "ds['customer_type'] = label_encoder.fit_transform(ds['customer_type'])\n",
    "\n",
    "ds_test['market_segment'] = label_encoder.fit_transform(ds_test['market_segment'])\n",
    "ds_test['distribution_channel'] = label_encoder.fit_transform(ds_test['distribution_channel'])\n",
    "ds_test['customer_type'] = label_encoder.fit_transform(ds_test['customer_type'])\n",
    "\n",
    "#ds['arrival_date_month'] = label_encoder.fit_transform(ds['arrival_date_month'])"
   ]
  },
  {
   "attachments": {},
   "cell_type": "markdown",
   "metadata": {},
   "source": [
    "#### Separacion de datos"
   ]
  },
  {
   "cell_type": "code",
   "execution_count": 61,
   "metadata": {},
   "outputs": [],
   "source": [
    "# Definicion de excluidos y target\n",
    "\n",
    "excluidos = ['hotel', 'reservation_status_date', 'id']\n",
    "\n",
    "target = 'is_canceled'\n",
    "features = [col for col in ds.columns if col not in excluidos+[target]]"
   ]
  },
  {
   "cell_type": "code",
   "execution_count": 62,
   "metadata": {},
   "outputs": [],
   "source": [
    "#Separar datos y etiquetas\n",
    "x = ds[features].values\n",
    "y = ds[target].values\n",
    "\n",
    "#Separo conjunto de Train y de Test (80/20)\n",
    "x_train, x_test, y_train, y_test = train_test_split(x, y , test_size=0.20, random_state=0, stratify=ds[target].values)"
   ]
  },
  {
   "attachments": {},
   "cell_type": "markdown",
   "metadata": {},
   "source": [
    "#### Creacion de un modelo KNN con sus parametros por defecto"
   ]
  },
  {
   "cell_type": "code",
   "execution_count": 63,
   "metadata": {},
   "outputs": [
    {
     "data": {
      "text/plain": [
       "{'algorithm': 'auto',\n",
       " 'leaf_size': 30,\n",
       " 'metric': 'minkowski',\n",
       " 'metric_params': None,\n",
       " 'n_jobs': None,\n",
       " 'n_neighbors': 5,\n",
       " 'p': 2,\n",
       " 'weights': 'uniform'}"
      ]
     },
     "execution_count": 63,
     "metadata": {},
     "output_type": "execute_result"
    }
   ],
   "source": [
    "#Creamos el modelo\n",
    "KNN_Classifier = KNeighborsClassifier()\n",
    "\n",
    "#vemos sus parámetros\n",
    "KNN_Classifier.get_params()"
   ]
  },
  {
   "cell_type": "code",
   "execution_count": 64,
   "metadata": {},
   "outputs": [],
   "source": [
    "#Entrenamos el modelo\n",
    "KNN_Classifier.fit(x_train, y_train)\n",
    "\n",
    "#Predicción sobre test\n",
    "y_pred = KNN_Classifier.predict(x_test)"
   ]
  },
  {
   "cell_type": "code",
   "execution_count": 65,
   "metadata": {},
   "outputs": [
    {
     "name": "stdout",
     "output_type": "stream",
     "text": [
      "correctas:  8987\n",
      "total:  12343\n"
     ]
    }
   ],
   "source": [
    "#Cantidad de aciertos\n",
    "print('correctas: ', np.sum(y_test == y_pred))\n",
    "print('total: ', len(y_test))"
   ]
  },
  {
   "cell_type": "code",
   "execution_count": 68,
   "metadata": {},
   "outputs": [
    {
     "data": {
      "text/plain": [
       "0.7281049987847363"
      ]
     },
     "execution_count": 68,
     "metadata": {},
     "output_type": "execute_result"
    }
   ],
   "source": [
    "accuracy_score(y_test,y_pred)"
   ]
  },
  {
   "attachments": {},
   "cell_type": "markdown",
   "metadata": {},
   "source": [
    "#### Matriz de confusion ^"
   ]
  },
  {
   "cell_type": "code",
   "execution_count": 67,
   "metadata": {},
   "outputs": [
    {
     "data": {
      "image/png": "[encoded data removed]",
      "text/plain": [
       "<Figure size 640x480 with 2 Axes>"
      ]
     },
     "metadata": {},
     "output_type": "display_data"
    }
   ],
   "source": [
    "cm = confusion_matrix(y_test,y_pred)\n",
    "sns.heatmap(cm, cmap='Blues', annot=True, fmt='g', annot_kws={'size':20})\n",
    "plt.xlabel('Predicted')\n",
    "plt.ylabel('True')\n",
    "plt.show()"
   ]
  },
  {
   "attachments": {},
   "cell_type": "markdown",
   "metadata": {},
   "source": [
    "#### Buscamos los mejores hiperparametros mediante k-fold Cross Validation"
   ]
  },
  {
   "cell_type": "code",
   "execution_count": 70,
   "metadata": {},
   "outputs": [
    {
     "name": "stdout",
     "output_type": "stream",
     "text": [
      "Mejores hiperparámetros: {'metric': 'manhattan', 'n_neighbors': 9, 'weights': 'distance'}\n",
      "Mejor score: 0.7629734656674094\n"
     ]
    }
   ],
   "source": [
    "# Definir el rango de posibles valores para los hiperparámetros\n",
    "params_grid = {'n_neighbors': [3, 5, 7, 9],\n",
    "              'weights': ['uniform', 'distance'],\n",
    "              'metric': ['euclidean', 'manhattan','chebyshev']}\n",
    "\n",
    "# Crear una instancia de GridSearchCV con la grilla de hiperparámetros y la métrica de desempeño\n",
    "grid_search = GridSearchCV(estimator=KNN_Classifier, param_grid=params_grid, scoring='accuracy', cv=5)\n",
    "\n",
    "# Entrenar el modelo con GridSearchCV para encontrar los mejores hiperparámetros\n",
    "grid_search.fit(x_train, y_train)\n",
    "\n",
    "# Mostrar los mejores hiperparámetros y la métrica de desempeño del modelo\n",
    "print('Mejores hiperparámetros:', grid_search.best_params_)\n",
    "print('Mejor score:', grid_search.best_score_)\n"
   ]
  },
  {
   "cell_type": "code",
   "execution_count": 90,
   "metadata": {},
   "outputs": [
    {
     "name": "stdout",
     "output_type": "stream",
     "text": [
      "Mejores hiperparámetros: {'metric': 'canberra', 'n_neighbors': 30, 'weights': 'distance'}\n",
      "Mejor score: 0.8119303220579299\n"
     ]
    }
   ],
   "source": [
    "# Definir el rango de posibles valores para los hiperparámetros\n",
    "# params_grid = {'n_neighbors': range(1,50),\n",
    "#               'weights': ['uniform', 'distance'],\n",
    "#               'metric': ['euclidean', 'manhattan','chebyshev', 'canberra', 'minkowski', 'cosine', 'correlation']}\n",
    "\n",
    "params_grid = { 'n_neighbors': [30], \n",
    "                'weights': ['distance'],\n",
    "                'metric': ['canberra'],}\n",
    "\n",
    "# 'braycurtis','canberra','chebyshev','correlation',\n",
    "#         'cosine','dice','hamming','jaccard','kulsinski',\n",
    "#         'mahalanobis','matching','minkowski','rogerstanimoto',\n",
    "#         'russellrao','seuclidean','sokalmichener','sokalsneath',\n",
    "#         'sqeuclidean','yule','wminkowski',\n",
    "\n",
    "# Crear una instancia de GridSearchCV con la grilla de hiperparámetros y la métrica de desempeño\n",
    "grid_search = GridSearchCV(estimator=KNN_Classifier, param_grid=params_grid, scoring='accuracy', cv=5)\n",
    "\n",
    "# Entrenar el modelo con GridSearchCV para encontrar los mejores hiperparámetros\n",
    "grid_search.fit(x_train, y_train)\n",
    "\n",
    "# Mostrar los mejores hiperparámetros y la métrica de desempeño del modelo\n",
    "print('Mejores hiperparámetros:', grid_search.best_params_)\n",
    "print('Mejor score:', grid_search.best_score_)"
   ]
  },
  {
   "attachments": {},
   "cell_type": "markdown",
   "metadata": {},
   "source": [
    "###### Mejores hiperparámetros: {'metric': 'canberra', 'n_neighbors': 30, 'weights': 'distance'}\n",
    "###### Mejor score: 0.8119303220579299"
   ]
  },
  {
   "attachments": {},
   "cell_type": "markdown",
   "metadata": {},
   "source": [
    "#### Matriz de confusion ^"
   ]
  },
  {
   "cell_type": "code",
   "execution_count": 92,
   "metadata": {},
   "outputs": [
    {
     "data": {
      "text/plain": [
       "0.8171433201004618"
      ]
     },
     "execution_count": 92,
     "metadata": {},
     "output_type": "execute_result"
    }
   ],
   "source": [
    "best_n_neighbors = 30\n",
    "best_weights = 'distance'\n",
    "best_metric = 'canberra'\n",
    "\n",
    "best_knn = KNeighborsClassifier(n_neighbors=best_n_neighbors, weights=best_weights, metric=best_metric)\n",
    "\n",
    "# Entrenar el modelo con los datos de entrenamiento\n",
    "best_knn.fit(x_train, y_train)\n",
    "\n",
    "# Realizar predicciones en datos de prueba\n",
    "y_pred = best_knn.predict(x_test)\n",
    "accuracy_score(y_test,y_pred)"
   ]
  },
  {
   "cell_type": "code",
   "execution_count": 93,
   "metadata": {},
   "outputs": [
    {
     "data": {
      "image/png": "[encoded data removed]",
      "text/plain": [
       "<Figure size 640x480 with 2 Axes>"
      ]
     },
     "metadata": {},
     "output_type": "display_data"
    }
   ],
   "source": [
    "#Matriz de confusion\n",
    "cm = confusion_matrix(y_test,y_pred)\n",
    "sns.heatmap(cm, cmap='Blues', annot=True, fmt='g', annot_kws={'size':20})\n",
    "plt.xlabel('Predicted')\n",
    "plt.ylabel('True')\n",
    "plt.show()"
   ]
  },
  {
   "attachments": {},
   "cell_type": "markdown",
   "metadata": {},
   "source": [
    "### Normalizacion de Datos + SVM (Probando distintos kernels)"
   ]
  },
  {
   "attachments": {},
   "cell_type": "markdown",
   "metadata": {},
   "source": [
    "#### Normalizacion de datos"
   ]
  },
  {
   "cell_type": "code",
   "execution_count": null,
   "metadata": {},
   "outputs": [],
   "source": [
    "#Version escalada\n",
    "min_max_scaler = preprocessing.MinMaxScaler()\n",
    "x_train_minmax = min_max_scaler.fit_transform(x_train) \n",
    "x_test_minmax  = min_max_scaler.transform(x_test) \n",
    "\n",
    "#Version estandarizada\n",
    "stand_scaler = preprocessing.StandardScaler()\n",
    "x_train_norm = stand_scaler.fit_transform(x_train)\n",
    "x_test_norm=stand_scaler.transform(x_test)"
   ]
  },
  {
   "attachments": {},
   "cell_type": "markdown",
   "metadata": {},
   "source": [
    "#### Construccion de modelo SVM"
   ]
  },
  {
   "cell_type": "code",
   "execution_count": null,
   "metadata": {},
   "outputs": [],
   "source": [
    "svm = SVC()\n",
    "\n",
    "#Lo entreno con los datos sin escalar\n",
    "svm.fit(x_train, y_train)\n",
    "\n",
    "y_pred=svm.predict(x_test)\n",
    "classification_report(y_test,y_pred)"
   ]
  },
  {
   "attachments": {},
   "cell_type": "markdown",
   "metadata": {},
   "source": [
    "#### Matriz de confusion ^"
   ]
  },
  {
   "cell_type": "code",
   "execution_count": null,
   "metadata": {},
   "outputs": [],
   "source": [
    "#Matriz de confusion\n",
    "cm = confusion_matrix(y_test,y_pred)\n",
    "sns.heatmap(cm, cmap='Blues', annot=True, fmt='g', annot_kws={'size':20})\n",
    "plt.xlabel('Predicted')\n",
    "plt.ylabel('True')\n",
    "plt.show()"
   ]
  }
 ],
 "metadata": {
  "kernelspec": {
   "display_name": "Python 3",
   "language": "python",
   "name": "python3"
  },
  "language_info": {
   "codemirror_mode": {
    "name": "ipython",
    "version": 3
   },
   "file_extension": ".py",
   "mimetype": "text/x-python",
   "name": "python",
   "nbconvert_exporter": "python",
   "pygments_lexer": "ipython3",
   "version": "3.10.6"
  },
  "orig_nbformat": 4
 },
 "nbformat": 4,
 "nbformat_minor": 2
}
