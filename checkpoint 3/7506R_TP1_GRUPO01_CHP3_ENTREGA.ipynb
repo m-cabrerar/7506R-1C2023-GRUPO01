{
 "cells": [
  {
   "cell_type": "markdown",
   "metadata": {},
   "source": [
    "# Trabajo Práctico 1 : Reservas de Hotel\n",
    "\n",
    "### Grupo 01 - Integrantes:\n",
    "        Cabrera Rodríguez, Mateo \n",
    "        Gonzalez Alejo, Camila\n",
    "        Bocanegra, Eduardo Martín"
   ]
  },
  {
   "cell_type": "markdown",
   "metadata": {},
   "source": [
    "### Instalar dependencias"
   ]
  },
  {
   "cell_type": "code",
   "execution_count": 17,
   "metadata": {
    "tags": [],
    "vscode": {
     "languageId": "shellscript"
    }
   },
   "outputs": [
    {
     "name": "stdout",
     "output_type": "stream",
     "text": [
      "Requirement already satisfied: pandas in c:\\users\\digix\\appdata\\local\\programs\\python\\python310\\lib\\site-packages (from -r ../requirements.txt (line 1)) (1.5.3)\n",
      "Requirement already satisfied: numpy in c:\\users\\digix\\appdata\\local\\programs\\python\\python310\\lib\\site-packages (from -r ../requirements.txt (line 2)) (1.23.0)\n",
      "Requirement already satisfied: seaborn in c:\\users\\digix\\appdata\\local\\programs\\python\\python310\\lib\\site-packages (from -r ../requirements.txt (line 3)) (0.12.2)\n",
      "Requirement already satisfied: scikit-learn in c:\\users\\digix\\appdata\\local\\programs\\python\\python310\\lib\\site-packages (from -r ../requirements.txt (line 4)) (1.2.2)\n",
      "Requirement already satisfied: graphviz in c:\\users\\digix\\appdata\\local\\programs\\python\\python310\\lib\\site-packages (from -r ../requirements.txt (line 5)) (0.20.1)\n",
      "Requirement already satisfied: xgboost in c:\\users\\digix\\appdata\\local\\programs\\python\\python310\\lib\\site-packages (from -r ../requirements.txt (line 6)) (1.7.5)\n",
      "Requirement already satisfied: pytz>=2020.1 in c:\\users\\digix\\appdata\\local\\programs\\python\\python310\\lib\\site-packages (from pandas->-r ../requirements.txt (line 1)) (2022.7.1)\n",
      "Requirement already satisfied: python-dateutil>=2.8.1 in c:\\users\\digix\\appdata\\roaming\\python\\python310\\site-packages (from pandas->-r ../requirements.txt (line 1)) (2.8.2)\n",
      "Requirement already satisfied: matplotlib!=3.6.1,>=3.1 in c:\\users\\digix\\appdata\\local\\programs\\python\\python310\\lib\\site-packages (from seaborn->-r ../requirements.txt (line 3)) (3.7.1)\n",
      "Requirement already satisfied: joblib>=1.1.1 in c:\\users\\digix\\appdata\\local\\programs\\python\\python310\\lib\\site-packages (from scikit-learn->-r ../requirements.txt (line 4)) (1.2.0)\n",
      "Requirement already satisfied: scipy>=1.3.2 in c:\\users\\digix\\appdata\\local\\programs\\python\\python310\\lib\\site-packages (from scikit-learn->-r ../requirements.txt (line 4)) (1.10.1)\n",
      "Requirement already satisfied: threadpoolctl>=2.0.0 in c:\\users\\digix\\appdata\\local\\programs\\python\\python310\\lib\\site-packages (from scikit-learn->-r ../requirements.txt (line 4)) (3.1.0)\n",
      "Requirement already satisfied: pyparsing>=2.3.1 in c:\\users\\digix\\appdata\\local\\programs\\python\\python310\\lib\\site-packages (from matplotlib!=3.6.1,>=3.1->seaborn->-r ../requirements.txt (line 3)) (3.0.9)\n",
      "Requirement already satisfied: fonttools>=4.22.0 in c:\\users\\digix\\appdata\\local\\programs\\python\\python310\\lib\\site-packages (from matplotlib!=3.6.1,>=3.1->seaborn->-r ../requirements.txt (line 3)) (4.39.2)\n",
      "Requirement already satisfied: cycler>=0.10 in c:\\users\\digix\\appdata\\local\\programs\\python\\python310\\lib\\site-packages (from matplotlib!=3.6.1,>=3.1->seaborn->-r ../requirements.txt (line 3)) (0.11.0)\n",
      "Requirement already satisfied: packaging>=20.0 in c:\\users\\digix\\appdata\\roaming\\python\\python310\\site-packages (from matplotlib!=3.6.1,>=3.1->seaborn->-r ../requirements.txt (line 3)) (23.0)\n",
      "Requirement already satisfied: contourpy>=1.0.1 in c:\\users\\digix\\appdata\\local\\programs\\python\\python310\\lib\\site-packages (from matplotlib!=3.6.1,>=3.1->seaborn->-r ../requirements.txt (line 3)) (1.0.7)\n",
      "Requirement already satisfied: kiwisolver>=1.0.1 in c:\\users\\digix\\appdata\\local\\programs\\python\\python310\\lib\\site-packages (from matplotlib!=3.6.1,>=3.1->seaborn->-r ../requirements.txt (line 3)) (1.4.4)\n",
      "Requirement already satisfied: pillow>=6.2.0 in c:\\users\\digix\\appdata\\local\\programs\\python\\python310\\lib\\site-packages (from matplotlib!=3.6.1,>=3.1->seaborn->-r ../requirements.txt (line 3)) (9.4.0)\n",
      "Requirement already satisfied: six>=1.5 in c:\\users\\digix\\appdata\\roaming\\python\\python310\\site-packages (from python-dateutil>=2.8.1->pandas->-r ../requirements.txt (line 1)) (1.16.0)\n",
      "Note: you may need to restart the kernel to use updated packages.\n"
     ]
    },
    {
     "name": "stderr",
     "output_type": "stream",
     "text": [
      "\n",
      "[notice] A new release of pip available: 22.2.1 -> 23.1.2\n",
      "[notice] To update, run: python.exe -m pip install --upgrade pip\n"
     ]
    }
   ],
   "source": [
    "pip install -r ../requirements.txt"
   ]
  },
  {
   "cell_type": "markdown",
   "metadata": {},
   "source": [
    "### Cargado de bibliotecas"
   ]
  },
  {
   "cell_type": "code",
   "execution_count": 18,
   "metadata": {
    "tags": []
   },
   "outputs": [],
   "source": [
    "# Datos\n",
    "import numpy as np\n",
    "import pandas as pd\n",
    "\n",
    "# Plots\n",
    "import matplotlib.pyplot as plt\n",
    "import seaborn as sns\n",
    "\n",
    "# Modelado\n",
    "from sklearn.svm import SVC\n",
    "from sklearn.model_selection import train_test_split\n",
    "from sklearn.experimental import enable_halving_search_cv\n",
    "from sklearn.model_selection import HalvingGridSearchCV, StratifiedKFold\n",
    "from sklearn.neighbors import KNeighborsClassifier\n",
    "from sklearn.ensemble import RandomForestClassifier\n",
    "from sklearn.metrics import accuracy_score, make_scorer, f1_score\n",
    "from sklearn.metrics import confusion_matrix, classification_report\n",
    "from xgboost import XGBClassifier\n",
    "from sklearn.ensemble import StackingClassifier\n",
    "from sklearn.linear_model import LogisticRegression\n",
    "\n",
    "# Preprocesamiento\n",
    "from sklearn.preprocessing import LabelEncoder\n",
    "from sklearn import preprocessing\n"
   ]
  },
  {
   "cell_type": "markdown",
   "metadata": {},
   "source": [
    "### Cargado de Dataset"
   ]
  },
  {
   "cell_type": "code",
   "execution_count": 19,
   "metadata": {
    "tags": []
   },
   "outputs": [],
   "source": [
    "ds = pd.read_csv('../datasets/hoteles_train2.csv')\n",
    "ds_test = pd.read_csv('../datasets/hotels_test.csv')"
   ]
  },
  {
   "cell_type": "markdown",
   "metadata": {},
   "source": [
    "#### Trabajo sobre nulos"
   ]
  },
  {
   "cell_type": "code",
   "execution_count": 20,
   "metadata": {
    "tags": []
   },
   "outputs": [],
   "source": [
    "# Trabajo sobre valores nulos\n",
    "agents = ds['agent'].unique()\n",
    "agents = np.delete(agents, 1)\n",
    "ds['agent'].fillna(0, inplace=True)\n",
    "\n",
    "agents = ds_test['agent'].unique()\n",
    "agents = np.delete(agents, 1)\n",
    "ds_test['agent'].fillna(0, inplace=True)"
   ]
  },
  {
   "cell_type": "markdown",
   "metadata": {},
   "source": [
    "#### Transformacion de variables categoricas"
   ]
  },
  {
   "cell_type": "code",
   "execution_count": 21,
   "metadata": {
    "tags": []
   },
   "outputs": [],
   "source": [
    "# Transformacion de variables categoricas\n",
    "\n",
    "import string\n",
    "\n",
    "# encoding ordinal\n",
    "\n",
    "ds = ds.replace({'meal': {'BB': 0, 'HB': 1, 'FB': 2, 'SC': 3, 'Undefined': 3},\n",
    "                 'arrival_date_month': {'January': 1, 'February': 2, 'March': 3, 'April': 4, 'May': 5, 'June': 6, 'July': 7, 'August': 8, 'September': 9, 'October': 10,'November': 11, 'December': 12},\n",
    "                 'reserved_room_type': {a : n for n, a in enumerate(string.ascii_uppercase)},\n",
    "                 'assigned_room_type': {a : n for n, a in enumerate(string.ascii_uppercase)},\n",
    "                 'deposit_type': {'No Deposit': 0, 'Refundable': 1, 'Non Refund': 2},\n",
    "                 'agent': {agent : 1 for agent in agents}})\n",
    "\n",
    "ds_test = ds_test.replace({'meal': {'BB': 0, 'HB': 1, 'FB': 2, 'SC': 3, 'Undefined': 4},# ver que hacer con undefined\n",
    "                 'arrival_date_month': {'January': 1, 'February': 2, 'March': 3, 'April': 4, 'May': 5, 'June': 6, 'July': 7, 'August': 8, 'September': 9, 'October': 10,'November': 11, 'December': 12},\n",
    "                 'reserved_room_type': {a : n for n, a in enumerate(string.ascii_uppercase)},\n",
    "                 'assigned_room_type': {a : n for n, a in enumerate(string.ascii_uppercase)},\n",
    "                 'deposit_type': {'No Deposit': 0, 'Refundable': 1, 'Non Refund': 2},\n",
    "                 'agent': {agent : 1 for agent in agents}})\n",
    "\n",
    "# Si meal es Undefined o vacío, reemplazamos por SC (dice el paper)\n",
    "# ds['meal'] = ds['meal'].apply(lambda x: 'SC' if x in ['Undefined', 'null', ''] else x)\n",
    "# ds = pd.get_dummies(ds, columns=['assigned_room_type'], drop_first=True)\n",
    "# ds = pd.get_dummies(ds, columns=['reserved_room_type'], drop_first=True)\n",
    "# ds = pd.get_dummies(ds, columns=['meal'], drop_first=True)\n",
    "# ds = pd.get_dummies(ds, columns=['deposit_type'], drop_first=True)\n",
    "# ds = pd.get_dummies(ds, columns=['agent'], drop_first=True)"
   ]
  },
  {
   "cell_type": "code",
   "execution_count": 22,
   "metadata": {
    "tags": []
   },
   "outputs": [],
   "source": [
    "label_encoder = LabelEncoder()\n",
    "ds['market_segment'] = label_encoder.fit_transform(ds['market_segment'])\n",
    "ds['distribution_channel'] = label_encoder.fit_transform(ds['distribution_channel'])\n",
    "ds['customer_type'] = label_encoder.fit_transform(ds['customer_type'])\n",
    "\n",
    "ds_test['market_segment'] = label_encoder.fit_transform(ds_test['market_segment'])\n",
    "ds_test['distribution_channel'] = label_encoder.fit_transform(ds_test['distribution_channel'])\n",
    "ds_test['customer_type'] = label_encoder.fit_transform(ds_test['customer_type'])\n",
    "\n",
    "#ds['arrival_date_month'] = label_encoder.fit_transform(ds['arrival_date_month'])"
   ]
  },
  {
   "cell_type": "markdown",
   "metadata": {},
   "source": [
    "#### Separacion de datos"
   ]
  },
  {
   "cell_type": "code",
   "execution_count": 23,
   "metadata": {
    "tags": []
   },
   "outputs": [],
   "source": [
    "# Definicion de excluidos y target\n",
    "\n",
    "excluidos = ['hotel', 'reservation_status_date', 'id']\n",
    "\n",
    "target = 'is_canceled'\n",
    "features = [col for col in ds.columns if col not in excluidos+[target]]"
   ]
  },
  {
   "cell_type": "markdown",
   "metadata": {},
   "source": [
    "### Generacion del dataset de prueba"
   ]
  },
  {
   "cell_type": "code",
   "execution_count": 24,
   "metadata": {
    "tags": []
   },
   "outputs": [],
   "source": [
    "x = ds[features].values\n",
    "y = ds[target].values\n",
    "\n",
    "#Separo conjunto de Train y de Test (80/20)\n",
    "x_train, x_test, y_train, y_test = train_test_split(x, y , test_size=0.20, random_state=0, stratify=ds[target])"
   ]
  },
  {
   "cell_type": "markdown",
   "metadata": {},
   "source": [
    "### Definicion de la funcion metricas"
   ]
  },
  {
   "cell_type": "code",
   "execution_count": 25,
   "metadata": {
    "tags": []
   },
   "outputs": [],
   "source": [
    "def metricas(y_pred,y_test):\n",
    "\n",
    "  print(classification_report(y_test,y_pred))\n",
    "  \n",
    "  cm = confusion_matrix(y_test,y_pred)\n",
    "  sns.heatmap(cm, cmap='Blues',annot=True,fmt='g')\n",
    "  plt.xlabel('Predicted')\n",
    "  plt.ylabel('True')"
   ]
  },
  {
   "cell_type": "markdown",
   "metadata": {},
   "source": [
    "### Diccionario de modelos y sus scores"
   ]
  },
  {
   "cell_type": "code",
   "execution_count": 26,
   "metadata": {},
   "outputs": [],
   "source": [
    "models = {}\n",
    "model_scores = {}"
   ]
  },
  {
   "cell_type": "markdown",
   "metadata": {
    "tags": []
   },
   "source": [
    "## Checkpoint 3"
   ]
  },
  {
   "cell_type": "markdown",
   "metadata": {
    "jp-MarkdownHeadingCollapsed": true,
    "tags": []
   },
   "source": [
    "### K-Nearest Neighbors (KNN)"
   ]
  },
  {
   "cell_type": "markdown",
   "metadata": {},
   "source": [
    "El algoritmo K-Nearest Neighbors, o simplemente KNN, funciona obteniendo un punto dado y evaluando sus \"k\" vecinos para encontrar similitudes. \n",
    "\n",
    "Se puede utilizar para clasificación o regresión.\n",
    "\n",
    "La idea se basa en el hecho de que los puntos de datos similares estarán más cerca en el espacio que los puntos que son muy diferentes entre sí.  "
   ]
  },
  {
   "cell_type": "markdown",
   "metadata": {},
   "source": [
    "#### Creacion de un modelo KNN con sus parametros por defecto"
   ]
  },
  {
   "cell_type": "code",
   "execution_count": 27,
   "metadata": {
    "tags": []
   },
   "outputs": [
    {
     "data": {
      "text/plain": [
       "{'algorithm': 'auto',\n",
       " 'leaf_size': 30,\n",
       " 'metric': 'minkowski',\n",
       " 'metric_params': None,\n",
       " 'n_jobs': None,\n",
       " 'n_neighbors': 5,\n",
       " 'p': 2,\n",
       " 'weights': 'uniform'}"
      ]
     },
     "execution_count": 27,
     "metadata": {},
     "output_type": "execute_result"
    }
   ],
   "source": [
    "#Creamos el modelo\n",
    "KNN_Classifier = KNeighborsClassifier()\n",
    "\n",
    "#vemos sus parámetros\n",
    "KNN_Classifier.get_params()"
   ]
  },
  {
   "cell_type": "code",
   "execution_count": 60,
   "metadata": {
    "tags": []
   },
   "outputs": [],
   "source": [
    "#Entrenamos el modelo\n",
    "KNN_Classifier.fit(x_train, y_train)\n",
    "\n",
    "#Predicción sobre test\n",
    "y_pred = KNN_Classifier.predict(x_test)"
   ]
  },
  {
   "cell_type": "code",
   "execution_count": 61,
   "metadata": {
    "tags": []
   },
   "outputs": [
    {
     "name": "stdout",
     "output_type": "stream",
     "text": [
      "correctas:  8983\n",
      "total:  12343\n"
     ]
    }
   ],
   "source": [
    "#Cantidad de aciertos\n",
    "print('correctas: ', np.sum(y_test == y_pred))\n",
    "print('total: ', len(y_test))"
   ]
  },
  {
   "cell_type": "markdown",
   "metadata": {},
   "source": [
    "#### Metricas"
   ]
  },
  {
   "cell_type": "code",
   "execution_count": 25,
   "metadata": {},
   "outputs": [
    {
     "name": "stdout",
     "output_type": "stream",
     "text": [
      "              precision    recall  f1-score   support\n",
      "\n",
      "           0       0.72      0.74      0.73      6170\n",
      "           1       0.73      0.72      0.72      6173\n",
      "\n",
      "    accuracy                           0.73     12343\n",
      "   macro avg       0.73      0.73      0.73     12343\n",
      "weighted avg       0.73      0.73      0.73     12343\n",
      "\n"
     ]
    },
    {
     "data": {
      "image/png": "[encoded data removed]",
      "text/plain": [
       "<Figure size 432x288 with 2 Axes>"
      ]
     },
     "metadata": {
      "needs_background": "light"
     },
     "output_type": "display_data"
    }
   ],
   "source": [
    "metricas(y_pred, y_test)"
   ]
  },
  {
   "cell_type": "markdown",
   "metadata": {},
   "source": [
    "Precision: En este caso, la precisión para la clase 0 es del 0.72, lo que significa que el 72% de las predicciones clasificadas como clase 0 son realmente de la clase 0.\n",
    "\n",
    "Recall: En este caso, el recall para la clase 0 es del 0.74, lo que indica que el 74% de las instancias de la clase 0 se han identificado correctamente. Y vemos quepara las instancias de clase 1, el 72% se ha identificado correctamente.\n",
    "\n",
    "F1-score: Teniendo en cuenta que un valor de 1 indica un rendimiento perfecto, mientras que un valor de 0 indica un rendimiento pobre. En este caso, el f1-score para la clase 0 es del 0.73, lo que muestra un rendimiento aceptable para esa clase.\n",
    "\n",
    "Exactitud: En este caso, la exactitud general del modelo es del 0.73, lo que indica que el 73% de las predicciones son correctas en general."
   ]
  },
  {
   "cell_type": "markdown",
   "metadata": {},
   "source": [
    "#### Buscamos los mejores hiperparametros mediante k-fold Cross Validation"
   ]
  },
  {
   "cell_type": "code",
   "execution_count": 16,
   "metadata": {},
   "outputs": [],
   "source": [
    "# # Definir el rango de posibles valores para los hiperparámetros\n",
    "# params_grid = {'n_neighbors': [3, 5, 7, 9],\n",
    "#               'weights': ['uniform', 'distance'],\n",
    "#               'metric': ['euclidean', 'manhattan','chebyshev']}\n",
    "\n",
    "# # Crear una instancia de GridSearchCV con la grilla de hiperparámetros y la métrica de desempeño\n",
    "# grid_search = GridSearchCV(estimator=KNN_Classifier, param_grid=params_grid, scoring='accuracy', cv=5)\n",
    "\n",
    "# # Entrenar el modelo con GridSearchCV para encontrar los mejores hiperparámetros\n",
    "# grid_search.fit(x_train, y_train)\n",
    "\n",
    "# # Mostrar los mejores hiperparámetros y la métrica de desempeño del modelo\n",
    "# print('Mejores hiperparámetros:', grid_search.best_params_)\n",
    "# print('Mejor score:', grid_search.best_score_)\n",
    "\n",
    "# #Primer intento de busqueda de hiperparametros ^"
   ]
  },
  {
   "cell_type": "code",
   "execution_count": 22,
   "metadata": {},
   "outputs": [
    {
     "name": "stdout",
     "output_type": "stream",
     "text": [
      "Mejores hiperparámetros: {'metric': 'canberra', 'n_neighbors': 30, 'weights': 'distance'}\n",
      "Mejor score: 0.8118087907636216\n"
     ]
    }
   ],
   "source": [
    "# Definir el rango de posibles valores para los hiperparámetros\n",
    "# params_grid = {'n_neighbors': range(1,50),\n",
    "#               'weights': ['uniform', 'distance'],\n",
    "#               'metric': ['euclidean', 'manhattan','chebyshev', 'canberra', 'minkowski', 'cosine', 'correlation']}\n",
    "\n",
    "params_grid = { 'n_neighbors': [30], \n",
    "                'weights': ['distance'],\n",
    "                'metric': ['canberra'],}\n",
    "\n",
    "# 'braycurtis','canberra','chebyshev','correlation',\n",
    "#         'cosine','dice','hamming','jaccard','kulsinski',\n",
    "#         'mahalanobis','matching','minkowski','rogerstanimoto',\n",
    "#         'russellrao','seuclidean','sokalmichener','sokalsneath',\n",
    "#         'sqeuclidean','yule','wminkowski',\n",
    "\n",
    "# Crear una instancia de GridSearchCV con la grilla de hiperparámetros y la métrica de desempeño\n",
    "grid_search = HalvingGridSearchCV(estimator=KNN_Classifier, param_grid=params_grid, scoring='accuracy', cv=5)\n",
    "\n",
    "# Entrenar el modelo con GridSearchCV para encontrar los mejores hiperparámetros\n",
    "grid_search.fit(x_train, y_train)\n",
    "\n",
    "# Mostrar los mejores hiperparámetros y la métrica de desempeño del modelo\n",
    "print('Mejores hiperparámetros:', grid_search.best_params_)\n",
    "print('Mejor score:', grid_search.best_score_)"
   ]
  },
  {
   "cell_type": "markdown",
   "metadata": {},
   "source": [
    "###### Mejores hiperparámetros: {'metric': 'canberra', 'n_neighbors': 30, 'weights': 'distance'}"
   ]
  },
  {
   "cell_type": "code",
   "execution_count": 28,
   "metadata": {},
   "outputs": [],
   "source": [
    "best_n_neighbors = 30\n",
    "best_weights = 'distance'\n",
    "best_metric = 'canberra'\n",
    "best_score = 0.8118087907636216\n",
    "\n",
    "best_knn = KNeighborsClassifier(n_neighbors=best_n_neighbors, weights=best_weights, metric=best_metric)\n",
    "\n",
    "# Entrenar el modelo con los datos de entrenamiento\n",
    "best_knn.fit(x_train, y_train)\n",
    "\n",
    "# Realizar predicciones en datos de prueba\n",
    "y_pred = best_knn.predict(x_test)"
   ]
  },
  {
   "cell_type": "code",
   "execution_count": 29,
   "metadata": {},
   "outputs": [],
   "source": [
    "models[\"knn\"] = best_knn\n",
    "model_scores[\"knn\"] = best_score"
   ]
  },
  {
   "cell_type": "markdown",
   "metadata": {},
   "source": [
    "#### Metricas"
   ]
  },
  {
   "cell_type": "code",
   "execution_count": 26,
   "metadata": {},
   "outputs": [
    {
     "name": "stdout",
     "output_type": "stream",
     "text": [
      "              precision    recall  f1-score   support\n",
      "\n",
      "           0       0.82      0.82      0.82      6184\n",
      "           1       0.82      0.82      0.82      6159\n",
      "\n",
      "    accuracy                           0.82     12343\n",
      "   macro avg       0.82      0.82      0.82     12343\n",
      "weighted avg       0.82      0.82      0.82     12343\n",
      "\n"
     ]
    },
    {
     "data": {
      "image/png": "[encoded data removed]",
      "text/plain": [
       "<Figure size 640x480 with 2 Axes>"
      ]
     },
     "metadata": {},
     "output_type": "display_data"
    }
   ],
   "source": [
    "metricas(y_test,y_pred)"
   ]
  },
  {
   "cell_type": "markdown",
   "metadata": {},
   "source": [
    "En este caso, tanto al precision, como F1-Score y el recall para las clase 0 y 1 son del 0.82. Lo que da una exactitud general del modelo de 0.82."
   ]
  },
  {
   "cell_type": "markdown",
   "metadata": {
    "tags": []
   },
   "source": [
    "### Normalizacion de Datos + SVM (Probando distintos kernels)"
   ]
  },
  {
   "cell_type": "markdown",
   "metadata": {},
   "source": [
    "#### Normalizacion de datos"
   ]
  },
  {
   "cell_type": "code",
   "execution_count": 30,
   "metadata": {
    "tags": []
   },
   "outputs": [],
   "source": [
    "#Version escalada\n",
    "min_max_scaler = preprocessing.MinMaxScaler()\n",
    "x_train_minmax = min_max_scaler.fit_transform(x_train) \n",
    "x_test_minmax  = min_max_scaler.transform(x_test) \n",
    "\n",
    "#Version estandarizada\n",
    "stand_scaler = preprocessing.StandardScaler()\n",
    "x_train_norm = stand_scaler.fit_transform(x_train)\n",
    "x_test_norm=stand_scaler.transform(x_test)"
   ]
  },
  {
   "cell_type": "markdown",
   "metadata": {
    "tags": []
   },
   "source": [
    "#### Construccion de modelo SVM"
   ]
  },
  {
   "cell_type": "code",
   "execution_count": 66,
   "metadata": {
    "tags": []
   },
   "outputs": [],
   "source": [
    "svm = SVC()\n",
    "\n",
    "#Lo entreno con los datos sin escalar\n",
    "svm.fit(x_train, y_train)\n",
    "\n",
    "# Realizar predicciones en datos de prueba\n",
    "y_pred = svm.predict(x_test)"
   ]
  },
  {
   "cell_type": "markdown",
   "metadata": {},
   "source": [
    "#### Metricas"
   ]
  },
  {
   "cell_type": "code",
   "execution_count": 11,
   "metadata": {},
   "outputs": [
    {
     "name": "stdout",
     "output_type": "stream",
     "text": [
      "              precision    recall  f1-score   support\n",
      "\n",
      "           0       0.60      0.70      0.65      6170\n",
      "           1       0.64      0.54      0.59      6173\n",
      "\n",
      "    accuracy                           0.62     12343\n",
      "   macro avg       0.62      0.62      0.62     12343\n",
      "weighted avg       0.62      0.62      0.62     12343\n",
      "\n"
     ]
    },
    {
     "data": {
      "image/png": "[encoded data removed]",
      "text/plain": [
       "<Figure size 640x480 with 2 Axes>"
      ]
     },
     "metadata": {},
     "output_type": "display_data"
    }
   ],
   "source": [
    "#Matriz de confusion\n",
    "metricas(y_pred, y_test)"
   ]
  },
  {
   "cell_type": "markdown",
   "metadata": {},
   "source": [
    "Precision: En este caso, la precisión para la clase 0 es del 0.60, lo que significa que el 60% de las predicciones clasificadas como clase 0 son realmente de la clase 0. 64% de aciertos para la clase 1.\n",
    "\n",
    "Recall: En este caso, el recall para la clase 0 es del 0.70, lo que indica que el 70% de las instancias de la clase 0 se han identificado correctamente. Y vemos quepara las instancias de clase 1, el 54% se ha identificado correctamente.\n",
    "\n",
    "F1-score: Teniendo en cuenta que un valor de 1 indica un rendimiento perfecto, mientras que un valor de 0 indica un rendimiento pobre. En este caso, el f1-score para la clase 0 es del 0.65, y para la clase 10.59, valores inferiores a los vistos previamente en otros analisis de metricas.\n",
    "\n",
    "Exactitud: En este caso, la exactitud general del modelo es del 0.62, lo que indica que el 62%, como era de esperarse, bastante mas bajo que los modelos analizados anteriormente."
   ]
  },
  {
   "cell_type": "markdown",
   "metadata": {},
   "source": [
    "#### Modelo SVM (radial) con datos normalizados"
   ]
  },
  {
   "cell_type": "code",
   "execution_count": 16,
   "metadata": {
    "tags": []
   },
   "outputs": [],
   "source": [
    "svm_norm = SVC() # Parametros default (kernel: radial)\n",
    "\n",
    "#Lo entreno con los datos escalados con normalizacion\n",
    "svm_norm.fit(x_train_norm, y_train)\n",
    "\n",
    "y_pred=svm_norm.predict(x_test)"
   ]
  },
  {
   "cell_type": "markdown",
   "metadata": {},
   "source": [
    "#### Metricas"
   ]
  },
  {
   "cell_type": "code",
   "execution_count": 71,
   "metadata": {
    "tags": []
   },
   "outputs": [
    {
     "name": "stdout",
     "output_type": "stream",
     "text": [
      "              precision    recall  f1-score   support\n",
      "\n",
      "           0       0.50      1.00      0.67      6170\n",
      "           1       0.00      0.00      0.00      6173\n",
      "\n",
      "    accuracy                           0.50     12343\n",
      "   macro avg       0.25      0.50      0.33     12343\n",
      "weighted avg       0.25      0.50      0.33     12343\n",
      "\n"
     ]
    },
    {
     "name": "stderr",
     "output_type": "stream",
     "text": [
      "/opt/conda/lib/python3.10/site-packages/sklearn/metrics/_classification.py:1344: UndefinedMetricWarning: Precision and F-score are ill-defined and being set to 0.0 in labels with no predicted samples. Use `zero_division` parameter to control this behavior.\n",
      "  _warn_prf(average, modifier, msg_start, len(result))\n",
      "/opt/conda/lib/python3.10/site-packages/sklearn/metrics/_classification.py:1344: UndefinedMetricWarning: Precision and F-score are ill-defined and being set to 0.0 in labels with no predicted samples. Use `zero_division` parameter to control this behavior.\n",
      "  _warn_prf(average, modifier, msg_start, len(result))\n",
      "/opt/conda/lib/python3.10/site-packages/sklearn/metrics/_classification.py:1344: UndefinedMetricWarning: Precision and F-score are ill-defined and being set to 0.0 in labels with no predicted samples. Use `zero_division` parameter to control this behavior.\n",
      "  _warn_prf(average, modifier, msg_start, len(result))\n"
     ]
    },
    {
     "data": {
      "image/png": "[encoded data removed]",
      "text/plain": [
       "<Figure size 640x480 with 2 Axes>"
      ]
     },
     "metadata": {},
     "output_type": "display_data"
    }
   ],
   "source": [
    "metricas(y_pred, y_test)"
   ]
  },
  {
   "cell_type": "markdown",
   "metadata": {},
   "source": [
    "Precision: En este caso, la precisión para la clase 0 es del 0.50 y para la clase 1 0.00. Lo que ya indica que el modelo no sera bueno.\n",
    "\n",
    "Recall: En este caso, el recall para la clase 0 es del 1, lo que indica que el 100% de las instancias de la clase 0 se han identificado correctamente. Y vemos quepara las instancias de clase 1, el 0% se ha identificado correctamente.\n",
    "\n",
    "F1-score: Teniendo en cuenta que un valor de 1 indica un rendimiento perfecto, mientras que un valor de 0 indica un rendimiento pobre. En este caso, el f1-score para la clase 0 es del 0.67, y 0.00 para la clase 1.\n",
    "\n",
    "Exactitud: En este caso, la exactitud general del modelo es del 0.50, lo que indica que el 50% de las predicciones son correctas en general.No es modelo que podamos utilizar, y es el peor encontrado hasta el momento."
   ]
  },
  {
   "cell_type": "markdown",
   "metadata": {},
   "source": [
    "#### Modelo SVM con minmax"
   ]
  },
  {
   "cell_type": "code",
   "execution_count": 72,
   "metadata": {
    "tags": []
   },
   "outputs": [],
   "source": [
    "svm_minmax= SVC()\n",
    "\n",
    "#Lo entreno con los datos escalados con min max\n",
    "svm_minmax.fit(x_train_minmax, y_train)\n",
    "\n",
    "y_pred=svm_minmax.predict(x_test)"
   ]
  },
  {
   "cell_type": "markdown",
   "metadata": {},
   "source": [
    "#### Metricas"
   ]
  },
  {
   "cell_type": "code",
   "execution_count": 75,
   "metadata": {
    "tags": []
   },
   "outputs": [
    {
     "name": "stdout",
     "output_type": "stream",
     "text": [
      "              precision    recall  f1-score   support\n",
      "\n",
      "           0       0.00      0.00      0.00      6170\n",
      "           1       0.50      1.00      0.67      6173\n",
      "\n",
      "    accuracy                           0.50     12343\n",
      "   macro avg       0.25      0.50      0.33     12343\n",
      "weighted avg       0.25      0.50      0.33     12343\n",
      "\n"
     ]
    },
    {
     "name": "stderr",
     "output_type": "stream",
     "text": [
      "/opt/conda/lib/python3.10/site-packages/sklearn/metrics/_classification.py:1344: UndefinedMetricWarning: Precision and F-score are ill-defined and being set to 0.0 in labels with no predicted samples. Use `zero_division` parameter to control this behavior.\n",
      "  _warn_prf(average, modifier, msg_start, len(result))\n",
      "/opt/conda/lib/python3.10/site-packages/sklearn/metrics/_classification.py:1344: UndefinedMetricWarning: Precision and F-score are ill-defined and being set to 0.0 in labels with no predicted samples. Use `zero_division` parameter to control this behavior.\n",
      "  _warn_prf(average, modifier, msg_start, len(result))\n",
      "/opt/conda/lib/python3.10/site-packages/sklearn/metrics/_classification.py:1344: UndefinedMetricWarning: Precision and F-score are ill-defined and being set to 0.0 in labels with no predicted samples. Use `zero_division` parameter to control this behavior.\n",
      "  _warn_prf(average, modifier, msg_start, len(result))\n"
     ]
    },
    {
     "data": {
      "image/png": "[encoded data removed]",
      "text/plain": [
       "<Figure size 640x480 with 2 Axes>"
      ]
     },
     "metadata": {},
     "output_type": "display_data"
    }
   ],
   "source": [
    "metricas(y_pred, y_test)"
   ]
  },
  {
   "cell_type": "markdown",
   "metadata": {},
   "source": [
    "Estas metricas son muy similares a la anterior pero exactamente al reves. Tiene tambien una exactitud del 50% por lo que tambien es un modelo que se descartara a la hora de elegir el mejor."
   ]
  },
  {
   "cell_type": "markdown",
   "metadata": {},
   "source": [
    "#### Modelo SVM con kernel lineal"
   ]
  },
  {
   "cell_type": "code",
   "execution_count": 76,
   "metadata": {
    "tags": []
   },
   "outputs": [],
   "source": [
    "#Creo un clasificador con kernel lineal\n",
    "clf = SVC(kernel='linear', C=5)\n",
    "clf.fit(x_train_minmax, y_train)\n",
    "\n",
    "y_pred_lin=clf.predict(x_test_minmax)"
   ]
  },
  {
   "cell_type": "markdown",
   "metadata": {},
   "source": [
    "#### Metricas"
   ]
  },
  {
   "cell_type": "code",
   "execution_count": 77,
   "metadata": {
    "tags": []
   },
   "outputs": [
    {
     "name": "stdout",
     "output_type": "stream",
     "text": [
      "              precision    recall  f1-score   support\n",
      "\n",
      "           0       0.74      0.81      0.77      6170\n",
      "           1       0.79      0.71      0.75      6173\n",
      "\n",
      "    accuracy                           0.76     12343\n",
      "   macro avg       0.76      0.76      0.76     12343\n",
      "weighted avg       0.76      0.76      0.76     12343\n",
      "\n"
     ]
    },
    {
     "data": {
      "image/png": "[encoded data removed]",
      "text/plain": [
       "<Figure size 640x480 with 2 Axes>"
      ]
     },
     "metadata": {},
     "output_type": "display_data"
    }
   ],
   "source": [
    "metricas(y_pred_lin, y_test)"
   ]
  },
  {
   "cell_type": "markdown",
   "metadata": {},
   "source": [
    "Precision: En este caso, la precisión para la clase 0 es del 0.74, lo que significa que el 74% de las predicciones clasificadas como clase 0 son realmente de la clase 0. y el 79% para clase 1.\n",
    "\n",
    "Recall: En este caso, el recall para la clase 0 es del 81%. Y vemos que para las instancias de clase 1, el 71% se ha identificado correctamente.\n",
    "\n",
    "F1-score: Teniendo en cuenta que un valor de 1 indica un rendimiento perfecto, mientras que un valor de 0 indica un rendimiento pobre. En este caso, el f1-score para la clase 0 es del 0.77, lo que muestra un rendimiento aceptable para esa clase.\n",
    "\n",
    "Exactitud: En este caso, la exactitud general del modelo es del 0.76, lo que indica que el 76% de las predicciones son correctas en general. Es un modelo medianamente aceptable, pero hemos encontrado uno mejor."
   ]
  },
  {
   "cell_type": "markdown",
   "metadata": {},
   "source": [
    "#### Modelo SVM con kernel polinomico\n"
   ]
  },
  {
   "cell_type": "code",
   "execution_count": 32,
   "metadata": {
    "tags": []
   },
   "outputs": [],
   "source": [
    "clf = SVC(kernel='poly', C=5, degree=3, gamma='scale')\n",
    "clf.fit(x_train_minmax, y_train)\n",
    "\n",
    "y_pred_pol = clf.predict(x_test_minmax)"
   ]
  },
  {
   "cell_type": "markdown",
   "metadata": {},
   "source": [
    "#### Metricas"
   ]
  },
  {
   "cell_type": "code",
   "execution_count": 33,
   "metadata": {
    "tags": []
   },
   "outputs": [
    {
     "name": "stdout",
     "output_type": "stream",
     "text": [
      "              precision    recall  f1-score   support\n",
      "\n",
      "           0       0.75      0.85      0.80      6170\n",
      "           1       0.83      0.72      0.77      6173\n",
      "\n",
      "    accuracy                           0.79     12343\n",
      "   macro avg       0.79      0.79      0.79     12343\n",
      "weighted avg       0.79      0.79      0.79     12343\n",
      "\n"
     ]
    },
    {
     "data": {
      "image/png": "[encoded data removed]",
      "text/plain": [
       "<Figure size 640x480 with 2 Axes>"
      ]
     },
     "metadata": {},
     "output_type": "display_data"
    }
   ],
   "source": [
    "metricas(y_pred_pol,y_test)"
   ]
  },
  {
   "cell_type": "markdown",
   "metadata": {},
   "source": [
    "Precision: En este caso, la precisión para la clase 0 es del 0.75, lo que significa que el 75% de las predicciones clasificadas como clase 0 son realmente de la clase 0. Para la clase 1 la precisión es del 83%.\n",
    "\n",
    "Recall: En este caso, el recall para la clase 0 es del 85%. Y para la clase 1 es del 72%.\n",
    "\n",
    "F1-score: Teniendo en cuenta que un valor de 1 indica un rendimiento perfecto, mientras que un valor de 0 indica un rendimiento pobre. En este caso, el f1-score para la clase 0 es del 0.80, lo que muestra un rendimiento aceptable para esa clase.\n",
    "\n",
    "Exactitud: En este caso, la exactitud general del modelo es del 0.79, lo que indica que el 79% de las predicciones son correctas en general. Es un modelo medianamente aceptable."
   ]
  },
  {
   "cell_type": "markdown",
   "metadata": {},
   "source": [
    "#### Modelo SVM con kernel sigmoid"
   ]
  },
  {
   "cell_type": "code",
   "execution_count": 41,
   "metadata": {
    "tags": []
   },
   "outputs": [],
   "source": [
    "clf = SVC(kernel='sigmoid', C=1.0, gamma='auto')\n",
    "clf.fit(x_train_minmax, y_train)\n",
    "\n",
    "y_pred_rad=clf.predict(x_test_minmax)"
   ]
  },
  {
   "cell_type": "markdown",
   "metadata": {},
   "source": [
    "#### Metricas"
   ]
  },
  {
   "cell_type": "code",
   "execution_count": 42,
   "metadata": {
    "tags": []
   },
   "outputs": [
    {
     "name": "stdout",
     "output_type": "stream",
     "text": [
      "              precision    recall  f1-score   support\n",
      "\n",
      "           0       0.71      0.81      0.76      6170\n",
      "           1       0.78      0.68      0.72      6173\n",
      "\n",
      "    accuracy                           0.74     12343\n",
      "   macro avg       0.75      0.74      0.74     12343\n",
      "weighted avg       0.75      0.74      0.74     12343\n",
      "\n"
     ]
    },
    {
     "data": {
      "image/png": "[encoded data removed]",
      "text/plain": [
       "<Figure size 640x480 with 2 Axes>"
      ]
     },
     "metadata": {},
     "output_type": "display_data"
    }
   ],
   "source": [
    "metricas(y_pred_rad,y_test)"
   ]
  },
  {
   "cell_type": "markdown",
   "metadata": {},
   "source": [
    "Precision: En este caso, la precisión para la clase 0 es del 0.71, lo que significa que el 71% de las predicciones clasificadas como clase 0 son realmente de la clase 0. Para la clase 1 la presición es de 78%.\n",
    "\n",
    "Recall: En este caso, el recall para la clase 0 es del 81%. Y para la clase 1 es del 68%.\n",
    "\n",
    "F1-score: Teniendo en cuenta que un valor de 1 indica un rendimiento perfecto, mientras que un valor de 0 indica un rendimiento pobre. En este caso, el f1-score para la clase 0 es del 0.76, lo que musetra un rendimiento aceptable.\n",
    "\n",
    "Exactitud: En este caso, la exactitud general del modelo es del 0.74, lo que indica que el 74% de las predicciones son correctas en general. Hemos encontrado modelos con mejores resultados"
   ]
  },
  {
   "cell_type": "markdown",
   "metadata": {},
   "source": [
    "#### Selección del mejor modelo SVC"
   ]
  },
  {
   "cell_type": "markdown",
   "metadata": {},
   "source": [
    "Nos quedamos con el kernel polinómico, que tuvo un mejor score."
   ]
  },
  {
   "cell_type": "code",
   "execution_count": 31,
   "metadata": {},
   "outputs": [],
   "source": [
    "clf = SVC(kernel='poly', C=5, degree=3, gamma='scale')\n",
    "clf.fit(x_train_minmax, y_train)\n",
    "\n",
    "models[\"svm\"] = clf\n",
    "model_scores[\"svm\"] = 0.80"
   ]
  },
  {
   "cell_type": "markdown",
   "metadata": {
    "jp-MarkdownHeadingCollapsed": true,
    "tags": []
   },
   "source": [
    "### Clasificador Random Forest"
   ]
  },
  {
   "cell_type": "markdown",
   "metadata": {},
   "source": [
    "##### Construccion del RF con hiperparametros arbitrarios"
   ]
  },
  {
   "cell_type": "code",
   "execution_count": 42,
   "metadata": {
    "tags": []
   },
   "outputs": [],
   "source": [
    "rfc = RandomForestClassifier(max_features='sqrt', \n",
    "                             oob_score=True, \n",
    "                             random_state=2, \n",
    "                             n_jobs=-1,\n",
    "                             criterion=\"entropy\", \n",
    "                             min_samples_leaf=5,\n",
    "                             min_samples_split=5,\n",
    "                             n_estimators=50 )\n",
    "\n",
    "model = rfc.fit(X = x_train, y = y_train)\n",
    "y_pred = model.predict(x_test)"
   ]
  },
  {
   "cell_type": "markdown",
   "metadata": {},
   "source": [
    "#### Metricas"
   ]
  },
  {
   "cell_type": "code",
   "execution_count": 44,
   "metadata": {
    "tags": []
   },
   "outputs": [
    {
     "name": "stdout",
     "output_type": "stream",
     "text": [
      "              precision    recall  f1-score   support\n",
      "\n",
      "           0       0.81      0.87      0.84      6170\n",
      "           1       0.86      0.80      0.83      6173\n",
      "\n",
      "    accuracy                           0.83     12343\n",
      "   macro avg       0.83      0.83      0.83     12343\n",
      "weighted avg       0.83      0.83      0.83     12343\n",
      "\n"
     ]
    },
    {
     "data": {
      "image/png": "[encoded data removed]",
      "text/plain": [
       "<Figure size 640x480 with 2 Axes>"
      ]
     },
     "metadata": {},
     "output_type": "display_data"
    }
   ],
   "source": [
    "metricas(y_pred,y_test)"
   ]
  },
  {
   "cell_type": "markdown",
   "metadata": {},
   "source": [
    "Precision: En este caso, la precisión para la clase 0 es de 0.81, lo que significa que el 81% de las predicciones clasificadas como clase 0 son realmente de la clase 0. Para la clase 1 se observa un 86%.\n",
    "\n",
    "Recall: En este caso, el recall para la clase 0 es del 0.87, mientras que para las clase 1 es de 0.80.\n",
    "\n",
    "F1-score: Teniendo en cuenta que un valor de 1 indica un rendimiento perfecto, mientras que un valor de 0 indica un rendimiento pobre, el f1-score para la clase 0 es del 0.84, lo que muestra un rendimiento aceptable para esa clase.\n",
    "\n",
    "Exactitud: En este caso, la exactitud general del modelo es del 0.83, lo que indica que el 83% de las predicciones son correctas en general. El mejor modelo hasta el momento."
   ]
  },
  {
   "cell_type": "markdown",
   "metadata": {},
   "source": [
    "#### RF con hiperparametros optimizados"
   ]
  },
  {
   "cell_type": "code",
   "execution_count": 63,
   "metadata": {
    "tags": []
   },
   "outputs": [],
   "source": [
    "FOLDS = 6\n",
    "kfold = StratifiedKFold(n_splits=FOLDS)\n",
    "scorer_fn = make_scorer(f1_score, zero_division=1)\n",
    "\n",
    "rf_cv = RandomForestClassifier(max_features='sqrt', oob_score=True, random_state=1, n_jobs=-1)\n",
    "\n",
    "param_grid = { \"criterion\" : [\"gini\", \"entropy\"], \n",
    "               \"min_samples_leaf\" : [1, 5, 10], \n",
    "               \"min_samples_split\" : [2, 4, 10, 12, 16], \n",
    "               \"n_estimators\": [100, 200, 2000] }\n",
    "\n",
    "#Probamos entrenando sólo con 1 métrica\n",
    "gs = HalvingGridSearchCV(estimator=rf_cv, param_grid=param_grid, scoring=scorer_fn, cv=kfold, n_jobs=-1)\n",
    "gs_fit = gs.fit(X = x_train, y = y_train)\n",
    "\n",
    "# Mostrar los mejores hiperparámetros y la métrica de desempeño del modelo\n",
    "print('Mejores hiperparámetros:', gs.best_params_)\n",
    "print('Mejor score:', gs.best_score_)"
   ]
  },
  {
   "cell_type": "code",
   "execution_count": 32,
   "metadata": {},
   "outputs": [],
   "source": [
    "# Guardamos los mejores parametros para no tener que correr todo de nuevo\n",
    "rf_best_params = {'criterion': 'entropy', 'min_samples_leaf': 1, 'min_samples_split': 4, 'n_estimators': 2000}"
   ]
  },
  {
   "cell_type": "code",
   "execution_count": 33,
   "metadata": {},
   "outputs": [],
   "source": [
    "best_rf = RandomForestClassifier(max_features='sqrt', oob_score=True, random_state=1, n_jobs=-1, **rf_best_params)\n",
    "\n",
    "# Entrenar el modelo con los datos de entrenamiento\n",
    "best_rf.fit(x_train, y_train)\n",
    "\n",
    "# Realizar predicciones en datos de prueba\n",
    "y_pred_rf_cv_best = best_rf.predict(x_test)"
   ]
  },
  {
   "cell_type": "code",
   "execution_count": 34,
   "metadata": {},
   "outputs": [],
   "source": [
    "models[\"rf\"] = best_rf\n",
    "model_scores[\"rf\"] = 0.85"
   ]
  },
  {
   "cell_type": "markdown",
   "metadata": {},
   "source": [
    "#### Metricas"
   ]
  },
  {
   "cell_type": "code",
   "execution_count": 79,
   "metadata": {
    "tags": []
   },
   "outputs": [
    {
     "name": "stdout",
     "output_type": "stream",
     "text": [
      "              precision    recall  f1-score   support\n",
      "\n",
      "           0       0.83      0.87      0.85      6170\n",
      "           1       0.87      0.82      0.84      6173\n",
      "\n",
      "    accuracy                           0.85     12343\n",
      "   macro avg       0.85      0.85      0.85     12343\n",
      "weighted avg       0.85      0.85      0.85     12343\n",
      "\n"
     ]
    },
    {
     "data": {
      "image/png": "[encoded data removed]",
      "text/plain": [
       "<Figure size 640x480 with 2 Axes>"
      ]
     },
     "metadata": {},
     "output_type": "display_data"
    }
   ],
   "source": [
    "metricas(y_pred_rf_cv_best,y_test)"
   ]
  },
  {
   "cell_type": "markdown",
   "metadata": {},
   "source": [
    "Precision: En este caso, la precisión para la clase 0 es del 0.83, lo que significa que el 83% de las predicciones clasificadas como clase 0 son realmente de la clase 0. Y el 87% para la clase 1.\n",
    "\n",
    "Recall: En este caso, el recall para la clase 0 es del 0.88, lo que indica que el 88% de las instancias de la clase 0 se han identificado correctamente. Y vemos que para las instancias de clase 1, el 82% se ha identificado correctamente.\n",
    "\n",
    "F1-score: Teniendo en cuenta que un valor de 1 indica un rendimiento perfecto, mientras que un valor de 0 indica un rendimiento pobre. En este caso, el f1-score para la clase 0 es del 0.85, y para clase 1 es del 0.84 lo que muestra un rendimiento aceptable para esa clase.\n",
    "\n",
    "Exactitud: En este caso, la exactitud general del modelo es del 0.85, lo que indica que el 85% de las predicciones son correctas en general. Lo que ahora lo convierte en el mejor modelo, pasando al random forest con hiperparametros arbitrarios."
   ]
  },
  {
   "cell_type": "markdown",
   "metadata": {
    "jp-MarkdownHeadingCollapsed": true,
    "tags": []
   },
   "source": [
    "### XGBoost"
   ]
  },
  {
   "cell_type": "markdown",
   "metadata": {},
   "source": [
    "#### Busqueda de mejores Hiperparametros para XGBoost"
   ]
  },
  {
   "cell_type": "code",
   "execution_count": null,
   "metadata": {
    "tags": []
   },
   "outputs": [],
   "source": [
    "FOLDS = 6\n",
    "\n",
    "kfold = StratifiedKFold(n_splits=FOLDS)\n",
    "x = ds[features]\n",
    "y = ds[target]\n",
    "\n",
    "scorer_fn = make_scorer(f1_score, zero_division=1)\n",
    "\n",
    "parametros = {\n",
    "    'n_estimators': [200, 2000],\n",
    "    'learning_rate': [0.01, 0.05, 0.1, 0.2],\n",
    "    'max_depth': list(range(1, 11)),\n",
    "    'min_child_weight': list(range(1, 11)),\n",
    "    'subsample': [0.5, 0.6, 0.7, 0.8, 0.9, 1],\n",
    "    'colsample_bytree': [0.5, 0.6, 0.7, 0.8, 0.9, 1],\n",
    "    'gamma': [0, 0.1, 0.2, 0.3, 0.4, 0.5]\n",
    "}\n",
    "\n",
    "modelo = XGBClassifier(\n",
    "    objective='binary:logistic',\n",
    "    eval_metric='logloss',\n",
    "    use_label_encoder=False,\n",
    "    random_state=13\n",
    ")\n",
    "\n",
    "grid = HalvingGridSearchCV(modelo, parametros, scoring=scorer_fn, cv=kfold, n_jobs=-1, random_state=13)\n",
    "\n",
    "# Training the model\n",
    "grid.fit(x, y)\n",
    "\n",
    "print(grid.best_score_)\n",
    "print(grid.best_params_)\n",
    "\n",
    "xgb_best_params = grid.best_params_"
   ]
  },
  {
   "cell_type": "code",
   "execution_count": 35,
   "metadata": {
    "tags": []
   },
   "outputs": [],
   "source": [
    "# Guardamos los mejores parametros encontrados para no correr todo el tiempo la busqueda\n",
    "xgb_best_params = best_params = {'colsample_bytree': 0.9, 'gamma': 0.1, 'learning_rate': 0.01, 'max_depth': 10, 'min_child_weight': 1, 'n_estimators': 2000, 'subsample': 0.9} #XGBoost - f1=0.8392294074354546"
   ]
  },
  {
   "cell_type": "markdown",
   "metadata": {},
   "source": [
    "#### Prediccion sobre el set de testeo"
   ]
  },
  {
   "cell_type": "code",
   "execution_count": 36,
   "metadata": {
    "tags": []
   },
   "outputs": [],
   "source": [
    "# Hacemos predicción sobre el set de evaluacion\n",
    "xgb = XGBClassifier(\n",
    "    objective='binary:logistic',  # Binary classification\n",
    "    eval_metric='logloss',        # Default evaluation metric for binary classification\n",
    "    colsample_bytree=xgb_best_params['colsample_bytree'],\n",
    "    gamma=xgb_best_params['gamma'],\n",
    "    learning_rate=xgb_best_params['learning_rate'],\n",
    "    max_depth=xgb_best_params['max_depth'],\n",
    "    min_child_weight=xgb_best_params['min_child_weight'],\n",
    "    n_estimators=xgb_best_params['n_estimators'],\n",
    "    subsample=xgb_best_params['subsample']\n",
    ")\n",
    "\n",
    "xgb.fit(x, y)\n",
    "y_pred = xgb.predict(x_test)"
   ]
  },
  {
   "cell_type": "code",
   "execution_count": 37,
   "metadata": {},
   "outputs": [],
   "source": [
    "models[\"xgb\"] = xgb\n",
    "model_scores[\"xgb\"] = 0.92"
   ]
  },
  {
   "cell_type": "markdown",
   "metadata": {},
   "source": [
    "#### Metricas"
   ]
  },
  {
   "cell_type": "code",
   "execution_count": 40,
   "metadata": {
    "tags": []
   },
   "outputs": [
    {
     "name": "stdout",
     "output_type": "stream",
     "text": [
      "              precision    recall  f1-score   support\n",
      "\n",
      "           0       0.91      0.93      0.92      6170\n",
      "           1       0.93      0.91      0.92      6173\n",
      "\n",
      "    accuracy                           0.92     12343\n",
      "   macro avg       0.92      0.92      0.92     12343\n",
      "weighted avg       0.92      0.92      0.92     12343\n",
      "\n"
     ]
    },
    {
     "data": {
      "image/png": "[encoded data removed]",
      "text/plain": [
       "<Figure size 640x480 with 2 Axes>"
      ]
     },
     "metadata": {},
     "output_type": "display_data"
    }
   ],
   "source": [
    "metricas(y_pred, y_test)"
   ]
  },
  {
   "cell_type": "markdown",
   "metadata": {},
   "source": [
    "Precision: En este caso, la precisión para la clase 0 es del 0.91, lo que significa que el 91% de las predicciones clasificadas como clase 0 son realmente de la clase 0. Y el 93% para la clase 1.\n",
    "\n",
    "Recall: En este caso, el recall para la clase 0 es del 0.93, lo que indica que el 93% de las instancias de la clase 0 se han identificado correctamente. Y vemos que para las instancias de clase 1, el 91% se ha identificado correctamente.\n",
    "\n",
    "F1-score: Teniendo en cuenta que un valor de 1 indica un rendimiento perfecto, mientras que un valor de 0 indica un rendimiento pobre. En este caso, el f1-score para la clase 0 es del 0.92 tanto para la clase 0 como para la 1, mostrando un rendimiento bastante bueno para estas clases.\n",
    "\n",
    "Exactitud: En este caso, la exactitud general del modelo es del 0.92, lo que indica que el 92% de las predicciones son correctas en general. Lo que ahora lo convierte en el mejor modelo, pasando a todos los modelos anteriores."
   ]
  },
  {
   "cell_type": "markdown",
   "metadata": {},
   "source": [
    "### Voting"
   ]
  },
  {
   "cell_type": "code",
   "execution_count": 41,
   "metadata": {},
   "outputs": [],
   "source": [
    "from sklearn.ensemble import VotingClassifier\n",
    "\n",
    "#Creo el ensamble\n",
    "vot_clf = VotingClassifier(estimators=[('xgb', models[\"xgb\"]), ('rf', models[\"rf\"]), ('svm', models[\"svm\"]), ('knn', models[\"knn\"])], voting='hard')\n",
    "\n",
    "#Entreno el ensamble\n",
    "vot_clf.fit(x_train, y_train)\n",
    "\n",
    "#Predigo con el ensamble\n",
    "y_pred = vot_clf.predict(x_test)"
   ]
  },
  {
   "cell_type": "code",
   "execution_count": null,
   "metadata": {},
   "outputs": [],
   "source": [
    "models[\"vot\"] = vot_clf\n",
    "model_scores[\"vot\"] = 0.85"
   ]
  },
  {
   "cell_type": "code",
   "execution_count": 42,
   "metadata": {},
   "outputs": [
    {
     "name": "stdout",
     "output_type": "stream",
     "text": [
      "              precision    recall  f1-score   support\n",
      "\n",
      "           0       0.81      0.90      0.85      6170\n",
      "           1       0.88      0.78      0.83      6173\n",
      "\n",
      "    accuracy                           0.84     12343\n",
      "   macro avg       0.84      0.84      0.84     12343\n",
      "weighted avg       0.84      0.84      0.84     12343\n",
      "\n"
     ]
    },
    {
     "data": {
      "image/png": "[encoded data removed]",
      "text/plain": [
       "<Figure size 640x480 with 2 Axes>"
      ]
     },
     "metadata": {},
     "output_type": "display_data"
    }
   ],
   "source": [
    "metricas(y_pred, y_test)"
   ]
  },
  {
   "cell_type": "markdown",
   "metadata": {},
   "source": [
    "Precision: En este caso, la precisión para la clase 0 es del 0.81, lo que significa que el 81% de las predicciones clasificadas como clase 0 son realmente de la clase 0. Y el 88% para la clase 1.\n",
    "\n",
    "Recall: En este caso, el recall para la clase 0 es del 0.90, lo que indica que el 90% de las instancias de la clase 0 se han identificado correctamente. Y vemos que para las instancias de clase 1, el 78% se ha identificado correctamente.\n",
    "\n",
    "F1-score: Teniendo en cuenta que un valor de 1 indica un rendimiento perfecto, mientras que un valor de 0 indica un rendimiento pobre. En este caso, el f1-score para la clase 0 es del 0.85 tanto para la clase 0 como para la 1, mostrando un rendimiento aceptable\n",
    "\n",
    "Exactitud: En este caso, la exactitud general del modelo es del 0.84, lo que indica que el 84% de las predicciones son correctas en general. No es un mal rendimiento, pero considerando que utiliza XGBoost, que por sí solo tiene mejores métricas, podría ser mucho mejor."
   ]
  },
  {
   "cell_type": "markdown",
   "metadata": {},
   "source": [
    "### Stacking"
   ]
  },
  {
   "cell_type": "code",
   "execution_count": 44,
   "metadata": {},
   "outputs": [],
   "source": [
    "stacking_clf = StackingClassifier(estimators=[('xgb', models[\"xgb\"]), ('rf', models[\"rf\"]), ('svm', models[\"svm\"]), ('knn', models[\"knn\"])], \n",
    "                                  final_estimator=LogisticRegression(), \n",
    "                                  cv=5, \n",
    "                                  verbose=2,\n",
    "                                  n_jobs=-1)\n",
    "\n",
    "stacking_clf.fit(x_train, y_train)\n",
    "\n",
    "y_pred = stacking_clf.predict(x_test)"
   ]
  },
  {
   "cell_type": "code",
   "execution_count": null,
   "metadata": {},
   "outputs": [],
   "source": [
    "models[\"stack\"] = stacking_clf\n",
    "model_scores[\"stack\"] = 0.85"
   ]
  },
  {
   "cell_type": "code",
   "execution_count": null,
   "metadata": {},
   "outputs": [],
   "source": [
    "metricas(y_pred, y_test)"
   ]
  },
  {
   "cell_type": "code",
   "execution_count": null,
   "metadata": {},
   "outputs": [],
   "source": []
  }
 ],
 "metadata": {
  "kernelspec": {
   "display_name": "Python 3 (ipykernel)",
   "language": "python",
   "name": "python3"
  },
  "language_info": {
   "codemirror_mode": {
    "name": "ipython",
    "version": 3
   },
   "file_extension": ".py",
   "mimetype": "text/x-python",
   "name": "python",
   "nbconvert_exporter": "python",
   "pygments_lexer": "ipython3",
   "version": "3.10.10"
  }
 },
 "nbformat": 4,
 "nbformat_minor": 4
}
