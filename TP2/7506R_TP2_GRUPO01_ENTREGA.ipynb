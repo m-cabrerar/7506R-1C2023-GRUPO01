{
 "cells": [
  {
   "attachments": {},
   "cell_type": "markdown",
   "metadata": {},
   "source": [
    "#### Trabajo Práctico 2 : Críticas Cinematográficas\n",
    "\n",
    "### Grupo 01 - Integrantes:\n",
    "        Cabrera Rodríguez, Mateo \n",
    "        Gonzalez Alejo, Camila\n",
    "        Bocanegra, Eduardo Martín"
   ]
  },
  {
   "attachments": {},
   "cell_type": "markdown",
   "metadata": {},
   "source": [
    "# Setup"
   ]
  },
  {
   "cell_type": "code",
   "execution_count": 18,
   "metadata": {
    "scrolled": true
   },
   "outputs": [
    {
     "name": "stdout",
     "output_type": "stream",
     "text": [
      "Requirement already satisfied: pandas in c:\\users\\hp\\appdata\\local\\programs\\python\\python310\\lib\\site-packages (from -r ./requirements.txt (line 1)) (1.5.3)\n",
      "Requirement already satisfied: numpy in c:\\users\\hp\\appdata\\local\\programs\\python\\python310\\lib\\site-packages (from -r ./requirements.txt (line 2)) (1.23.5)\n",
      "Requirement already satisfied: seaborn in c:\\users\\hp\\appdata\\local\\programs\\python\\python310\\lib\\site-packages (from -r ./requirements.txt (line 3)) (0.12.2)\n",
      "Requirement already satisfied: scikit-learn in c:\\users\\hp\\appdata\\local\\programs\\python\\python310\\lib\\site-packages (from -r ./requirements.txt (line 4)) (1.2.2)\n",
      "Requirement already satisfied: graphviz in c:\\users\\hp\\appdata\\local\\programs\\python\\python310\\lib\\site-packages (from -r ./requirements.txt (line 5)) (0.20.1)\n",
      "Requirement already satisfied: xgboost in c:\\users\\hp\\appdata\\local\\programs\\python\\python310\\lib\\site-packages (from -r ./requirements.txt (line 6)) (1.7.5)\n",
      "Requirement already satisfied: plotly in c:\\users\\hp\\appdata\\local\\programs\\python\\python310\\lib\\site-packages (from -r ./requirements.txt (line 7)) (5.14.1)\n",
      "Requirement already satisfied: joblib in c:\\users\\hp\\appdata\\local\\programs\\python\\python310\\lib\\site-packages (from -r ./requirements.txt (line 8)) (1.2.0)\n",
      "Requirement already satisfied: nltk in c:\\users\\hp\\appdata\\local\\programs\\python\\python310\\lib\\site-packages (from -r ./requirements.txt (line 9)) (3.8.1)\n",
      "Requirement already satisfied: pysentimiento in c:\\users\\hp\\appdata\\local\\programs\\python\\python310\\lib\\site-packages (from -r ./requirements.txt (line 10)) (0.7.1)\n",
      "Requirement already satisfied: transformers[torch] in c:\\users\\hp\\appdata\\local\\programs\\python\\python310\\lib\\site-packages (from -r ./requirements.txt (line 11)) (4.30.2)\n",
      "Requirement already satisfied: python-dateutil>=2.8.1 in c:\\users\\hp\\appdata\\local\\programs\\python\\python310\\lib\\site-packages (from pandas->-r ./requirements.txt (line 1)) (2.8.2)\n",
      "Requirement already satisfied: pytz>=2020.1 in c:\\users\\hp\\appdata\\local\\programs\\python\\python310\\lib\\site-packages (from pandas->-r ./requirements.txt (line 1)) (2023.3)\n",
      "Requirement already satisfied: matplotlib!=3.6.1,>=3.1 in c:\\users\\hp\\appdata\\local\\programs\\python\\python310\\lib\\site-packages (from seaborn->-r ./requirements.txt (line 3)) (3.7.1)\n",
      "Requirement already satisfied: scipy>=1.3.2 in c:\\users\\hp\\appdata\\local\\programs\\python\\python310\\lib\\site-packages (from scikit-learn->-r ./requirements.txt (line 4)) (1.10.1)\n",
      "Requirement already satisfied: threadpoolctl>=2.0.0 in c:\\users\\hp\\appdata\\local\\programs\\python\\python310\\lib\\site-packages (from scikit-learn->-r ./requirements.txt (line 4)) (3.1.0)\n",
      "Requirement already satisfied: tenacity>=6.2.0 in c:\\users\\hp\\appdata\\local\\programs\\python\\python310\\lib\\site-packages (from plotly->-r ./requirements.txt (line 7)) (8.2.2)\n",
      "Requirement already satisfied: packaging in c:\\users\\hp\\appdata\\roaming\\python\\python310\\site-packages (from plotly->-r ./requirements.txt (line 7)) (23.0)\n",
      "Requirement already satisfied: click in c:\\users\\hp\\appdata\\local\\programs\\python\\python310\\lib\\site-packages (from nltk->-r ./requirements.txt (line 9)) (8.1.3)\n",
      "Requirement already satisfied: regex>=2021.8.3 in c:\\users\\hp\\appdata\\local\\programs\\python\\python310\\lib\\site-packages (from nltk->-r ./requirements.txt (line 9)) (2023.6.3)\n",
      "Requirement already satisfied: tqdm in c:\\users\\hp\\appdata\\local\\programs\\python\\python310\\lib\\site-packages (from nltk->-r ./requirements.txt (line 9)) (4.65.0)\n",
      "Requirement already satisfied: datasets>=1.13.3 in c:\\users\\hp\\appdata\\local\\programs\\python\\python310\\lib\\site-packages (from pysentimiento->-r ./requirements.txt (line 10)) (2.13.0)\n",
      "Requirement already satisfied: emoji<2.0.0,>=1.6.1 in c:\\users\\hp\\appdata\\local\\programs\\python\\python310\\lib\\site-packages (from pysentimiento->-r ./requirements.txt (line 10)) (1.7.0)\n",
      "Requirement already satisfied: spacy<4.0.0,>=3.5.0 in c:\\users\\hp\\appdata\\local\\programs\\python\\python310\\lib\\site-packages (from pysentimiento->-r ./requirements.txt (line 10)) (3.5.3)\n",
      "Requirement already satisfied: torch>=2.0.0 in c:\\users\\hp\\appdata\\local\\programs\\python\\python310\\lib\\site-packages (from pysentimiento->-r ./requirements.txt (line 10)) (2.0.1)\n",
      "Requirement already satisfied: filelock in c:\\users\\hp\\appdata\\local\\programs\\python\\python310\\lib\\site-packages (from transformers[torch]->-r ./requirements.txt (line 11)) (3.12.2)\n",
      "Requirement already satisfied: huggingface-hub<1.0,>=0.14.1 in c:\\users\\hp\\appdata\\local\\programs\\python\\python310\\lib\\site-packages (from transformers[torch]->-r ./requirements.txt (line 11)) (0.15.1)\n",
      "Requirement already satisfied: pyyaml>=5.1 in c:\\users\\hp\\appdata\\local\\programs\\python\\python310\\lib\\site-packages (from transformers[torch]->-r ./requirements.txt (line 11)) (6.0)\n",
      "Requirement already satisfied: requests in c:\\users\\hp\\appdata\\local\\programs\\python\\python310\\lib\\site-packages (from transformers[torch]->-r ./requirements.txt (line 11)) (2.31.0)\n",
      "Requirement already satisfied: tokenizers!=0.11.3,<0.14,>=0.11.1 in c:\\users\\hp\\appdata\\local\\programs\\python\\python310\\lib\\site-packages (from transformers[torch]->-r ./requirements.txt (line 11)) (0.13.3)\n",
      "Requirement already satisfied: safetensors>=0.3.1 in c:\\users\\hp\\appdata\\local\\programs\\python\\python310\\lib\\site-packages (from transformers[torch]->-r ./requirements.txt (line 11)) (0.3.1)\n",
      "Collecting accelerate>=0.20.2 (from transformers[torch]->-r ./requirements.txt (line 11))\n",
      "  Downloading accelerate-0.20.3-py3-none-any.whl (227 kB)\n",
      "                                              0.0/227.6 kB ? eta -:--:--\n",
      "     -                                        10.2/227.6 kB ? eta -:--:--\n",
      "     -                                        10.2/227.6 kB ? eta -:--:--\n",
      "     ---------                             61.4/227.6 kB 465.5 kB/s eta 0:00:01\n",
      "     ---------                             61.4/227.6 kB 465.5 kB/s eta 0:00:01\n",
      "     --------------                        92.2/227.6 kB 403.5 kB/s eta 0:00:01\n",
      "     --------------                        92.2/227.6 kB 403.5 kB/s eta 0:00:01\n",
      "     --------------                        92.2/227.6 kB 403.5 kB/s eta 0:00:01\n",
      "     --------------                        92.2/227.6 kB 403.5 kB/s eta 0:00:01\n",
      "     -------------------                  122.9/227.6 kB 277.4 kB/s eta 0:00:01\n",
      "     ------------------------             153.6/227.6 kB 316.5 kB/s eta 0:00:01\n",
      "     --------------------------------     204.8/227.6 kB 389.1 kB/s eta 0:00:01\n",
      "     --------------------------------     204.8/227.6 kB 389.1 kB/s eta 0:00:01\n",
      "     --------------------------------     204.8/227.6 kB 389.1 kB/s eta 0:00:01\n",
      "     -----------------------------------  225.3/227.6 kB 352.5 kB/s eta 0:00:01\n",
      "     ------------------------------------ 227.6/227.6 kB 331.3 kB/s eta 0:00:00\n",
      "Requirement already satisfied: psutil in c:\\users\\hp\\appdata\\roaming\\python\\python310\\site-packages (from accelerate>=0.20.2->transformers[torch]->-r ./requirements.txt (line 11)) (5.9.4)\n",
      "Requirement already satisfied: pyarrow>=8.0.0 in c:\\users\\hp\\appdata\\local\\programs\\python\\python310\\lib\\site-packages (from datasets>=1.13.3->pysentimiento->-r ./requirements.txt (line 10)) (12.0.1)\n",
      "Requirement already satisfied: dill<0.3.7,>=0.3.0 in c:\\users\\hp\\appdata\\local\\programs\\python\\python310\\lib\\site-packages (from datasets>=1.13.3->pysentimiento->-r ./requirements.txt (line 10)) (0.3.6)\n",
      "Requirement already satisfied: xxhash in c:\\users\\hp\\appdata\\local\\programs\\python\\python310\\lib\\site-packages (from datasets>=1.13.3->pysentimiento->-r ./requirements.txt (line 10)) (3.2.0)\n",
      "Requirement already satisfied: multiprocess in c:\\users\\hp\\appdata\\local\\programs\\python\\python310\\lib\\site-packages (from datasets>=1.13.3->pysentimiento->-r ./requirements.txt (line 10)) (0.70.14)\n",
      "Requirement already satisfied: fsspec[http]>=2021.11.1 in c:\\users\\hp\\appdata\\local\\programs\\python\\python310\\lib\\site-packages (from datasets>=1.13.3->pysentimiento->-r ./requirements.txt (line 10)) (2023.6.0)\n",
      "Requirement already satisfied: aiohttp in c:\\users\\hp\\appdata\\local\\programs\\python\\python310\\lib\\site-packages (from datasets>=1.13.3->pysentimiento->-r ./requirements.txt (line 10)) (3.8.4)\n",
      "Requirement already satisfied: typing-extensions>=3.7.4.3 in c:\\users\\hp\\appdata\\local\\programs\\python\\python310\\lib\\site-packages (from huggingface-hub<1.0,>=0.14.1->transformers[torch]->-r ./requirements.txt (line 11)) (4.6.3)\n",
      "Requirement already satisfied: contourpy>=1.0.1 in c:\\users\\hp\\appdata\\local\\programs\\python\\python310\\lib\\site-packages (from matplotlib!=3.6.1,>=3.1->seaborn->-r ./requirements.txt (line 3)) (1.0.7)\n",
      "Requirement already satisfied: cycler>=0.10 in c:\\users\\hp\\appdata\\local\\programs\\python\\python310\\lib\\site-packages (from matplotlib!=3.6.1,>=3.1->seaborn->-r ./requirements.txt (line 3)) (0.11.0)\n",
      "Requirement already satisfied: fonttools>=4.22.0 in c:\\users\\hp\\appdata\\local\\programs\\python\\python310\\lib\\site-packages (from matplotlib!=3.6.1,>=3.1->seaborn->-r ./requirements.txt (line 3)) (4.39.3)\n",
      "Requirement already satisfied: kiwisolver>=1.0.1 in c:\\users\\hp\\appdata\\local\\programs\\python\\python310\\lib\\site-packages (from matplotlib!=3.6.1,>=3.1->seaborn->-r ./requirements.txt (line 3)) (1.4.4)\n",
      "Requirement already satisfied: pillow>=6.2.0 in c:\\users\\hp\\appdata\\local\\programs\\python\\python310\\lib\\site-packages (from matplotlib!=3.6.1,>=3.1->seaborn->-r ./requirements.txt (line 3)) (9.5.0)\n",
      "Requirement already satisfied: pyparsing>=2.3.1 in c:\\users\\hp\\appdata\\local\\programs\\python\\python310\\lib\\site-packages (from matplotlib!=3.6.1,>=3.1->seaborn->-r ./requirements.txt (line 3)) (3.0.9)\n",
      "Requirement already satisfied: six>=1.5 in c:\\users\\hp\\appdata\\local\\programs\\python\\python310\\lib\\site-packages (from python-dateutil>=2.8.1->pandas->-r ./requirements.txt (line 1)) (1.16.0)\n",
      "Requirement already satisfied: charset-normalizer<4,>=2 in c:\\users\\hp\\appdata\\local\\programs\\python\\python310\\lib\\site-packages (from requests->transformers[torch]->-r ./requirements.txt (line 11)) (3.1.0)\n",
      "Requirement already satisfied: idna<4,>=2.5 in c:\\users\\hp\\appdata\\local\\programs\\python\\python310\\lib\\site-packages (from requests->transformers[torch]->-r ./requirements.txt (line 11)) (3.4)\n",
      "Requirement already satisfied: urllib3<3,>=1.21.1 in c:\\users\\hp\\appdata\\local\\programs\\python\\python310\\lib\\site-packages (from requests->transformers[torch]->-r ./requirements.txt (line 11)) (1.26.16)\n",
      "Requirement already satisfied: certifi>=2017.4.17 in c:\\users\\hp\\appdata\\local\\programs\\python\\python310\\lib\\site-packages (from requests->transformers[torch]->-r ./requirements.txt (line 11)) (2023.5.7)\n",
      "Requirement already satisfied: spacy-legacy<3.1.0,>=3.0.11 in c:\\users\\hp\\appdata\\local\\programs\\python\\python310\\lib\\site-packages (from spacy<4.0.0,>=3.5.0->pysentimiento->-r ./requirements.txt (line 10)) (3.0.12)\n",
      "Requirement already satisfied: spacy-loggers<2.0.0,>=1.0.0 in c:\\users\\hp\\appdata\\local\\programs\\python\\python310\\lib\\site-packages (from spacy<4.0.0,>=3.5.0->pysentimiento->-r ./requirements.txt (line 10)) (1.0.4)\n",
      "Requirement already satisfied: murmurhash<1.1.0,>=0.28.0 in c:\\users\\hp\\appdata\\local\\programs\\python\\python310\\lib\\site-packages (from spacy<4.0.0,>=3.5.0->pysentimiento->-r ./requirements.txt (line 10)) (1.0.9)\n",
      "Requirement already satisfied: cymem<2.1.0,>=2.0.2 in c:\\users\\hp\\appdata\\local\\programs\\python\\python310\\lib\\site-packages (from spacy<4.0.0,>=3.5.0->pysentimiento->-r ./requirements.txt (line 10)) (2.0.7)\n",
      "Requirement already satisfied: preshed<3.1.0,>=3.0.2 in c:\\users\\hp\\appdata\\local\\programs\\python\\python310\\lib\\site-packages (from spacy<4.0.0,>=3.5.0->pysentimiento->-r ./requirements.txt (line 10)) (3.0.8)\n",
      "Requirement already satisfied: thinc<8.2.0,>=8.1.8 in c:\\users\\hp\\appdata\\local\\programs\\python\\python310\\lib\\site-packages (from spacy<4.0.0,>=3.5.0->pysentimiento->-r ./requirements.txt (line 10)) (8.1.10)\n",
      "Requirement already satisfied: wasabi<1.2.0,>=0.9.1 in c:\\users\\hp\\appdata\\local\\programs\\python\\python310\\lib\\site-packages (from spacy<4.0.0,>=3.5.0->pysentimiento->-r ./requirements.txt (line 10)) (1.1.2)\n",
      "Requirement already satisfied: srsly<3.0.0,>=2.4.3 in c:\\users\\hp\\appdata\\local\\programs\\python\\python310\\lib\\site-packages (from spacy<4.0.0,>=3.5.0->pysentimiento->-r ./requirements.txt (line 10)) (2.4.6)\n",
      "Requirement already satisfied: catalogue<2.1.0,>=2.0.6 in c:\\users\\hp\\appdata\\local\\programs\\python\\python310\\lib\\site-packages (from spacy<4.0.0,>=3.5.0->pysentimiento->-r ./requirements.txt (line 10)) (2.0.8)\n",
      "Requirement already satisfied: typer<0.8.0,>=0.3.0 in c:\\users\\hp\\appdata\\local\\programs\\python\\python310\\lib\\site-packages (from spacy<4.0.0,>=3.5.0->pysentimiento->-r ./requirements.txt (line 10)) (0.7.0)\n",
      "Requirement already satisfied: pathy>=0.10.0 in c:\\users\\hp\\appdata\\local\\programs\\python\\python310\\lib\\site-packages (from spacy<4.0.0,>=3.5.0->pysentimiento->-r ./requirements.txt (line 10)) (0.10.2)\n",
      "Requirement already satisfied: smart-open<7.0.0,>=5.2.1 in c:\\users\\hp\\appdata\\local\\programs\\python\\python310\\lib\\site-packages (from spacy<4.0.0,>=3.5.0->pysentimiento->-r ./requirements.txt (line 10)) (6.3.0)\n",
      "Requirement already satisfied: pydantic!=1.8,!=1.8.1,<1.11.0,>=1.7.4 in c:\\users\\hp\\appdata\\local\\programs\\python\\python310\\lib\\site-packages (from spacy<4.0.0,>=3.5.0->pysentimiento->-r ./requirements.txt (line 10)) (1.10.9)\n",
      "Requirement already satisfied: jinja2 in c:\\users\\hp\\appdata\\local\\programs\\python\\python310\\lib\\site-packages (from spacy<4.0.0,>=3.5.0->pysentimiento->-r ./requirements.txt (line 10)) (3.1.2)\n",
      "Requirement already satisfied: setuptools in c:\\users\\hp\\appdata\\local\\programs\\python\\python310\\lib\\site-packages (from spacy<4.0.0,>=3.5.0->pysentimiento->-r ./requirements.txt (line 10)) (63.2.0)\n",
      "Requirement already satisfied: langcodes<4.0.0,>=3.2.0 in c:\\users\\hp\\appdata\\local\\programs\\python\\python310\\lib\\site-packages (from spacy<4.0.0,>=3.5.0->pysentimiento->-r ./requirements.txt (line 10)) (3.3.0)\n",
      "Requirement already satisfied: sympy in c:\\users\\hp\\appdata\\local\\programs\\python\\python310\\lib\\site-packages (from torch>=2.0.0->pysentimiento->-r ./requirements.txt (line 10)) (1.12)\n",
      "Requirement already satisfied: networkx in c:\\users\\hp\\appdata\\local\\programs\\python\\python310\\lib\\site-packages (from torch>=2.0.0->pysentimiento->-r ./requirements.txt (line 10)) (3.1)\n",
      "Requirement already satisfied: colorama in c:\\users\\hp\\appdata\\roaming\\python\\python310\\site-packages (from tqdm->nltk->-r ./requirements.txt (line 9)) (0.4.6)\n",
      "Requirement already satisfied: attrs>=17.3.0 in c:\\users\\hp\\appdata\\local\\programs\\python\\python310\\lib\\site-packages (from aiohttp->datasets>=1.13.3->pysentimiento->-r ./requirements.txt (line 10)) (23.1.0)\n",
      "Requirement already satisfied: multidict<7.0,>=4.5 in c:\\users\\hp\\appdata\\local\\programs\\python\\python310\\lib\\site-packages (from aiohttp->datasets>=1.13.3->pysentimiento->-r ./requirements.txt (line 10)) (6.0.4)\n",
      "Requirement already satisfied: async-timeout<5.0,>=4.0.0a3 in c:\\users\\hp\\appdata\\local\\programs\\python\\python310\\lib\\site-packages (from aiohttp->datasets>=1.13.3->pysentimiento->-r ./requirements.txt (line 10)) (4.0.2)\n",
      "Requirement already satisfied: yarl<2.0,>=1.0 in c:\\users\\hp\\appdata\\local\\programs\\python\\python310\\lib\\site-packages (from aiohttp->datasets>=1.13.3->pysentimiento->-r ./requirements.txt (line 10)) (1.9.2)\n",
      "Requirement already satisfied: frozenlist>=1.1.1 in c:\\users\\hp\\appdata\\local\\programs\\python\\python310\\lib\\site-packages (from aiohttp->datasets>=1.13.3->pysentimiento->-r ./requirements.txt (line 10)) (1.3.3)\n",
      "Requirement already satisfied: aiosignal>=1.1.2 in c:\\users\\hp\\appdata\\local\\programs\\python\\python310\\lib\\site-packages (from aiohttp->datasets>=1.13.3->pysentimiento->-r ./requirements.txt (line 10)) (1.3.1)\n",
      "Requirement already satisfied: blis<0.8.0,>=0.7.8 in c:\\users\\hp\\appdata\\local\\programs\\python\\python310\\lib\\site-packages (from thinc<8.2.0,>=8.1.8->spacy<4.0.0,>=3.5.0->pysentimiento->-r ./requirements.txt (line 10)) (0.7.9)\n",
      "Requirement already satisfied: confection<1.0.0,>=0.0.1 in c:\\users\\hp\\appdata\\local\\programs\\python\\python310\\lib\\site-packages (from thinc<8.2.0,>=8.1.8->spacy<4.0.0,>=3.5.0->pysentimiento->-r ./requirements.txt (line 10)) (0.0.4)\n",
      "Requirement already satisfied: MarkupSafe>=2.0 in c:\\users\\hp\\appdata\\local\\programs\\python\\python310\\lib\\site-packages (from jinja2->spacy<4.0.0,>=3.5.0->pysentimiento->-r ./requirements.txt (line 10)) (2.1.3)\n",
      "Requirement already satisfied: mpmath>=0.19 in c:\\users\\hp\\appdata\\local\\programs\\python\\python310\\lib\\site-packages (from sympy->torch>=2.0.0->pysentimiento->-r ./requirements.txt (line 10)) (1.3.0)\n",
      "Installing collected packages: accelerate\n",
      "Successfully installed accelerate-0.20.3\n"
     ]
    }
   ],
   "source": [
    "!pip install -r ./requirements.txt"
   ]
  },
  {
   "attachments": {},
   "cell_type": "markdown",
   "metadata": {},
   "source": [
    "### Cargar bibliotecas"
   ]
  },
  {
   "cell_type": "code",
   "execution_count": 1,
   "metadata": {},
   "outputs": [
    {
     "name": "stderr",
     "output_type": "stream",
     "text": [
      "c:\\Users\\Hp\\AppData\\Local\\Programs\\Python\\Python310\\lib\\site-packages\\tqdm\\auto.py:21: TqdmWarning: IProgress not found. Please update jupyter and ipywidgets. See https://ipywidgets.readthedocs.io/en/stable/user_install.html\n",
      "  from .autonotebook import tqdm as notebook_tqdm\n",
      "[nltk_data] Downloading package punkt to\n",
      "[nltk_data]     C:\\Users\\Hp\\AppData\\Roaming\\nltk_data...\n",
      "[nltk_data]   Package punkt is already up-to-date!\n",
      "[nltk_data] Downloading package stopwords to\n",
      "[nltk_data]     C:\\Users\\Hp\\AppData\\Roaming\\nltk_data...\n",
      "[nltk_data]   Package stopwords is already up-to-date!\n",
      "[nltk_data] Downloading package wordnet to\n",
      "[nltk_data]     C:\\Users\\Hp\\AppData\\Roaming\\nltk_data...\n",
      "[nltk_data]   Package wordnet is already up-to-date!\n"
     ]
    },
    {
     "data": {
      "text/plain": [
       "True"
      ]
     },
     "execution_count": 1,
     "metadata": {},
     "output_type": "execute_result"
    }
   ],
   "source": [
    "import pandas as pd\n",
    "import sklearn\n",
    "from sklearn.model_selection import GridSearchCV\n",
    "from sklearn.feature_extraction.text import CountVectorizer\n",
    "from sklearn.model_selection import train_test_split\n",
    "from sklearn.naive_bayes import BernoulliNB\n",
    "from sklearn.ensemble import RandomForestClassifier\n",
    "from sklearn.model_selection import StratifiedKFold, RandomizedSearchCV\n",
    "from sklearn.metrics import f1_score, make_scorer\n",
    "import joblib\n",
    "from sklearn import metrics\n",
    "import plotly as py\n",
    "from sklearn import svm\n",
    "from sklearn.feature_extraction.text import TfidfVectorizer\n",
    "from sklearn.model_selection import train_test_split\n",
    "from sklearn.metrics import accuracy_score\n",
    "\n",
    "import nltk\n",
    "from nltk.corpus import stopwords\n",
    "from nltk.tokenize import word_tokenize\n",
    "from nltk.stem import WordNetLemmatizer\n",
    "import re\n",
    "\n",
    "from pysentimiento import create_analyzer\n",
    "import transformers\n",
    "\n",
    "nltk.download('punkt')\n",
    "nltk.download('stopwords')\n",
    "nltk.download('wordnet')"
   ]
  },
  {
   "attachments": {},
   "cell_type": "markdown",
   "metadata": {},
   "source": [
    "### Cargar dataset"
   ]
  },
  {
   "cell_type": "code",
   "execution_count": 21,
   "metadata": {},
   "outputs": [
    {
     "name": "stdout",
     "output_type": "stream",
     "text": [
      "   ID                                          review_es sentimiento\n",
      "0   0  Uno de los otros críticos ha mencionado que de...    positivo\n",
      "1   1  Una pequeña pequeña producción.La técnica de f...    positivo\n",
      "2   2  Pensé que esta era una manera maravillosa de p...    positivo\n",
      "3   3  Básicamente, hay una familia donde un niño peq...    negativo\n",
      "4   4  El \"amor en el tiempo\" de Petter Mattei es una...    positivo\n"
     ]
    }
   ],
   "source": [
    "ds = pd.read_csv(\"datasets/train.csv\")\n",
    "print(ds.head())"
   ]
  },
  {
   "attachments": {},
   "cell_type": "markdown",
   "metadata": {},
   "source": [
    "# Visualización de los datos"
   ]
  },
  {
   "cell_type": "code",
   "execution_count": 22,
   "metadata": {},
   "outputs": [
    {
     "data": {
      "application/vnd.plotly.v1+json": {
       "config": {
        "plotlyServerURL": "https://plot.ly"
       },
       "data": [
        {
         "type": "bar",
         "x": [
          "positivo",
          "negativo"
         ],
         "y": [
          25000,
          25000
         ]
        }
       ],
       "layout": {
        "template": {
         "data": {
          "bar": [
           {
            "error_x": {
             "color": "#2a3f5f"
            },
            "error_y": {
             "color": "#2a3f5f"
            },
            "marker": {
             "line": {
              "color": "#E5ECF6",
              "width": 0.5
             },
             "pattern": {
              "fillmode": "overlay",
              "size": 10,
              "solidity": 0.2
             }
            },
            "type": "bar"
           }
          ],
          "barpolar": [
           {
            "marker": {
             "line": {
              "color": "#E5ECF6",
              "width": 0.5
             },
             "pattern": {
              "fillmode": "overlay",
              "size": 10,
              "solidity": 0.2
             }
            },
            "type": "barpolar"
           }
          ],
          "carpet": [
           {
            "aaxis": {
             "endlinecolor": "#2a3f5f",
             "gridcolor": "white",
             "linecolor": "white",
             "minorgridcolor": "white",
             "startlinecolor": "#2a3f5f"
            },
            "baxis": {
             "endlinecolor": "#2a3f5f",
             "gridcolor": "white",
             "linecolor": "white",
             "minorgridcolor": "white",
             "startlinecolor": "#2a3f5f"
            },
            "type": "carpet"
           }
          ],
          "choropleth": [
           {
            "colorbar": {
             "outlinewidth": 0,
             "ticks": ""
            },
            "type": "choropleth"
           }
          ],
          "contour": [
           {
            "colorbar": {
             "outlinewidth": 0,
             "ticks": ""
            },
            "colorscale": [
             [
              0,
              "#0d0887"
             ],
             [
              0.1111111111111111,
              "#46039f"
             ],
             [
              0.2222222222222222,
              "#7201a8"
             ],
             [
              0.3333333333333333,
              "#9c179e"
             ],
             [
              0.4444444444444444,
              "#bd3786"
             ],
             [
              0.5555555555555556,
              "#d8576b"
             ],
             [
              0.6666666666666666,
              "#ed7953"
             ],
             [
              0.7777777777777778,
              "#fb9f3a"
             ],
             [
              0.8888888888888888,
              "#fdca26"
             ],
             [
              1,
              "#f0f921"
             ]
            ],
            "type": "contour"
           }
          ],
          "contourcarpet": [
           {
            "colorbar": {
             "outlinewidth": 0,
             "ticks": ""
            },
            "type": "contourcarpet"
           }
          ],
          "heatmap": [
           {
            "colorbar": {
             "outlinewidth": 0,
             "ticks": ""
            },
            "colorscale": [
             [
              0,
              "#0d0887"
             ],
             [
              0.1111111111111111,
              "#46039f"
             ],
             [
              0.2222222222222222,
              "#7201a8"
             ],
             [
              0.3333333333333333,
              "#9c179e"
             ],
             [
              0.4444444444444444,
              "#bd3786"
             ],
             [
              0.5555555555555556,
              "#d8576b"
             ],
             [
              0.6666666666666666,
              "#ed7953"
             ],
             [
              0.7777777777777778,
              "#fb9f3a"
             ],
             [
              0.8888888888888888,
              "#fdca26"
             ],
             [
              1,
              "#f0f921"
             ]
            ],
            "type": "heatmap"
           }
          ],
          "heatmapgl": [
           {
            "colorbar": {
             "outlinewidth": 0,
             "ticks": ""
            },
            "colorscale": [
             [
              0,
              "#0d0887"
             ],
             [
              0.1111111111111111,
              "#46039f"
             ],
             [
              0.2222222222222222,
              "#7201a8"
             ],
             [
              0.3333333333333333,
              "#9c179e"
             ],
             [
              0.4444444444444444,
              "#bd3786"
             ],
             [
              0.5555555555555556,
              "#d8576b"
             ],
             [
              0.6666666666666666,
              "#ed7953"
             ],
             [
              0.7777777777777778,
              "#fb9f3a"
             ],
             [
              0.8888888888888888,
              "#fdca26"
             ],
             [
              1,
              "#f0f921"
             ]
            ],
            "type": "heatmapgl"
           }
          ],
          "histogram": [
           {
            "marker": {
             "pattern": {
              "fillmode": "overlay",
              "size": 10,
              "solidity": 0.2
             }
            },
            "type": "histogram"
           }
          ],
          "histogram2d": [
           {
            "colorbar": {
             "outlinewidth": 0,
             "ticks": ""
            },
            "colorscale": [
             [
              0,
              "#0d0887"
             ],
             [
              0.1111111111111111,
              "#46039f"
             ],
             [
              0.2222222222222222,
              "#7201a8"
             ],
             [
              0.3333333333333333,
              "#9c179e"
             ],
             [
              0.4444444444444444,
              "#bd3786"
             ],
             [
              0.5555555555555556,
              "#d8576b"
             ],
             [
              0.6666666666666666,
              "#ed7953"
             ],
             [
              0.7777777777777778,
              "#fb9f3a"
             ],
             [
              0.8888888888888888,
              "#fdca26"
             ],
             [
              1,
              "#f0f921"
             ]
            ],
            "type": "histogram2d"
           }
          ],
          "histogram2dcontour": [
           {
            "colorbar": {
             "outlinewidth": 0,
             "ticks": ""
            },
            "colorscale": [
             [
              0,
              "#0d0887"
             ],
             [
              0.1111111111111111,
              "#46039f"
             ],
             [
              0.2222222222222222,
              "#7201a8"
             ],
             [
              0.3333333333333333,
              "#9c179e"
             ],
             [
              0.4444444444444444,
              "#bd3786"
             ],
             [
              0.5555555555555556,
              "#d8576b"
             ],
             [
              0.6666666666666666,
              "#ed7953"
             ],
             [
              0.7777777777777778,
              "#fb9f3a"
             ],
             [
              0.8888888888888888,
              "#fdca26"
             ],
             [
              1,
              "#f0f921"
             ]
            ],
            "type": "histogram2dcontour"
           }
          ],
          "mesh3d": [
           {
            "colorbar": {
             "outlinewidth": 0,
             "ticks": ""
            },
            "type": "mesh3d"
           }
          ],
          "parcoords": [
           {
            "line": {
             "colorbar": {
              "outlinewidth": 0,
              "ticks": ""
             }
            },
            "type": "parcoords"
           }
          ],
          "pie": [
           {
            "automargin": true,
            "type": "pie"
           }
          ],
          "scatter": [
           {
            "fillpattern": {
             "fillmode": "overlay",
             "size": 10,
             "solidity": 0.2
            },
            "type": "scatter"
           }
          ],
          "scatter3d": [
           {
            "line": {
             "colorbar": {
              "outlinewidth": 0,
              "ticks": ""
             }
            },
            "marker": {
             "colorbar": {
              "outlinewidth": 0,
              "ticks": ""
             }
            },
            "type": "scatter3d"
           }
          ],
          "scattercarpet": [
           {
            "marker": {
             "colorbar": {
              "outlinewidth": 0,
              "ticks": ""
             }
            },
            "type": "scattercarpet"
           }
          ],
          "scattergeo": [
           {
            "marker": {
             "colorbar": {
              "outlinewidth": 0,
              "ticks": ""
             }
            },
            "type": "scattergeo"
           }
          ],
          "scattergl": [
           {
            "marker": {
             "colorbar": {
              "outlinewidth": 0,
              "ticks": ""
             }
            },
            "type": "scattergl"
           }
          ],
          "scattermapbox": [
           {
            "marker": {
             "colorbar": {
              "outlinewidth": 0,
              "ticks": ""
             }
            },
            "type": "scattermapbox"
           }
          ],
          "scatterpolar": [
           {
            "marker": {
             "colorbar": {
              "outlinewidth": 0,
              "ticks": ""
             }
            },
            "type": "scatterpolar"
           }
          ],
          "scatterpolargl": [
           {
            "marker": {
             "colorbar": {
              "outlinewidth": 0,
              "ticks": ""
             }
            },
            "type": "scatterpolargl"
           }
          ],
          "scatterternary": [
           {
            "marker": {
             "colorbar": {
              "outlinewidth": 0,
              "ticks": ""
             }
            },
            "type": "scatterternary"
           }
          ],
          "surface": [
           {
            "colorbar": {
             "outlinewidth": 0,
             "ticks": ""
            },
            "colorscale": [
             [
              0,
              "#0d0887"
             ],
             [
              0.1111111111111111,
              "#46039f"
             ],
             [
              0.2222222222222222,
              "#7201a8"
             ],
             [
              0.3333333333333333,
              "#9c179e"
             ],
             [
              0.4444444444444444,
              "#bd3786"
             ],
             [
              0.5555555555555556,
              "#d8576b"
             ],
             [
              0.6666666666666666,
              "#ed7953"
             ],
             [
              0.7777777777777778,
              "#fb9f3a"
             ],
             [
              0.8888888888888888,
              "#fdca26"
             ],
             [
              1,
              "#f0f921"
             ]
            ],
            "type": "surface"
           }
          ],
          "table": [
           {
            "cells": {
             "fill": {
              "color": "#EBF0F8"
             },
             "line": {
              "color": "white"
             }
            },
            "header": {
             "fill": {
              "color": "#C8D4E3"
             },
             "line": {
              "color": "white"
             }
            },
            "type": "table"
           }
          ]
         },
         "layout": {
          "annotationdefaults": {
           "arrowcolor": "#2a3f5f",
           "arrowhead": 0,
           "arrowwidth": 1
          },
          "autotypenumbers": "strict",
          "coloraxis": {
           "colorbar": {
            "outlinewidth": 0,
            "ticks": ""
           }
          },
          "colorscale": {
           "diverging": [
            [
             0,
             "#8e0152"
            ],
            [
             0.1,
             "#c51b7d"
            ],
            [
             0.2,
             "#de77ae"
            ],
            [
             0.3,
             "#f1b6da"
            ],
            [
             0.4,
             "#fde0ef"
            ],
            [
             0.5,
             "#f7f7f7"
            ],
            [
             0.6,
             "#e6f5d0"
            ],
            [
             0.7,
             "#b8e186"
            ],
            [
             0.8,
             "#7fbc41"
            ],
            [
             0.9,
             "#4d9221"
            ],
            [
             1,
             "#276419"
            ]
           ],
           "sequential": [
            [
             0,
             "#0d0887"
            ],
            [
             0.1111111111111111,
             "#46039f"
            ],
            [
             0.2222222222222222,
             "#7201a8"
            ],
            [
             0.3333333333333333,
             "#9c179e"
            ],
            [
             0.4444444444444444,
             "#bd3786"
            ],
            [
             0.5555555555555556,
             "#d8576b"
            ],
            [
             0.6666666666666666,
             "#ed7953"
            ],
            [
             0.7777777777777778,
             "#fb9f3a"
            ],
            [
             0.8888888888888888,
             "#fdca26"
            ],
            [
             1,
             "#f0f921"
            ]
           ],
           "sequentialminus": [
            [
             0,
             "#0d0887"
            ],
            [
             0.1111111111111111,
             "#46039f"
            ],
            [
             0.2222222222222222,
             "#7201a8"
            ],
            [
             0.3333333333333333,
             "#9c179e"
            ],
            [
             0.4444444444444444,
             "#bd3786"
            ],
            [
             0.5555555555555556,
             "#d8576b"
            ],
            [
             0.6666666666666666,
             "#ed7953"
            ],
            [
             0.7777777777777778,
             "#fb9f3a"
            ],
            [
             0.8888888888888888,
             "#fdca26"
            ],
            [
             1,
             "#f0f921"
            ]
           ]
          },
          "colorway": [
           "#636efa",
           "#EF553B",
           "#00cc96",
           "#ab63fa",
           "#FFA15A",
           "#19d3f3",
           "#FF6692",
           "#B6E880",
           "#FF97FF",
           "#FECB52"
          ],
          "font": {
           "color": "#2a3f5f"
          },
          "geo": {
           "bgcolor": "white",
           "lakecolor": "white",
           "landcolor": "#E5ECF6",
           "showlakes": true,
           "showland": true,
           "subunitcolor": "white"
          },
          "hoverlabel": {
           "align": "left"
          },
          "hovermode": "closest",
          "mapbox": {
           "style": "light"
          },
          "paper_bgcolor": "white",
          "plot_bgcolor": "#E5ECF6",
          "polar": {
           "angularaxis": {
            "gridcolor": "white",
            "linecolor": "white",
            "ticks": ""
           },
           "bgcolor": "#E5ECF6",
           "radialaxis": {
            "gridcolor": "white",
            "linecolor": "white",
            "ticks": ""
           }
          },
          "scene": {
           "xaxis": {
            "backgroundcolor": "#E5ECF6",
            "gridcolor": "white",
            "gridwidth": 2,
            "linecolor": "white",
            "showbackground": true,
            "ticks": "",
            "zerolinecolor": "white"
           },
           "yaxis": {
            "backgroundcolor": "#E5ECF6",
            "gridcolor": "white",
            "gridwidth": 2,
            "linecolor": "white",
            "showbackground": true,
            "ticks": "",
            "zerolinecolor": "white"
           },
           "zaxis": {
            "backgroundcolor": "#E5ECF6",
            "gridcolor": "white",
            "gridwidth": 2,
            "linecolor": "white",
            "showbackground": true,
            "ticks": "",
            "zerolinecolor": "white"
           }
          },
          "shapedefaults": {
           "line": {
            "color": "#2a3f5f"
           }
          },
          "ternary": {
           "aaxis": {
            "gridcolor": "white",
            "linecolor": "white",
            "ticks": ""
           },
           "baxis": {
            "gridcolor": "white",
            "linecolor": "white",
            "ticks": ""
           },
           "bgcolor": "#E5ECF6",
           "caxis": {
            "gridcolor": "white",
            "linecolor": "white",
            "ticks": ""
           }
          },
          "title": {
           "x": 0.05
          },
          "xaxis": {
           "automargin": true,
           "gridcolor": "white",
           "linecolor": "white",
           "ticks": "",
           "title": {
            "standoff": 15
           },
           "zerolinecolor": "white",
           "zerolinewidth": 2
          },
          "yaxis": {
           "automargin": true,
           "gridcolor": "white",
           "linecolor": "white",
           "ticks": "",
           "title": {
            "standoff": 15
           },
           "zerolinecolor": "white",
           "zerolinewidth": 2
          }
         }
        },
        "title": {
         "text": "Distribución de tweets reales y falsos"
        }
       }
      }
     },
     "metadata": {},
     "output_type": "display_data"
    }
   ],
   "source": [
    "x = ds['sentimiento'].value_counts()\n",
    "fig = py.graph_objs.Figure([py.graph_objs.Bar(x=x.index, y=x.values)])\n",
    "fig.update_layout(title_text='Distribución de tweets reales y falsos')\n",
    "fig.show()"
   ]
  },
  {
   "attachments": {},
   "cell_type": "markdown",
   "metadata": {},
   "source": [
    "Observamos el gráfico y confirmamos que es un data set balanceado. No hará falta hacer over o undersampling."
   ]
  },
  {
   "attachments": {},
   "cell_type": "markdown",
   "metadata": {},
   "source": [
    "# Preprocesamiento de datos"
   ]
  },
  {
   "cell_type": "code",
   "execution_count": 23,
   "metadata": {},
   "outputs": [],
   "source": [
    "reviews = ds[\"review_es\"]\n",
    "sentiments = [1 if sentiment == \"positivo\" else 0 for sentiment in ds[\"sentimiento\"]]"
   ]
  },
  {
   "cell_type": "code",
   "execution_count": 17,
   "metadata": {},
   "outputs": [
    {
     "name": "stderr",
     "output_type": "stream",
     "text": [
      "[nltk_data] Downloading package stopwords to\n",
      "[nltk_data]     C:\\Users\\Hp\\AppData\\Roaming\\nltk_data...\n",
      "[nltk_data]   Package stopwords is already up-to-date!\n"
     ]
    }
   ],
   "source": [
    "# ELiminacion de stopwords 1\n",
    "from nltk.corpus import stopwords\n",
    "import nltk\n",
    "nltk.download('stopwords')\n",
    "\n",
    "vectorizador = CountVectorizer(stop_words=stopwords.words('spanish'))\n",
    "reviews_vectorized = vectorizador.fit_transform(reviews)"
   ]
  },
  {
   "cell_type": "code",
   "execution_count": 24,
   "metadata": {},
   "outputs": [],
   "source": [
    "#Reviews sin stop words 2 (mejor)\n",
    "from sklearn.feature_extraction.text import CountVectorizer\n",
    "from nltk.corpus import stopwords\n",
    "from nltk.tokenize import word_tokenize\n",
    "\n",
    "vectorizador = CountVectorizer()\n",
    "\n",
    "# Tokenizacion\n",
    "tokenized_reviews = [word_tokenize(review) for review in reviews]\n",
    "\n",
    "# Filtrado de stop words\n",
    "filtered_reviews = []\n",
    "stop_words = set(stopwords.words('spanish'))\n",
    "\n",
    "for review in tokenized_reviews:\n",
    "    filtered_review = [word for word in review if word.lower() not in stop_words]\n",
    "    filtered_reviews.append(\" \".join(filtered_review))\n",
    "\n",
    "# Aplicar la vectorización a las críticas filtradas\n",
    "reviews_vectorized = vectorizador.fit_transform(filtered_reviews)\n"
   ]
  },
  {
   "cell_type": "code",
   "execution_count": 163,
   "metadata": {},
   "outputs": [],
   "source": [
    "#Vectorizacion sin eliminacion de stop words\n",
    "vectorizador = CountVectorizer()\n",
    "reviews_vectorized = vectorizador.fit_transform(reviews)"
   ]
  },
  {
   "cell_type": "code",
   "execution_count": 25,
   "metadata": {},
   "outputs": [],
   "source": [
    "X_train, X_test, y_train, y_test = train_test_split(reviews_vectorized, sentiments, test_size=0.2, random_state=42)"
   ]
  },
  {
   "cell_type": "code",
   "execution_count": 26,
   "metadata": {},
   "outputs": [
    {
     "name": "stdout",
     "output_type": "stream",
     "text": [
      "0.499025\n"
     ]
    }
   ],
   "source": [
    "print(sum(y_train) / len(y_train))"
   ]
  },
  {
   "cell_type": "code",
   "execution_count": 27,
   "metadata": {},
   "outputs": [
    {
     "data": {
      "text/plain": [
       "(40000, 175807)"
      ]
     },
     "execution_count": 27,
     "metadata": {},
     "output_type": "execute_result"
    }
   ],
   "source": [
    "X_train.shape"
   ]
  },
  {
   "attachments": {},
   "cell_type": "markdown",
   "metadata": {},
   "source": [
    "# Entrenamiento de modelos"
   ]
  },
  {
   "attachments": {},
   "cell_type": "markdown",
   "metadata": {},
   "source": [
    "## Bernoulli"
   ]
  },
  {
   "cell_type": "code",
   "execution_count": 38,
   "metadata": {},
   "outputs": [
    {
     "data": {
      "text/plain": [
       "['models/bernoulli.pkl']"
      ]
     },
     "execution_count": 38,
     "metadata": {},
     "output_type": "execute_result"
    }
   ],
   "source": [
    "nb_model = BernoulliNB()\n",
    "nb_model.fit(X_train, y_train)\n",
    "joblib.dump(svm_classifier, f\"models/bernoulli.pkl\")"
   ]
  },
  {
   "cell_type": "code",
   "execution_count": 39,
   "metadata": {},
   "outputs": [
    {
     "name": "stdout",
     "output_type": "stream",
     "text": [
      "Accuracy: 0.8466\n",
      "Precision: 0.8670157068062827\n",
      "Recall: 0.8215915856320699\n",
      "F1 Score: 0.8436926839209293\n"
     ]
    }
   ],
   "source": [
    "y_pred = nb_model.predict(X_test)\n",
    "print(\"Accuracy:\", metrics.accuracy_score(y_test, y_pred))\n",
    "print(\"Precision:\", metrics.precision_score(y_test, y_pred))\n",
    "print(\"Recall:\", metrics.recall_score(y_test, y_pred))\n",
    "print(\"F1 Score:\", metrics.f1_score(y_test, y_pred))"
   ]
  },
  {
   "cell_type": "code",
   "execution_count": 10,
   "metadata": {},
   "outputs": [],
   "source": [
    "test_ds = pd.read_csv(\"datasets/test.csv\")\n",
    "test_ds[\"sentimiento\"] = nb_model.predict(vectorizador.transform(test_ds[\"review_es\"]))\n",
    "# convert \"sentimiento\" to \"positivo\" or \"negativo\"\n",
    "test_ds[\"sentimiento\"] = test_ds[\"sentimiento\"].apply(lambda x: \"positivo\" if x == 1 else \"negativo\")\n",
    "test_ds[[\"ID\",\"sentimiento\"]].to_csv(\"submissions/binomialNB.csv\", index=False)"
   ]
  },
  {
   "cell_type": "code",
   "execution_count": 17,
   "metadata": {},
   "outputs": [
    {
     "name": "stdout",
     "output_type": "stream",
     "text": [
      "Fitting 5 folds for each of 72 candidates, totalling 360 fits\n",
      "{'alpha': 0.5, 'binarize': 0.0, 'fit_prior': True}\n"
     ]
    }
   ],
   "source": [
    "param_grid = {\n",
    "    \"alpha\": [0.1, 0.5, 1.0, 2.0, 5.0, 10.0],\n",
    "    \"binarize\": [0.0, 0.5, 1.0, 2.0, 5.0, 10.0],\n",
    "    \"fit_prior\": [True, False]\n",
    "}\n",
    "\n",
    "nb_model = BernoulliNB()\n",
    "grid_search = GridSearchCV(estimator=nb_model, param_grid=param_grid, cv=5, n_jobs=-1, verbose=2)\n",
    "grid_search.fit(X_train, sentiments)\n",
    "\n",
    "print(grid_search.best_params_)"
   ]
  },
  {
   "cell_type": "code",
   "execution_count": 15,
   "metadata": {},
   "outputs": [],
   "source": [
    "best_params = {'alpha': 0.5, 'binarize': 0.0, 'fit_prior': True}"
   ]
  },
  {
   "cell_type": "code",
   "execution_count": 16,
   "metadata": {},
   "outputs": [
    {
     "name": "stdout",
     "output_type": "stream",
     "text": [
      "Accuracy: 0.8458\n",
      "Precision: 0.8641949593834618\n",
      "Recall: 0.8233776542964873\n",
      "F1 Score: 0.8432926829268294\n"
     ]
    }
   ],
   "source": [
    "nb_model = BernoulliNB(**best_params)\n",
    "nb_model.fit(X_train, y_train)\n",
    "\n",
    "y_pred = nb_model.predict(X_test)\n",
    "print(\"Accuracy:\", metrics.accuracy_score(y_test, y_pred))\n",
    "print(\"Precision:\", metrics.precision_score(y_test, y_pred))\n",
    "print(\"Recall:\", metrics.recall_score(y_test, y_pred))\n",
    "print(\"F1 Score:\", metrics.f1_score(y_test, y_pred))"
   ]
  },
  {
   "cell_type": "code",
   "execution_count": 17,
   "metadata": {},
   "outputs": [],
   "source": [
    "test_ds = pd.read_csv(\"datasets/test.csv\")\n",
    "test_ds[\"sentimiento\"] = nb_model.predict(vectorizador.transform(test_ds[\"review_es\"]))\n",
    "# convert \"sentimiento\" to \"positivo\" or \"negativo\"\n",
    "test_ds[\"sentimiento\"] = test_ds[\"sentimiento\"].apply(lambda x: \"positivo\" if x == 1 else \"negativo\")\n",
    "test_ds[[\"ID\",\"sentimiento\"]].to_csv(\"submissions/binomialNB_best.csv\", index=False)"
   ]
  },
  {
   "attachments": {},
   "cell_type": "markdown",
   "metadata": {},
   "source": [
    "## Pysentimiento"
   ]
  },
  {
   "cell_type": "code",
   "execution_count": 22,
   "metadata": {},
   "outputs": [],
   "source": [
    "transformers.logging.set_verbosity(transformers.logging.ERROR)\n",
    "analyzer = create_analyzer(task=\"sentiment\", lang=\"es\")"
   ]
  },
  {
   "cell_type": "code",
   "execution_count": 23,
   "metadata": {},
   "outputs": [
    {
     "name": "stdout",
     "output_type": "stream",
     "text": [
      "negativo\n"
     ]
    }
   ],
   "source": [
    "prediction = analyzer.predict(reviews[0])\n",
    "\n",
    "print(\"positivo\" if prediction.probas[\"POS\"] > prediction.probas[\"NEG\"] else \"negativo\")"
   ]
  },
  {
   "cell_type": "code",
   "execution_count": 24,
   "metadata": {},
   "outputs": [],
   "source": [
    "test_ds = pd.read_csv(\"datasets/test.csv\")\n",
    "reviews = test_ds[\"review_es\"].tolist()\n",
    "for i in range(len(reviews)):\n",
    "    prediction = analyzer.predict(reviews[i])\n",
    "    test_ds.loc[i, \"sentimiento\"] = \"positivo\" if prediction.probas[\"POS\"] > prediction.probas[\"NEG\"] else \"negativo\"\n",
    "\n",
    "test_ds[[\"ID\",\"sentimiento\"]].to_csv(\"submissions/pysentimiento.csv\", index=False)\n"
   ]
  },
  {
   "attachments": {},
   "cell_type": "markdown",
   "metadata": {},
   "source": [
    "## Random Forest"
   ]
  },
  {
   "cell_type": "code",
   "execution_count": 17,
   "metadata": {
    "scrolled": true
   },
   "outputs": [
    {
     "name": "stdout",
     "output_type": "stream",
     "text": [
      "Fitting 6 folds for each of 100 candidates, totalling 600 fits\n",
      "huggingface/tokenizers: The current process just got forked, after parallelism has already been used. Disabling parallelism to avoid deadlocks...\n",
      "To disable this warning, you can either:\n",
      "\t- Avoid using `tokenizers` before the fork if possible\n",
      "\t- Explicitly set the environment variable TOKENIZERS_PARALLELISM=(true | false)\n",
      "huggingface/tokenizers: The current process just got forked, after parallelism has already been used. Disabling parallelism to avoid deadlocks...\n",
      "To disable this warning, you can either:\n",
      "\t- Avoid using `tokenizers` before the fork if possible\n",
      "\t- Explicitly set the environment variable TOKENIZERS_PARALLELISM=(true | false)\n",
      "huggingface/tokenizers: The current process just got forked, after parallelism has already been used. Disabling parallelism to avoid deadlocks...\n",
      "To disable this warning, you can either:\n",
      "\t- Avoid using `tokenizers` before the fork if possible\n",
      "\t- Explicitly set the environment variable TOKENIZERS_PARALLELISM=(true | false)\n",
      "huggingface/tokenizers: The current process just got forked, after parallelism has already been used. Disabling parallelism to avoid deadlocks...\n",
      "To disable this warning, you can either:\n",
      "\t- Avoid using `tokenizers` before the fork if possible\n",
      "\t- Explicitly set the environment variable TOKENIZERS_PARALLELISM=(true | false)\n",
      "huggingface/tokenizers: The current process just got forked, after parallelism has already been used. Disabling parallelism to avoid deadlocks...\n",
      "To disable this warning, you can either:\n",
      "\t- Avoid using `tokenizers` before the fork if possible\n",
      "\t- Explicitly set the environment variable TOKENIZERS_PARALLELISM=(true | false)\n",
      "huggingface/tokenizers: The current process just got forked, after parallelism has already been used. Disabling parallelism to avoid deadlocks...\n",
      "To disable this warning, you can either:\n",
      "\t- Avoid using `tokenizers` before the fork if possible\n",
      "\t- Explicitly set the environment variable TOKENIZERS_PARALLELISM=(true | false)\n",
      "huggingface/tokenizers: The current process just got forked, after parallelism has already been used. Disabling parallelism to avoid deadlocks...\n",
      "To disable this warning, you can either:\n",
      "\t- Avoid using `tokenizers` before the fork if possible\n",
      "\t- Explicitly set the environment variable TOKENIZERS_PARALLELISM=(true | false)\n",
      "huggingface/tokenizers: The current process just got forked, after parallelism has already been used. Disabling parallelism to avoid deadlocks...\n",
      "To disable this warning, you can either:\n",
      "\t- Avoid using `tokenizers` before the fork if possible\n",
      "\t- Explicitly set the environment variable TOKENIZERS_PARALLELISM=(true | false)\n",
      "huggingface/tokenizers: The current process just got forked, after parallelism has already been used. Disabling parallelism to avoid deadlocks...\n",
      "To disable this warning, you can either:\n",
      "\t- Avoid using `tokenizers` before the fork if possible\n",
      "\t- Explicitly set the environment variable TOKENIZERS_PARALLELISM=(true | false)\n",
      "huggingface/tokenizers: The current process just got forked, after parallelism has already been used. Disabling parallelism to avoid deadlocks...\n",
      "To disable this warning, you can either:\n",
      "\t- Avoid using `tokenizers` before the fork if possible\n",
      "\t- Explicitly set the environment variable TOKENIZERS_PARALLELISM=(true | false)\n",
      "huggingface/tokenizers: The current process just got forked, after parallelism has already been used. Disabling parallelism to avoid deadlocks...\n",
      "To disable this warning, you can either:\n",
      "\t- Avoid using `tokenizers` before the fork if possible\n",
      "\t- Explicitly set the environment variable TOKENIZERS_PARALLELISM=(true | false)\n",
      "huggingface/tokenizers: The current process just got forked, after parallelism has already been used. Disabling parallelism to avoid deadlocks...\n",
      "To disable this warning, you can either:\n",
      "\t- Avoid using `tokenizers` before the fork if possible\n",
      "\t- Explicitly set the environment variable TOKENIZERS_PARALLELISM=(true | false)\n",
      "huggingface/tokenizers: The current process just got forked, after parallelism has already been used. Disabling parallelism to avoid deadlocks...\n",
      "To disable this warning, you can either:\n",
      "\t- Avoid using `tokenizers` before the fork if possible\n",
      "\t- Explicitly set the environment variable TOKENIZERS_PARALLELISM=(true | false)\n",
      "huggingface/tokenizers: The current process just got forked, after parallelism has already been used. Disabling parallelism to avoid deadlocks...\n",
      "To disable this warning, you can either:\n",
      "\t- Avoid using `tokenizers` before the fork if possible\n",
      "\t- Explicitly set the environment variable TOKENIZERS_PARALLELISM=(true | false)\n",
      "huggingface/tokenizers: The current process just got forked, after parallelism has already been used. Disabling parallelism to avoid deadlocks...\n",
      "To disable this warning, you can either:\n",
      "\t- Avoid using `tokenizers` before the fork if possible\n",
      "\t- Explicitly set the environment variable TOKENIZERS_PARALLELISM=(true | false)\n",
      "huggingface/tokenizers: The current process just got forked, after parallelism has already been used. Disabling parallelism to avoid deadlocks...\n",
      "To disable this warning, you can either:\n",
      "\t- Avoid using `tokenizers` before the fork if possible\n",
      "\t- Explicitly set the environment variable TOKENIZERS_PARALLELISM=(true | false)\n"
     ]
    },
    {
     "data": {
      "text/html": [
       "<style>#sk-container-id-1 {color: black;background-color: white;}#sk-container-id-1 pre{padding: 0;}#sk-container-id-1 div.sk-toggleable {background-color: white;}#sk-container-id-1 label.sk-toggleable__label {cursor: pointer;display: block;width: 100%;margin-bottom: 0;padding: 0.3em;box-sizing: border-box;text-align: center;}#sk-container-id-1 label.sk-toggleable__label-arrow:before {content: \"▸\";float: left;margin-right: 0.25em;color: #696969;}#sk-container-id-1 label.sk-toggleable__label-arrow:hover:before {color: black;}#sk-container-id-1 div.sk-estimator:hover label.sk-toggleable__label-arrow:before {color: black;}#sk-container-id-1 div.sk-toggleable__content {max-height: 0;max-width: 0;overflow: hidden;text-align: left;background-color: #f0f8ff;}#sk-container-id-1 div.sk-toggleable__content pre {margin: 0.2em;color: black;border-radius: 0.25em;background-color: #f0f8ff;}#sk-container-id-1 input.sk-toggleable__control:checked~div.sk-toggleable__content {max-height: 200px;max-width: 100%;overflow: auto;}#sk-container-id-1 input.sk-toggleable__control:checked~label.sk-toggleable__label-arrow:before {content: \"▾\";}#sk-container-id-1 div.sk-estimator input.sk-toggleable__control:checked~label.sk-toggleable__label {background-color: #d4ebff;}#sk-container-id-1 div.sk-label input.sk-toggleable__control:checked~label.sk-toggleable__label {background-color: #d4ebff;}#sk-container-id-1 input.sk-hidden--visually {border: 0;clip: rect(1px 1px 1px 1px);clip: rect(1px, 1px, 1px, 1px);height: 1px;margin: -1px;overflow: hidden;padding: 0;position: absolute;width: 1px;}#sk-container-id-1 div.sk-estimator {font-family: monospace;background-color: #f0f8ff;border: 1px dotted black;border-radius: 0.25em;box-sizing: border-box;margin-bottom: 0.5em;}#sk-container-id-1 div.sk-estimator:hover {background-color: #d4ebff;}#sk-container-id-1 div.sk-parallel-item::after {content: \"\";width: 100%;border-bottom: 1px solid gray;flex-grow: 1;}#sk-container-id-1 div.sk-label:hover label.sk-toggleable__label {background-color: #d4ebff;}#sk-container-id-1 div.sk-serial::before {content: \"\";position: absolute;border-left: 1px solid gray;box-sizing: border-box;top: 0;bottom: 0;left: 50%;z-index: 0;}#sk-container-id-1 div.sk-serial {display: flex;flex-direction: column;align-items: center;background-color: white;padding-right: 0.2em;padding-left: 0.2em;position: relative;}#sk-container-id-1 div.sk-item {position: relative;z-index: 1;}#sk-container-id-1 div.sk-parallel {display: flex;align-items: stretch;justify-content: center;background-color: white;position: relative;}#sk-container-id-1 div.sk-item::before, #sk-container-id-1 div.sk-parallel-item::before {content: \"\";position: absolute;border-left: 1px solid gray;box-sizing: border-box;top: 0;bottom: 0;left: 50%;z-index: -1;}#sk-container-id-1 div.sk-parallel-item {display: flex;flex-direction: column;z-index: 1;position: relative;background-color: white;}#sk-container-id-1 div.sk-parallel-item:first-child::after {align-self: flex-end;width: 50%;}#sk-container-id-1 div.sk-parallel-item:last-child::after {align-self: flex-start;width: 50%;}#sk-container-id-1 div.sk-parallel-item:only-child::after {width: 0;}#sk-container-id-1 div.sk-dashed-wrapped {border: 1px dashed gray;margin: 0 0.4em 0.5em 0.4em;box-sizing: border-box;padding-bottom: 0.4em;background-color: white;}#sk-container-id-1 div.sk-label label {font-family: monospace;font-weight: bold;display: inline-block;line-height: 1.2em;}#sk-container-id-1 div.sk-label-container {text-align: center;}#sk-container-id-1 div.sk-container {/* jupyter's `normalize.less` sets `[hidden] { display: none; }` but bootstrap.min.css set `[hidden] { display: none !important; }` so we also need the `!important` here to be able to override the default hidden behavior on the sphinx rendered scikit-learn.org. See: https://github.com/scikit-learn/scikit-learn/issues/21755 */display: inline-block !important;position: relative;}#sk-container-id-1 div.sk-text-repr-fallback {display: none;}</style><div id=\"sk-container-id-1\" class=\"sk-top-container\"><div class=\"sk-text-repr-fallback\"><pre>RandomizedSearchCV(cv=StratifiedKFold(n_splits=6, random_state=None, shuffle=False),\n",
       "                   estimator=RandomForestClassifier(random_state=42),\n",
       "                   n_iter=100, n_jobs=-1,\n",
       "                   param_distributions={&#x27;criterion&#x27;: [&#x27;gini&#x27;, &#x27;entropy&#x27;],\n",
       "                                        &#x27;max_depth&#x27;: [4, 5, 6, 7, 8],\n",
       "                                        &#x27;max_features&#x27;: [&#x27;sqrt&#x27;, &#x27;log2&#x27;],\n",
       "                                        &#x27;min_samples_leaf&#x27;: [1, 2, 4],\n",
       "                                        &#x27;min_samples_split&#x27;: [2, 5, 10],\n",
       "                                        &#x27;n_estimators&#x27;: [10, 100, 200, 300,\n",
       "                                                         500]},\n",
       "                   scoring=make_scorer(f1_score, zero_division=1), verbose=2)</pre><b>In a Jupyter environment, please rerun this cell to show the HTML representation or trust the notebook. <br />On GitHub, the HTML representation is unable to render, please try loading this page with nbviewer.org.</b></div><div class=\"sk-container\" hidden><div class=\"sk-item sk-dashed-wrapped\"><div class=\"sk-label-container\"><div class=\"sk-label sk-toggleable\"><input class=\"sk-toggleable__control sk-hidden--visually\" id=\"sk-estimator-id-1\" type=\"checkbox\" ><label for=\"sk-estimator-id-1\" class=\"sk-toggleable__label sk-toggleable__label-arrow\">RandomizedSearchCV</label><div class=\"sk-toggleable__content\"><pre>RandomizedSearchCV(cv=StratifiedKFold(n_splits=6, random_state=None, shuffle=False),\n",
       "                   estimator=RandomForestClassifier(random_state=42),\n",
       "                   n_iter=100, n_jobs=-1,\n",
       "                   param_distributions={&#x27;criterion&#x27;: [&#x27;gini&#x27;, &#x27;entropy&#x27;],\n",
       "                                        &#x27;max_depth&#x27;: [4, 5, 6, 7, 8],\n",
       "                                        &#x27;max_features&#x27;: [&#x27;sqrt&#x27;, &#x27;log2&#x27;],\n",
       "                                        &#x27;min_samples_leaf&#x27;: [1, 2, 4],\n",
       "                                        &#x27;min_samples_split&#x27;: [2, 5, 10],\n",
       "                                        &#x27;n_estimators&#x27;: [10, 100, 200, 300,\n",
       "                                                         500]},\n",
       "                   scoring=make_scorer(f1_score, zero_division=1), verbose=2)</pre></div></div></div><div class=\"sk-parallel\"><div class=\"sk-parallel-item\"><div class=\"sk-item\"><div class=\"sk-label-container\"><div class=\"sk-label sk-toggleable\"><input class=\"sk-toggleable__control sk-hidden--visually\" id=\"sk-estimator-id-2\" type=\"checkbox\" ><label for=\"sk-estimator-id-2\" class=\"sk-toggleable__label sk-toggleable__label-arrow\">estimator: RandomForestClassifier</label><div class=\"sk-toggleable__content\"><pre>RandomForestClassifier(random_state=42)</pre></div></div></div><div class=\"sk-serial\"><div class=\"sk-item\"><div class=\"sk-estimator sk-toggleable\"><input class=\"sk-toggleable__control sk-hidden--visually\" id=\"sk-estimator-id-3\" type=\"checkbox\" ><label for=\"sk-estimator-id-3\" class=\"sk-toggleable__label sk-toggleable__label-arrow\">RandomForestClassifier</label><div class=\"sk-toggleable__content\"><pre>RandomForestClassifier(random_state=42)</pre></div></div></div></div></div></div></div></div></div></div>"
      ],
      "text/plain": [
       "RandomizedSearchCV(cv=StratifiedKFold(n_splits=6, random_state=None, shuffle=False),\n",
       "                   estimator=RandomForestClassifier(random_state=42),\n",
       "                   n_iter=100, n_jobs=-1,\n",
       "                   param_distributions={'criterion': ['gini', 'entropy'],\n",
       "                                        'max_depth': [4, 5, 6, 7, 8],\n",
       "                                        'max_features': ['sqrt', 'log2'],\n",
       "                                        'min_samples_leaf': [1, 2, 4],\n",
       "                                        'min_samples_split': [2, 5, 10],\n",
       "                                        'n_estimators': [10, 100, 200, 300,\n",
       "                                                         500]},\n",
       "                   scoring=make_scorer(f1_score, zero_division=1), verbose=2)"
      ]
     },
     "execution_count": 17,
     "metadata": {},
     "output_type": "execute_result"
    }
   ],
   "source": [
    "#Random forest\n",
    "\n",
    "FOLDS = 6\n",
    "kfold = StratifiedKFold(n_splits=FOLDS)\n",
    "scorer_fn = make_scorer(f1_score, zero_division=1)\n",
    "\n",
    "hiperparametros = { \n",
    "    'n_estimators': [10, 100, 200, 300, 500],\n",
    "    'max_features': ['sqrt', 'log2'],\n",
    "    'max_depth' : [4, 5, 6, 7, 8],\n",
    "    'criterion' :['gini', 'entropy'],\n",
    "    'min_samples_split': [2, 5, 10],\n",
    "    'min_samples_leaf': [1, 2, 4]\n",
    "}\n",
    "\n",
    "rfc = RandomForestClassifier(random_state=42)\n",
    "\n",
    "gs = RandomizedSearchCV(rfc, hiperparametros, scoring=scorer_fn, cv=kfold, n_jobs=-1, verbose=2, n_iter=100)\n",
    "gs.fit(X_train, sentiments)"
   ]
  },
  {
   "cell_type": "code",
   "execution_count": 19,
   "metadata": {},
   "outputs": [
    {
     "name": "stdout",
     "output_type": "stream",
     "text": [
      "{'n_estimators': 500, 'min_samples_split': 2, 'min_samples_leaf': 1, 'max_features': 'sqrt', 'max_depth': 8, 'criterion': 'gini'}\n"
     ]
    }
   ],
   "source": [
    "print(gs.best_params_)"
   ]
  },
  {
   "cell_type": "code",
   "execution_count": 36,
   "metadata": {},
   "outputs": [
    {
     "data": {
      "text/plain": [
       "['models/randomforest.pkl']"
      ]
     },
     "execution_count": 36,
     "metadata": {},
     "output_type": "execute_result"
    }
   ],
   "source": [
    "best_params = {'n_estimators': 500, 'min_samples_split': 2, 'min_samples_leaf': 4, 'max_features': 'sqrt', 'max_depth': 8, 'criterion': 'gini'}\n",
    "\n",
    "rfc = RandomForestClassifier(**best_params)\n",
    "rfc.fit(X_train, y_train)\n",
    "joblib.dump(svm_classifier, f\"models/randomforest.pkl\")"
   ]
  },
  {
   "cell_type": "code",
   "execution_count": 28,
   "metadata": {},
   "outputs": [
    {
     "name": "stdout",
     "output_type": "stream",
     "text": [
      "Accuracy: 0.8261\n",
      "Precision: 0.810267017675818\n",
      "Recall: 0.8551299861083548\n",
      "F1 Score: 0.8320942357825625\n"
     ]
    }
   ],
   "source": [
    "y_pred = rfc.predict(X_test)\n",
    "print(\"Accuracy:\", metrics.accuracy_score(y_test, y_pred))\n",
    "print(\"Precision:\", metrics.precision_score(y_test, y_pred))\n",
    "print(\"Recall:\", metrics.recall_score(y_test, y_pred))\n",
    "print(\"F1 Score:\", metrics.f1_score(y_test, y_pred))"
   ]
  },
  {
   "cell_type": "code",
   "execution_count": 30,
   "metadata": {},
   "outputs": [],
   "source": [
    "test_ds = pd.read_csv(\"datasets/test.csv\")\n",
    "test_ds[\"sentimiento\"] = rfc.predict(vectorizador.transform(test_ds[\"review_es\"]))\n",
    "# convert \"sentimiento\" to \"positivo\" or \"negativo\"\n",
    "test_ds[\"sentimiento\"] = test_ds[\"sentimiento\"].apply(lambda x: \"positivo\" if x == 1 else \"negativo\")\n",
    "test_ds[[\"ID\",\"sentimiento\"]].to_csv(\"submissions/randomforest.csv\", index=False)"
   ]
  },
  {
   "attachments": {},
   "cell_type": "markdown",
   "metadata": {},
   "source": [
    "## Random forest con reviews sin stopwords"
   ]
  },
  {
   "cell_type": "code",
   "execution_count": 9,
   "metadata": {},
   "outputs": [
    {
     "name": "stdout",
     "output_type": "stream",
     "text": [
      "Fitting 10 folds for each of 100 candidates, totalling 1000 fits\n"
     ]
    },
    {
     "data": {
      "text/html": [
       "<style>#sk-container-id-1 {color: black;background-color: white;}#sk-container-id-1 pre{padding: 0;}#sk-container-id-1 div.sk-toggleable {background-color: white;}#sk-container-id-1 label.sk-toggleable__label {cursor: pointer;display: block;width: 100%;margin-bottom: 0;padding: 0.3em;box-sizing: border-box;text-align: center;}#sk-container-id-1 label.sk-toggleable__label-arrow:before {content: \"▸\";float: left;margin-right: 0.25em;color: #696969;}#sk-container-id-1 label.sk-toggleable__label-arrow:hover:before {color: black;}#sk-container-id-1 div.sk-estimator:hover label.sk-toggleable__label-arrow:before {color: black;}#sk-container-id-1 div.sk-toggleable__content {max-height: 0;max-width: 0;overflow: hidden;text-align: left;background-color: #f0f8ff;}#sk-container-id-1 div.sk-toggleable__content pre {margin: 0.2em;color: black;border-radius: 0.25em;background-color: #f0f8ff;}#sk-container-id-1 input.sk-toggleable__control:checked~div.sk-toggleable__content {max-height: 200px;max-width: 100%;overflow: auto;}#sk-container-id-1 input.sk-toggleable__control:checked~label.sk-toggleable__label-arrow:before {content: \"▾\";}#sk-container-id-1 div.sk-estimator input.sk-toggleable__control:checked~label.sk-toggleable__label {background-color: #d4ebff;}#sk-container-id-1 div.sk-label input.sk-toggleable__control:checked~label.sk-toggleable__label {background-color: #d4ebff;}#sk-container-id-1 input.sk-hidden--visually {border: 0;clip: rect(1px 1px 1px 1px);clip: rect(1px, 1px, 1px, 1px);height: 1px;margin: -1px;overflow: hidden;padding: 0;position: absolute;width: 1px;}#sk-container-id-1 div.sk-estimator {font-family: monospace;background-color: #f0f8ff;border: 1px dotted black;border-radius: 0.25em;box-sizing: border-box;margin-bottom: 0.5em;}#sk-container-id-1 div.sk-estimator:hover {background-color: #d4ebff;}#sk-container-id-1 div.sk-parallel-item::after {content: \"\";width: 100%;border-bottom: 1px solid gray;flex-grow: 1;}#sk-container-id-1 div.sk-label:hover label.sk-toggleable__label {background-color: #d4ebff;}#sk-container-id-1 div.sk-serial::before {content: \"\";position: absolute;border-left: 1px solid gray;box-sizing: border-box;top: 0;bottom: 0;left: 50%;z-index: 0;}#sk-container-id-1 div.sk-serial {display: flex;flex-direction: column;align-items: center;background-color: white;padding-right: 0.2em;padding-left: 0.2em;position: relative;}#sk-container-id-1 div.sk-item {position: relative;z-index: 1;}#sk-container-id-1 div.sk-parallel {display: flex;align-items: stretch;justify-content: center;background-color: white;position: relative;}#sk-container-id-1 div.sk-item::before, #sk-container-id-1 div.sk-parallel-item::before {content: \"\";position: absolute;border-left: 1px solid gray;box-sizing: border-box;top: 0;bottom: 0;left: 50%;z-index: -1;}#sk-container-id-1 div.sk-parallel-item {display: flex;flex-direction: column;z-index: 1;position: relative;background-color: white;}#sk-container-id-1 div.sk-parallel-item:first-child::after {align-self: flex-end;width: 50%;}#sk-container-id-1 div.sk-parallel-item:last-child::after {align-self: flex-start;width: 50%;}#sk-container-id-1 div.sk-parallel-item:only-child::after {width: 0;}#sk-container-id-1 div.sk-dashed-wrapped {border: 1px dashed gray;margin: 0 0.4em 0.5em 0.4em;box-sizing: border-box;padding-bottom: 0.4em;background-color: white;}#sk-container-id-1 div.sk-label label {font-family: monospace;font-weight: bold;display: inline-block;line-height: 1.2em;}#sk-container-id-1 div.sk-label-container {text-align: center;}#sk-container-id-1 div.sk-container {/* jupyter's `normalize.less` sets `[hidden] { display: none; }` but bootstrap.min.css set `[hidden] { display: none !important; }` so we also need the `!important` here to be able to override the default hidden behavior on the sphinx rendered scikit-learn.org. See: https://github.com/scikit-learn/scikit-learn/issues/21755 */display: inline-block !important;position: relative;}#sk-container-id-1 div.sk-text-repr-fallback {display: none;}</style><div id=\"sk-container-id-1\" class=\"sk-top-container\"><div class=\"sk-text-repr-fallback\"><pre>RandomizedSearchCV(cv=StratifiedKFold(n_splits=10, random_state=None, shuffle=False),\n",
       "                   estimator=RandomForestClassifier(), n_iter=100, n_jobs=-1,\n",
       "                   param_distributions={&#x27;criterion&#x27;: [&#x27;gini&#x27;, &#x27;entropy&#x27;],\n",
       "                                        &#x27;max_depth&#x27;: [4, 5, 6, 7, 8, 10],\n",
       "                                        &#x27;max_features&#x27;: [&#x27;sqrt&#x27;, &#x27;log2&#x27;],\n",
       "                                        &#x27;min_samples_leaf&#x27;: [1, 2, 4],\n",
       "                                        &#x27;min_samples_split&#x27;: [2, 5, 10],\n",
       "                                        &#x27;n_estimators&#x27;: [10, 100, 200, 300,\n",
       "                                                         500]},\n",
       "                   scoring=make_scorer(f1_score, zero_division=1), verbose=2)</pre><b>In a Jupyter environment, please rerun this cell to show the HTML representation or trust the notebook. <br />On GitHub, the HTML representation is unable to render, please try loading this page with nbviewer.org.</b></div><div class=\"sk-container\" hidden><div class=\"sk-item sk-dashed-wrapped\"><div class=\"sk-label-container\"><div class=\"sk-label sk-toggleable\"><input class=\"sk-toggleable__control sk-hidden--visually\" id=\"sk-estimator-id-1\" type=\"checkbox\" ><label for=\"sk-estimator-id-1\" class=\"sk-toggleable__label sk-toggleable__label-arrow\">RandomizedSearchCV</label><div class=\"sk-toggleable__content\"><pre>RandomizedSearchCV(cv=StratifiedKFold(n_splits=10, random_state=None, shuffle=False),\n",
       "                   estimator=RandomForestClassifier(), n_iter=100, n_jobs=-1,\n",
       "                   param_distributions={&#x27;criterion&#x27;: [&#x27;gini&#x27;, &#x27;entropy&#x27;],\n",
       "                                        &#x27;max_depth&#x27;: [4, 5, 6, 7, 8, 10],\n",
       "                                        &#x27;max_features&#x27;: [&#x27;sqrt&#x27;, &#x27;log2&#x27;],\n",
       "                                        &#x27;min_samples_leaf&#x27;: [1, 2, 4],\n",
       "                                        &#x27;min_samples_split&#x27;: [2, 5, 10],\n",
       "                                        &#x27;n_estimators&#x27;: [10, 100, 200, 300,\n",
       "                                                         500]},\n",
       "                   scoring=make_scorer(f1_score, zero_division=1), verbose=2)</pre></div></div></div><div class=\"sk-parallel\"><div class=\"sk-parallel-item\"><div class=\"sk-item\"><div class=\"sk-label-container\"><div class=\"sk-label sk-toggleable\"><input class=\"sk-toggleable__control sk-hidden--visually\" id=\"sk-estimator-id-2\" type=\"checkbox\" ><label for=\"sk-estimator-id-2\" class=\"sk-toggleable__label sk-toggleable__label-arrow\">estimator: RandomForestClassifier</label><div class=\"sk-toggleable__content\"><pre>RandomForestClassifier()</pre></div></div></div><div class=\"sk-serial\"><div class=\"sk-item\"><div class=\"sk-estimator sk-toggleable\"><input class=\"sk-toggleable__control sk-hidden--visually\" id=\"sk-estimator-id-3\" type=\"checkbox\" ><label for=\"sk-estimator-id-3\" class=\"sk-toggleable__label sk-toggleable__label-arrow\">RandomForestClassifier</label><div class=\"sk-toggleable__content\"><pre>RandomForestClassifier()</pre></div></div></div></div></div></div></div></div></div></div>"
      ],
      "text/plain": [
       "RandomizedSearchCV(cv=StratifiedKFold(n_splits=10, random_state=None, shuffle=False),\n",
       "                   estimator=RandomForestClassifier(), n_iter=100, n_jobs=-1,\n",
       "                   param_distributions={'criterion': ['gini', 'entropy'],\n",
       "                                        'max_depth': [4, 5, 6, 7, 8, 10],\n",
       "                                        'max_features': ['sqrt', 'log2'],\n",
       "                                        'min_samples_leaf': [1, 2, 4],\n",
       "                                        'min_samples_split': [2, 5, 10],\n",
       "                                        'n_estimators': [10, 100, 200, 300,\n",
       "                                                         500]},\n",
       "                   scoring=make_scorer(f1_score, zero_division=1), verbose=2)"
      ]
     },
     "execution_count": 9,
     "metadata": {},
     "output_type": "execute_result"
    }
   ],
   "source": [
    "# Usamos k fold cross validation\n",
    "FOLDS = 10\n",
    "kfold = StratifiedKFold(n_splits=FOLDS)\n",
    "scorer_fn = make_scorer(f1_score, zero_division=1)\n",
    "\n",
    "hiperparametros = { \n",
    "    'n_estimators': [10, 100, 200, 300, 500],\n",
    "    'max_features': ['sqrt', 'log2'],\n",
    "    'max_depth' : [4, 5, 6, 7, 8, 10],\n",
    "    'criterion' :['gini', 'entropy'],\n",
    "    'min_samples_split': [2, 5, 10],\n",
    "    'min_samples_leaf': [1, 2, 4]\n",
    "}\n",
    "\n",
    "# Creacion del modelo\n",
    "rfc = RandomForestClassifier()\n",
    "\n",
    "# Busqueda de hiperparametros\n",
    "rs = RandomizedSearchCV(rfc, hiperparametros, scoring=scorer_fn, cv=kfold, n_jobs=-1, verbose=2, n_iter=100)\n",
    "rs.fit(X_train, y_train)"
   ]
  },
  {
   "cell_type": "code",
   "execution_count": 10,
   "metadata": {},
   "outputs": [
    {
     "name": "stdout",
     "output_type": "stream",
     "text": [
      "{'n_estimators': 500, 'min_samples_split': 2, 'min_samples_leaf': 1, 'max_features': 'sqrt', 'max_depth': 10, 'criterion': 'gini'}\n"
     ]
    }
   ],
   "source": [
    "print(rs.best_params_)"
   ]
  },
  {
   "cell_type": "code",
   "execution_count": 11,
   "metadata": {},
   "outputs": [],
   "source": [
    "# Guardamos los mejores parametros\n",
    "best_params = {'n_estimators': 500, 'min_samples_split': 2, 'min_samples_leaf': 1, 'max_features': 'sqrt', 'max_depth': 10, 'criterion': 'gini'}"
   ]
  },
  {
   "cell_type": "code",
   "execution_count": 28,
   "metadata": {},
   "outputs": [],
   "source": [
    "best_rf = RandomForestClassifier(**best_params)\n",
    "best_rf.fit(X_train, y_train)\n",
    "y_pred = best_rf.predict(X_test)"
   ]
  },
  {
   "cell_type": "code",
   "execution_count": 29,
   "metadata": {},
   "outputs": [
    {
     "name": "stdout",
     "output_type": "stream",
     "text": [
      "Accuracy: 0.83\n",
      "Precision: 0.806949806949807\n",
      "Recall: 0.8710061520142885\n",
      "F1 Score: 0.8377552968123687\n"
     ]
    }
   ],
   "source": [
    "# Metricas sin stop words 2\n",
    "# Este no subimos a kaggle porque era mejor el modelo sin stop words 1\n",
    "print(\"Accuracy:\", metrics.accuracy_score(y_test, y_pred))\n",
    "print(\"Precision:\", metrics.precision_score(y_test, y_pred))\n",
    "print(\"Recall:\", metrics.recall_score(y_test, y_pred))\n",
    "print(\"F1 Score:\", metrics.f1_score(y_test, y_pred))"
   ]
  },
  {
   "cell_type": "code",
   "execution_count": 14,
   "metadata": {},
   "outputs": [
    {
     "name": "stdout",
     "output_type": "stream",
     "text": [
      "Accuracy: 0.8334\n",
      "Precision: 0.8113346870961787\n",
      "Recall: 0.8721968644572335\n",
      "F1 Score: 0.8406656465187453\n"
     ]
    }
   ],
   "source": [
    "# Metricas sin stop words 1\n",
    "print(\"Accuracy:\", metrics.accuracy_score(y_test, y_pred))\n",
    "print(\"Precision:\", metrics.precision_score(y_test, y_pred))\n",
    "print(\"Recall:\", metrics.recall_score(y_test, y_pred))\n",
    "print(\"F1 Score:\", metrics.f1_score(y_test, y_pred))"
   ]
  },
  {
   "cell_type": "code",
   "execution_count": 15,
   "metadata": {},
   "outputs": [
    {
     "data": {
      "text/plain": [
       "Text(50.722222222222214, 0.5, 'True')"
      ]
     },
     "execution_count": 15,
     "metadata": {},
     "output_type": "execute_result"
    },
    {
     "data": {
      "image/png": "[encoded data removed]",
      "text/plain": [
       "<Figure size 640x480 with 2 Axes>"
      ]
     },
     "metadata": {},
     "output_type": "display_data"
    }
   ],
   "source": [
    "from sklearn.metrics import confusion_matrix\n",
    "import matplotlib.pyplot as plt\n",
    "import seaborn as sns\n",
    "\n",
    "#Creo matriz de confusión\n",
    "tabla=confusion_matrix(y_test,y_pred)\n",
    "\n",
    "#Grafico matriz de confusión\n",
    "sns.heatmap(tabla, cmap='Blues',annot=True,fmt='g')\n",
    "plt.xlabel('Predicted')\n",
    "plt.ylabel('True')"
   ]
  },
  {
   "cell_type": "code",
   "execution_count": 18,
   "metadata": {},
   "outputs": [],
   "source": [
    "test_ds = pd.read_csv(\"datasets/test.csv\")\n",
    "test_ds[\"sentimiento\"] = best_rf.predict(vectorizador.transform(test_ds[\"review_es\"]))\n",
    "# convert \"sentimiento\" to \"positivo\" or \"negativo\"\n",
    "test_ds[\"sentimiento\"] = test_ds[\"sentimiento\"].apply(lambda x: \"positivo\" if x == 1 else \"negativo\")\n",
    "test_ds[[\"ID\",\"sentimiento\"]].to_csv(\"submissions/randomforest2.csv\", index=False)"
   ]
  },
  {
   "cell_type": "code",
   "execution_count": 19,
   "metadata": {},
   "outputs": [
    {
     "data": {
      "text/plain": [
       "['models/randomforest2.pkl']"
      ]
     },
     "execution_count": 19,
     "metadata": {},
     "output_type": "execute_result"
    }
   ],
   "source": [
    "joblib.dump(best_rf, f\"models/randomforest2.pkl\")"
   ]
  },
  {
   "attachments": {},
   "cell_type": "markdown",
   "metadata": {},
   "source": [
    "## XGBoost"
   ]
  },
  {
   "cell_type": "code",
   "execution_count": 15,
   "metadata": {
    "scrolled": true
   },
   "outputs": [
    {
     "name": "stdout",
     "output_type": "stream",
     "text": [
      "Fitting 6 folds for each of 100 candidates, totalling 600 fits\n",
      "[CV] END colsample_bytree=0.8, gamma=0, learning_rate=0.1, max_depth=7, min_child_weight=1, n_estimators=300, subsample=0.9; total time= 8.8min\n",
      "[CV] END colsample_bytree=0.5, gamma=0.4, learning_rate=0.01, max_depth=7, min_child_weight=3, n_estimators=300, subsample=0.8; total time= 7.6min\n",
      "[CV] END colsample_bytree=0.8, gamma=0.3, learning_rate=0.3, max_depth=8, min_child_weight=4, n_estimators=500, subsample=0.6; total time=15.4min\n",
      "[CV] END colsample_bytree=0.6, gamma=0.2, learning_rate=0.05, max_depth=6, min_child_weight=5, n_estimators=300, subsample=0.9; total time= 7.5min\n",
      "[CV] END colsample_bytree=0.8, gamma=0, learning_rate=0.05, max_depth=5, min_child_weight=5, n_estimators=500, subsample=0.6; total time=13.0min\n",
      "[CV] END colsample_bytree=0.9, gamma=0.2, learning_rate=0.01, max_depth=7, min_child_weight=2, n_estimators=500, subsample=0.6; total time=16.0min\n",
      "[CV] END colsample_bytree=0.6, gamma=0.2, learning_rate=0.05, max_depth=6, min_child_weight=5, n_estimators=100, subsample=0.7; total time= 2.5min\n",
      "[CV] END colsample_bytree=0.6, gamma=0.4, learning_rate=0.05, max_depth=8, min_child_weight=2, n_estimators=200, subsample=0.5; total time= 5.7min\n",
      "[CV] END colsample_bytree=0.7, gamma=0, learning_rate=0.05, max_depth=8, min_child_weight=4, n_estimators=300, subsample=0.9; total time= 8.7min\n",
      "[CV] END colsample_bytree=0.6, gamma=0.1, learning_rate=0.1, max_depth=8, min_child_weight=4, n_estimators=10, subsample=0.5; total time=  16.8s\n",
      "[CV] END colsample_bytree=0.6, gamma=0.1, learning_rate=0.1, max_depth=8, min_child_weight=4, n_estimators=10, subsample=0.5; total time=  15.8s\n",
      "[CV] END colsample_bytree=0.6, gamma=0.1, learning_rate=0.1, max_depth=8, min_child_weight=4, n_estimators=10, subsample=0.5; total time=  15.6s\n",
      "[CV] END colsample_bytree=0.7, gamma=0.2, learning_rate=0.05, max_depth=7, min_child_weight=4, n_estimators=200, subsample=0.7; total time= 5.4min\n",
      "[CV] END colsample_bytree=0.8, gamma=0.3, learning_rate=0.3, max_depth=6, min_child_weight=1, n_estimators=500, subsample=0.8; total time=12.9min\n",
      "[CV] END colsample_bytree=0.8, gamma=0.1, learning_rate=0.2, max_depth=7, min_child_weight=2, n_estimators=100, subsample=0.5; total time= 2.8min\n",
      "[CV] END colsample_bytree=0.7, gamma=0.3, learning_rate=0.05, max_depth=6, min_child_weight=3, n_estimators=300, subsample=0.9; total time= 7.5min\n",
      "[CV] END colsample_bytree=0.5, gamma=0.3, learning_rate=0.2, max_depth=8, min_child_weight=1, n_estimators=200, subsample=0.5; total time= 4.9min\n",
      "[CV] END colsample_bytree=0.8, gamma=0, learning_rate=0.05, max_depth=8, min_child_weight=3, n_estimators=100, subsample=0.6; total time= 3.1min\n",
      "[CV] END colsample_bytree=0.5, gamma=0.2, learning_rate=0.05, max_depth=7, min_child_weight=2, n_estimators=500, subsample=0.7; total time=12.4min\n",
      "[CV] END colsample_bytree=0.6, gamma=0.2, learning_rate=0.3, max_depth=8, min_child_weight=4, n_estimators=10, subsample=0.5; total time=  16.4s\n",
      "[CV] END colsample_bytree=0.7, gamma=0, learning_rate=0.2, max_depth=7, min_child_weight=4, n_estimators=100, subsample=0.8; total time= 2.6min\n",
      "[CV] END colsample_bytree=0.5, gamma=0.3, learning_rate=0.2, max_depth=4, min_child_weight=4, n_estimators=10, subsample=0.7; total time=  11.7s\n",
      "[CV] END colsample_bytree=0.5, gamma=0.3, learning_rate=0.2, max_depth=4, min_child_weight=4, n_estimators=10, subsample=0.7; total time=  11.9s\n",
      "[CV] END colsample_bytree=0.6, gamma=0.2, learning_rate=0.3, max_depth=8, min_child_weight=1, n_estimators=100, subsample=0.6; total time= 2.8min\n",
      "[CV] END colsample_bytree=0.6, gamma=0.2, learning_rate=0.3, max_depth=8, min_child_weight=1, n_estimators=100, subsample=0.6; total time= 2.8min\n",
      "[CV] END colsample_bytree=0.7, gamma=0, learning_rate=0.05, max_depth=4, min_child_weight=3, n_estimators=10, subsample=0.8; total time=  13.7s\n",
      "[CV] END colsample_bytree=0.7, gamma=0, learning_rate=0.05, max_depth=4, min_child_weight=3, n_estimators=10, subsample=0.8; total time=  14.6s\n",
      "[CV] END colsample_bytree=0.6, gamma=0.4, learning_rate=0.01, max_depth=7, min_child_weight=1, n_estimators=500, subsample=0.5; total time=13.6min\n",
      "[CV] END colsample_bytree=0.9, gamma=0.3, learning_rate=0.3, max_depth=5, min_child_weight=4, n_estimators=100, subsample=0.7; total time= 2.7min\n",
      "[CV] END colsample_bytree=0.7, gamma=0.4, learning_rate=0.01, max_depth=7, min_child_weight=3, n_estimators=300, subsample=0.9; total time= 8.4min\n",
      "[CV] END colsample_bytree=0.9, gamma=0.2, learning_rate=0.1, max_depth=7, min_child_weight=2, n_estimators=500, subsample=0.6; total time=14.8min\n",
      "[CV] END colsample_bytree=0.5, gamma=0.1, learning_rate=0.05, max_depth=5, min_child_weight=2, n_estimators=300, subsample=0.9; total time= 6.4min\n",
      "[CV] END colsample_bytree=0.9, gamma=0, learning_rate=0.05, max_depth=4, min_child_weight=3, n_estimators=10, subsample=0.9; total time=  13.9s\n",
      "[CV] END colsample_bytree=0.5, gamma=0.4, learning_rate=0.1, max_depth=8, min_child_weight=3, n_estimators=10, subsample=0.8; total time=  15.6s\n",
      "[CV] END colsample_bytree=0.5, gamma=0.4, learning_rate=0.1, max_depth=8, min_child_weight=3, n_estimators=10, subsample=0.8; total time=  15.4s\n",
      "[CV] END colsample_bytree=0.9, gamma=0.2, learning_rate=0.3, max_depth=4, min_child_weight=4, n_estimators=500, subsample=0.5; total time=11.8min\n",
      "[CV] END colsample_bytree=0.9, gamma=0.2, learning_rate=0.01, max_depth=6, min_child_weight=2, n_estimators=100, subsample=0.6; total time= 2.9min\n",
      "[CV] END colsample_bytree=0.6, gamma=0.3, learning_rate=0.1, max_depth=4, min_child_weight=1, n_estimators=200, subsample=0.7; total time= 4.3min\n",
      "[CV] END colsample_bytree=0.9, gamma=0.3, learning_rate=0.3, max_depth=6, min_child_weight=4, n_estimators=10, subsample=0.8; total time=  17.0s\n",
      "[CV] END colsample_bytree=0.5, gamma=0, learning_rate=0.1, max_depth=6, min_child_weight=4, n_estimators=200, subsample=0.6; total time= 4.5min\n",
      "[CV] END colsample_bytree=0.5, gamma=0.3, learning_rate=0.1, max_depth=6, min_child_weight=2, n_estimators=100, subsample=0.7; total time= 2.4min\n",
      "[CV] END colsample_bytree=0.5, gamma=0.4, learning_rate=0.01, max_depth=7, min_child_weight=3, n_estimators=300, subsample=0.8; total time= 7.5min\n",
      "[CV] END colsample_bytree=0.6, gamma=0, learning_rate=0.3, max_depth=6, min_child_weight=4, n_estimators=300, subsample=0.8; total time= 7.1min\n",
      "[CV] END colsample_bytree=0.6, gamma=0.4, learning_rate=0.05, max_depth=4, min_child_weight=2, n_estimators=200, subsample=0.7; total time= 4.4min\n",
      "[CV] END colsample_bytree=0.8, gamma=0.2, learning_rate=0.3, max_depth=7, min_child_weight=4, n_estimators=10, subsample=0.6; total time=  17.8s\n",
      "[CV] END colsample_bytree=0.8, gamma=0.2, learning_rate=0.3, max_depth=7, min_child_weight=4, n_estimators=10, subsample=0.6; total time=  17.8s\n",
      "[CV] END colsample_bytree=0.8, gamma=0.2, learning_rate=0.3, max_depth=7, min_child_weight=4, n_estimators=10, subsample=0.6; total time=  17.2s\n",
      "[CV] END colsample_bytree=0.5, gamma=0.1, learning_rate=0.3, max_depth=5, min_child_weight=3, n_estimators=100, subsample=0.6; total time= 2.3min\n",
      "[CV] END colsample_bytree=0.5, gamma=0.1, learning_rate=0.3, max_depth=5, min_child_weight=3, n_estimators=100, subsample=0.6; total time= 2.1min\n",
      "[CV] END colsample_bytree=0.8, gamma=0.4, learning_rate=0.2, max_depth=4, min_child_weight=1, n_estimators=100, subsample=0.5; total time= 2.4min\n",
      "[CV] END colsample_bytree=0.8, gamma=0.2, learning_rate=0.2, max_depth=5, min_child_weight=1, n_estimators=100, subsample=0.7; total time= 2.6min\n",
      "[CV] END colsample_bytree=0.8, gamma=0.2, learning_rate=0.2, max_depth=5, min_child_weight=1, n_estimators=100, subsample=0.7; total time= 2.7min\n",
      "[CV] END colsample_bytree=0.6, gamma=0.2, learning_rate=0.01, max_depth=5, min_child_weight=5, n_estimators=200, subsample=0.5; total time= 4.9min\n",
      "[CV] END colsample_bytree=0.9, gamma=0.2, learning_rate=0.1, max_depth=4, min_child_weight=1, n_estimators=100, subsample=0.8; total time= 2.4min\n",
      "[CV] END colsample_bytree=0.9, gamma=0.2, learning_rate=0.1, max_depth=4, min_child_weight=1, n_estimators=100, subsample=0.8; total time= 2.5min\n",
      "[CV] END colsample_bytree=0.6, gamma=0.3, learning_rate=0.1, max_depth=7, min_child_weight=5, n_estimators=200, subsample=0.8; total time= 5.3min\n",
      "[CV] END colsample_bytree=0.9, gamma=0.2, learning_rate=0.01, max_depth=7, min_child_weight=2, n_estimators=500, subsample=0.6; total time=16.2min\n",
      "[CV] END colsample_bytree=0.8, gamma=0.1, learning_rate=0.1, max_depth=4, min_child_weight=3, n_estimators=300, subsample=0.7; total time= 7.1min\n",
      "[CV] END colsample_bytree=0.7, gamma=0, learning_rate=0.05, max_depth=8, min_child_weight=4, n_estimators=300, subsample=0.9; total time= 8.8min\n",
      "[CV] END colsample_bytree=0.6, gamma=0.1, learning_rate=0.1, max_depth=8, min_child_weight=4, n_estimators=10, subsample=0.5; total time=  16.7s\n",
      "[CV] END colsample_bytree=0.7, gamma=0.2, learning_rate=0.05, max_depth=7, min_child_weight=4, n_estimators=200, subsample=0.7; total time= 5.7min\n",
      "[CV] END colsample_bytree=0.8, gamma=0.3, learning_rate=0.3, max_depth=6, min_child_weight=1, n_estimators=500, subsample=0.8; total time=13.8min\n",
      "[CV] END colsample_bytree=0.8, gamma=0.1, learning_rate=0.2, max_depth=7, min_child_weight=2, n_estimators=100, subsample=0.5; total time= 2.9min\n",
      "[CV] END colsample_bytree=0.8, gamma=0, learning_rate=0.1, max_depth=7, min_child_weight=5, n_estimators=200, subsample=0.8; total time= 5.9min\n",
      "[CV] END colsample_bytree=0.5, gamma=0.3, learning_rate=0.2, max_depth=8, min_child_weight=1, n_estimators=200, subsample=0.5; total time= 5.2min\n",
      "[CV] END colsample_bytree=0.8, gamma=0, learning_rate=0.05, max_depth=8, min_child_weight=3, n_estimators=100, subsample=0.6; total time= 3.0min\n",
      "[CV] END colsample_bytree=0.5, gamma=0.2, learning_rate=0.05, max_depth=7, min_child_weight=2, n_estimators=500, subsample=0.7; total time=12.6min\n",
      "[CV] END colsample_bytree=0.9, gamma=0.4, learning_rate=0.2, max_depth=6, min_child_weight=3, n_estimators=100, subsample=0.6; total time= 2.8min\n",
      "[CV] END colsample_bytree=0.9, gamma=0.3, learning_rate=0.2, max_depth=7, min_child_weight=5, n_estimators=200, subsample=0.7; total time= 6.2min\n",
      "[CV] END colsample_bytree=0.7, gamma=0, learning_rate=0.05, max_depth=4, min_child_weight=3, n_estimators=10, subsample=0.8; total time=  13.4s\n",
      "[CV] END colsample_bytree=0.7, gamma=0, learning_rate=0.05, max_depth=4, min_child_weight=3, n_estimators=10, subsample=0.8; total time=  12.6s\n",
      "[CV] END colsample_bytree=0.6, gamma=0.4, learning_rate=0.01, max_depth=7, min_child_weight=1, n_estimators=500, subsample=0.5; total time=13.0min\n",
      "[CV] END colsample_bytree=0.5, gamma=0.4, learning_rate=0.1, max_depth=4, min_child_weight=4, n_estimators=100, subsample=0.5; total time= 2.2min\n",
      "[CV] END colsample_bytree=0.7, gamma=0.4, learning_rate=0.05, max_depth=5, min_child_weight=3, n_estimators=10, subsample=0.6; total time=  14.7s\n",
      "[CV] END colsample_bytree=0.7, gamma=0.4, learning_rate=0.05, max_depth=5, min_child_weight=3, n_estimators=10, subsample=0.6; total time=  14.9s\n",
      "[CV] END colsample_bytree=0.7, gamma=0.4, learning_rate=0.01, max_depth=7, min_child_weight=3, n_estimators=300, subsample=0.9; total time= 8.5min\n",
      "[CV] END colsample_bytree=0.8, gamma=0.3, learning_rate=0.1, max_depth=6, min_child_weight=4, n_estimators=300, subsample=0.6; total time= 8.2min\n",
      "[CV] END colsample_bytree=0.9, gamma=0, learning_rate=0.2, max_depth=5, min_child_weight=1, n_estimators=100, subsample=0.5; total time= 2.7min\n",
      "[CV] END colsample_bytree=0.6, gamma=0.1, learning_rate=0.2, max_depth=6, min_child_weight=5, n_estimators=100, subsample=0.7; total time= 2.5min\n",
      "[CV] END colsample_bytree=0.9, gamma=0, learning_rate=0.3, max_depth=6, min_child_weight=5, n_estimators=200, subsample=0.8; total time= 5.6min\n",
      "[CV] END colsample_bytree=0.8, gamma=0.2, learning_rate=0.01, max_depth=6, min_child_weight=3, n_estimators=200, subsample=0.9; total time= 5.5min\n",
      "[CV] END colsample_bytree=0.9, gamma=0.2, learning_rate=0.3, max_depth=4, min_child_weight=4, n_estimators=500, subsample=0.5; total time=12.4min\n",
      "[CV] END colsample_bytree=0.6, gamma=0.3, learning_rate=0.1, max_depth=4, min_child_weight=1, n_estimators=200, subsample=0.7; total time= 4.6min\n",
      "[CV] END colsample_bytree=0.9, gamma=0.3, learning_rate=0.3, max_depth=6, min_child_weight=4, n_estimators=10, subsample=0.8; total time=  17.1s\n",
      "[CV] END colsample_bytree=0.5, gamma=0, learning_rate=0.1, max_depth=6, min_child_weight=4, n_estimators=200, subsample=0.6; total time= 4.4min\n",
      "[CV] END colsample_bytree=0.5, gamma=0.3, learning_rate=0.1, max_depth=6, min_child_weight=2, n_estimators=100, subsample=0.7; total time= 2.3min\n",
      "[CV] END colsample_bytree=0.5, gamma=0.3, learning_rate=0.1, max_depth=6, min_child_weight=2, n_estimators=100, subsample=0.7; total time= 2.3min\n",
      "[CV] END colsample_bytree=0.9, gamma=0, learning_rate=0.2, max_depth=8, min_child_weight=5, n_estimators=500, subsample=0.7; total time=15.6min\n",
      "[CV] END colsample_bytree=0.6, gamma=0.4, learning_rate=0.05, max_depth=4, min_child_weight=2, n_estimators=200, subsample=0.7; total time= 4.1min\n",
      "[CV] END colsample_bytree=0.5, gamma=0.1, learning_rate=0.3, max_depth=5, min_child_weight=3, n_estimators=100, subsample=0.6; total time= 2.1min\n",
      "[CV] END colsample_bytree=0.8, gamma=0.1, learning_rate=0.2, max_depth=6, min_child_weight=2, n_estimators=300, subsample=0.6; total time= 8.1min\n",
      "[CV] END colsample_bytree=0.6, gamma=0.2, learning_rate=0.01, max_depth=5, min_child_weight=5, n_estimators=200, subsample=0.5; total time= 4.8min\n",
      "[CV] END colsample_bytree=0.9, gamma=0.2, learning_rate=0.1, max_depth=4, min_child_weight=1, n_estimators=100, subsample=0.8; total time= 2.5min\n",
      "[CV] END colsample_bytree=0.9, gamma=0.3, learning_rate=0.05, max_depth=4, min_child_weight=1, n_estimators=100, subsample=0.6; total time= 2.6min\n",
      "[CV] END colsample_bytree=0.6, gamma=0.3, learning_rate=0.1, max_depth=7, min_child_weight=5, n_estimators=200, subsample=0.8; total time= 5.3min\n",
      "[CV] END colsample_bytree=0.9, gamma=0.4, learning_rate=0.05, max_depth=7, min_child_weight=4, n_estimators=200, subsample=0.5; total time= 5.9min\n",
      "[CV] END colsample_bytree=0.7, gamma=0.2, learning_rate=0.2, max_depth=4, min_child_weight=1, n_estimators=300, subsample=0.7; total time= 6.8min\n",
      "[CV] END colsample_bytree=0.7, gamma=0.2, learning_rate=0.2, max_depth=8, min_child_weight=4, n_estimators=500, subsample=0.9; total time=14.0min\n",
      "[CV] END colsample_bytree=0.8, gamma=0.4, learning_rate=0.05, max_depth=7, min_child_weight=3, n_estimators=300, subsample=0.6; total time= 8.8min\n",
      "[CV] END colsample_bytree=0.8, gamma=0.3, learning_rate=0.3, max_depth=6, min_child_weight=1, n_estimators=500, subsample=0.8; total time=13.8min\n",
      "[CV] END colsample_bytree=0.9, gamma=0.4, learning_rate=0.05, max_depth=4, min_child_weight=4, n_estimators=10, subsample=0.5; total time=  14.2s\n",
      "[CV] END colsample_bytree=0.6, gamma=0.4, learning_rate=0.05, max_depth=7, min_child_weight=2, n_estimators=10, subsample=0.8; total time=  17.0s\n",
      "[CV] END colsample_bytree=0.6, gamma=0.4, learning_rate=0.05, max_depth=7, min_child_weight=2, n_estimators=10, subsample=0.8; total time=  15.8s\n",
      "[CV] END colsample_bytree=0.6, gamma=0.4, learning_rate=0.05, max_depth=7, min_child_weight=2, n_estimators=10, subsample=0.8; total time=  15.5s\n",
      "[CV] END colsample_bytree=0.8, gamma=0.1, learning_rate=0.2, max_depth=7, min_child_weight=2, n_estimators=100, subsample=0.5; total time= 2.9min\n",
      "[CV] END colsample_bytree=0.7, gamma=0.3, learning_rate=0.05, max_depth=6, min_child_weight=3, n_estimators=300, subsample=0.9; total time= 8.0min\n",
      "[CV] END colsample_bytree=0.8, gamma=0, learning_rate=0.05, max_depth=8, min_child_weight=2, n_estimators=500, subsample=0.9; total time=15.3min\n",
      "[CV] END colsample_bytree=0.7, gamma=0.4, learning_rate=0.05, max_depth=8, min_child_weight=3, n_estimators=10, subsample=0.5; total time=  16.7s\n",
      "[CV] END colsample_bytree=0.7, gamma=0.4, learning_rate=0.05, max_depth=8, min_child_weight=3, n_estimators=10, subsample=0.5; total time=  17.7s\n",
      "[CV] END colsample_bytree=0.7, gamma=0.4, learning_rate=0.05, max_depth=8, min_child_weight=3, n_estimators=10, subsample=0.5; total time=  17.9s\n",
      "[CV] END colsample_bytree=0.9, gamma=0.4, learning_rate=0.2, max_depth=6, min_child_weight=2, n_estimators=10, subsample=0.9; total time=  16.3s\n",
      "[CV] END colsample_bytree=0.9, gamma=0.4, learning_rate=0.2, max_depth=6, min_child_weight=2, n_estimators=10, subsample=0.9; total time=  16.5s\n",
      "[CV] END colsample_bytree=0.5, gamma=0.4, learning_rate=0.1, max_depth=5, min_child_weight=1, n_estimators=10, subsample=0.8; total time=  12.7s\n",
      "[CV] END colsample_bytree=0.6, gamma=0.4, learning_rate=0.01, max_depth=7, min_child_weight=1, n_estimators=100, subsample=0.6; total time= 2.7min\n",
      "[CV] END colsample_bytree=0.6, gamma=0.2, learning_rate=0.3, max_depth=8, min_child_weight=4, n_estimators=10, subsample=0.5; total time=  17.0s\n",
      "[CV] END colsample_bytree=0.9, gamma=0.4, learning_rate=0.2, max_depth=6, min_child_weight=3, n_estimators=100, subsample=0.6; total time= 3.0min\n",
      "[CV] END colsample_bytree=0.9, gamma=0, learning_rate=0.1, max_depth=4, min_child_weight=2, n_estimators=300, subsample=0.7; total time= 7.7min\n",
      "[CV] END colsample_bytree=0.9, gamma=0, learning_rate=0.05, max_depth=8, min_child_weight=4, n_estimators=300, subsample=0.7; total time=10.0min\n",
      "[CV] END colsample_bytree=0.5, gamma=0.4, learning_rate=0.1, max_depth=4, min_child_weight=4, n_estimators=100, subsample=0.5; total time= 2.1min\n",
      "[CV] END colsample_bytree=0.5, gamma=0.4, learning_rate=0.1, max_depth=4, min_child_weight=4, n_estimators=100, subsample=0.5; total time= 2.0min\n",
      "[CV] END colsample_bytree=0.7, gamma=0.4, learning_rate=0.05, max_depth=5, min_child_weight=3, n_estimators=10, subsample=0.6; total time=  14.1s\n",
      "[CV] END colsample_bytree=0.7, gamma=0.4, learning_rate=0.01, max_depth=7, min_child_weight=3, n_estimators=300, subsample=0.9; total time= 8.1min\n",
      "[CV] END colsample_bytree=0.8, gamma=0.3, learning_rate=0.1, max_depth=6, min_child_weight=4, n_estimators=300, subsample=0.6; total time= 8.3min\n",
      "[CV] END colsample_bytree=0.9, gamma=0, learning_rate=0.2, max_depth=5, min_child_weight=1, n_estimators=100, subsample=0.5; total time= 2.5min\n",
      "[CV] END colsample_bytree=0.9, gamma=0, learning_rate=0.2, max_depth=5, min_child_weight=1, n_estimators=100, subsample=0.5; total time= 2.6min\n",
      "[CV] END colsample_bytree=0.9, gamma=0, learning_rate=0.3, max_depth=6, min_child_weight=5, n_estimators=200, subsample=0.8; total time= 5.7min\n",
      "[CV] END colsample_bytree=0.8, gamma=0.2, learning_rate=0.01, max_depth=6, min_child_weight=3, n_estimators=200, subsample=0.9; total time= 5.5min\n",
      "[CV] END colsample_bytree=0.9, gamma=0.2, learning_rate=0.3, max_depth=4, min_child_weight=4, n_estimators=500, subsample=0.5; total time=12.4min\n",
      "[CV] END colsample_bytree=0.6, gamma=0.3, learning_rate=0.1, max_depth=4, min_child_weight=1, n_estimators=200, subsample=0.7; total time= 4.3min\n",
      "[CV] END colsample_bytree=0.9, gamma=0.3, learning_rate=0.3, max_depth=6, min_child_weight=4, n_estimators=10, subsample=0.8; total time=  17.0s\n",
      "[CV] END colsample_bytree=0.9, gamma=0.3, learning_rate=0.3, max_depth=6, min_child_weight=4, n_estimators=10, subsample=0.8; total time=  17.1s\n",
      "[CV] END colsample_bytree=0.9, gamma=0.3, learning_rate=0.3, max_depth=6, min_child_weight=4, n_estimators=10, subsample=0.8; total time=  17.3s\n",
      "[CV] END colsample_bytree=0.5, gamma=0, learning_rate=0.1, max_depth=6, min_child_weight=4, n_estimators=200, subsample=0.6; total time= 4.4min\n",
      "[CV] END colsample_bytree=0.5, gamma=0.3, learning_rate=0.1, max_depth=6, min_child_weight=2, n_estimators=100, subsample=0.7; total time= 2.2min\n",
      "[CV] END colsample_bytree=0.5, gamma=0.3, learning_rate=0.1, max_depth=6, min_child_weight=2, n_estimators=100, subsample=0.7; total time= 2.4min\n",
      "[CV] END colsample_bytree=0.9, gamma=0, learning_rate=0.2, max_depth=8, min_child_weight=5, n_estimators=500, subsample=0.7; total time=15.4min\n",
      "[CV] END colsample_bytree=0.6, gamma=0.4, learning_rate=0.05, max_depth=4, min_child_weight=2, n_estimators=200, subsample=0.7; total time= 4.4min\n",
      "[CV] END colsample_bytree=0.5, gamma=0.1, learning_rate=0.3, max_depth=5, min_child_weight=3, n_estimators=100, subsample=0.6; total time= 2.1min\n",
      "[CV] END colsample_bytree=0.8, gamma=0.1, learning_rate=0.2, max_depth=6, min_child_weight=2, n_estimators=300, subsample=0.6; total time= 8.1min\n",
      "[CV] END colsample_bytree=0.8, gamma=0, learning_rate=0.05, max_depth=5, min_child_weight=5, n_estimators=500, subsample=0.6; total time=12.4min\n",
      "[CV] END colsample_bytree=0.7, gamma=0.4, learning_rate=0.2, max_depth=7, min_child_weight=3, n_estimators=200, subsample=0.8; total time= 5.4min\n",
      "[CV] END colsample_bytree=0.7, gamma=0.2, learning_rate=0.2, max_depth=4, min_child_weight=1, n_estimators=300, subsample=0.7; total time= 6.5min\n",
      "[CV] END colsample_bytree=0.7, gamma=0.2, learning_rate=0.2, max_depth=8, min_child_weight=4, n_estimators=500, subsample=0.9; total time=13.9min\n",
      "[CV] END colsample_bytree=0.5, gamma=0, learning_rate=0.01, max_depth=8, min_child_weight=3, n_estimators=10, subsample=0.7; total time=  15.3s\n",
      "[CV] END colsample_bytree=0.5, gamma=0, learning_rate=0.01, max_depth=8, min_child_weight=3, n_estimators=10, subsample=0.7; total time=  16.1s\n",
      "[CV] END colsample_bytree=0.8, gamma=0.4, learning_rate=0.05, max_depth=7, min_child_weight=3, n_estimators=300, subsample=0.6; total time= 9.0min\n",
      "[CV] END colsample_bytree=0.7, gamma=0.2, learning_rate=0.05, max_depth=7, min_child_weight=4, n_estimators=200, subsample=0.7; total time= 5.8min\n",
      "[CV] END colsample_bytree=0.9, gamma=0, learning_rate=0.1, max_depth=7, min_child_weight=5, n_estimators=500, subsample=0.8; total time=15.1min\n",
      "[CV] END colsample_bytree=0.7, gamma=0.3, learning_rate=0.05, max_depth=6, min_child_weight=3, n_estimators=300, subsample=0.9; total time= 7.5min\n",
      "[CV] END colsample_bytree=0.8, gamma=0, learning_rate=0.05, max_depth=8, min_child_weight=2, n_estimators=500, subsample=0.9; total time=15.1min\n",
      "[CV] END colsample_bytree=0.9, gamma=0.4, learning_rate=0.1, max_depth=8, min_child_weight=5, n_estimators=300, subsample=0.6; total time= 9.4min\n",
      "[CV] END colsample_bytree=0.6, gamma=0.2, learning_rate=0.3, max_depth=8, min_child_weight=1, n_estimators=100, subsample=0.6; total time= 2.7min\n",
      "[CV] END colsample_bytree=0.5, gamma=0, learning_rate=0.1, max_depth=7, min_child_weight=1, n_estimators=300, subsample=0.5; total time= 7.3min\n",
      "[CV] END colsample_bytree=0.9, gamma=0, learning_rate=0.05, max_depth=8, min_child_weight=4, n_estimators=300, subsample=0.7; total time=10.1min\n",
      "[CV] END colsample_bytree=0.7, gamma=0.4, learning_rate=0.05, max_depth=5, min_child_weight=3, n_estimators=10, subsample=0.6; total time=  15.4s\n",
      "[CV] END colsample_bytree=0.7, gamma=0.4, learning_rate=0.05, max_depth=5, min_child_weight=3, n_estimators=10, subsample=0.6; total time=  13.9s\n",
      "[CV] END colsample_bytree=0.7, gamma=0.4, learning_rate=0.01, max_depth=7, min_child_weight=3, n_estimators=300, subsample=0.9; total time= 8.6min\n",
      "[CV] END colsample_bytree=0.9, gamma=0.2, learning_rate=0.1, max_depth=7, min_child_weight=2, n_estimators=500, subsample=0.6; total time=15.6min\n",
      "[CV] END colsample_bytree=0.5, gamma=0.1, learning_rate=0.05, max_depth=5, min_child_weight=2, n_estimators=300, subsample=0.9; total time= 6.8min\n",
      "[CV] END colsample_bytree=0.9, gamma=0.2, learning_rate=0.3, max_depth=4, min_child_weight=4, n_estimators=500, subsample=0.5; total time=11.8min\n",
      "[CV] END colsample_bytree=0.9, gamma=0.2, learning_rate=0.01, max_depth=6, min_child_weight=2, n_estimators=100, subsample=0.6; total time= 2.8min\n",
      "[CV] END colsample_bytree=0.6, gamma=0.3, learning_rate=0.1, max_depth=4, min_child_weight=1, n_estimators=200, subsample=0.7; total time= 4.5min\n",
      "[CV] END colsample_bytree=0.9, gamma=0.3, learning_rate=0.3, max_depth=6, min_child_weight=4, n_estimators=10, subsample=0.8; total time=  10.9s\n",
      "[CV] END colsample_bytree=0.8, gamma=0, learning_rate=0.1, max_depth=7, min_child_weight=1, n_estimators=300, subsample=0.9; total time= 8.4min\n",
      "[CV] END colsample_bytree=0.5, gamma=0.4, learning_rate=0.01, max_depth=7, min_child_weight=3, n_estimators=300, subsample=0.8; total time= 7.6min\n",
      "[CV] END colsample_bytree=0.8, gamma=0.3, learning_rate=0.3, max_depth=8, min_child_weight=4, n_estimators=500, subsample=0.6; total time=15.4min\n",
      "[CV] END colsample_bytree=0.6, gamma=0.2, learning_rate=0.05, max_depth=6, min_child_weight=5, n_estimators=300, subsample=0.9; total time= 7.5min\n",
      "[CV] END colsample_bytree=0.6, gamma=0.2, learning_rate=0.01, max_depth=5, min_child_weight=5, n_estimators=200, subsample=0.5; total time= 4.8min\n",
      "[CV] END colsample_bytree=0.9, gamma=0.2, learning_rate=0.1, max_depth=4, min_child_weight=1, n_estimators=100, subsample=0.8; total time= 2.5min\n",
      "[CV] END colsample_bytree=0.9, gamma=0.3, learning_rate=0.05, max_depth=4, min_child_weight=1, n_estimators=100, subsample=0.6; total time= 2.4min\n",
      "[CV] END colsample_bytree=0.6, gamma=0.3, learning_rate=0.1, max_depth=7, min_child_weight=5, n_estimators=200, subsample=0.8; total time= 5.3min\n",
      "[CV] END colsample_bytree=0.9, gamma=0.4, learning_rate=0.05, max_depth=7, min_child_weight=4, n_estimators=200, subsample=0.5; total time= 6.0min\n",
      "[CV] END colsample_bytree=0.7, gamma=0.2, learning_rate=0.2, max_depth=4, min_child_weight=1, n_estimators=300, subsample=0.7; total time= 7.0min\n",
      "[CV] END colsample_bytree=0.7, gamma=0.2, learning_rate=0.2, max_depth=8, min_child_weight=4, n_estimators=500, subsample=0.9; total time=14.3min\n",
      "[CV] END colsample_bytree=0.5, gamma=0.3, learning_rate=0.3, max_depth=7, min_child_weight=2, n_estimators=500, subsample=0.7; total time=11.8min\n",
      "[CV] END colsample_bytree=0.9, gamma=0, learning_rate=0.1, max_depth=7, min_child_weight=5, n_estimators=500, subsample=0.8; total time=14.5min\n",
      "[CV] END colsample_bytree=0.7, gamma=0.3, learning_rate=0.05, max_depth=6, min_child_weight=3, n_estimators=300, subsample=0.9; total time= 7.5min\n",
      "[CV] END colsample_bytree=0.5, gamma=0.3, learning_rate=0.2, max_depth=8, min_child_weight=1, n_estimators=200, subsample=0.5; total time= 5.3min\n",
      "[CV] END colsample_bytree=0.5, gamma=0.2, learning_rate=0.05, max_depth=7, min_child_weight=2, n_estimators=500, subsample=0.7; total time=12.3min\n",
      "[CV] END colsample_bytree=0.6, gamma=0.4, learning_rate=0.01, max_depth=7, min_child_weight=1, n_estimators=100, subsample=0.6; total time= 2.5min\n",
      "[CV] END colsample_bytree=0.6, gamma=0.2, learning_rate=0.3, max_depth=8, min_child_weight=4, n_estimators=10, subsample=0.5; total time=  15.8s\n",
      "[CV] END colsample_bytree=0.9, gamma=0.4, learning_rate=0.2, max_depth=6, min_child_weight=3, n_estimators=100, subsample=0.6; total time= 2.8min\n",
      "[CV] END colsample_bytree=0.5, gamma=0.3, learning_rate=0.2, max_depth=4, min_child_weight=4, n_estimators=10, subsample=0.7; total time=  12.2s\n",
      "[CV] END colsample_bytree=0.9, gamma=0, learning_rate=0.1, max_depth=4, min_child_weight=2, n_estimators=300, subsample=0.7; total time= 7.1min\n",
      "[CV] END colsample_bytree=0.6, gamma=0.4, learning_rate=0.01, max_depth=7, min_child_weight=1, n_estimators=500, subsample=0.5; total time=13.1min\n",
      "[CV] END colsample_bytree=0.9, gamma=0.3, learning_rate=0.3, max_depth=5, min_child_weight=4, n_estimators=100, subsample=0.7; total time= 2.5min\n",
      "[CV] END colsample_bytree=0.8, gamma=0.1, learning_rate=0.2, max_depth=5, min_child_weight=4, n_estimators=100, subsample=0.8; total time= 2.6min\n",
      "[CV] END colsample_bytree=0.5, gamma=0, learning_rate=0.1, max_depth=6, min_child_weight=2, n_estimators=500, subsample=0.8; total time=11.7min\n",
      "[CV] END colsample_bytree=0.5, gamma=0.2, learning_rate=0.1, max_depth=7, min_child_weight=1, n_estimators=200, subsample=0.8; total time= 5.0min\n",
      "[CV] END colsample_bytree=0.9, gamma=0, learning_rate=0.3, max_depth=6, min_child_weight=5, n_estimators=200, subsample=0.8; total time= 5.7min\n",
      "[CV] END colsample_bytree=0.9, gamma=0.2, learning_rate=0.05, max_depth=6, min_child_weight=5, n_estimators=500, subsample=0.5; total time=14.4min\n",
      "[CV] END colsample_bytree=0.6, gamma=0.3, learning_rate=0.3, max_depth=4, min_child_weight=3, n_estimators=300, subsample=0.6; total time= 6.4min\n",
      "[CV] END colsample_bytree=0.8, gamma=0.2, learning_rate=0.2, max_depth=5, min_child_weight=3, n_estimators=200, subsample=0.9; total time= 4.3min\n",
      "[CV] END colsample_bytree=0.5, gamma=0, learning_rate=0.1, max_depth=6, min_child_weight=4, n_estimators=200, subsample=0.6; total time= 4.4min\n",
      "[CV] END colsample_bytree=0.8, gamma=0, learning_rate=0.1, max_depth=7, min_child_weight=1, n_estimators=300, subsample=0.9; total time= 8.4min\n",
      "[CV] END colsample_bytree=0.6, gamma=0, learning_rate=0.3, max_depth=6, min_child_weight=4, n_estimators=300, subsample=0.8; total time= 7.3min\n",
      "[CV] END colsample_bytree=0.8, gamma=0.1, learning_rate=0.05, max_depth=8, min_child_weight=1, n_estimators=10, subsample=0.7; total time=  17.3s\n",
      "[CV] END colsample_bytree=0.8, gamma=0.1, learning_rate=0.05, max_depth=8, min_child_weight=1, n_estimators=10, subsample=0.7; total time=  19.2s\n",
      "[CV] END colsample_bytree=0.8, gamma=0.1, learning_rate=0.05, max_depth=8, min_child_weight=1, n_estimators=10, subsample=0.7; total time=  17.8s\n",
      "[CV] END colsample_bytree=0.6, gamma=0.4, learning_rate=0.05, max_depth=4, min_child_weight=2, n_estimators=200, subsample=0.7; total time= 4.2min\n",
      "[CV] END colsample_bytree=0.8, gamma=0.1, learning_rate=0.05, max_depth=7, min_child_weight=5, n_estimators=200, subsample=0.6; total time= 5.7min\n",
      "[CV] END colsample_bytree=0.8, gamma=0.1, learning_rate=0.2, max_depth=6, min_child_weight=2, n_estimators=300, subsample=0.6; total time= 8.1min\n",
      "[CV] END colsample_bytree=0.8, gamma=0, learning_rate=0.05, max_depth=5, min_child_weight=5, n_estimators=500, subsample=0.6; total time=12.3min\n",
      "[CV] END colsample_bytree=0.7, gamma=0.4, learning_rate=0.2, max_depth=7, min_child_weight=3, n_estimators=200, subsample=0.8; total time= 5.6min\n",
      "[CV] END colsample_bytree=0.7, gamma=0.2, learning_rate=0.2, max_depth=4, min_child_weight=1, n_estimators=300, subsample=0.7; total time= 7.0min\n",
      "[CV] END colsample_bytree=0.7, gamma=0.2, learning_rate=0.2, max_depth=8, min_child_weight=4, n_estimators=500, subsample=0.9; total time=14.3min\n",
      "[CV] END colsample_bytree=0.8, gamma=0.4, learning_rate=0.05, max_depth=7, min_child_weight=3, n_estimators=300, subsample=0.6; total time= 8.9min\n",
      "[CV] END colsample_bytree=0.8, gamma=0.3, learning_rate=0.3, max_depth=6, min_child_weight=1, n_estimators=500, subsample=0.8; total time=13.7min\n",
      "[CV] END colsample_bytree=0.6, gamma=0.1, learning_rate=0.3, max_depth=6, min_child_weight=2, n_estimators=500, subsample=0.8; total time=12.4min\n",
      "[CV] END colsample_bytree=0.6, gamma=0.2, learning_rate=0.3, max_depth=7, min_child_weight=5, n_estimators=300, subsample=0.7; total time= 7.8min\n",
      "[CV] END colsample_bytree=0.5, gamma=0.2, learning_rate=0.05, max_depth=7, min_child_weight=2, n_estimators=500, subsample=0.7; total time=12.3min\n",
      "[CV] END colsample_bytree=0.7, gamma=0, learning_rate=0.1, max_depth=7, min_child_weight=2, n_estimators=100, subsample=0.9; total time= 2.8min\n",
      "[CV] END colsample_bytree=0.9, gamma=0.3, learning_rate=0.2, max_depth=7, min_child_weight=5, n_estimators=200, subsample=0.7; total time= 6.1min\n",
      "[CV] END colsample_bytree=0.5, gamma=0, learning_rate=0.1, max_depth=7, min_child_weight=1, n_estimators=300, subsample=0.5; total time= 7.6min\n",
      "[CV] END colsample_bytree=0.9, gamma=0, learning_rate=0.05, max_depth=8, min_child_weight=4, n_estimators=300, subsample=0.7; total time=10.2min\n",
      "[CV] END colsample_bytree=0.7, gamma=0.4, learning_rate=0.05, max_depth=5, min_child_weight=3, n_estimators=10, subsample=0.6; total time=  14.0s\n",
      "[CV] END colsample_bytree=0.7, gamma=0.4, learning_rate=0.01, max_depth=7, min_child_weight=3, n_estimators=300, subsample=0.9; total time= 8.1min\n",
      "[CV] END colsample_bytree=0.8, gamma=0.3, learning_rate=0.1, max_depth=6, min_child_weight=4, n_estimators=300, subsample=0.6; total time= 8.0min\n",
      "[CV] END colsample_bytree=0.9, gamma=0, learning_rate=0.2, max_depth=5, min_child_weight=1, n_estimators=100, subsample=0.5; total time= 2.7min\n",
      "[CV] END colsample_bytree=0.6, gamma=0.1, learning_rate=0.2, max_depth=6, min_child_weight=5, n_estimators=100, subsample=0.7; total time= 2.4min\n",
      "[CV] END colsample_bytree=0.9, gamma=0, learning_rate=0.3, max_depth=6, min_child_weight=5, n_estimators=200, subsample=0.8; total time= 5.3min\n",
      "[CV] END colsample_bytree=0.9, gamma=0.2, learning_rate=0.05, max_depth=6, min_child_weight=5, n_estimators=500, subsample=0.5; total time=14.0min\n",
      "[CV] END colsample_bytree=0.6, gamma=0.3, learning_rate=0.3, max_depth=4, min_child_weight=3, n_estimators=300, subsample=0.6; total time= 6.3min\n",
      "[CV] END colsample_bytree=0.8, gamma=0.2, learning_rate=0.2, max_depth=5, min_child_weight=3, n_estimators=200, subsample=0.9; total time= 4.4min\n",
      "{'subsample': 0.9, 'n_estimators': 500, 'min_child_weight': 4, 'max_depth': 8, 'learning_rate': 0.2, 'gamma': 0.2, 'colsample_bytree': 0.7}\n",
      "[CV] END colsample_bytree=0.9, gamma=0.2, learning_rate=0.3, max_depth=8, min_child_weight=1, n_estimators=300, subsample=0.7; total time= 9.6min\n",
      "[CV] END colsample_bytree=0.9, gamma=0, learning_rate=0.2, max_depth=8, min_child_weight=5, n_estimators=500, subsample=0.7; total time=15.6min\n",
      "[CV] END colsample_bytree=0.8, gamma=0.1, learning_rate=0.05, max_depth=7, min_child_weight=5, n_estimators=200, subsample=0.6; total time= 5.7min\n",
      "[CV] END colsample_bytree=0.8, gamma=0.1, learning_rate=0.2, max_depth=6, min_child_weight=2, n_estimators=300, subsample=0.6; total time= 8.4min\n",
      "[CV] END colsample_bytree=0.8, gamma=0, learning_rate=0.05, max_depth=5, min_child_weight=5, n_estimators=500, subsample=0.6; total time=13.0min\n",
      "[CV] END colsample_bytree=0.9, gamma=0.2, learning_rate=0.01, max_depth=7, min_child_weight=2, n_estimators=500, subsample=0.6; total time=15.8min\n",
      "[CV] END colsample_bytree=0.6, gamma=0.2, learning_rate=0.05, max_depth=6, min_child_weight=5, n_estimators=100, subsample=0.7; total time= 2.6min\n",
      "[CV] END colsample_bytree=0.6, gamma=0.4, learning_rate=0.05, max_depth=8, min_child_weight=2, n_estimators=200, subsample=0.5; total time= 5.5min\n",
      "[CV] END colsample_bytree=0.6, gamma=0.4, learning_rate=0.05, max_depth=8, min_child_weight=2, n_estimators=200, subsample=0.5; total time= 5.4min\n",
      "[CV] END colsample_bytree=0.5, gamma=0.3, learning_rate=0.3, max_depth=7, min_child_weight=2, n_estimators=500, subsample=0.7; total time=11.7min\n",
      "[CV] END colsample_bytree=0.6, gamma=0.1, learning_rate=0.3, max_depth=6, min_child_weight=2, n_estimators=500, subsample=0.8; total time=11.8min\n",
      "[CV] END colsample_bytree=0.8, gamma=0.1, learning_rate=0.2, max_depth=7, min_child_weight=2, n_estimators=100, subsample=0.5; total time= 2.9min\n",
      "[CV] END colsample_bytree=0.8, gamma=0, learning_rate=0.1, max_depth=7, min_child_weight=5, n_estimators=200, subsample=0.8; total time= 5.9min\n",
      "[CV] END colsample_bytree=0.5, gamma=0.3, learning_rate=0.2, max_depth=8, min_child_weight=1, n_estimators=200, subsample=0.5; total time= 5.3min\n",
      "[CV] END colsample_bytree=0.7, gamma=0, learning_rate=0.1, max_depth=4, min_child_weight=3, n_estimators=10, subsample=0.9; total time=  12.5s\n",
      "[CV] END colsample_bytree=0.7, gamma=0, learning_rate=0.1, max_depth=4, min_child_weight=3, n_estimators=10, subsample=0.9; total time=  13.6s\n",
      "[CV] END colsample_bytree=0.8, gamma=0, learning_rate=0.05, max_depth=8, min_child_weight=3, n_estimators=100, subsample=0.6; total time= 3.1min\n",
      "[CV] END colsample_bytree=0.9, gamma=0.4, learning_rate=0.1, max_depth=8, min_child_weight=5, n_estimators=300, subsample=0.6; total time= 9.7min\n",
      "[CV] END colsample_bytree=0.6, gamma=0.4, learning_rate=0.01, max_depth=7, min_child_weight=1, n_estimators=100, subsample=0.6; total time= 2.7min\n",
      "[CV] END colsample_bytree=0.9, gamma=0.4, learning_rate=0.2, max_depth=6, min_child_weight=3, n_estimators=100, subsample=0.6; total time= 2.9min\n",
      "[CV] END colsample_bytree=0.5, gamma=0.3, learning_rate=0.2, max_depth=4, min_child_weight=4, n_estimators=10, subsample=0.7; total time=  12.7s\n",
      "[CV] END colsample_bytree=0.9, gamma=0, learning_rate=0.1, max_depth=4, min_child_weight=2, n_estimators=300, subsample=0.7; total time= 7.5min\n",
      "[CV] END colsample_bytree=0.9, gamma=0, learning_rate=0.05, max_depth=8, min_child_weight=4, n_estimators=300, subsample=0.7; total time= 9.9min\n",
      "[CV] END colsample_bytree=0.9, gamma=0.2, learning_rate=0.05, max_depth=5, min_child_weight=5, n_estimators=500, subsample=0.9; total time=13.5min\n",
      "[CV] END colsample_bytree=0.9, gamma=0.2, learning_rate=0.1, max_depth=7, min_child_weight=2, n_estimators=500, subsample=0.6; total time=15.3min\n",
      "[CV] END colsample_bytree=0.9, gamma=0.2, learning_rate=0.05, max_depth=6, min_child_weight=5, n_estimators=500, subsample=0.5; total time=14.4min\n",
      "[CV] END colsample_bytree=0.7, gamma=0.1, learning_rate=0.05, max_depth=5, min_child_weight=1, n_estimators=200, subsample=0.8; total time= 4.9min\n",
      "[CV] END colsample_bytree=0.6, gamma=0.3, learning_rate=0.1, max_depth=4, min_child_weight=1, n_estimators=200, subsample=0.7; total time= 4.7min\n",
      "[CV] END colsample_bytree=0.8, gamma=0.2, learning_rate=0.2, max_depth=5, min_child_weight=3, n_estimators=200, subsample=0.9; total time= 3.8min\n",
      "[CV] END colsample_bytree=0.5, gamma=0, learning_rate=0.1, max_depth=6, min_child_weight=4, n_estimators=200, subsample=0.6; total time= 4.5min\n",
      "[CV] END colsample_bytree=0.5, gamma=0.3, learning_rate=0.1, max_depth=6, min_child_weight=2, n_estimators=100, subsample=0.7; total time= 2.3min\n",
      "[CV] END colsample_bytree=0.5, gamma=0.4, learning_rate=0.01, max_depth=7, min_child_weight=3, n_estimators=300, subsample=0.8; total time= 7.2min\n",
      "[CV] END colsample_bytree=0.6, gamma=0, learning_rate=0.3, max_depth=6, min_child_weight=4, n_estimators=300, subsample=0.8; total time= 7.3min\n",
      "[CV] END colsample_bytree=0.6, gamma=0.4, learning_rate=0.05, max_depth=4, min_child_weight=2, n_estimators=200, subsample=0.7; total time= 4.5min\n",
      "[CV] END colsample_bytree=0.8, gamma=0.2, learning_rate=0.3, max_depth=7, min_child_weight=4, n_estimators=10, subsample=0.6; total time=  16.8s\n",
      "[CV] END colsample_bytree=0.8, gamma=0.2, learning_rate=0.3, max_depth=7, min_child_weight=4, n_estimators=10, subsample=0.6; total time=  18.4s\n",
      "[CV] END colsample_bytree=0.8, gamma=0.2, learning_rate=0.3, max_depth=7, min_child_weight=4, n_estimators=10, subsample=0.6; total time=  17.0s\n",
      "[CV] END colsample_bytree=0.5, gamma=0.1, learning_rate=0.3, max_depth=5, min_child_weight=3, n_estimators=100, subsample=0.6; total time= 2.2min\n",
      "[CV] END colsample_bytree=0.5, gamma=0.1, learning_rate=0.3, max_depth=5, min_child_weight=3, n_estimators=100, subsample=0.6; total time= 2.2min\n",
      "[CV] END colsample_bytree=0.8, gamma=0.4, learning_rate=0.2, max_depth=4, min_child_weight=1, n_estimators=100, subsample=0.5; total time= 2.2min\n",
      "[CV] END colsample_bytree=0.6, gamma=0.2, learning_rate=0.05, max_depth=6, min_child_weight=5, n_estimators=300, subsample=0.9; total time= 7.2min\n",
      "[CV] END colsample_bytree=0.9, gamma=0.4, learning_rate=0.1, max_depth=5, min_child_weight=5, n_estimators=300, subsample=0.6; total time= 7.7min\n",
      "[CV] END colsample_bytree=0.9, gamma=0.3, learning_rate=0.05, max_depth=4, min_child_weight=1, n_estimators=100, subsample=0.6; total time= 2.4min\n",
      "[CV] END colsample_bytree=0.8, gamma=0.1, learning_rate=0.2, max_depth=6, min_child_weight=1, n_estimators=10, subsample=0.9; total time=  15.5s\n",
      "[CV] END colsample_bytree=0.7, gamma=0.4, learning_rate=0.2, max_depth=7, min_child_weight=3, n_estimators=200, subsample=0.8; total time= 5.4min\n",
      "[CV] END colsample_bytree=0.7, gamma=0.2, learning_rate=0.2, max_depth=4, min_child_weight=1, n_estimators=300, subsample=0.7; total time= 6.5min\n",
      "[CV] END colsample_bytree=0.8, gamma=0.3, learning_rate=0.1, max_depth=4, min_child_weight=1, n_estimators=300, subsample=0.5; total time= 6.9min\n",
      "[CV] END colsample_bytree=0.8, gamma=0.1, learning_rate=0.1, max_depth=4, min_child_weight=3, n_estimators=300, subsample=0.7; total time= 6.8min\n",
      "[CV] END colsample_bytree=0.7, gamma=0, learning_rate=0.05, max_depth=8, min_child_weight=4, n_estimators=300, subsample=0.9; total time= 8.3min\n",
      "[CV] END colsample_bytree=0.5, gamma=0.3, learning_rate=0.3, max_depth=7, min_child_weight=2, n_estimators=500, subsample=0.7; total time=12.5min\n",
      "[CV] END colsample_bytree=0.6, gamma=0.1, learning_rate=0.3, max_depth=6, min_child_weight=2, n_estimators=500, subsample=0.8; total time=12.4min\n",
      "[CV] END colsample_bytree=0.6, gamma=0.2, learning_rate=0.3, max_depth=7, min_child_weight=5, n_estimators=300, subsample=0.7; total time= 7.5min\n",
      "[CV] END colsample_bytree=0.8, gamma=0, learning_rate=0.05, max_depth=8, min_child_weight=2, n_estimators=500, subsample=0.9; total time=15.5min\n",
      "[CV] END colsample_bytree=0.6, gamma=0.4, learning_rate=0.01, max_depth=7, min_child_weight=1, n_estimators=100, subsample=0.6; total time= 2.6min\n",
      "[CV] END colsample_bytree=0.6, gamma=0.2, learning_rate=0.3, max_depth=8, min_child_weight=4, n_estimators=10, subsample=0.5; total time=  15.7s\n",
      "[CV] END colsample_bytree=0.7, gamma=0, learning_rate=0.2, max_depth=7, min_child_weight=4, n_estimators=100, subsample=0.8; total time= 2.6min\n",
      "[CV] END colsample_bytree=0.9, gamma=0.3, learning_rate=0.2, max_depth=7, min_child_weight=5, n_estimators=200, subsample=0.7; total time= 6.3min\n",
      "[CV] END colsample_bytree=0.7, gamma=0, learning_rate=0.05, max_depth=4, min_child_weight=3, n_estimators=10, subsample=0.8; total time=  13.3s\n",
      "[CV] END colsample_bytree=0.6, gamma=0.4, learning_rate=0.01, max_depth=7, min_child_weight=1, n_estimators=500, subsample=0.5; total time=12.8min\n",
      "[CV] END colsample_bytree=0.5, gamma=0.4, learning_rate=0.1, max_depth=4, min_child_weight=4, n_estimators=100, subsample=0.5; total time= 2.0min\n",
      "[CV] END colsample_bytree=0.9, gamma=0.3, learning_rate=0.3, max_depth=5, min_child_weight=4, n_estimators=100, subsample=0.7; total time= 2.6min\n",
      "[CV] END colsample_bytree=0.8, gamma=0.1, learning_rate=0.2, max_depth=5, min_child_weight=4, n_estimators=100, subsample=0.8; total time= 2.5min\n",
      "[CV] END colsample_bytree=0.5, gamma=0, learning_rate=0.1, max_depth=6, min_child_weight=2, n_estimators=500, subsample=0.8; total time=11.1min\n",
      "[CV] END colsample_bytree=0.5, gamma=0.2, learning_rate=0.1, max_depth=7, min_child_weight=1, n_estimators=200, subsample=0.8; total time= 4.8min\n",
      "[CV] END colsample_bytree=0.6, gamma=0.1, learning_rate=0.2, max_depth=6, min_child_weight=5, n_estimators=100, subsample=0.7; total time= 2.4min\n",
      "[CV] END colsample_bytree=0.5, gamma=0.1, learning_rate=0.05, max_depth=5, min_child_weight=2, n_estimators=300, subsample=0.9; total time= 6.7min\n",
      "[CV] END colsample_bytree=0.8, gamma=0.2, learning_rate=0.01, max_depth=6, min_child_weight=3, n_estimators=200, subsample=0.9; total time= 5.5min\n",
      "[CV] END colsample_bytree=0.6, gamma=0.3, learning_rate=0.01, max_depth=4, min_child_weight=1, n_estimators=100, subsample=0.8; total time= 2.2min\n",
      "[CV] END colsample_bytree=0.7, gamma=0.1, learning_rate=0.05, max_depth=5, min_child_weight=1, n_estimators=200, subsample=0.8; total time= 5.1min\n",
      "[CV] END colsample_bytree=0.6, gamma=0.3, learning_rate=0.3, max_depth=4, min_child_weight=3, n_estimators=300, subsample=0.6; total time= 6.8min\n",
      "[CV] END colsample_bytree=0.8, gamma=0.2, learning_rate=0.2, max_depth=5, min_child_weight=3, n_estimators=200, subsample=0.9; total time= 3.8min\n",
      "[CV] END colsample_bytree=0.9, gamma=0.2, learning_rate=0.3, max_depth=8, min_child_weight=1, n_estimators=300, subsample=0.7; total time= 9.7min\n",
      "[CV] END colsample_bytree=0.9, gamma=0, learning_rate=0.2, max_depth=8, min_child_weight=5, n_estimators=500, subsample=0.7; total time=15.5min\n",
      "[CV] END colsample_bytree=0.8, gamma=0.1, learning_rate=0.05, max_depth=7, min_child_weight=5, n_estimators=200, subsample=0.6; total time= 5.8min\n",
      "[CV] END colsample_bytree=0.8, gamma=0.4, learning_rate=0.2, max_depth=4, min_child_weight=1, n_estimators=100, subsample=0.5; total time= 2.3min\n",
      "[CV] END colsample_bytree=0.6, gamma=0.2, learning_rate=0.05, max_depth=6, min_child_weight=5, n_estimators=300, subsample=0.9; total time= 7.3min\n",
      "[CV] END colsample_bytree=0.9, gamma=0.4, learning_rate=0.1, max_depth=5, min_child_weight=5, n_estimators=300, subsample=0.6; total time= 7.8min\n",
      "[CV] END colsample_bytree=0.6, gamma=0.3, learning_rate=0.1, max_depth=7, min_child_weight=5, n_estimators=200, subsample=0.8; total time= 5.0min\n",
      "[CV] END colsample_bytree=0.9, gamma=0.2, learning_rate=0.01, max_depth=7, min_child_weight=2, n_estimators=500, subsample=0.6; total time=15.4min\n",
      "[CV] END colsample_bytree=0.6, gamma=0.2, learning_rate=0.05, max_depth=6, min_child_weight=5, n_estimators=100, subsample=0.7; total time= 2.5min\n",
      "[CV] END colsample_bytree=0.6, gamma=0.4, learning_rate=0.05, max_depth=8, min_child_weight=2, n_estimators=200, subsample=0.5; total time= 5.7min\n",
      "[CV] END colsample_bytree=0.7, gamma=0, learning_rate=0.05, max_depth=8, min_child_weight=4, n_estimators=300, subsample=0.9; total time= 8.8min\n",
      "[CV] END colsample_bytree=0.6, gamma=0.1, learning_rate=0.1, max_depth=8, min_child_weight=4, n_estimators=10, subsample=0.5; total time=  17.4s\n",
      "[CV] END colsample_bytree=0.7, gamma=0.2, learning_rate=0.05, max_depth=7, min_child_weight=4, n_estimators=200, subsample=0.7; total time= 5.8min\n",
      "[CV] END colsample_bytree=0.5, gamma=0.2, learning_rate=0.1, max_depth=7, min_child_weight=1, n_estimators=10, subsample=0.7; total time=  14.5s\n",
      "[CV] END colsample_bytree=0.5, gamma=0.2, learning_rate=0.1, max_depth=7, min_child_weight=1, n_estimators=10, subsample=0.7; total time=  15.7s\n",
      "[CV] END colsample_bytree=0.5, gamma=0.2, learning_rate=0.1, max_depth=7, min_child_weight=1, n_estimators=10, subsample=0.7; total time=  14.5s\n",
      "[CV] END colsample_bytree=0.9, gamma=0, learning_rate=0.1, max_depth=7, min_child_weight=5, n_estimators=500, subsample=0.8; total time=15.3min\n",
      "[CV] END colsample_bytree=0.8, gamma=0, learning_rate=0.1, max_depth=7, min_child_weight=5, n_estimators=200, subsample=0.8; total time= 5.7min\n",
      "[CV] END colsample_bytree=0.5, gamma=0.3, learning_rate=0.2, max_depth=8, min_child_weight=1, n_estimators=200, subsample=0.5; total time= 5.3min\n",
      "[CV] END colsample_bytree=0.7, gamma=0, learning_rate=0.1, max_depth=4, min_child_weight=3, n_estimators=10, subsample=0.9; total time=  13.3s\n",
      "[CV] END colsample_bytree=0.7, gamma=0, learning_rate=0.1, max_depth=4, min_child_weight=3, n_estimators=10, subsample=0.9; total time=  13.5s\n",
      "[CV] END colsample_bytree=0.7, gamma=0, learning_rate=0.1, max_depth=4, min_child_weight=3, n_estimators=10, subsample=0.9; total time=  12.8s\n",
      "[CV] END colsample_bytree=0.8, gamma=0, learning_rate=0.05, max_depth=8, min_child_weight=3, n_estimators=100, subsample=0.6; total time= 3.2min\n",
      "[CV] END colsample_bytree=0.9, gamma=0.4, learning_rate=0.1, max_depth=8, min_child_weight=5, n_estimators=300, subsample=0.6; total time= 9.8min\n",
      "[CV] END colsample_bytree=0.7, gamma=0, learning_rate=0.1, max_depth=7, min_child_weight=2, n_estimators=100, subsample=0.9; total time= 2.6min\n",
      "[CV] END colsample_bytree=0.9, gamma=0.4, learning_rate=0.2, max_depth=6, min_child_weight=3, n_estimators=100, subsample=0.6; total time= 2.7min\n",
      "[CV] END colsample_bytree=0.9, gamma=0.3, learning_rate=0.2, max_depth=7, min_child_weight=5, n_estimators=200, subsample=0.7; total time= 5.9min\n",
      "[CV] END colsample_bytree=0.5, gamma=0, learning_rate=0.1, max_depth=7, min_child_weight=1, n_estimators=300, subsample=0.5; total time= 7.2min\n",
      "[CV] END colsample_bytree=0.9, gamma=0.2, learning_rate=0.05, max_depth=5, min_child_weight=5, n_estimators=500, subsample=0.9; total time=13.0min\n",
      "[CV] END colsample_bytree=0.5, gamma=0, learning_rate=0.1, max_depth=6, min_child_weight=2, n_estimators=500, subsample=0.8; total time=11.3min\n",
      "[CV] END colsample_bytree=0.5, gamma=0.2, learning_rate=0.1, max_depth=7, min_child_weight=1, n_estimators=200, subsample=0.8; total time= 5.1min\n",
      "[CV] END colsample_bytree=0.6, gamma=0.1, learning_rate=0.2, max_depth=6, min_child_weight=5, n_estimators=100, subsample=0.7; total time= 2.5min\n",
      "[CV] END colsample_bytree=0.5, gamma=0.1, learning_rate=0.05, max_depth=5, min_child_weight=2, n_estimators=300, subsample=0.9; total time= 6.7min\n",
      "[CV] END colsample_bytree=0.8, gamma=0.2, learning_rate=0.01, max_depth=6, min_child_weight=3, n_estimators=200, subsample=0.9; total time= 5.5min\n",
      "[CV] END colsample_bytree=0.6, gamma=0.3, learning_rate=0.01, max_depth=4, min_child_weight=1, n_estimators=100, subsample=0.8; total time= 2.2min\n",
      "[CV] END colsample_bytree=0.7, gamma=0.1, learning_rate=0.05, max_depth=5, min_child_weight=1, n_estimators=200, subsample=0.8; total time= 5.1min\n",
      "[CV] END colsample_bytree=0.6, gamma=0.3, learning_rate=0.3, max_depth=4, min_child_weight=3, n_estimators=300, subsample=0.6; total time= 6.9min\n",
      "[CV] END colsample_bytree=0.8, gamma=0.2, learning_rate=0.2, max_depth=5, min_child_weight=3, n_estimators=200, subsample=0.9; total time= 3.7min\n",
      "[CV] END colsample_bytree=0.9, gamma=0.2, learning_rate=0.3, max_depth=8, min_child_weight=1, n_estimators=300, subsample=0.7; total time= 9.9min\n",
      "[CV] END colsample_bytree=0.6, gamma=0, learning_rate=0.3, max_depth=6, min_child_weight=4, n_estimators=300, subsample=0.8; total time= 7.3min\n",
      "[CV] END colsample_bytree=0.8, gamma=0.3, learning_rate=0.3, max_depth=8, min_child_weight=4, n_estimators=500, subsample=0.6; total time=15.0min\n",
      "[CV] END colsample_bytree=0.6, gamma=0.2, learning_rate=0.05, max_depth=6, min_child_weight=5, n_estimators=300, subsample=0.9; total time= 7.2min\n",
      "[CV] END colsample_bytree=0.9, gamma=0.4, learning_rate=0.1, max_depth=5, min_child_weight=5, n_estimators=300, subsample=0.6; total time= 7.9min\n",
      "[CV] END colsample_bytree=0.9, gamma=0.3, learning_rate=0.05, max_depth=4, min_child_weight=1, n_estimators=100, subsample=0.6; total time= 2.4min\n",
      "[CV] END colsample_bytree=0.6, gamma=0.3, learning_rate=0.1, max_depth=7, min_child_weight=5, n_estimators=200, subsample=0.8; total time= 5.0min\n",
      "[CV] END colsample_bytree=0.9, gamma=0.4, learning_rate=0.05, max_depth=7, min_child_weight=4, n_estimators=200, subsample=0.5; total time= 6.0min\n",
      "[CV] END colsample_bytree=0.8, gamma=0.3, learning_rate=0.1, max_depth=4, min_child_weight=1, n_estimators=300, subsample=0.5; total time= 6.9min\n",
      "[CV] END colsample_bytree=0.6, gamma=0.2, learning_rate=0.05, max_depth=6, min_child_weight=5, n_estimators=100, subsample=0.7; total time= 2.4min\n",
      "[CV] END colsample_bytree=0.8, gamma=0.1, learning_rate=0.1, max_depth=4, min_child_weight=3, n_estimators=300, subsample=0.7; total time= 7.2min\n",
      "[CV] END colsample_bytree=0.5, gamma=0, learning_rate=0.01, max_depth=8, min_child_weight=3, n_estimators=10, subsample=0.7; total time=  17.1s\n",
      "[CV] END colsample_bytree=0.5, gamma=0, learning_rate=0.01, max_depth=8, min_child_weight=3, n_estimators=10, subsample=0.7; total time=  14.5s\n",
      "[CV] END colsample_bytree=0.8, gamma=0.4, learning_rate=0.05, max_depth=7, min_child_weight=3, n_estimators=300, subsample=0.6; total time= 8.8min\n",
      "[CV] END colsample_bytree=0.7, gamma=0.2, learning_rate=0.05, max_depth=7, min_child_weight=4, n_estimators=200, subsample=0.7; total time= 5.8min\n",
      "[CV] END colsample_bytree=0.9, gamma=0, learning_rate=0.1, max_depth=7, min_child_weight=5, n_estimators=500, subsample=0.8; total time=15.2min\n",
      "[CV] END colsample_bytree=0.8, gamma=0, learning_rate=0.1, max_depth=7, min_child_weight=5, n_estimators=200, subsample=0.8; total time= 5.7min\n",
      "[CV] END colsample_bytree=0.6, gamma=0.2, learning_rate=0.3, max_depth=7, min_child_weight=5, n_estimators=300, subsample=0.7; total time= 7.9min\n",
      "[CV] END colsample_bytree=0.5, gamma=0.2, learning_rate=0.05, max_depth=7, min_child_weight=2, n_estimators=500, subsample=0.7; total time=12.4min\n",
      "[CV] END colsample_bytree=0.7, gamma=0, learning_rate=0.1, max_depth=7, min_child_weight=2, n_estimators=100, subsample=0.9; total time= 2.7min\n",
      "[CV] END colsample_bytree=0.9, gamma=0.3, learning_rate=0.2, max_depth=7, min_child_weight=5, n_estimators=200, subsample=0.7; total time= 6.2min\n",
      "[CV] END colsample_bytree=0.5, gamma=0, learning_rate=0.1, max_depth=7, min_child_weight=1, n_estimators=300, subsample=0.5; total time= 7.5min\n",
      "[CV] END colsample_bytree=0.9, gamma=0.2, learning_rate=0.05, max_depth=5, min_child_weight=5, n_estimators=500, subsample=0.9; total time=13.1min\n",
      "[CV] END colsample_bytree=0.8, gamma=0.1, learning_rate=0.2, max_depth=5, min_child_weight=4, n_estimators=100, subsample=0.8; total time= 2.5min\n",
      "[CV] END colsample_bytree=0.8, gamma=0, learning_rate=0.2, max_depth=6, min_child_weight=4, n_estimators=10, subsample=0.5; total time=  16.7s\n",
      "[CV] END colsample_bytree=0.8, gamma=0, learning_rate=0.2, max_depth=6, min_child_weight=4, n_estimators=10, subsample=0.5; total time=  17.4s\n",
      "[CV] END colsample_bytree=0.8, gamma=0, learning_rate=0.2, max_depth=6, min_child_weight=4, n_estimators=10, subsample=0.5; total time=  17.2s\n",
      "[CV] END colsample_bytree=0.8, gamma=0.3, learning_rate=0.1, max_depth=6, min_child_weight=4, n_estimators=300, subsample=0.6; total time= 8.4min\n",
      "[CV] END colsample_bytree=0.5, gamma=0.2, learning_rate=0.1, max_depth=7, min_child_weight=1, n_estimators=200, subsample=0.8; total time= 5.1min\n",
      "[CV] END colsample_bytree=0.6, gamma=0.1, learning_rate=0.2, max_depth=6, min_child_weight=5, n_estimators=100, subsample=0.7; total time= 2.5min\n",
      "[CV] END colsample_bytree=0.5, gamma=0.1, learning_rate=0.05, max_depth=5, min_child_weight=2, n_estimators=300, subsample=0.9; total time= 6.7min\n",
      "[CV] END colsample_bytree=0.8, gamma=0.2, learning_rate=0.01, max_depth=6, min_child_weight=3, n_estimators=200, subsample=0.9; total time= 5.5min\n",
      "[CV] END colsample_bytree=0.6, gamma=0.3, learning_rate=0.01, max_depth=4, min_child_weight=1, n_estimators=100, subsample=0.8; total time= 2.3min\n",
      "[CV] END colsample_bytree=0.6, gamma=0.3, learning_rate=0.01, max_depth=4, min_child_weight=1, n_estimators=100, subsample=0.8; total time= 2.2min\n",
      "[CV] END colsample_bytree=0.7, gamma=0.1, learning_rate=0.05, max_depth=5, min_child_weight=1, n_estimators=200, subsample=0.8; total time= 5.1min\n",
      "[CV] END colsample_bytree=0.6, gamma=0.3, learning_rate=0.1, max_depth=4, min_child_weight=1, n_estimators=200, subsample=0.7; total time= 4.4min\n",
      "[CV] END colsample_bytree=0.8, gamma=0.2, learning_rate=0.2, max_depth=5, min_child_weight=3, n_estimators=200, subsample=0.9; total time= 4.4min\n",
      "[CV] END colsample_bytree=0.8, gamma=0, learning_rate=0.1, max_depth=7, min_child_weight=1, n_estimators=300, subsample=0.9; total time= 8.8min\n",
      "[CV] END colsample_bytree=0.5, gamma=0.4, learning_rate=0.01, max_depth=7, min_child_weight=3, n_estimators=300, subsample=0.8; total time= 7.0min\n",
      "[CV] END colsample_bytree=0.8, gamma=0.3, learning_rate=0.3, max_depth=8, min_child_weight=4, n_estimators=500, subsample=0.6; total time=15.5min\n",
      "[CV] END colsample_bytree=0.8, gamma=0.4, learning_rate=0.2, max_depth=4, min_child_weight=1, n_estimators=100, subsample=0.5; total time= 2.4min\n",
      "[CV] END colsample_bytree=0.8, gamma=0.2, learning_rate=0.2, max_depth=5, min_child_weight=1, n_estimators=100, subsample=0.7; total time= 2.5min\n",
      "[CV] END colsample_bytree=0.8, gamma=0, learning_rate=0.1, max_depth=6, min_child_weight=5, n_estimators=10, subsample=0.5; total time=  15.9s\n",
      "[CV] END colsample_bytree=0.8, gamma=0, learning_rate=0.1, max_depth=6, min_child_weight=5, n_estimators=10, subsample=0.5; total time=  15.3s\n",
      "[CV] END colsample_bytree=0.8, gamma=0, learning_rate=0.1, max_depth=6, min_child_weight=5, n_estimators=10, subsample=0.5; total time=  16.5s\n",
      "[CV] END colsample_bytree=0.6, gamma=0.2, learning_rate=0.01, max_depth=5, min_child_weight=5, n_estimators=200, subsample=0.5; total time= 4.6min\n",
      "[CV] END colsample_bytree=0.9, gamma=0.4, learning_rate=0.1, max_depth=5, min_child_weight=5, n_estimators=300, subsample=0.6; total time= 7.9min\n",
      "[CV] END colsample_bytree=0.6, gamma=0.3, learning_rate=0.1, max_depth=7, min_child_weight=5, n_estimators=200, subsample=0.8; total time= 5.0min\n",
      "[CV] END colsample_bytree=0.9, gamma=0.4, learning_rate=0.05, max_depth=7, min_child_weight=4, n_estimators=200, subsample=0.5; total time= 5.9min\n",
      "[CV] END colsample_bytree=0.8, gamma=0.3, learning_rate=0.1, max_depth=4, min_child_weight=1, n_estimators=300, subsample=0.5; total time= 6.8min\n",
      "[CV] END colsample_bytree=0.7, gamma=0.2, learning_rate=0.2, max_depth=8, min_child_weight=4, n_estimators=500, subsample=0.9; total time=13.8min\n",
      "[CV] END colsample_bytree=0.5, gamma=0.3, learning_rate=0.3, max_depth=7, min_child_weight=2, n_estimators=500, subsample=0.7; total time=11.8min\n",
      "[CV] END colsample_bytree=0.9, gamma=0, learning_rate=0.1, max_depth=7, min_child_weight=5, n_estimators=500, subsample=0.8; total time=14.5min\n",
      "[CV] END colsample_bytree=0.7, gamma=0.3, learning_rate=0.05, max_depth=6, min_child_weight=3, n_estimators=300, subsample=0.9; total time= 7.8min\n",
      "[CV] END colsample_bytree=0.8, gamma=0, learning_rate=0.05, max_depth=8, min_child_weight=2, n_estimators=500, subsample=0.9; total time=14.9min\n",
      "[CV] END colsample_bytree=0.9, gamma=0.4, learning_rate=0.1, max_depth=8, min_child_weight=5, n_estimators=300, subsample=0.6; total time= 9.9min\n",
      "[CV] END colsample_bytree=0.6, gamma=0.2, learning_rate=0.3, max_depth=8, min_child_weight=1, n_estimators=100, subsample=0.6; total time= 2.8min\n",
      "[CV] END colsample_bytree=0.5, gamma=0, learning_rate=0.1, max_depth=7, min_child_weight=1, n_estimators=300, subsample=0.5; total time= 7.3min\n",
      "[CV] END colsample_bytree=0.9, gamma=0.2, learning_rate=0.05, max_depth=5, min_child_weight=5, n_estimators=500, subsample=0.9; total time=13.2min\n",
      "[CV] END colsample_bytree=0.8, gamma=0.1, learning_rate=0.2, max_depth=5, min_child_weight=4, n_estimators=100, subsample=0.8; total time= 2.6min\n",
      "[CV] END colsample_bytree=0.8, gamma=0, learning_rate=0.2, max_depth=6, min_child_weight=4, n_estimators=10, subsample=0.5; total time=  16.4s\n",
      "[CV] END colsample_bytree=0.8, gamma=0, learning_rate=0.2, max_depth=6, min_child_weight=4, n_estimators=10, subsample=0.5; total time=  16.9s\n",
      "[CV] END colsample_bytree=0.8, gamma=0, learning_rate=0.2, max_depth=6, min_child_weight=4, n_estimators=10, subsample=0.5; total time=  16.5s\n",
      "[CV] END colsample_bytree=0.8, gamma=0.3, learning_rate=0.1, max_depth=6, min_child_weight=4, n_estimators=300, subsample=0.6; total time= 8.3min\n",
      "[CV] END colsample_bytree=0.9, gamma=0.2, learning_rate=0.1, max_depth=7, min_child_weight=2, n_estimators=500, subsample=0.6; total time=15.6min\n",
      "[CV] END colsample_bytree=0.9, gamma=0, learning_rate=0.05, max_depth=4, min_child_weight=3, n_estimators=10, subsample=0.9; total time=  13.7s\n",
      "[CV] END colsample_bytree=0.5, gamma=0.4, learning_rate=0.1, max_depth=8, min_child_weight=3, n_estimators=10, subsample=0.8; total time=  15.0s\n",
      "[CV] END colsample_bytree=0.5, gamma=0.4, learning_rate=0.1, max_depth=8, min_child_weight=3, n_estimators=10, subsample=0.8; total time=  14.8s\n",
      "[CV] END colsample_bytree=0.9, gamma=0.2, learning_rate=0.3, max_depth=4, min_child_weight=4, n_estimators=500, subsample=0.5; total time=11.9min\n",
      "[CV] END colsample_bytree=0.9, gamma=0.2, learning_rate=0.01, max_depth=6, min_child_weight=2, n_estimators=100, subsample=0.6; total time= 2.9min\n",
      "[CV] END colsample_bytree=0.8, gamma=0.2, learning_rate=0.1, max_depth=4, min_child_weight=5, n_estimators=500, subsample=0.9; total time= 8.7min\n",
      "[CV] END colsample_bytree=0.8, gamma=0, learning_rate=0.1, max_depth=7, min_child_weight=1, n_estimators=300, subsample=0.9; total time= 8.8min\n",
      "[CV] END colsample_bytree=0.5, gamma=0.4, learning_rate=0.01, max_depth=7, min_child_weight=3, n_estimators=300, subsample=0.8; total time= 7.1min\n",
      "[CV] END colsample_bytree=0.8, gamma=0.3, learning_rate=0.3, max_depth=8, min_child_weight=4, n_estimators=500, subsample=0.6; total time=15.2min\n",
      "[CV] END colsample_bytree=0.8, gamma=0.4, learning_rate=0.2, max_depth=4, min_child_weight=1, n_estimators=100, subsample=0.5; total time= 2.3min\n",
      "[CV] END colsample_bytree=0.8, gamma=0.2, learning_rate=0.2, max_depth=5, min_child_weight=1, n_estimators=100, subsample=0.7; total time= 2.6min\n",
      "[CV] END colsample_bytree=0.8, gamma=0.2, learning_rate=0.2, max_depth=5, min_child_weight=1, n_estimators=100, subsample=0.7; total time= 2.5min\n",
      "[CV] END colsample_bytree=0.6, gamma=0.2, learning_rate=0.01, max_depth=5, min_child_weight=5, n_estimators=200, subsample=0.5; total time= 4.6min\n",
      "[CV] END colsample_bytree=0.9, gamma=0.2, learning_rate=0.1, max_depth=4, min_child_weight=1, n_estimators=100, subsample=0.8; total time= 2.3min\n",
      "[CV] END colsample_bytree=0.9, gamma=0.2, learning_rate=0.1, max_depth=4, min_child_weight=1, n_estimators=100, subsample=0.8; total time= 2.4min\n",
      "[CV] END colsample_bytree=0.9, gamma=0.3, learning_rate=0.05, max_depth=4, min_child_weight=1, n_estimators=100, subsample=0.6; total time= 2.3min\n",
      "[CV] END colsample_bytree=0.8, gamma=0.1, learning_rate=0.2, max_depth=6, min_child_weight=1, n_estimators=10, subsample=0.9; total time=  15.2s\n",
      "[CV] END colsample_bytree=0.8, gamma=0.1, learning_rate=0.2, max_depth=6, min_child_weight=1, n_estimators=10, subsample=0.9; total time=  15.7s\n",
      "[CV] END colsample_bytree=0.7, gamma=0.4, learning_rate=0.2, max_depth=7, min_child_weight=3, n_estimators=200, subsample=0.8; total time= 5.2min\n",
      "[CV] END colsample_bytree=0.9, gamma=0.4, learning_rate=0.05, max_depth=7, min_child_weight=4, n_estimators=200, subsample=0.5; total time= 6.0min\n",
      "[CV] END colsample_bytree=0.8, gamma=0.3, learning_rate=0.1, max_depth=4, min_child_weight=1, n_estimators=300, subsample=0.5; total time= 6.8min\n",
      "[CV] END colsample_bytree=0.6, gamma=0.2, learning_rate=0.05, max_depth=6, min_child_weight=5, n_estimators=100, subsample=0.7; total time= 2.3min\n",
      "[CV] END colsample_bytree=0.6, gamma=0.4, learning_rate=0.05, max_depth=8, min_child_weight=2, n_estimators=200, subsample=0.5; total time= 5.4min\n",
      "[CV] END colsample_bytree=0.7, gamma=0, learning_rate=0.05, max_depth=8, min_child_weight=4, n_estimators=300, subsample=0.9; total time= 8.3min\n",
      "[CV] END colsample_bytree=0.5, gamma=0.3, learning_rate=0.3, max_depth=7, min_child_weight=2, n_estimators=500, subsample=0.7; total time=11.7min\n",
      "[CV] END colsample_bytree=0.6, gamma=0.1, learning_rate=0.3, max_depth=6, min_child_weight=2, n_estimators=500, subsample=0.8; total time=12.4min\n",
      "[CV] END colsample_bytree=0.6, gamma=0.2, learning_rate=0.3, max_depth=7, min_child_weight=5, n_estimators=300, subsample=0.7; total time= 7.4min\n",
      "[CV] END colsample_bytree=0.8, gamma=0, learning_rate=0.05, max_depth=8, min_child_weight=2, n_estimators=500, subsample=0.9; total time=14.9min\n",
      "[CV] END colsample_bytree=0.7, gamma=0.4, learning_rate=0.05, max_depth=8, min_child_weight=3, n_estimators=10, subsample=0.5; total time=  16.7s\n",
      "[CV] END colsample_bytree=0.9, gamma=0.4, learning_rate=0.2, max_depth=6, min_child_weight=2, n_estimators=10, subsample=0.9; total time=  16.9s\n",
      "[CV] END colsample_bytree=0.9, gamma=0.4, learning_rate=0.2, max_depth=6, min_child_weight=2, n_estimators=10, subsample=0.9; total time=  15.9s\n",
      "[CV] END colsample_bytree=0.5, gamma=0.4, learning_rate=0.1, max_depth=5, min_child_weight=1, n_estimators=10, subsample=0.8; total time=  12.3s\n",
      "[CV] END colsample_bytree=0.5, gamma=0.4, learning_rate=0.1, max_depth=5, min_child_weight=1, n_estimators=10, subsample=0.8; total time=  12.8s\n",
      "[CV] END colsample_bytree=0.6, gamma=0.4, learning_rate=0.01, max_depth=7, min_child_weight=1, n_estimators=100, subsample=0.6; total time= 2.7min\n",
      "[CV] END colsample_bytree=0.6, gamma=0.2, learning_rate=0.3, max_depth=8, min_child_weight=4, n_estimators=10, subsample=0.5; total time=  15.8s\n",
      "[CV] END colsample_bytree=0.7, gamma=0, learning_rate=0.2, max_depth=7, min_child_weight=4, n_estimators=100, subsample=0.8; total time= 2.6min\n",
      "[CV] END colsample_bytree=0.9, gamma=0.3, learning_rate=0.2, max_depth=7, min_child_weight=5, n_estimators=200, subsample=0.7; total time= 5.9min\n",
      "[CV] END colsample_bytree=0.5, gamma=0, learning_rate=0.1, max_depth=7, min_child_weight=1, n_estimators=300, subsample=0.5; total time= 7.2min\n",
      "[CV] END colsample_bytree=0.9, gamma=0.2, learning_rate=0.05, max_depth=5, min_child_weight=5, n_estimators=500, subsample=0.9; total time=12.6min\n",
      "[CV] END colsample_bytree=0.5, gamma=0, learning_rate=0.1, max_depth=6, min_child_weight=2, n_estimators=500, subsample=0.8; total time=11.2min\n",
      "[CV] END colsample_bytree=0.9, gamma=0.2, learning_rate=0.1, max_depth=7, min_child_weight=2, n_estimators=500, subsample=0.6; total time=15.0min\n",
      "[CV] END colsample_bytree=0.9, gamma=0, learning_rate=0.05, max_depth=4, min_child_weight=3, n_estimators=10, subsample=0.9; total time=  15.0s\n",
      "[CV] END colsample_bytree=0.9, gamma=0, learning_rate=0.05, max_depth=4, min_child_weight=3, n_estimators=10, subsample=0.9; total time=  13.2s\n",
      "[CV] END colsample_bytree=0.9, gamma=0, learning_rate=0.05, max_depth=4, min_child_weight=3, n_estimators=10, subsample=0.9; total time=  13.2s\n",
      "[CV] END colsample_bytree=0.9, gamma=0, learning_rate=0.05, max_depth=4, min_child_weight=3, n_estimators=10, subsample=0.9; total time=  13.9s\n",
      "[CV] END colsample_bytree=0.5, gamma=0.4, learning_rate=0.1, max_depth=8, min_child_weight=3, n_estimators=10, subsample=0.8; total time=  15.2s\n",
      "[CV] END colsample_bytree=0.5, gamma=0.4, learning_rate=0.1, max_depth=8, min_child_weight=3, n_estimators=10, subsample=0.8; total time=  14.9s\n",
      "[CV] END colsample_bytree=0.9, gamma=0.2, learning_rate=0.3, max_depth=4, min_child_weight=4, n_estimators=500, subsample=0.5; total time=12.4min\n",
      "[CV] END colsample_bytree=0.9, gamma=0.2, learning_rate=0.01, max_depth=6, min_child_weight=2, n_estimators=100, subsample=0.6; total time= 3.0min\n",
      "[CV] END colsample_bytree=0.8, gamma=0.2, learning_rate=0.1, max_depth=4, min_child_weight=5, n_estimators=500, subsample=0.9; total time= 8.3min\n",
      "[CV] END colsample_bytree=0.9, gamma=0.2, learning_rate=0.3, max_depth=8, min_child_weight=1, n_estimators=300, subsample=0.7; total time= 9.8min\n",
      "[CV] END colsample_bytree=0.6, gamma=0, learning_rate=0.3, max_depth=6, min_child_weight=4, n_estimators=300, subsample=0.8; total time= 7.4min\n",
      "[CV] END colsample_bytree=0.8, gamma=0.3, learning_rate=0.3, max_depth=8, min_child_weight=4, n_estimators=500, subsample=0.6; total time=15.5min\n",
      "[CV] END colsample_bytree=0.6, gamma=0.2, learning_rate=0.05, max_depth=6, min_child_weight=5, n_estimators=300, subsample=0.9; total time= 7.6min\n",
      "[CV] END colsample_bytree=0.9, gamma=0.4, learning_rate=0.1, max_depth=5, min_child_weight=5, n_estimators=300, subsample=0.6; total time= 7.8min\n",
      "[CV] END colsample_bytree=0.9, gamma=0.3, learning_rate=0.05, max_depth=4, min_child_weight=1, n_estimators=100, subsample=0.6; total time= 2.4min\n",
      "[CV] END colsample_bytree=0.8, gamma=0.1, learning_rate=0.2, max_depth=6, min_child_weight=1, n_estimators=10, subsample=0.9; total time=  17.1s\n",
      "[CV] END colsample_bytree=0.7, gamma=0.4, learning_rate=0.2, max_depth=7, min_child_weight=3, n_estimators=200, subsample=0.8; total time= 5.3min\n",
      "[CV] END colsample_bytree=0.9, gamma=0.4, learning_rate=0.05, max_depth=7, min_child_weight=4, n_estimators=200, subsample=0.5; total time= 6.0min\n",
      "[CV] END colsample_bytree=0.8, gamma=0.3, learning_rate=0.1, max_depth=4, min_child_weight=1, n_estimators=300, subsample=0.5; total time= 6.9min\n",
      "[CV] END colsample_bytree=0.8, gamma=0.1, learning_rate=0.1, max_depth=4, min_child_weight=3, n_estimators=300, subsample=0.7; total time= 6.9min\n",
      "[CV] END colsample_bytree=0.6, gamma=0.4, learning_rate=0.05, max_depth=8, min_child_weight=2, n_estimators=200, subsample=0.5; total time= 5.4min\n",
      "[CV] END colsample_bytree=0.5, gamma=0.3, learning_rate=0.3, max_depth=7, min_child_weight=2, n_estimators=500, subsample=0.7; total time=11.9min\n",
      "[CV] END colsample_bytree=0.6, gamma=0.1, learning_rate=0.3, max_depth=6, min_child_weight=2, n_estimators=500, subsample=0.8; total time=12.2min\n",
      "[CV] END colsample_bytree=0.8, gamma=0.1, learning_rate=0.2, max_depth=7, min_child_weight=2, n_estimators=100, subsample=0.5; total time= 3.0min\n",
      "[CV] END colsample_bytree=0.8, gamma=0, learning_rate=0.1, max_depth=7, min_child_weight=5, n_estimators=200, subsample=0.8; total time= 6.0min\n",
      "[CV] END colsample_bytree=0.5, gamma=0.3, learning_rate=0.2, max_depth=8, min_child_weight=1, n_estimators=200, subsample=0.5; total time= 5.3min\n",
      "[CV] END colsample_bytree=0.7, gamma=0, learning_rate=0.1, max_depth=4, min_child_weight=3, n_estimators=10, subsample=0.9; total time=  12.9s\n",
      "[CV] END colsample_bytree=0.8, gamma=0, learning_rate=0.05, max_depth=8, min_child_weight=3, n_estimators=100, subsample=0.6; total time= 3.2min\n",
      "[CV] END colsample_bytree=0.9, gamma=0.4, learning_rate=0.1, max_depth=8, min_child_weight=5, n_estimators=300, subsample=0.6; total time= 9.8min\n",
      "[CV] END colsample_bytree=0.7, gamma=0, learning_rate=0.1, max_depth=7, min_child_weight=2, n_estimators=100, subsample=0.9; total time= 2.8min\n",
      "[CV] END colsample_bytree=0.7, gamma=0, learning_rate=0.2, max_depth=7, min_child_weight=4, n_estimators=100, subsample=0.8; total time= 2.8min\n",
      "[CV] END colsample_bytree=0.9, gamma=0, learning_rate=0.1, max_depth=4, min_child_weight=2, n_estimators=300, subsample=0.7; total time= 7.5min\n",
      "[CV] END colsample_bytree=0.9, gamma=0, learning_rate=0.05, max_depth=8, min_child_weight=4, n_estimators=300, subsample=0.7; total time=10.1min\n",
      "[CV] END colsample_bytree=0.5, gamma=0.4, learning_rate=0.1, max_depth=4, min_child_weight=4, n_estimators=100, subsample=0.5; total time= 2.2min\n",
      "[CV] END colsample_bytree=0.9, gamma=0.3, learning_rate=0.3, max_depth=5, min_child_weight=4, n_estimators=100, subsample=0.7; total time= 2.7min\n",
      "[CV] END colsample_bytree=0.7, gamma=0.4, learning_rate=0.01, max_depth=7, min_child_weight=3, n_estimators=300, subsample=0.9; total time= 8.6min\n",
      "[CV] END colsample_bytree=0.9, gamma=0.2, learning_rate=0.1, max_depth=7, min_child_weight=2, n_estimators=500, subsample=0.6; total time=15.1min\n",
      "[CV] END colsample_bytree=0.9, gamma=0.2, learning_rate=0.05, max_depth=6, min_child_weight=5, n_estimators=500, subsample=0.5; total time=13.7min\n",
      "[CV] END colsample_bytree=0.7, gamma=0.1, learning_rate=0.05, max_depth=5, min_child_weight=1, n_estimators=200, subsample=0.8; total time= 5.0min\n",
      "[CV] END colsample_bytree=0.9, gamma=0.2, learning_rate=0.01, max_depth=6, min_child_weight=2, n_estimators=100, subsample=0.6; total time= 3.0min\n",
      "[CV] END colsample_bytree=0.8, gamma=0.2, learning_rate=0.1, max_depth=4, min_child_weight=5, n_estimators=500, subsample=0.9; total time= 8.8min\n",
      "[CV] END colsample_bytree=0.9, gamma=0.2, learning_rate=0.3, max_depth=8, min_child_weight=1, n_estimators=300, subsample=0.7; total time= 9.5min\n",
      "[CV] END colsample_bytree=0.9, gamma=0, learning_rate=0.2, max_depth=8, min_child_weight=5, n_estimators=500, subsample=0.7; total time=15.4min\n",
      "[CV] END colsample_bytree=0.8, gamma=0.1, learning_rate=0.05, max_depth=7, min_child_weight=5, n_estimators=200, subsample=0.6; total time= 5.9min\n",
      "[CV] END colsample_bytree=0.8, gamma=0.1, learning_rate=0.2, max_depth=6, min_child_weight=2, n_estimators=300, subsample=0.6; total time= 8.5min\n",
      "[CV] END colsample_bytree=0.8, gamma=0, learning_rate=0.05, max_depth=5, min_child_weight=5, n_estimators=500, subsample=0.6; total time=12.5min\n",
      "[CV] END colsample_bytree=0.9, gamma=0.2, learning_rate=0.01, max_depth=7, min_child_weight=2, n_estimators=500, subsample=0.6; total time=15.3min\n",
      "[CV] END colsample_bytree=0.7, gamma=0.2, learning_rate=0.2, max_depth=8, min_child_weight=4, n_estimators=500, subsample=0.9; total time=13.7min\n",
      "[CV] END colsample_bytree=0.8, gamma=0.4, learning_rate=0.05, max_depth=7, min_child_weight=3, n_estimators=300, subsample=0.6; total time= 8.6min\n",
      "[CV] END colsample_bytree=0.8, gamma=0.3, learning_rate=0.3, max_depth=6, min_child_weight=1, n_estimators=500, subsample=0.8; total time=13.1min\n",
      "[CV] END colsample_bytree=0.9, gamma=0.4, learning_rate=0.05, max_depth=4, min_child_weight=4, n_estimators=10, subsample=0.5; total time=  14.2s\n",
      "[CV] END colsample_bytree=0.9, gamma=0.4, learning_rate=0.05, max_depth=4, min_child_weight=4, n_estimators=10, subsample=0.5; total time=  14.2s\n",
      "[CV] END colsample_bytree=0.9, gamma=0.4, learning_rate=0.05, max_depth=4, min_child_weight=4, n_estimators=10, subsample=0.5; total time=  14.3s\n",
      "[CV] END colsample_bytree=0.9, gamma=0.4, learning_rate=0.05, max_depth=4, min_child_weight=4, n_estimators=10, subsample=0.5; total time=  14.4s\n",
      "[CV] END colsample_bytree=0.9, gamma=0.4, learning_rate=0.05, max_depth=4, min_child_weight=4, n_estimators=10, subsample=0.5; total time=  13.8s\n",
      "[CV] END colsample_bytree=0.6, gamma=0.4, learning_rate=0.05, max_depth=7, min_child_weight=2, n_estimators=10, subsample=0.8; total time=  14.4s\n",
      "[CV] END colsample_bytree=0.6, gamma=0.4, learning_rate=0.05, max_depth=7, min_child_weight=2, n_estimators=10, subsample=0.8; total time=  15.2s\n",
      "[CV] END colsample_bytree=0.6, gamma=0.4, learning_rate=0.05, max_depth=7, min_child_weight=2, n_estimators=10, subsample=0.8; total time=  15.3s\n",
      "[CV] END colsample_bytree=0.8, gamma=0.1, learning_rate=0.2, max_depth=7, min_child_weight=2, n_estimators=100, subsample=0.5; total time= 2.9min\n",
      "[CV] END colsample_bytree=0.7, gamma=0.3, learning_rate=0.05, max_depth=6, min_child_weight=3, n_estimators=300, subsample=0.9; total time= 7.9min\n",
      "[CV] END colsample_bytree=0.8, gamma=0, learning_rate=0.05, max_depth=8, min_child_weight=2, n_estimators=500, subsample=0.9; total time=15.4min\n",
      "[CV] END colsample_bytree=0.7, gamma=0.4, learning_rate=0.05, max_depth=8, min_child_weight=3, n_estimators=10, subsample=0.5; total time=  18.2s\n",
      "[CV] END colsample_bytree=0.7, gamma=0.4, learning_rate=0.05, max_depth=8, min_child_weight=3, n_estimators=10, subsample=0.5; total time=  16.9s\n",
      "[CV] END colsample_bytree=0.9, gamma=0.4, learning_rate=0.2, max_depth=6, min_child_weight=2, n_estimators=10, subsample=0.9; total time=  16.3s\n",
      "[CV] END colsample_bytree=0.9, gamma=0.4, learning_rate=0.2, max_depth=6, min_child_weight=2, n_estimators=10, subsample=0.9; total time=  16.5s\n",
      "[CV] END colsample_bytree=0.5, gamma=0.4, learning_rate=0.1, max_depth=5, min_child_weight=1, n_estimators=10, subsample=0.8; total time=  12.9s\n",
      "[CV] END colsample_bytree=0.5, gamma=0.4, learning_rate=0.1, max_depth=5, min_child_weight=1, n_estimators=10, subsample=0.8; total time=  12.4s\n",
      "[CV] END colsample_bytree=0.5, gamma=0.4, learning_rate=0.1, max_depth=5, min_child_weight=1, n_estimators=10, subsample=0.8; total time=  12.4s\n",
      "[CV] END colsample_bytree=0.6, gamma=0.4, learning_rate=0.01, max_depth=7, min_child_weight=1, n_estimators=100, subsample=0.6; total time= 2.6min\n",
      "[CV] END colsample_bytree=0.6, gamma=0.2, learning_rate=0.3, max_depth=8, min_child_weight=4, n_estimators=10, subsample=0.5; total time=  16.6s\n",
      "[CV] END colsample_bytree=0.9, gamma=0.4, learning_rate=0.2, max_depth=6, min_child_weight=3, n_estimators=100, subsample=0.6; total time= 2.7min\n",
      "[CV] END colsample_bytree=0.5, gamma=0.3, learning_rate=0.2, max_depth=4, min_child_weight=4, n_estimators=10, subsample=0.7; total time=  11.1s\n",
      "[CV] END colsample_bytree=0.5, gamma=0.3, learning_rate=0.2, max_depth=4, min_child_weight=4, n_estimators=10, subsample=0.7; total time=  11.2s\n",
      "[CV] END colsample_bytree=0.9, gamma=0, learning_rate=0.1, max_depth=4, min_child_weight=2, n_estimators=300, subsample=0.7; total time= 7.1min\n",
      "[CV] END colsample_bytree=0.6, gamma=0.4, learning_rate=0.01, max_depth=7, min_child_weight=1, n_estimators=500, subsample=0.5; total time=13.0min\n",
      "[CV] END colsample_bytree=0.9, gamma=0.3, learning_rate=0.3, max_depth=5, min_child_weight=4, n_estimators=100, subsample=0.7; total time= 2.7min\n",
      "[CV] END colsample_bytree=0.8, gamma=0.1, learning_rate=0.2, max_depth=5, min_child_weight=4, n_estimators=100, subsample=0.8; total time= 2.5min\n",
      "[CV] END colsample_bytree=0.5, gamma=0, learning_rate=0.1, max_depth=6, min_child_weight=2, n_estimators=500, subsample=0.8; total time=11.9min\n",
      "[CV] END colsample_bytree=0.5, gamma=0.2, learning_rate=0.1, max_depth=7, min_child_weight=1, n_estimators=200, subsample=0.8; total time= 4.7min\n",
      "[CV] END colsample_bytree=0.6, gamma=0.1, learning_rate=0.2, max_depth=6, min_child_weight=5, n_estimators=100, subsample=0.7; total time= 2.3min\n",
      "[CV] END colsample_bytree=0.5, gamma=0.1, learning_rate=0.05, max_depth=5, min_child_weight=2, n_estimators=300, subsample=0.9; total time= 6.5min\n",
      "[CV] END colsample_bytree=0.8, gamma=0.2, learning_rate=0.01, max_depth=6, min_child_weight=3, n_estimators=200, subsample=0.9; total time= 5.3min\n",
      "[CV] END colsample_bytree=0.6, gamma=0.3, learning_rate=0.01, max_depth=4, min_child_weight=1, n_estimators=100, subsample=0.8; total time= 2.1min\n",
      "[CV] END colsample_bytree=0.6, gamma=0.3, learning_rate=0.01, max_depth=4, min_child_weight=1, n_estimators=100, subsample=0.8; total time= 2.1min\n",
      "[CV] END colsample_bytree=0.7, gamma=0.1, learning_rate=0.05, max_depth=5, min_child_weight=1, n_estimators=200, subsample=0.8; total time= 4.7min\n",
      "[CV] END colsample_bytree=0.9, gamma=0.2, learning_rate=0.01, max_depth=6, min_child_weight=2, n_estimators=100, subsample=0.6; total time= 2.8min\n",
      "[CV] END colsample_bytree=0.8, gamma=0.2, learning_rate=0.1, max_depth=4, min_child_weight=5, n_estimators=500, subsample=0.9; total time= 8.9min\n",
      "[CV] END colsample_bytree=0.5, gamma=0, learning_rate=0.1, max_depth=6, min_child_weight=4, n_estimators=200, subsample=0.6; total time= 4.3min\n",
      "[CV] END colsample_bytree=0.8, gamma=0, learning_rate=0.1, max_depth=7, min_child_weight=1, n_estimators=300, subsample=0.9; total time= 8.4min\n",
      "[CV] END colsample_bytree=0.6, gamma=0, learning_rate=0.3, max_depth=6, min_child_weight=4, n_estimators=300, subsample=0.8; total time= 7.4min\n",
      "[CV] END colsample_bytree=0.8, gamma=0.1, learning_rate=0.05, max_depth=8, min_child_weight=1, n_estimators=10, subsample=0.7; total time=  19.2s\n",
      "[CV] END colsample_bytree=0.8, gamma=0.1, learning_rate=0.05, max_depth=8, min_child_weight=1, n_estimators=10, subsample=0.7; total time=  20.1s\n",
      "[CV] END colsample_bytree=0.8, gamma=0.1, learning_rate=0.05, max_depth=8, min_child_weight=1, n_estimators=10, subsample=0.7; total time=  20.3s\n",
      "[CV] END colsample_bytree=0.6, gamma=0.4, learning_rate=0.05, max_depth=4, min_child_weight=2, n_estimators=200, subsample=0.7; total time= 4.3min\n",
      "[CV] END colsample_bytree=0.8, gamma=0.1, learning_rate=0.05, max_depth=7, min_child_weight=5, n_estimators=200, subsample=0.6; total time= 5.9min\n",
      "[CV] END colsample_bytree=0.8, gamma=0.4, learning_rate=0.2, max_depth=4, min_child_weight=1, n_estimators=100, subsample=0.5; total time= 2.4min\n",
      "[CV] END colsample_bytree=0.8, gamma=0.2, learning_rate=0.2, max_depth=5, min_child_weight=1, n_estimators=100, subsample=0.7; total time= 2.7min\n",
      "[CV] END colsample_bytree=0.8, gamma=0, learning_rate=0.1, max_depth=6, min_child_weight=5, n_estimators=10, subsample=0.5; total time=  16.6s\n",
      "[CV] END colsample_bytree=0.8, gamma=0, learning_rate=0.1, max_depth=6, min_child_weight=5, n_estimators=10, subsample=0.5; total time=  15.7s\n",
      "[CV] END colsample_bytree=0.8, gamma=0, learning_rate=0.1, max_depth=6, min_child_weight=5, n_estimators=10, subsample=0.5; total time=  17.5s\n",
      "[CV] END colsample_bytree=0.6, gamma=0.2, learning_rate=0.01, max_depth=5, min_child_weight=5, n_estimators=200, subsample=0.5; total time= 4.7min\n",
      "[CV] END colsample_bytree=0.9, gamma=0.4, learning_rate=0.1, max_depth=5, min_child_weight=5, n_estimators=300, subsample=0.6; total time= 8.2min\n",
      "[CV] END colsample_bytree=0.8, gamma=0.1, learning_rate=0.2, max_depth=6, min_child_weight=1, n_estimators=10, subsample=0.9; total time=  15.0s\n",
      "[CV] END colsample_bytree=0.8, gamma=0.1, learning_rate=0.2, max_depth=6, min_child_weight=1, n_estimators=10, subsample=0.9; total time=  16.4s\n",
      "[CV] END colsample_bytree=0.7, gamma=0.4, learning_rate=0.2, max_depth=7, min_child_weight=3, n_estimators=200, subsample=0.8; total time= 5.6min\n",
      "[CV] END colsample_bytree=0.7, gamma=0.2, learning_rate=0.2, max_depth=4, min_child_weight=1, n_estimators=300, subsample=0.7; total time= 6.9min\n",
      "[CV] END colsample_bytree=0.8, gamma=0.3, learning_rate=0.1, max_depth=4, min_child_weight=1, n_estimators=300, subsample=0.5; total time= 7.1min\n",
      "[CV] END colsample_bytree=0.8, gamma=0.1, learning_rate=0.1, max_depth=4, min_child_weight=3, n_estimators=300, subsample=0.7; total time= 7.2min\n",
      "[CV] END colsample_bytree=0.5, gamma=0, learning_rate=0.01, max_depth=8, min_child_weight=3, n_estimators=10, subsample=0.7; total time=  15.7s\n",
      "[CV] END colsample_bytree=0.5, gamma=0, learning_rate=0.01, max_depth=8, min_child_weight=3, n_estimators=10, subsample=0.7; total time=  15.7s\n",
      "[CV] END colsample_bytree=0.8, gamma=0.4, learning_rate=0.05, max_depth=7, min_child_weight=3, n_estimators=300, subsample=0.6; total time= 8.9min\n",
      "[CV] END colsample_bytree=0.8, gamma=0.3, learning_rate=0.3, max_depth=6, min_child_weight=1, n_estimators=500, subsample=0.8; total time=13.2min\n",
      "[CV] END colsample_bytree=0.6, gamma=0.1, learning_rate=0.3, max_depth=6, min_child_weight=2, n_estimators=500, subsample=0.8; total time=12.5min\n",
      "[CV] END colsample_bytree=0.6, gamma=0.2, learning_rate=0.3, max_depth=7, min_child_weight=5, n_estimators=300, subsample=0.7; total time= 7.5min\n",
      "[CV] END colsample_bytree=0.8, gamma=0, learning_rate=0.05, max_depth=8, min_child_weight=3, n_estimators=100, subsample=0.6; total time= 3.2min\n",
      "[CV] END colsample_bytree=0.9, gamma=0.4, learning_rate=0.1, max_depth=8, min_child_weight=5, n_estimators=300, subsample=0.6; total time= 9.8min\n",
      "[CV] END colsample_bytree=0.7, gamma=0, learning_rate=0.1, max_depth=7, min_child_weight=2, n_estimators=100, subsample=0.9; total time= 2.8min\n",
      "[CV] END colsample_bytree=0.7, gamma=0, learning_rate=0.2, max_depth=7, min_child_weight=4, n_estimators=100, subsample=0.8; total time= 2.7min\n",
      "[CV] END colsample_bytree=0.6, gamma=0.2, learning_rate=0.3, max_depth=8, min_child_weight=1, n_estimators=100, subsample=0.6; total time= 2.8min\n",
      "[CV] END colsample_bytree=0.6, gamma=0.2, learning_rate=0.3, max_depth=8, min_child_weight=1, n_estimators=100, subsample=0.6; total time= 2.9min\n",
      "[CV] END colsample_bytree=0.7, gamma=0, learning_rate=0.05, max_depth=4, min_child_weight=3, n_estimators=10, subsample=0.8; total time=  13.1s\n",
      "[CV] END colsample_bytree=0.6, gamma=0.4, learning_rate=0.01, max_depth=7, min_child_weight=1, n_estimators=500, subsample=0.5; total time=13.0min\n",
      "[CV] END colsample_bytree=0.5, gamma=0.4, learning_rate=0.1, max_depth=4, min_child_weight=4, n_estimators=100, subsample=0.5; total time= 2.0min\n",
      "[CV] END colsample_bytree=0.9, gamma=0.3, learning_rate=0.3, max_depth=5, min_child_weight=4, n_estimators=100, subsample=0.7; total time= 2.7min\n",
      "[CV] END colsample_bytree=0.8, gamma=0.1, learning_rate=0.2, max_depth=5, min_child_weight=4, n_estimators=100, subsample=0.8; total time= 2.4min\n",
      "[CV] END colsample_bytree=0.5, gamma=0, learning_rate=0.1, max_depth=6, min_child_weight=2, n_estimators=500, subsample=0.8; total time=11.4min\n",
      "[CV] END colsample_bytree=0.9, gamma=0, learning_rate=0.2, max_depth=5, min_child_weight=1, n_estimators=100, subsample=0.5; total time= 2.5min\n",
      "[CV] END colsample_bytree=0.9, gamma=0, learning_rate=0.2, max_depth=5, min_child_weight=1, n_estimators=100, subsample=0.5; total time= 2.5min\n",
      "[CV] END colsample_bytree=0.9, gamma=0, learning_rate=0.3, max_depth=6, min_child_weight=5, n_estimators=200, subsample=0.8; total time= 5.4min\n",
      "[CV] END colsample_bytree=0.9, gamma=0.2, learning_rate=0.05, max_depth=6, min_child_weight=5, n_estimators=500, subsample=0.5; total time=13.9min\n",
      "[CV] END colsample_bytree=0.6, gamma=0.3, learning_rate=0.3, max_depth=4, min_child_weight=3, n_estimators=300, subsample=0.6; total time= 6.4min\n",
      "[CV] END colsample_bytree=0.8, gamma=0.2, learning_rate=0.1, max_depth=4, min_child_weight=5, n_estimators=500, subsample=0.9; total time= 8.5min\n",
      "[CV] END colsample_bytree=0.9, gamma=0.2, learning_rate=0.3, max_depth=8, min_child_weight=1, n_estimators=300, subsample=0.7; total time= 9.5min\n",
      "[CV] END colsample_bytree=0.9, gamma=0, learning_rate=0.2, max_depth=8, min_child_weight=5, n_estimators=500, subsample=0.7; total time=15.7min\n",
      "[CV] END colsample_bytree=0.8, gamma=0.1, learning_rate=0.05, max_depth=7, min_child_weight=5, n_estimators=200, subsample=0.6; total time= 5.7min\n",
      "[CV] END colsample_bytree=0.8, gamma=0.1, learning_rate=0.2, max_depth=6, min_child_weight=2, n_estimators=300, subsample=0.6; total time= 8.1min\n",
      "[CV] END colsample_bytree=0.8, gamma=0, learning_rate=0.05, max_depth=5, min_child_weight=5, n_estimators=500, subsample=0.6; total time=13.1min\n",
      "[CV] END colsample_bytree=0.9, gamma=0.2, learning_rate=0.01, max_depth=7, min_child_weight=2, n_estimators=500, subsample=0.6; total time=15.5min\n",
      "[CV] END colsample_bytree=0.6, gamma=0.2, learning_rate=0.05, max_depth=6, min_child_weight=5, n_estimators=100, subsample=0.7; total time= 2.4min\n",
      "[CV] END colsample_bytree=0.8, gamma=0.1, learning_rate=0.1, max_depth=4, min_child_weight=3, n_estimators=300, subsample=0.7; total time= 7.1min\n",
      "[CV] END colsample_bytree=0.7, gamma=0, learning_rate=0.05, max_depth=8, min_child_weight=4, n_estimators=300, subsample=0.9; total time= 8.7min\n",
      "[CV] END colsample_bytree=0.6, gamma=0.1, learning_rate=0.1, max_depth=8, min_child_weight=4, n_estimators=10, subsample=0.5; total time=  16.6s\n",
      "[CV] END colsample_bytree=0.7, gamma=0.2, learning_rate=0.05, max_depth=7, min_child_weight=4, n_estimators=200, subsample=0.7; total time= 5.7min\n",
      "[CV] END colsample_bytree=0.5, gamma=0.2, learning_rate=0.1, max_depth=7, min_child_weight=1, n_estimators=10, subsample=0.7; total time=  15.2s\n",
      "[CV] END colsample_bytree=0.5, gamma=0.2, learning_rate=0.1, max_depth=7, min_child_weight=1, n_estimators=10, subsample=0.7; total time=  15.8s\n",
      "[CV] END colsample_bytree=0.5, gamma=0.2, learning_rate=0.1, max_depth=7, min_child_weight=1, n_estimators=10, subsample=0.7; total time=  14.4s\n",
      "[CV] END colsample_bytree=0.9, gamma=0, learning_rate=0.1, max_depth=7, min_child_weight=5, n_estimators=500, subsample=0.8; total time=15.1min\n",
      "[CV] END colsample_bytree=0.8, gamma=0, learning_rate=0.1, max_depth=7, min_child_weight=5, n_estimators=200, subsample=0.8; total time= 5.6min\n",
      "[CV] END colsample_bytree=0.6, gamma=0.2, learning_rate=0.3, max_depth=7, min_child_weight=5, n_estimators=300, subsample=0.7; total time= 7.5min\n",
      "[CV] END colsample_bytree=0.5, gamma=0.2, learning_rate=0.05, max_depth=7, min_child_weight=2, n_estimators=500, subsample=0.7; total time=12.1min\n",
      "[CV] END colsample_bytree=0.7, gamma=0, learning_rate=0.1, max_depth=7, min_child_weight=2, n_estimators=100, subsample=0.9; total time= 2.7min\n",
      "[CV] END colsample_bytree=0.7, gamma=0, learning_rate=0.2, max_depth=7, min_child_weight=4, n_estimators=100, subsample=0.8; total time= 2.7min\n",
      "[CV] END colsample_bytree=0.9, gamma=0, learning_rate=0.1, max_depth=4, min_child_weight=2, n_estimators=300, subsample=0.7; total time= 7.3min\n",
      "[CV] END colsample_bytree=0.9, gamma=0, learning_rate=0.05, max_depth=8, min_child_weight=4, n_estimators=300, subsample=0.7; total time= 9.6min\n",
      "[CV] END colsample_bytree=0.9, gamma=0.2, learning_rate=0.05, max_depth=5, min_child_weight=5, n_estimators=500, subsample=0.9; total time=12.7min\n",
      "[CV] END colsample_bytree=0.8, gamma=0.3, learning_rate=0.1, max_depth=6, min_child_weight=4, n_estimators=300, subsample=0.6; total time= 8.0min\n",
      "[CV] END colsample_bytree=0.5, gamma=0.2, learning_rate=0.1, max_depth=7, min_child_weight=1, n_estimators=200, subsample=0.8; total time= 4.8min\n",
      "[CV] END colsample_bytree=0.9, gamma=0, learning_rate=0.3, max_depth=6, min_child_weight=5, n_estimators=200, subsample=0.8; total time= 5.4min\n",
      "[CV] END colsample_bytree=0.9, gamma=0.2, learning_rate=0.05, max_depth=6, min_child_weight=5, n_estimators=500, subsample=0.5; total time=13.9min\n",
      "[CV] END colsample_bytree=0.6, gamma=0.3, learning_rate=0.3, max_depth=4, min_child_weight=3, n_estimators=300, subsample=0.6; total time= 6.4min\n",
      "[CV] END colsample_bytree=0.8, gamma=0.2, learning_rate=0.1, max_depth=4, min_child_weight=5, n_estimators=500, subsample=0.9; total time= 8.8min\n"
     ]
    }
   ],
   "source": [
    "# XGBoost\n",
    "from xgboost import XGBClassifier\n",
    "\n",
    "FOLDS = 6\n",
    "kfold = StratifiedKFold(n_splits=FOLDS)\n",
    "scorer_fn = make_scorer(f1_score, zero_division=1)\n",
    "\n",
    "hiperparametros = {\n",
    "    'n_estimators': [10, 100, 200, 300, 500],\n",
    "    'max_depth': [4, 5, 6, 7, 8],\n",
    "    'learning_rate': [0.01, 0.05, 0.1, 0.2, 0.3],\n",
    "    'gamma': [0, 0.1, 0.2, 0.3, 0.4],\n",
    "    'min_child_weight': [1, 2, 3, 4, 5],\n",
    "    'subsample': [0.5, 0.6, 0.7, 0.8, 0.9],\n",
    "    'colsample_bytree': [0.5, 0.6, 0.7, 0.8, 0.9]\n",
    "}\n",
    "\n",
    "xgb = XGBClassifier(random_state=42)\n",
    "\n",
    "gs = RandomizedSearchCV(xgb, hiperparametros, scoring=scorer_fn, cv=kfold, n_jobs=-1, verbose=2, n_iter=100)\n",
    "gs.fit(X_train, sentiments)\n",
    "\n",
    "print(gs.best_params_)"
   ]
  },
  {
   "cell_type": "code",
   "execution_count": 17,
   "metadata": {},
   "outputs": [
    {
     "name": "stdout",
     "output_type": "stream",
     "text": [
      "Accuracy: 0.8722\n",
      "Precision: 0.8643673706645999\n",
      "Recall: 0.8852947013296288\n",
      "F1 Score: 0.8747058823529412\n"
     ]
    }
   ],
   "source": [
    "from xgboost import XGBClassifier\n",
    "\n",
    "xgb = XGBClassifier(**best_params)\n",
    "xgb.fit(X_train, y_train)\n",
    "y_pred = xgb.predict(X_test)\n"
   ]
  },
  {
   "cell_type": "code",
   "execution_count": 18,
   "metadata": {},
   "outputs": [],
   "source": [
    "test_ds = pd.read_csv(\"datasets/test.csv\")\n",
    "test_ds[\"sentimiento\"] = xgb.predict(vectorizador.transform(test_ds[\"review_es\"]))\n",
    "# convert \"sentimiento\" to \"positivo\" or \"negativo\"\n",
    "test_ds[\"sentimiento\"] = test_ds[\"sentimiento\"].apply(lambda x: \"positivo\" if x == 1 else \"negativo\")\n",
    "test_ds[[\"ID\",\"sentimiento\"]].to_csv(\"submissions/xgboost.csv\", index=False)"
   ]
  },
  {
   "attachments": {},
   "cell_type": "markdown",
   "metadata": {},
   "source": [
    "## XGBoost sin stopwords"
   ]
  },
  {
   "cell_type": "code",
   "execution_count": 31,
   "metadata": {},
   "outputs": [
    {
     "name": "stdout",
     "output_type": "stream",
     "text": [
      "Fitting 10 folds for each of 100 candidates, totalling 1000 fits\n"
     ]
    },
    {
     "data": {
      "text/html": [
       "<style>#sk-container-id-2 {color: black;background-color: white;}#sk-container-id-2 pre{padding: 0;}#sk-container-id-2 div.sk-toggleable {background-color: white;}#sk-container-id-2 label.sk-toggleable__label {cursor: pointer;display: block;width: 100%;margin-bottom: 0;padding: 0.3em;box-sizing: border-box;text-align: center;}#sk-container-id-2 label.sk-toggleable__label-arrow:before {content: \"▸\";float: left;margin-right: 0.25em;color: #696969;}#sk-container-id-2 label.sk-toggleable__label-arrow:hover:before {color: black;}#sk-container-id-2 div.sk-estimator:hover label.sk-toggleable__label-arrow:before {color: black;}#sk-container-id-2 div.sk-toggleable__content {max-height: 0;max-width: 0;overflow: hidden;text-align: left;background-color: #f0f8ff;}#sk-container-id-2 div.sk-toggleable__content pre {margin: 0.2em;color: black;border-radius: 0.25em;background-color: #f0f8ff;}#sk-container-id-2 input.sk-toggleable__control:checked~div.sk-toggleable__content {max-height: 200px;max-width: 100%;overflow: auto;}#sk-container-id-2 input.sk-toggleable__control:checked~label.sk-toggleable__label-arrow:before {content: \"▾\";}#sk-container-id-2 div.sk-estimator input.sk-toggleable__control:checked~label.sk-toggleable__label {background-color: #d4ebff;}#sk-container-id-2 div.sk-label input.sk-toggleable__control:checked~label.sk-toggleable__label {background-color: #d4ebff;}#sk-container-id-2 input.sk-hidden--visually {border: 0;clip: rect(1px 1px 1px 1px);clip: rect(1px, 1px, 1px, 1px);height: 1px;margin: -1px;overflow: hidden;padding: 0;position: absolute;width: 1px;}#sk-container-id-2 div.sk-estimator {font-family: monospace;background-color: #f0f8ff;border: 1px dotted black;border-radius: 0.25em;box-sizing: border-box;margin-bottom: 0.5em;}#sk-container-id-2 div.sk-estimator:hover {background-color: #d4ebff;}#sk-container-id-2 div.sk-parallel-item::after {content: \"\";width: 100%;border-bottom: 1px solid gray;flex-grow: 1;}#sk-container-id-2 div.sk-label:hover label.sk-toggleable__label {background-color: #d4ebff;}#sk-container-id-2 div.sk-serial::before {content: \"\";position: absolute;border-left: 1px solid gray;box-sizing: border-box;top: 0;bottom: 0;left: 50%;z-index: 0;}#sk-container-id-2 div.sk-serial {display: flex;flex-direction: column;align-items: center;background-color: white;padding-right: 0.2em;padding-left: 0.2em;position: relative;}#sk-container-id-2 div.sk-item {position: relative;z-index: 1;}#sk-container-id-2 div.sk-parallel {display: flex;align-items: stretch;justify-content: center;background-color: white;position: relative;}#sk-container-id-2 div.sk-item::before, #sk-container-id-2 div.sk-parallel-item::before {content: \"\";position: absolute;border-left: 1px solid gray;box-sizing: border-box;top: 0;bottom: 0;left: 50%;z-index: -1;}#sk-container-id-2 div.sk-parallel-item {display: flex;flex-direction: column;z-index: 1;position: relative;background-color: white;}#sk-container-id-2 div.sk-parallel-item:first-child::after {align-self: flex-end;width: 50%;}#sk-container-id-2 div.sk-parallel-item:last-child::after {align-self: flex-start;width: 50%;}#sk-container-id-2 div.sk-parallel-item:only-child::after {width: 0;}#sk-container-id-2 div.sk-dashed-wrapped {border: 1px dashed gray;margin: 0 0.4em 0.5em 0.4em;box-sizing: border-box;padding-bottom: 0.4em;background-color: white;}#sk-container-id-2 div.sk-label label {font-family: monospace;font-weight: bold;display: inline-block;line-height: 1.2em;}#sk-container-id-2 div.sk-label-container {text-align: center;}#sk-container-id-2 div.sk-container {/* jupyter's `normalize.less` sets `[hidden] { display: none; }` but bootstrap.min.css set `[hidden] { display: none !important; }` so we also need the `!important` here to be able to override the default hidden behavior on the sphinx rendered scikit-learn.org. See: https://github.com/scikit-learn/scikit-learn/issues/21755 */display: inline-block !important;position: relative;}#sk-container-id-2 div.sk-text-repr-fallback {display: none;}</style><div id=\"sk-container-id-2\" class=\"sk-top-container\"><div class=\"sk-text-repr-fallback\"><pre>RandomizedSearchCV(cv=StratifiedKFold(n_splits=10, random_state=None, shuffle=False),\n",
       "                   estimator=XGBClassifier(base_score=None, booster=None,\n",
       "                                           callbacks=None,\n",
       "                                           colsample_bylevel=None,\n",
       "                                           colsample_bynode=None,\n",
       "                                           colsample_bytree=None,\n",
       "                                           early_stopping_rounds=None,\n",
       "                                           enable_categorical=False,\n",
       "                                           eval_metric=None, feature_types=None,\n",
       "                                           gamma=None, gpu_id=None,\n",
       "                                           grow_policy=None,\n",
       "                                           impo...\n",
       "                                           predictor=None, random_state=42, ...),\n",
       "                   n_iter=100, n_jobs=-1,\n",
       "                   param_distributions={&#x27;colsample_bytree&#x27;: [0.5, 0.6, 0.7, 0.8,\n",
       "                                                             0.9],\n",
       "                                        &#x27;gamma&#x27;: [0, 0.1, 0.2, 0.3, 0.4],\n",
       "                                        &#x27;learning_rate&#x27;: [0.01, 0.05, 0.1, 0.2,\n",
       "                                                          0.3],\n",
       "                                        &#x27;max_depth&#x27;: [4, 5, 6, 7, 8, 10],\n",
       "                                        &#x27;min_child_weight&#x27;: [1, 2, 3, 4, 5],\n",
       "                                        &#x27;n_estimators&#x27;: [10, 100, 200, 300,\n",
       "                                                         500],\n",
       "                                        &#x27;subsample&#x27;: [0.5, 0.6, 0.7, 0.8, 0.9]},\n",
       "                   scoring=make_scorer(f1_score, zero_division=1), verbose=2)</pre><b>In a Jupyter environment, please rerun this cell to show the HTML representation or trust the notebook. <br />On GitHub, the HTML representation is unable to render, please try loading this page with nbviewer.org.</b></div><div class=\"sk-container\" hidden><div class=\"sk-item sk-dashed-wrapped\"><div class=\"sk-label-container\"><div class=\"sk-label sk-toggleable\"><input class=\"sk-toggleable__control sk-hidden--visually\" id=\"sk-estimator-id-4\" type=\"checkbox\" ><label for=\"sk-estimator-id-4\" class=\"sk-toggleable__label sk-toggleable__label-arrow\">RandomizedSearchCV</label><div class=\"sk-toggleable__content\"><pre>RandomizedSearchCV(cv=StratifiedKFold(n_splits=10, random_state=None, shuffle=False),\n",
       "                   estimator=XGBClassifier(base_score=None, booster=None,\n",
       "                                           callbacks=None,\n",
       "                                           colsample_bylevel=None,\n",
       "                                           colsample_bynode=None,\n",
       "                                           colsample_bytree=None,\n",
       "                                           early_stopping_rounds=None,\n",
       "                                           enable_categorical=False,\n",
       "                                           eval_metric=None, feature_types=None,\n",
       "                                           gamma=None, gpu_id=None,\n",
       "                                           grow_policy=None,\n",
       "                                           impo...\n",
       "                                           predictor=None, random_state=42, ...),\n",
       "                   n_iter=100, n_jobs=-1,\n",
       "                   param_distributions={&#x27;colsample_bytree&#x27;: [0.5, 0.6, 0.7, 0.8,\n",
       "                                                             0.9],\n",
       "                                        &#x27;gamma&#x27;: [0, 0.1, 0.2, 0.3, 0.4],\n",
       "                                        &#x27;learning_rate&#x27;: [0.01, 0.05, 0.1, 0.2,\n",
       "                                                          0.3],\n",
       "                                        &#x27;max_depth&#x27;: [4, 5, 6, 7, 8, 10],\n",
       "                                        &#x27;min_child_weight&#x27;: [1, 2, 3, 4, 5],\n",
       "                                        &#x27;n_estimators&#x27;: [10, 100, 200, 300,\n",
       "                                                         500],\n",
       "                                        &#x27;subsample&#x27;: [0.5, 0.6, 0.7, 0.8, 0.9]},\n",
       "                   scoring=make_scorer(f1_score, zero_division=1), verbose=2)</pre></div></div></div><div class=\"sk-parallel\"><div class=\"sk-parallel-item\"><div class=\"sk-item\"><div class=\"sk-label-container\"><div class=\"sk-label sk-toggleable\"><input class=\"sk-toggleable__control sk-hidden--visually\" id=\"sk-estimator-id-5\" type=\"checkbox\" ><label for=\"sk-estimator-id-5\" class=\"sk-toggleable__label sk-toggleable__label-arrow\">estimator: XGBClassifier</label><div class=\"sk-toggleable__content\"><pre>XGBClassifier(base_score=None, booster=None, callbacks=None,\n",
       "              colsample_bylevel=None, colsample_bynode=None,\n",
       "              colsample_bytree=None, early_stopping_rounds=None,\n",
       "              enable_categorical=False, eval_metric=None, feature_types=None,\n",
       "              gamma=None, gpu_id=None, grow_policy=None, importance_type=None,\n",
       "              interaction_constraints=None, learning_rate=None, max_bin=None,\n",
       "              max_cat_threshold=None, max_cat_to_onehot=None,\n",
       "              max_delta_step=None, max_depth=None, max_leaves=None,\n",
       "              min_child_weight=None, missing=nan, monotone_constraints=None,\n",
       "              n_estimators=100, n_jobs=None, num_parallel_tree=None,\n",
       "              predictor=None, random_state=42, ...)</pre></div></div></div><div class=\"sk-serial\"><div class=\"sk-item\"><div class=\"sk-estimator sk-toggleable\"><input class=\"sk-toggleable__control sk-hidden--visually\" id=\"sk-estimator-id-6\" type=\"checkbox\" ><label for=\"sk-estimator-id-6\" class=\"sk-toggleable__label sk-toggleable__label-arrow\">XGBClassifier</label><div class=\"sk-toggleable__content\"><pre>XGBClassifier(base_score=None, booster=None, callbacks=None,\n",
       "              colsample_bylevel=None, colsample_bynode=None,\n",
       "              colsample_bytree=None, early_stopping_rounds=None,\n",
       "              enable_categorical=False, eval_metric=None, feature_types=None,\n",
       "              gamma=None, gpu_id=None, grow_policy=None, importance_type=None,\n",
       "              interaction_constraints=None, learning_rate=None, max_bin=None,\n",
       "              max_cat_threshold=None, max_cat_to_onehot=None,\n",
       "              max_delta_step=None, max_depth=None, max_leaves=None,\n",
       "              min_child_weight=None, missing=nan, monotone_constraints=None,\n",
       "              n_estimators=100, n_jobs=None, num_parallel_tree=None,\n",
       "              predictor=None, random_state=42, ...)</pre></div></div></div></div></div></div></div></div></div></div>"
      ],
      "text/plain": [
       "RandomizedSearchCV(cv=StratifiedKFold(n_splits=10, random_state=None, shuffle=False),\n",
       "                   estimator=XGBClassifier(base_score=None, booster=None,\n",
       "                                           callbacks=None,\n",
       "                                           colsample_bylevel=None,\n",
       "                                           colsample_bynode=None,\n",
       "                                           colsample_bytree=None,\n",
       "                                           early_stopping_rounds=None,\n",
       "                                           enable_categorical=False,\n",
       "                                           eval_metric=None, feature_types=None,\n",
       "                                           gamma=None, gpu_id=None,\n",
       "                                           grow_policy=None,\n",
       "                                           impo...\n",
       "                                           predictor=None, random_state=42, ...),\n",
       "                   n_iter=100, n_jobs=-1,\n",
       "                   param_distributions={'colsample_bytree': [0.5, 0.6, 0.7, 0.8,\n",
       "                                                             0.9],\n",
       "                                        'gamma': [0, 0.1, 0.2, 0.3, 0.4],\n",
       "                                        'learning_rate': [0.01, 0.05, 0.1, 0.2,\n",
       "                                                          0.3],\n",
       "                                        'max_depth': [4, 5, 6, 7, 8, 10],\n",
       "                                        'min_child_weight': [1, 2, 3, 4, 5],\n",
       "                                        'n_estimators': [10, 100, 200, 300,\n",
       "                                                         500],\n",
       "                                        'subsample': [0.5, 0.6, 0.7, 0.8, 0.9]},\n",
       "                   scoring=make_scorer(f1_score, zero_division=1), verbose=2)"
      ]
     },
     "execution_count": 31,
     "metadata": {},
     "output_type": "execute_result"
    }
   ],
   "source": [
    "\n",
    "from xgboost import XGBClassifier\n",
    "\n",
    "FOLDS = 10\n",
    "kfold = StratifiedKFold(n_splits=FOLDS)\n",
    "scorer_fn = make_scorer(f1_score, zero_division=1)\n",
    "\n",
    "hiperparametros = {\n",
    "    'n_estimators': [10, 100, 200, 300, 500],\n",
    "    'max_depth': [4, 5, 6, 7, 8, 10],\n",
    "    'learning_rate': [0.01, 0.05, 0.1, 0.2, 0.3],\n",
    "    'gamma': [0, 0.1, 0.2, 0.3, 0.4],\n",
    "    'min_child_weight': [1, 2, 3, 4, 5],\n",
    "    'subsample': [0.5, 0.6, 0.7, 0.8, 0.9],\n",
    "    'colsample_bytree': [0.5, 0.6, 0.7, 0.8, 0.9]\n",
    "}\n",
    "\n",
    "xgb = XGBClassifier(random_state=42)\n",
    "\n",
    "rs = RandomizedSearchCV(xgb, hiperparametros, scoring=scorer_fn, cv=kfold, n_jobs=-1, verbose=2, n_iter=100)\n",
    "rs.fit(X_train, y_train)"
   ]
  },
  {
   "cell_type": "code",
   "execution_count": 32,
   "metadata": {},
   "outputs": [
    {
     "name": "stdout",
     "output_type": "stream",
     "text": [
      "{'subsample': 0.7, 'n_estimators': 500, 'min_child_weight': 2, 'max_depth': 8, 'learning_rate': 0.2, 'gamma': 0.2, 'colsample_bytree': 0.8}\n"
     ]
    }
   ],
   "source": [
    "print(rs.best_params_)"
   ]
  },
  {
   "cell_type": "code",
   "execution_count": 46,
   "metadata": {},
   "outputs": [],
   "source": [
    "best_params = {'subsample': 0.7, 'n_estimators': 500, 'min_child_weight': 2, 'max_depth': 8, 'learning_rate': 0.2, 'gamma': 0.2, 'colsample_bytree': 0.8}"
   ]
  },
  {
   "cell_type": "code",
   "execution_count": 47,
   "metadata": {},
   "outputs": [],
   "source": [
    "xgb = XGBClassifier(**best_params)\n",
    "xgb.fit(X_train, y_train)\n",
    "y_pred = xgb.predict(X_test)"
   ]
  },
  {
   "cell_type": "code",
   "execution_count": 48,
   "metadata": {},
   "outputs": [
    {
     "name": "stdout",
     "output_type": "stream",
     "text": [
      "Accuracy: 0.8699\n",
      "Precision: 0.8630536130536131\n",
      "Recall: 0.8817225640007939\n",
      "F1 Score: 0.8722882104643173\n"
     ]
    }
   ],
   "source": [
    "# Metricas\n",
    "print(\"Accuracy:\", metrics.accuracy_score(y_test, y_pred))\n",
    "print(\"Precision:\", metrics.precision_score(y_test, y_pred))\n",
    "print(\"Recall:\", metrics.recall_score(y_test, y_pred))\n",
    "print(\"F1 Score:\", metrics.f1_score(y_test, y_pred))"
   ]
  },
  {
   "cell_type": "code",
   "execution_count": 49,
   "metadata": {},
   "outputs": [
    {
     "data": {
      "text/plain": [
       "Text(50.722222222222214, 0.5, 'True')"
      ]
     },
     "execution_count": 49,
     "metadata": {},
     "output_type": "execute_result"
    },
    {
     "data": {
      "image/png": "[encoded data removed]",
      "text/plain": [
       "<Figure size 640x480 with 2 Axes>"
      ]
     },
     "metadata": {},
     "output_type": "display_data"
    }
   ],
   "source": [
    "#Creo matriz de confusión\n",
    "tabla=confusion_matrix(y_test,y_pred)\n",
    "\n",
    "#Grafico matriz de confusión\n",
    "sns.heatmap(tabla, cmap='Blues',annot=True,fmt='g')\n",
    "plt.xlabel('Predicted')\n",
    "plt.ylabel('True')"
   ]
  },
  {
   "cell_type": "code",
   "execution_count": 52,
   "metadata": {},
   "outputs": [
    {
     "data": {
      "text/plain": [
       "['models/xgboost3.pkl']"
      ]
     },
     "execution_count": 52,
     "metadata": {},
     "output_type": "execute_result"
    }
   ],
   "source": [
    "joblib.dump(xgb, f\"models/xgboost3.pkl\")"
   ]
  },
  {
   "cell_type": "code",
   "execution_count": 53,
   "metadata": {},
   "outputs": [],
   "source": [
    "test_ds = pd.read_csv(\"datasets/test.csv\")\n",
    "test_ds[\"sentimiento\"] = xgb.predict(vectorizador.transform(test_ds[\"review_es\"]))\n",
    "# convert \"sentimiento\" to \"positivo\" or \"negativo\"\n",
    "test_ds[\"sentimiento\"] = test_ds[\"sentimiento\"].apply(lambda x: \"positivo\" if x == 1 else \"negativo\")\n",
    "test_ds[[\"ID\",\"sentimiento\"]].to_csv(\"submissions/xgboost3.csv\", index=False)"
   ]
  },
  {
   "cell_type": "code",
   "execution_count": 38,
   "metadata": {},
   "outputs": [
    {
     "name": "stdout",
     "output_type": "stream",
     "text": [
      "Fitting 4 folds for each of 100 candidates, totalling 400 fits\n"
     ]
    },
    {
     "data": {
      "text/html": [
       "<style>#sk-container-id-3 {color: black;background-color: white;}#sk-container-id-3 pre{padding: 0;}#sk-container-id-3 div.sk-toggleable {background-color: white;}#sk-container-id-3 label.sk-toggleable__label {cursor: pointer;display: block;width: 100%;margin-bottom: 0;padding: 0.3em;box-sizing: border-box;text-align: center;}#sk-container-id-3 label.sk-toggleable__label-arrow:before {content: \"▸\";float: left;margin-right: 0.25em;color: #696969;}#sk-container-id-3 label.sk-toggleable__label-arrow:hover:before {color: black;}#sk-container-id-3 div.sk-estimator:hover label.sk-toggleable__label-arrow:before {color: black;}#sk-container-id-3 div.sk-toggleable__content {max-height: 0;max-width: 0;overflow: hidden;text-align: left;background-color: #f0f8ff;}#sk-container-id-3 div.sk-toggleable__content pre {margin: 0.2em;color: black;border-radius: 0.25em;background-color: #f0f8ff;}#sk-container-id-3 input.sk-toggleable__control:checked~div.sk-toggleable__content {max-height: 200px;max-width: 100%;overflow: auto;}#sk-container-id-3 input.sk-toggleable__control:checked~label.sk-toggleable__label-arrow:before {content: \"▾\";}#sk-container-id-3 div.sk-estimator input.sk-toggleable__control:checked~label.sk-toggleable__label {background-color: #d4ebff;}#sk-container-id-3 div.sk-label input.sk-toggleable__control:checked~label.sk-toggleable__label {background-color: #d4ebff;}#sk-container-id-3 input.sk-hidden--visually {border: 0;clip: rect(1px 1px 1px 1px);clip: rect(1px, 1px, 1px, 1px);height: 1px;margin: -1px;overflow: hidden;padding: 0;position: absolute;width: 1px;}#sk-container-id-3 div.sk-estimator {font-family: monospace;background-color: #f0f8ff;border: 1px dotted black;border-radius: 0.25em;box-sizing: border-box;margin-bottom: 0.5em;}#sk-container-id-3 div.sk-estimator:hover {background-color: #d4ebff;}#sk-container-id-3 div.sk-parallel-item::after {content: \"\";width: 100%;border-bottom: 1px solid gray;flex-grow: 1;}#sk-container-id-3 div.sk-label:hover label.sk-toggleable__label {background-color: #d4ebff;}#sk-container-id-3 div.sk-serial::before {content: \"\";position: absolute;border-left: 1px solid gray;box-sizing: border-box;top: 0;bottom: 0;left: 50%;z-index: 0;}#sk-container-id-3 div.sk-serial {display: flex;flex-direction: column;align-items: center;background-color: white;padding-right: 0.2em;padding-left: 0.2em;position: relative;}#sk-container-id-3 div.sk-item {position: relative;z-index: 1;}#sk-container-id-3 div.sk-parallel {display: flex;align-items: stretch;justify-content: center;background-color: white;position: relative;}#sk-container-id-3 div.sk-item::before, #sk-container-id-3 div.sk-parallel-item::before {content: \"\";position: absolute;border-left: 1px solid gray;box-sizing: border-box;top: 0;bottom: 0;left: 50%;z-index: -1;}#sk-container-id-3 div.sk-parallel-item {display: flex;flex-direction: column;z-index: 1;position: relative;background-color: white;}#sk-container-id-3 div.sk-parallel-item:first-child::after {align-self: flex-end;width: 50%;}#sk-container-id-3 div.sk-parallel-item:last-child::after {align-self: flex-start;width: 50%;}#sk-container-id-3 div.sk-parallel-item:only-child::after {width: 0;}#sk-container-id-3 div.sk-dashed-wrapped {border: 1px dashed gray;margin: 0 0.4em 0.5em 0.4em;box-sizing: border-box;padding-bottom: 0.4em;background-color: white;}#sk-container-id-3 div.sk-label label {font-family: monospace;font-weight: bold;display: inline-block;line-height: 1.2em;}#sk-container-id-3 div.sk-label-container {text-align: center;}#sk-container-id-3 div.sk-container {/* jupyter's `normalize.less` sets `[hidden] { display: none; }` but bootstrap.min.css set `[hidden] { display: none !important; }` so we also need the `!important` here to be able to override the default hidden behavior on the sphinx rendered scikit-learn.org. See: https://github.com/scikit-learn/scikit-learn/issues/21755 */display: inline-block !important;position: relative;}#sk-container-id-3 div.sk-text-repr-fallback {display: none;}</style><div id=\"sk-container-id-3\" class=\"sk-top-container\"><div class=\"sk-text-repr-fallback\"><pre>RandomizedSearchCV(cv=StratifiedKFold(n_splits=4, random_state=None, shuffle=False),\n",
       "                   estimator=XGBClassifier(base_score=None, booster=None,\n",
       "                                           callbacks=None,\n",
       "                                           colsample_bylevel=None,\n",
       "                                           colsample_bynode=None,\n",
       "                                           colsample_bytree=None,\n",
       "                                           early_stopping_rounds=None,\n",
       "                                           enable_categorical=False,\n",
       "                                           eval_metric=None, feature_types=None,\n",
       "                                           gamma=None, gpu_id=None,\n",
       "                                           grow_policy=None,\n",
       "                                           impor...\n",
       "                                           predictor=None, random_state=42, ...),\n",
       "                   n_iter=100, n_jobs=-1,\n",
       "                   param_distributions={&#x27;colsample_bytree&#x27;: [0.5, 0.6, 0.7, 0.8,\n",
       "                                                             0.9],\n",
       "                                        &#x27;gamma&#x27;: [0, 0.1, 0.2, 0.3, 0.4],\n",
       "                                        &#x27;learning_rate&#x27;: [0.01, 0.05, 0.1, 0.2,\n",
       "                                                          0.3],\n",
       "                                        &#x27;max_depth&#x27;: [4, 5, 6, 7, 8, 10],\n",
       "                                        &#x27;min_child_weight&#x27;: [1, 2, 3, 4, 5],\n",
       "                                        &#x27;n_estimators&#x27;: [10, 100, 200, 300,\n",
       "                                                         500],\n",
       "                                        &#x27;subsample&#x27;: [0.5, 0.6, 0.7, 0.8, 0.9]},\n",
       "                   scoring=make_scorer(f1_score, zero_division=1), verbose=2)</pre><b>In a Jupyter environment, please rerun this cell to show the HTML representation or trust the notebook. <br />On GitHub, the HTML representation is unable to render, please try loading this page with nbviewer.org.</b></div><div class=\"sk-container\" hidden><div class=\"sk-item sk-dashed-wrapped\"><div class=\"sk-label-container\"><div class=\"sk-label sk-toggleable\"><input class=\"sk-toggleable__control sk-hidden--visually\" id=\"sk-estimator-id-7\" type=\"checkbox\" ><label for=\"sk-estimator-id-7\" class=\"sk-toggleable__label sk-toggleable__label-arrow\">RandomizedSearchCV</label><div class=\"sk-toggleable__content\"><pre>RandomizedSearchCV(cv=StratifiedKFold(n_splits=4, random_state=None, shuffle=False),\n",
       "                   estimator=XGBClassifier(base_score=None, booster=None,\n",
       "                                           callbacks=None,\n",
       "                                           colsample_bylevel=None,\n",
       "                                           colsample_bynode=None,\n",
       "                                           colsample_bytree=None,\n",
       "                                           early_stopping_rounds=None,\n",
       "                                           enable_categorical=False,\n",
       "                                           eval_metric=None, feature_types=None,\n",
       "                                           gamma=None, gpu_id=None,\n",
       "                                           grow_policy=None,\n",
       "                                           impor...\n",
       "                                           predictor=None, random_state=42, ...),\n",
       "                   n_iter=100, n_jobs=-1,\n",
       "                   param_distributions={&#x27;colsample_bytree&#x27;: [0.5, 0.6, 0.7, 0.8,\n",
       "                                                             0.9],\n",
       "                                        &#x27;gamma&#x27;: [0, 0.1, 0.2, 0.3, 0.4],\n",
       "                                        &#x27;learning_rate&#x27;: [0.01, 0.05, 0.1, 0.2,\n",
       "                                                          0.3],\n",
       "                                        &#x27;max_depth&#x27;: [4, 5, 6, 7, 8, 10],\n",
       "                                        &#x27;min_child_weight&#x27;: [1, 2, 3, 4, 5],\n",
       "                                        &#x27;n_estimators&#x27;: [10, 100, 200, 300,\n",
       "                                                         500],\n",
       "                                        &#x27;subsample&#x27;: [0.5, 0.6, 0.7, 0.8, 0.9]},\n",
       "                   scoring=make_scorer(f1_score, zero_division=1), verbose=2)</pre></div></div></div><div class=\"sk-parallel\"><div class=\"sk-parallel-item\"><div class=\"sk-item\"><div class=\"sk-label-container\"><div class=\"sk-label sk-toggleable\"><input class=\"sk-toggleable__control sk-hidden--visually\" id=\"sk-estimator-id-8\" type=\"checkbox\" ><label for=\"sk-estimator-id-8\" class=\"sk-toggleable__label sk-toggleable__label-arrow\">estimator: XGBClassifier</label><div class=\"sk-toggleable__content\"><pre>XGBClassifier(base_score=None, booster=None, callbacks=None,\n",
       "              colsample_bylevel=None, colsample_bynode=None,\n",
       "              colsample_bytree=None, early_stopping_rounds=None,\n",
       "              enable_categorical=False, eval_metric=None, feature_types=None,\n",
       "              gamma=None, gpu_id=None, grow_policy=None, importance_type=None,\n",
       "              interaction_constraints=None, learning_rate=None, max_bin=None,\n",
       "              max_cat_threshold=None, max_cat_to_onehot=None,\n",
       "              max_delta_step=None, max_depth=None, max_leaves=None,\n",
       "              min_child_weight=None, missing=nan, monotone_constraints=None,\n",
       "              n_estimators=100, n_jobs=None, num_parallel_tree=None,\n",
       "              predictor=None, random_state=42, ...)</pre></div></div></div><div class=\"sk-serial\"><div class=\"sk-item\"><div class=\"sk-estimator sk-toggleable\"><input class=\"sk-toggleable__control sk-hidden--visually\" id=\"sk-estimator-id-9\" type=\"checkbox\" ><label for=\"sk-estimator-id-9\" class=\"sk-toggleable__label sk-toggleable__label-arrow\">XGBClassifier</label><div class=\"sk-toggleable__content\"><pre>XGBClassifier(base_score=None, booster=None, callbacks=None,\n",
       "              colsample_bylevel=None, colsample_bynode=None,\n",
       "              colsample_bytree=None, early_stopping_rounds=None,\n",
       "              enable_categorical=False, eval_metric=None, feature_types=None,\n",
       "              gamma=None, gpu_id=None, grow_policy=None, importance_type=None,\n",
       "              interaction_constraints=None, learning_rate=None, max_bin=None,\n",
       "              max_cat_threshold=None, max_cat_to_onehot=None,\n",
       "              max_delta_step=None, max_depth=None, max_leaves=None,\n",
       "              min_child_weight=None, missing=nan, monotone_constraints=None,\n",
       "              n_estimators=100, n_jobs=None, num_parallel_tree=None,\n",
       "              predictor=None, random_state=42, ...)</pre></div></div></div></div></div></div></div></div></div></div>"
      ],
      "text/plain": [
       "RandomizedSearchCV(cv=StratifiedKFold(n_splits=4, random_state=None, shuffle=False),\n",
       "                   estimator=XGBClassifier(base_score=None, booster=None,\n",
       "                                           callbacks=None,\n",
       "                                           colsample_bylevel=None,\n",
       "                                           colsample_bynode=None,\n",
       "                                           colsample_bytree=None,\n",
       "                                           early_stopping_rounds=None,\n",
       "                                           enable_categorical=False,\n",
       "                                           eval_metric=None, feature_types=None,\n",
       "                                           gamma=None, gpu_id=None,\n",
       "                                           grow_policy=None,\n",
       "                                           impor...\n",
       "                                           predictor=None, random_state=42, ...),\n",
       "                   n_iter=100, n_jobs=-1,\n",
       "                   param_distributions={'colsample_bytree': [0.5, 0.6, 0.7, 0.8,\n",
       "                                                             0.9],\n",
       "                                        'gamma': [0, 0.1, 0.2, 0.3, 0.4],\n",
       "                                        'learning_rate': [0.01, 0.05, 0.1, 0.2,\n",
       "                                                          0.3],\n",
       "                                        'max_depth': [4, 5, 6, 7, 8, 10],\n",
       "                                        'min_child_weight': [1, 2, 3, 4, 5],\n",
       "                                        'n_estimators': [10, 100, 200, 300,\n",
       "                                                         500],\n",
       "                                        'subsample': [0.5, 0.6, 0.7, 0.8, 0.9]},\n",
       "                   scoring=make_scorer(f1_score, zero_division=1), verbose=2)"
      ]
     },
     "execution_count": 38,
     "metadata": {},
     "output_type": "execute_result"
    }
   ],
   "source": [
    "# Segundo intento con 4 folds\n",
    "FOLDS = 4\n",
    "kfold = StratifiedKFold(n_splits=FOLDS)\n",
    "scorer_fn = make_scorer(f1_score, zero_division=1)\n",
    "\n",
    "hiperparametros = {\n",
    "    'n_estimators': [10, 100, 200, 300, 500],\n",
    "    'max_depth': [4, 5, 6, 7, 8, 10],\n",
    "    'learning_rate': [0.01, 0.05, 0.1, 0.2, 0.3],\n",
    "    'gamma': [0, 0.1, 0.2, 0.3, 0.4],\n",
    "    'min_child_weight': [1, 2, 3, 4, 5],\n",
    "    'subsample': [0.5, 0.6, 0.7, 0.8, 0.9],\n",
    "    'colsample_bytree': [0.5, 0.6, 0.7, 0.8, 0.9]\n",
    "}\n",
    "\n",
    "xgb = XGBClassifier(random_state=42)\n",
    "\n",
    "rs = RandomizedSearchCV(xgb, hiperparametros, scoring=scorer_fn, cv=kfold, n_jobs=-1, verbose=2, n_iter=100)\n",
    "rs.fit(X_train, y_train)"
   ]
  },
  {
   "cell_type": "code",
   "execution_count": 39,
   "metadata": {},
   "outputs": [
    {
     "name": "stdout",
     "output_type": "stream",
     "text": [
      "{'subsample': 0.7, 'n_estimators': 500, 'min_child_weight': 4, 'max_depth': 7, 'learning_rate': 0.2, 'gamma': 0, 'colsample_bytree': 0.7}\n"
     ]
    }
   ],
   "source": [
    "print(rs.best_params_)"
   ]
  },
  {
   "cell_type": "code",
   "execution_count": 40,
   "metadata": {},
   "outputs": [],
   "source": [
    "best_params ={'subsample': 0.7, 'n_estimators': 500, 'min_child_weight': 4, 'max_depth': 7, 'learning_rate': 0.2, 'gamma': 0, 'colsample_bytree': 0.7}"
   ]
  },
  {
   "cell_type": "code",
   "execution_count": 41,
   "metadata": {},
   "outputs": [],
   "source": [
    "xgb = XGBClassifier(**best_params)\n",
    "xgb.fit(X_train, y_train)\n",
    "y_pred = xgb.predict(X_test)"
   ]
  },
  {
   "cell_type": "code",
   "execution_count": 42,
   "metadata": {},
   "outputs": [
    {
     "name": "stdout",
     "output_type": "stream",
     "text": [
      "Accuracy: 0.8697\n",
      "Precision: 0.8627184466019417\n",
      "Recall: 0.8817225640007939\n",
      "F1 Score: 0.8721169889096084\n"
     ]
    }
   ],
   "source": [
    "# Metricas\n",
    "print(\"Accuracy:\", metrics.accuracy_score(y_test, y_pred))\n",
    "print(\"Precision:\", metrics.precision_score(y_test, y_pred))\n",
    "print(\"Recall:\", metrics.recall_score(y_test, y_pred))\n",
    "print(\"F1 Score:\", metrics.f1_score(y_test, y_pred))"
   ]
  },
  {
   "cell_type": "code",
   "execution_count": 43,
   "metadata": {},
   "outputs": [
    {
     "data": {
      "text/plain": [
       "Text(50.722222222222214, 0.5, 'True')"
      ]
     },
     "execution_count": 43,
     "metadata": {},
     "output_type": "execute_result"
    },
    {
     "data": {
      "image/png": "[encoded data removed]",
      "text/plain": [
       "<Figure size 640x480 with 2 Axes>"
      ]
     },
     "metadata": {},
     "output_type": "display_data"
    }
   ],
   "source": [
    "#Creo matriz de confusión\n",
    "tabla=confusion_matrix(y_test,y_pred)\n",
    "\n",
    "#Grafico matriz de confusión\n",
    "sns.heatmap(tabla, cmap='Blues',annot=True,fmt='g')\n",
    "plt.xlabel('Predicted')\n",
    "plt.ylabel('True')"
   ]
  },
  {
   "cell_type": "code",
   "execution_count": 44,
   "metadata": {},
   "outputs": [
    {
     "data": {
      "text/plain": [
       "['models/xgboost4.pkl']"
      ]
     },
     "execution_count": 44,
     "metadata": {},
     "output_type": "execute_result"
    }
   ],
   "source": [
    "joblib.dump(xgb, f\"models/xgboost4.pkl\")"
   ]
  },
  {
   "cell_type": "code",
   "execution_count": 45,
   "metadata": {},
   "outputs": [],
   "source": [
    "test_ds = pd.read_csv(\"datasets/test.csv\")\n",
    "test_ds[\"sentimiento\"] = xgb.predict(vectorizador.transform(test_ds[\"review_es\"]))\n",
    "# convert \"sentimiento\" to \"positivo\" or \"negativo\"\n",
    "test_ds[\"sentimiento\"] = test_ds[\"sentimiento\"].apply(lambda x: \"positivo\" if x == 1 else \"negativo\")\n",
    "test_ds[[\"ID\",\"sentimiento\"]].to_csv(\"submissions/xgboost4.csv\", index=False)"
   ]
  },
  {
   "attachments": {},
   "cell_type": "markdown",
   "metadata": {},
   "source": [
    "## SVM"
   ]
  },
  {
   "cell_type": "code",
   "execution_count": 14,
   "metadata": {},
   "outputs": [
    {
     "name": "stdout",
     "output_type": "stream",
     "text": [
      "              precision    recall  f1-score   support\n",
      "\n",
      "           0       0.90      0.88      0.89      4961\n",
      "           1       0.89      0.90      0.89      5039\n",
      "\n",
      "    accuracy                           0.89     10000\n",
      "   macro avg       0.89      0.89      0.89     10000\n",
      "weighted avg       0.89      0.89      0.89     10000\n",
      "\n",
      "              precision    recall  f1-score   support\n",
      "\n",
      "           0       0.89      0.80      0.84      4961\n",
      "           1       0.82      0.90      0.86      5039\n",
      "\n",
      "    accuracy                           0.85     10000\n",
      "   macro avg       0.85      0.85      0.85     10000\n",
      "weighted avg       0.85      0.85      0.85     10000\n",
      "\n",
      "              precision    recall  f1-score   support\n",
      "\n",
      "           0       0.91      0.87      0.89      4961\n",
      "           1       0.88      0.91      0.90      5039\n",
      "\n",
      "    accuracy                           0.89     10000\n",
      "   macro avg       0.89      0.89      0.89     10000\n",
      "weighted avg       0.89      0.89      0.89     10000\n",
      "\n",
      "              precision    recall  f1-score   support\n",
      "\n",
      "           0       0.89      0.87      0.88      4961\n",
      "           1       0.88      0.90      0.89      5039\n",
      "\n",
      "    accuracy                           0.89     10000\n",
      "   macro avg       0.89      0.89      0.89     10000\n",
      "weighted avg       0.89      0.89      0.89     10000\n",
      "\n"
     ]
    }
   ],
   "source": [
    "kernels = ['linear', 'poly', 'rbf', 'sigmoid']\n",
    "svm_classifiers = {}\n",
    "\n",
    "for kernel in kernels:\n",
    "    # Create an SVM classifier with the current kernel\n",
    "    svm_classifier = svm.SVC(kernel=kernel)\n",
    "\n",
    "    # Train the classifier on the training data\n",
    "    svm_classifier.fit(X_train, y_train)\n",
    "\n",
    "    # Make predictions on the test data\n",
    "    y_pred = svm_classifier.predict(X_test)\n",
    "\n",
    "    # Evaluate the model\n",
    "    print(sklearn.metrics.classification_report(y_test, y_pred))\n",
    "    svm_classifiers[kernel] = svm_classifier"
   ]
  },
  {
   "cell_type": "code",
   "execution_count": 17,
   "metadata": {},
   "outputs": [],
   "source": [
    "# Guardamos los modelos entrenados\n",
    "\n",
    "for kernel, svm_classifier in svm_classifiers.items():\n",
    "    joblib.dump(svm_classifier, f\"models/svm_classifier_{kernel}.pkl\")"
   ]
  },
  {
   "cell_type": "code",
   "execution_count": null,
   "metadata": {},
   "outputs": [],
   "source": [
    "test_ds = pd.read_csv(\"datasets/test.csv\")\n",
    "for classfier in svm_classifiers:\n",
    "    test_ds[\"sentimiento\"] = svm_classifiers[classfier].predict(vectorizador.transform(test_ds[\"review_es\"]))\n",
    "    # convert \"sentimiento\" to \"positivo\" or \"negativo\"\n",
    "    test_ds[\"sentimiento\"] = test_ds[\"sentimiento\"].apply(lambda x: \"positivo\" if x == 1 else \"negativo\")\n",
    "    test_ds[[\"ID\",\"sentimiento\"]].to_csv(\"submissions/svm_\" + classfier + \".csv\", index=False)"
   ]
  },
  {
   "attachments": {},
   "cell_type": "markdown",
   "metadata": {},
   "source": [
    "Observamos que el mejor fue el Radial Basis Function kernel, por lo que vamos a buscar hiperparámetros para ver si podemos mejorar ese."
   ]
  },
  {
   "cell_type": "code",
   "execution_count": 19,
   "metadata": {
    "scrolled": true
   },
   "outputs": [
    {
     "ename": "ValueError",
     "evalue": "Found input variables with inconsistent numbers of samples: [40000, 50000]",
     "output_type": "error",
     "traceback": [
      "\u001b[0;31m---------------------------------------------------------------------------\u001b[0m",
      "\u001b[0;31mValueError\u001b[0m                                Traceback (most recent call last)",
      "Cell \u001b[0;32mIn[19], line 17\u001b[0m\n\u001b[1;32m     14\u001b[0m svm_classifier \u001b[38;5;241m=\u001b[39m svm\u001b[38;5;241m.\u001b[39mSVC()\n\u001b[1;32m     16\u001b[0m gs \u001b[38;5;241m=\u001b[39m RandomizedSearchCV(svm_classifier, hiperparametros, scoring\u001b[38;5;241m=\u001b[39mscorer_fn, cv\u001b[38;5;241m=\u001b[39mkfold, n_jobs\u001b[38;5;241m=\u001b[39m\u001b[38;5;241m-\u001b[39m\u001b[38;5;241m1\u001b[39m, verbose\u001b[38;5;241m=\u001b[39m\u001b[38;5;241m2\u001b[39m, n_iter\u001b[38;5;241m=\u001b[39m\u001b[38;5;241m10\u001b[39m)\n\u001b[0;32m---> 17\u001b[0m \u001b[43mgs\u001b[49m\u001b[38;5;241;43m.\u001b[39;49m\u001b[43mfit\u001b[49m\u001b[43m(\u001b[49m\u001b[43mX_train\u001b[49m\u001b[43m,\u001b[49m\u001b[43m \u001b[49m\u001b[43msentiments\u001b[49m\u001b[43m)\u001b[49m\n\u001b[1;32m     19\u001b[0m \u001b[38;5;28mprint\u001b[39m(gs\u001b[38;5;241m.\u001b[39mbest_params_)\n",
      "File \u001b[0;32m/opt/conda/lib/python3.11/site-packages/sklearn/model_selection/_search.py:782\u001b[0m, in \u001b[0;36mBaseSearchCV.fit\u001b[0;34m(self, X, y, groups, **fit_params)\u001b[0m\n\u001b[1;32m    779\u001b[0m     \u001b[38;5;28mself\u001b[39m\u001b[38;5;241m.\u001b[39m_check_refit_for_multimetric(scorers)\n\u001b[1;32m    780\u001b[0m     refit_metric \u001b[38;5;241m=\u001b[39m \u001b[38;5;28mself\u001b[39m\u001b[38;5;241m.\u001b[39mrefit\n\u001b[0;32m--> 782\u001b[0m X, y, groups \u001b[38;5;241m=\u001b[39m \u001b[43mindexable\u001b[49m\u001b[43m(\u001b[49m\u001b[43mX\u001b[49m\u001b[43m,\u001b[49m\u001b[43m \u001b[49m\u001b[43my\u001b[49m\u001b[43m,\u001b[49m\u001b[43m \u001b[49m\u001b[43mgroups\u001b[49m\u001b[43m)\u001b[49m\n\u001b[1;32m    783\u001b[0m fit_params \u001b[38;5;241m=\u001b[39m _check_fit_params(X, fit_params)\n\u001b[1;32m    785\u001b[0m cv_orig \u001b[38;5;241m=\u001b[39m check_cv(\u001b[38;5;28mself\u001b[39m\u001b[38;5;241m.\u001b[39mcv, y, classifier\u001b[38;5;241m=\u001b[39mis_classifier(estimator))\n",
      "File \u001b[0;32m/opt/conda/lib/python3.11/site-packages/sklearn/utils/validation.py:443\u001b[0m, in \u001b[0;36mindexable\u001b[0;34m(*iterables)\u001b[0m\n\u001b[1;32m    424\u001b[0m \u001b[38;5;250m\u001b[39m\u001b[38;5;124;03m\"\"\"Make arrays indexable for cross-validation.\u001b[39;00m\n\u001b[1;32m    425\u001b[0m \n\u001b[1;32m    426\u001b[0m \u001b[38;5;124;03mChecks consistent length, passes through None, and ensures that everything\u001b[39;00m\n\u001b[0;32m   (...)\u001b[0m\n\u001b[1;32m    439\u001b[0m \u001b[38;5;124;03m    sparse matrix, or dataframe) or `None`.\u001b[39;00m\n\u001b[1;32m    440\u001b[0m \u001b[38;5;124;03m\"\"\"\u001b[39;00m\n\u001b[1;32m    442\u001b[0m result \u001b[38;5;241m=\u001b[39m [_make_indexable(X) \u001b[38;5;28;01mfor\u001b[39;00m X \u001b[38;5;129;01min\u001b[39;00m iterables]\n\u001b[0;32m--> 443\u001b[0m \u001b[43mcheck_consistent_length\u001b[49m\u001b[43m(\u001b[49m\u001b[38;5;241;43m*\u001b[39;49m\u001b[43mresult\u001b[49m\u001b[43m)\u001b[49m\n\u001b[1;32m    444\u001b[0m \u001b[38;5;28;01mreturn\u001b[39;00m result\n",
      "File \u001b[0;32m/opt/conda/lib/python3.11/site-packages/sklearn/utils/validation.py:397\u001b[0m, in \u001b[0;36mcheck_consistent_length\u001b[0;34m(*arrays)\u001b[0m\n\u001b[1;32m    395\u001b[0m uniques \u001b[38;5;241m=\u001b[39m np\u001b[38;5;241m.\u001b[39munique(lengths)\n\u001b[1;32m    396\u001b[0m \u001b[38;5;28;01mif\u001b[39;00m \u001b[38;5;28mlen\u001b[39m(uniques) \u001b[38;5;241m>\u001b[39m \u001b[38;5;241m1\u001b[39m:\n\u001b[0;32m--> 397\u001b[0m     \u001b[38;5;28;01mraise\u001b[39;00m \u001b[38;5;167;01mValueError\u001b[39;00m(\n\u001b[1;32m    398\u001b[0m         \u001b[38;5;124m\"\u001b[39m\u001b[38;5;124mFound input variables with inconsistent numbers of samples: \u001b[39m\u001b[38;5;132;01m%r\u001b[39;00m\u001b[38;5;124m\"\u001b[39m\n\u001b[1;32m    399\u001b[0m         \u001b[38;5;241m%\u001b[39m [\u001b[38;5;28mint\u001b[39m(l) \u001b[38;5;28;01mfor\u001b[39;00m l \u001b[38;5;129;01min\u001b[39;00m lengths]\n\u001b[1;32m    400\u001b[0m     )\n",
      "\u001b[0;31mValueError\u001b[0m: Found input variables with inconsistent numbers of samples: [40000, 50000]"
     ]
    }
   ],
   "source": [
    "# Observamos que el mejor fue el Radial Basis Function kernel, por lo que vamos a buscar hiperparámetros para ver si podemos mejorar ese.\n",
    "\n",
    "FOLDS = 6\n",
    "kfold = StratifiedKFold(n_splits=FOLDS)\n",
    "scorer_fn = make_scorer(f1_score)\n",
    "\n",
    "hiperparametros = {\n",
    "    'C': [0.01, 0.1, 1, 2],\n",
    "    'gamma': [\"auto\", \"scale\"],\n",
    "    'kernel': ['linear', 'rbf', 'sigmoid'],\n",
    "    'degree': [1, 2, 3, 4, 5]\n",
    "}\n",
    "\n",
    "svm_classifier = svm.SVC()\n",
    "\n",
    "gs = RandomizedSearchCV(svm_classifier, hiperparametros, scoring=scorer_fn, cv=kfold, n_jobs=-1, verbose=2, n_iter=10)\n",
    "gs.fit(X_train, sentiments)\n",
    "\n",
    "print(gs.best_params_)"
   ]
  },
  {
   "cell_type": "code",
   "execution_count": 31,
   "metadata": {},
   "outputs": [
    {
     "name": "stdout",
     "output_type": "stream",
     "text": [
      "Accuracy: 0.8641\n",
      "Precision: 0.8494113178883403\n",
      "Recall: 0.887676126215519\n",
      "F1 Score: 0.8681222707423581\n"
     ]
    }
   ],
   "source": [
    "best_params = {'kernel': 'rbf', 'gamma': 'scale', 'degree': 3, 'C': 1}\n",
    "# Create the best SVM classfier\n",
    "svm_classifier = svm.SVC(**best_params)\n",
    "\n",
    "# Train the classifier on the training data\n",
    "svm_classifier.fit(X_train, y_train)\n",
    "\n",
    "# Save best SVM\n",
    "joblib.dump(svm_classifier, f\"models/svm_classifier_{best_params['kernel']}_best.pkl\")\n",
    "\n",
    "# Make predictions on the test data\n",
    "y_pred = svm_classifier.predict(X_test)\n",
    "print(\"Accuracy:\", metrics.accuracy_score(y_test, y_pred))\n",
    "print(\"Precision:\", metrics.precision_score(y_test, y_pred))\n",
    "print(\"Recall:\", metrics.recall_score(y_test, y_pred))\n",
    "print(\"F1 Score:\", metrics.f1_score(y_test, y_pred))"
   ]
  },
  {
   "cell_type": "code",
   "execution_count": 33,
   "metadata": {},
   "outputs": [],
   "source": [
    "# Make Kaggle predictions\n",
    "test_ds = pd.read_csv(\"datasets/test.csv\")\n",
    "test_ds[\"sentimiento\"] = svm_classifier.predict(vectorizador.transform(test_ds[\"review_es\"]))\n",
    "# convert \"sentimiento\" to \"positivo\" or \"negativo\"\n",
    "test_ds[\"sentimiento\"] = test_ds[\"sentimiento\"].apply(lambda x: \"positivo\" if x == 1 else \"negativo\")\n",
    "test_ds[[\"ID\",\"sentimiento\"]].to_csv(\"submissions/svm_rbf_best.csv\", index=False)"
   ]
  },
  {
   "attachments": {},
   "cell_type": "markdown",
   "metadata": {},
   "source": [
    "## Redes Neuronales"
   ]
  },
  {
   "cell_type": "code",
   "execution_count": 120,
   "metadata": {},
   "outputs": [
    {
     "name": "stdout",
     "output_type": "stream",
     "text": [
      "Epoch 1/100\n",
      "1250/1250 [==============================] - 115s 91ms/step - loss: 0.3554 - accuracy: 0.8526 - val_loss: 0.2877 - val_accuracy: 0.8822\n",
      "Epoch 2/100\n",
      "1250/1250 [==============================] - 115s 92ms/step - loss: 0.0695 - accuracy: 0.9755 - val_loss: 0.4144 - val_accuracy: 0.8664\n",
      "Epoch 3/100\n",
      "1250/1250 [==============================] - 119s 95ms/step - loss: 0.0109 - accuracy: 0.9965 - val_loss: 0.7354 - val_accuracy: 0.8646\n",
      "Epoch 4/100\n",
      "1250/1250 [==============================] - 118s 94ms/step - loss: 0.0020 - accuracy: 0.9995 - val_loss: 1.1072 - val_accuracy: 0.8651\n",
      "313/313 [==============================] - 1s 2ms/step - loss: 1.1072 - accuracy: 0.8651\n",
      "Loss: 1.1071536540985107\n",
      "Accuracy: 0.8651000261306763\n"
     ]
    }
   ],
   "source": [
    "from tensorflow import keras\n",
    "from keras.callbacks import EarlyStopping\n",
    "import numpy as np\n",
    "#from sklearn.preprocessing import StandardScaler\n",
    "from sklearn.preprocessing import MaxAbsScaler\n",
    "\n",
    "\n",
    "# De lista a array\n",
    "y_train = np.array(y_train)\n",
    "y_test = np.array(y_test)\n",
    "\n",
    "# Escalado de datos\n",
    "scaler = MaxAbsScaler()\n",
    "#scaler = StandardScaler()\n",
    "X_train = scaler.fit_transform(X_train)\n",
    "X_test = scaler.transform(X_test)\n",
    "\n",
    "cant_cols = X_train.shape[1]\n",
    "\n",
    "# Definir la arquitectura de la red neuronal\n",
    "modelo = keras.Sequential([\n",
    "    keras.layers.Dense(64, activation='relu', input_shape=(cant_cols,)),\n",
    "    keras.layers.Dense(32, activation='relu'),\n",
    "    keras.layers.Dense(16, activation='relu'),\n",
    "    keras.layers.Dense(8, activation='relu'),\n",
    "    keras.layers.Dense(1, activation='sigmoid') #Por ser problema de clasificacion binaria \n",
    "])\n",
    "\n",
    "modelo.compile(optimizer='adam', loss='binary_crossentropy', metrics=['accuracy'])\n",
    "\n",
    "# Definir Early Stopping\n",
    "early_stopping = EarlyStopping(monitor='val_loss', patience=3)\n",
    "\n",
    "# Entranado del modelo\n",
    "modelo.fit(X_train, y_train, epochs=100, batch_size=32, validation_data=(X_test, y_test), callbacks=[early_stopping])\n",
    "\n",
    "# Evaluar el modelo\n",
    "loss, accuracy = modelo.evaluate(X_test, y_test)\n",
    "print(\"Loss:\", loss)\n",
    "print(\"Accuracy:\", accuracy)\n"
   ]
  },
  {
   "cell_type": "code",
   "execution_count": 121,
   "metadata": {},
   "outputs": [
    {
     "name": "stdout",
     "output_type": "stream",
     "text": [
      "313/313 [==============================] - 1s 2ms/step\n",
      "Matriz de Confusión:\n",
      "[[4067  894]\n",
      " [ 494 4545]]\n",
      "Informe de Clasificación:\n",
      "              precision    recall  f1-score   support\n",
      "\n",
      "           0       0.89      0.82      0.85      4961\n",
      "           1       0.84      0.90      0.87      5039\n",
      "\n",
      "    accuracy                           0.86     10000\n",
      "   macro avg       0.86      0.86      0.86     10000\n",
      "weighted avg       0.86      0.86      0.86     10000\n",
      "\n"
     ]
    }
   ],
   "source": [
    "from sklearn.metrics import confusion_matrix, classification_report\n",
    "\n",
    "# Obtener las predicciones del modelo en el conjunto de prueba\n",
    "y_pred = modelo.predict(X_test)\n",
    "\n",
    "# Aplicar umbral de 0.2\n",
    "threshold = 0.2\n",
    "y_pred_rounded = np.where(y_pred >= threshold, 1, 0)\n",
    "\n",
    "# Calcular la matriz de confusión\n",
    "confusion_mat = confusion_matrix(y_test, y_pred_rounded)\n",
    "\n",
    "# Imprimir la matriz de confusión\n",
    "print(\"Matriz de Confusión:\")\n",
    "print(confusion_mat)\n",
    "\n",
    "# Obtener otras métricas de evaluación\n",
    "classification_rep = classification_report(y_test, y_pred_rounded)\n",
    "\n",
    "# Imprimir el informe de clasificación con métricas como precisión, recall y f1-score\n",
    "print(\"Informe de Clasificación:\")\n",
    "print(classification_rep)\n"
   ]
  },
  {
   "cell_type": "code",
   "execution_count": 129,
   "metadata": {},
   "outputs": [
    {
     "name": "stdout",
     "output_type": "stream",
     "text": [
      "269/269 [==============================] - 1s 3ms/step\n"
     ]
    }
   ],
   "source": [
    "test_ds = pd.read_csv(\"datasets/test.csv\")\n",
    "test_ds[\"sentimiento\"] = modelo.predict(vectorizer.transform(test_ds[\"review_es\"]))\n",
    "\n",
    "# Redondear los valores de sentimiento a 0 o 1\n",
    "test_ds[\"sentimiento\"] = round(test_ds[\"sentimiento\"])\n",
    "\n",
    "# convert \"sentimiento\" to \"positivo\" or \"negativo\"\n",
    "test_ds[\"sentimiento\"] = test_ds[\"sentimiento\"].apply(lambda x: \"positivo\" if x == 1 else \"negativo\")\n",
    "test_ds[[\"ID\",\"sentimiento\"]].to_csv(\"submissions/redneuronal3.csv\", index=False)"
   ]
  },
  {
   "cell_type": "code",
   "execution_count": 201,
   "metadata": {},
   "outputs": [
    {
     "name": "stdout",
     "output_type": "stream",
     "text": [
      "Model: \"sequential_25\"\n",
      "_________________________________________________________________\n",
      " Layer (type)                Output Shape              Param #   \n",
      "=================================================================\n",
      " dense_58 (Dense)            (None, 2)                 351708    \n",
      "                                                                 \n",
      " dense_59 (Dense)            (None, 1)                 3         \n",
      "                                                                 \n",
      "=================================================================\n",
      "Total params: 351,711\n",
      "Trainable params: 351,711\n",
      "Non-trainable params: 0\n",
      "_________________________________________________________________\n"
     ]
    }
   ],
   "source": [
    "# import numpy as np\n",
    "# import tensorflow as tf\n",
    "# from tensorflow import keras\n",
    "# from keras.callbacks import EarlyStopping\n",
    "\n",
    "# cant_clases = len(np.unique(y_train))\n",
    "# d_in = X_train.shape[1]\n",
    "\n",
    "# # early_stopping = EarlyStopping(\n",
    "# #     monitor='loss',\n",
    "# #     patience=3,\n",
    "# #     restore_best_weights=True,\n",
    "# # )\n",
    "\n",
    "# # modelo = keras.Sequential([\n",
    "# #     keras.layers.Dense(2,input_shape=(d_in,), activation='relu',kernel_initializer='uniform'),\n",
    "# #     keras.layers.Dense(1, activation='relu')])\n",
    "\n",
    "# modelo = keras.Sequential([\n",
    "#     keras.layers.Dense(64, input_shape=(d_in,), activation='relu'),\n",
    "#     keras.layers.Dense(32, activation='relu'),\n",
    "#     keras.layers.Dense(1, activation='sigmoid')\n",
    "# ])\n",
    "\n",
    "\n",
    "# modelo.summary()"
   ]
  },
  {
   "cell_type": "code",
   "execution_count": 202,
   "metadata": {},
   "outputs": [
    {
     "data": {
      "text/plain": [
       "(40000, 175853)"
      ]
     },
     "execution_count": 202,
     "metadata": {},
     "output_type": "execute_result"
    }
   ],
   "source": [
    "# X_train.shape"
   ]
  },
  {
   "cell_type": "code",
   "execution_count": 180,
   "metadata": {},
   "outputs": [],
   "source": [
    "# from sklearn.preprocessing import StandardScaler\n",
    "\n",
    "# scaler = StandardScaler(with_mean=False)\n",
    "# X_train = scaler.fit_transform(X_train)\n",
    "# X_test = scaler.transform(X_test)"
   ]
  },
  {
   "cell_type": "code",
   "execution_count": 186,
   "metadata": {},
   "outputs": [],
   "source": [
    "# y_train = np.array(y_train)\n",
    "# y_test = np.array(y_test)"
   ]
  },
  {
   "cell_type": "code",
   "execution_count": 203,
   "metadata": {},
   "outputs": [],
   "source": [
    "# modelo.compile(\n",
    "#   #optimizer=keras.optimizers.SGD(learning_rate=0.01, momentum=0.9, nesterov=True),\n",
    "#   optimizer=keras.optimizers.Adam(learning_rate=0.001, beta_1=0.9, beta_2=0.999), #mas optima\n",
    "#   loss='binary_crossentropy', \n",
    "#   metrics=['AUC'], #metrica de area bajo la curva \n",
    "# )\n",
    "\n",
    "# cant_epochs=50\n",
    "# historia_modelo = modelo.fit(\n",
    "#     X_train,\n",
    "#     y_train,\n",
    "#     epochs=cant_epochs,\n",
    "#     batch_size=32,\n",
    "#     verbose=False,\n",
    "#     #callbacks=[early_stopping],\n",
    "#     )"
   ]
  },
  {
   "cell_type": "code",
   "execution_count": 33,
   "metadata": {},
   "outputs": [],
   "source": [
    "# from sklearn.metrics import confusion_matrix, classification_report\n",
    "# import seaborn as sns\n",
    "# import matplotlib.pyplot as plt\n",
    "\n",
    "# def metricas(y_pred,y_test):\n",
    "\n",
    "#   print(classification_report(y_test,y_pred))\n",
    "  \n",
    "#   cm = confusion_matrix(y_test,y_pred)\n",
    "#   sns.heatmap(cm, cmap='Blues',annot=True,fmt='g')\n",
    "#   plt.xlabel('Predicted')\n",
    "#   plt.ylabel('True')"
   ]
  },
  {
   "cell_type": "code",
   "execution_count": 39,
   "metadata": {},
   "outputs": [
    {
     "name": "stderr",
     "output_type": "stream",
     "text": [
      "c:\\Users\\Hp\\AppData\\Local\\Programs\\Python\\Python310\\lib\\site-packages\\sklearn\\metrics\\_classification.py:1344: UndefinedMetricWarning:\n",
      "\n",
      "Precision and F-score are ill-defined and being set to 0.0 in labels with no predicted samples. Use `zero_division` parameter to control this behavior.\n",
      "\n",
      "c:\\Users\\Hp\\AppData\\Local\\Programs\\Python\\Python310\\lib\\site-packages\\sklearn\\metrics\\_classification.py:1344: UndefinedMetricWarning:\n",
      "\n",
      "Precision and F-score are ill-defined and being set to 0.0 in labels with no predicted samples. Use `zero_division` parameter to control this behavior.\n",
      "\n",
      "c:\\Users\\Hp\\AppData\\Local\\Programs\\Python\\Python310\\lib\\site-packages\\sklearn\\metrics\\_classification.py:1344: UndefinedMetricWarning:\n",
      "\n",
      "Precision and F-score are ill-defined and being set to 0.0 in labels with no predicted samples. Use `zero_division` parameter to control this behavior.\n",
      "\n"
     ]
    },
    {
     "name": "stdout",
     "output_type": "stream",
     "text": [
      "              precision    recall  f1-score   support\n",
      "\n",
      "           0       0.50      1.00      0.66      4961\n",
      "           1       0.00      0.00      0.00      5039\n",
      "\n",
      "    accuracy                           0.50     10000\n",
      "   macro avg       0.25      0.50      0.33     10000\n",
      "weighted avg       0.25      0.50      0.33     10000\n",
      "\n"
     ]
    },
    {
     "data": {
      "image/png": "[encoded data removed]",
      "text/plain": [
       "<Figure size 640x480 with 2 Axes>"
      ]
     },
     "metadata": {},
     "output_type": "display_data"
    }
   ],
   "source": [
    "# y_predict = modelo.predict(X_test, batch_size=64, verbose=False)\n",
    "# y_predict_bool = np.argmax(y_predict, axis=1)\n",
    "# metricas(y_predict_bool, y_test)"
   ]
  },
  {
   "cell_type": "code",
   "execution_count": 206,
   "metadata": {},
   "outputs": [
    {
     "name": "stdout",
     "output_type": "stream",
     "text": [
      "  1/313 [..............................] - ETA: 6s"
     ]
    },
    {
     "name": "stdout",
     "output_type": "stream",
     "text": [
      "313/313 [==============================] - 1s 2ms/step\n",
      "Accuracy: 0.4961\n",
      "Precision: 0.0\n",
      "Recall: 0.0\n",
      "F1 Score: 0.0\n"
     ]
    },
    {
     "name": "stderr",
     "output_type": "stream",
     "text": [
      "c:\\Users\\Hp\\AppData\\Local\\Programs\\Python\\Python310\\lib\\site-packages\\sklearn\\metrics\\_classification.py:1344: UndefinedMetricWarning:\n",
      "\n",
      "Precision is ill-defined and being set to 0.0 due to no predicted samples. Use `zero_division` parameter to control this behavior.\n",
      "\n"
     ]
    }
   ],
   "source": [
    "\n",
    "# y_pred = modelo.predict(X_test)\n",
    "# print(\"Accuracy:\", metrics.accuracy_score(y_test, y_pred))\n",
    "# print(\"Precision:\", metrics.precision_score(y_test, y_pred))\n",
    "# print(\"Recall:\", metrics.recall_score(y_test, y_pred))\n",
    "# print(\"F1 Score:\", metrics.f1_score(y_test, y_pred))\n",
    "\n"
   ]
  },
  {
   "cell_type": "code",
   "execution_count": 148,
   "metadata": {},
   "outputs": [
    {
     "data": {
      "text/plain": [
       "2450"
      ]
     },
     "execution_count": 148,
     "metadata": {},
     "output_type": "execute_result"
    }
   ],
   "source": [
    "#busqueda max length\n",
    "max_length = 0\n",
    "for review in reviews:\n",
    "    length = len(review.split())\n",
    "    if length > max_length:\n",
    "        max_length = length\n",
    "max_length"
   ]
  },
  {
   "cell_type": "code",
   "execution_count": 150,
   "metadata": {},
   "outputs": [
    {
     "name": "stdout",
     "output_type": "stream",
     "text": [
      "Epoch 1/10\n"
     ]
    },
    {
     "ename": "ValueError",
     "evalue": "in user code:\n\n    File \"c:\\Users\\Hp\\AppData\\Local\\Programs\\Python\\Python310\\lib\\site-packages\\keras\\engine\\training.py\", line 1284, in train_function  *\n        return step_function(self, iterator)\n    File \"c:\\Users\\Hp\\AppData\\Local\\Programs\\Python\\Python310\\lib\\site-packages\\keras\\engine\\training.py\", line 1268, in step_function  **\n        outputs = model.distribute_strategy.run(run_step, args=(data,))\n    File \"c:\\Users\\Hp\\AppData\\Local\\Programs\\Python\\Python310\\lib\\site-packages\\keras\\engine\\training.py\", line 1249, in run_step  **\n        outputs = model.train_step(data)\n    File \"c:\\Users\\Hp\\AppData\\Local\\Programs\\Python\\Python310\\lib\\site-packages\\keras\\engine\\training.py\", line 1050, in train_step\n        y_pred = self(x, training=True)\n    File \"c:\\Users\\Hp\\AppData\\Local\\Programs\\Python\\Python310\\lib\\site-packages\\keras\\utils\\traceback_utils.py\", line 70, in error_handler\n        raise e.with_traceback(filtered_tb) from None\n    File \"c:\\Users\\Hp\\AppData\\Local\\Programs\\Python\\Python310\\lib\\site-packages\\keras\\engine\\input_spec.py\", line 298, in assert_input_compatibility\n        raise ValueError(\n\n    ValueError: Input 0 of layer \"sequential_9\" is incompatible with the layer: expected shape=(None, 2450), found shape=(None, 175807)\n",
     "output_type": "error",
     "traceback": [
      "\u001b[1;31m---------------------------------------------------------------------------\u001b[0m",
      "\u001b[1;31mValueError\u001b[0m                                Traceback (most recent call last)",
      "Cell \u001b[1;32mIn[150], line 30\u001b[0m\n\u001b[0;32m     27\u001b[0m model\u001b[39m.\u001b[39mcompile(loss\u001b[39m=\u001b[39m\u001b[39m'\u001b[39m\u001b[39mbinary_crossentropy\u001b[39m\u001b[39m'\u001b[39m, optimizer\u001b[39m=\u001b[39mAdam(learning_rate\u001b[39m=\u001b[39m\u001b[39m0.001\u001b[39m), metrics\u001b[39m=\u001b[39m[\u001b[39m'\u001b[39m\u001b[39maccuracy\u001b[39m\u001b[39m'\u001b[39m])\n\u001b[0;32m     29\u001b[0m \u001b[39m# Entrenar el modelo\u001b[39;00m\n\u001b[1;32m---> 30\u001b[0m model\u001b[39m.\u001b[39;49mfit(X_train, y_train, batch_size\u001b[39m=\u001b[39;49m\u001b[39m64\u001b[39;49m, epochs\u001b[39m=\u001b[39;49m\u001b[39m10\u001b[39;49m, validation_data\u001b[39m=\u001b[39;49m(X_test, y_test))\n\u001b[0;32m     32\u001b[0m \u001b[39m# Evaluar el modelo\u001b[39;00m\n\u001b[0;32m     33\u001b[0m loss, accuracy \u001b[39m=\u001b[39m model\u001b[39m.\u001b[39mevaluate(X_test, y_test)\n",
      "File \u001b[1;32mc:\\Users\\Hp\\AppData\\Local\\Programs\\Python\\Python310\\lib\\site-packages\\keras\\utils\\traceback_utils.py:70\u001b[0m, in \u001b[0;36mfilter_traceback.<locals>.error_handler\u001b[1;34m(*args, **kwargs)\u001b[0m\n\u001b[0;32m     67\u001b[0m     filtered_tb \u001b[39m=\u001b[39m _process_traceback_frames(e\u001b[39m.\u001b[39m__traceback__)\n\u001b[0;32m     68\u001b[0m     \u001b[39m# To get the full stack trace, call:\u001b[39;00m\n\u001b[0;32m     69\u001b[0m     \u001b[39m# `tf.debugging.disable_traceback_filtering()`\u001b[39;00m\n\u001b[1;32m---> 70\u001b[0m     \u001b[39mraise\u001b[39;00m e\u001b[39m.\u001b[39mwith_traceback(filtered_tb) \u001b[39mfrom\u001b[39;00m \u001b[39mNone\u001b[39m\n\u001b[0;32m     71\u001b[0m \u001b[39mfinally\u001b[39;00m:\n\u001b[0;32m     72\u001b[0m     \u001b[39mdel\u001b[39;00m filtered_tb\n",
      "File \u001b[1;32m~\\AppData\\Local\\Temp\\__autograph_generated_fileyhxo30tn.py:15\u001b[0m, in \u001b[0;36mouter_factory.<locals>.inner_factory.<locals>.tf__train_function\u001b[1;34m(iterator)\u001b[0m\n\u001b[0;32m     13\u001b[0m \u001b[39mtry\u001b[39;00m:\n\u001b[0;32m     14\u001b[0m     do_return \u001b[39m=\u001b[39m \u001b[39mTrue\u001b[39;00m\n\u001b[1;32m---> 15\u001b[0m     retval_ \u001b[39m=\u001b[39m ag__\u001b[39m.\u001b[39mconverted_call(ag__\u001b[39m.\u001b[39mld(step_function), (ag__\u001b[39m.\u001b[39mld(\u001b[39mself\u001b[39m), ag__\u001b[39m.\u001b[39mld(iterator)), \u001b[39mNone\u001b[39;00m, fscope)\n\u001b[0;32m     16\u001b[0m \u001b[39mexcept\u001b[39;00m:\n\u001b[0;32m     17\u001b[0m     do_return \u001b[39m=\u001b[39m \u001b[39mFalse\u001b[39;00m\n",
      "\u001b[1;31mValueError\u001b[0m: in user code:\n\n    File \"c:\\Users\\Hp\\AppData\\Local\\Programs\\Python\\Python310\\lib\\site-packages\\keras\\engine\\training.py\", line 1284, in train_function  *\n        return step_function(self, iterator)\n    File \"c:\\Users\\Hp\\AppData\\Local\\Programs\\Python\\Python310\\lib\\site-packages\\keras\\engine\\training.py\", line 1268, in step_function  **\n        outputs = model.distribute_strategy.run(run_step, args=(data,))\n    File \"c:\\Users\\Hp\\AppData\\Local\\Programs\\Python\\Python310\\lib\\site-packages\\keras\\engine\\training.py\", line 1249, in run_step  **\n        outputs = model.train_step(data)\n    File \"c:\\Users\\Hp\\AppData\\Local\\Programs\\Python\\Python310\\lib\\site-packages\\keras\\engine\\training.py\", line 1050, in train_step\n        y_pred = self(x, training=True)\n    File \"c:\\Users\\Hp\\AppData\\Local\\Programs\\Python\\Python310\\lib\\site-packages\\keras\\utils\\traceback_utils.py\", line 70, in error_handler\n        raise e.with_traceback(filtered_tb) from None\n    File \"c:\\Users\\Hp\\AppData\\Local\\Programs\\Python\\Python310\\lib\\site-packages\\keras\\engine\\input_spec.py\", line 298, in assert_input_compatibility\n        raise ValueError(\n\n    ValueError: Input 0 of layer \"sequential_9\" is incompatible with the layer: expected shape=(None, 2450), found shape=(None, 175807)\n"
     ]
    }
   ],
   "source": [
    "# from keras.models import Sequential\n",
    "# from keras.layers import Dense, Embedding, LSTM, Dropout\n",
    "# from keras.optimizers import Adam\n",
    "\n",
    "# cant_cols = X_train.shape[1]\n",
    "# embedding_dim = 200\n",
    "\n",
    "# # De lista a array\n",
    "# y_train = np.array(y_train)\n",
    "# y_test = np.array(y_test)\n",
    "\n",
    "# # Escalado de datos\n",
    "# scaler = MaxAbsScaler()\n",
    "# #scaler = StandardScaler()\n",
    "# X_train = scaler.fit_transform(X_train)\n",
    "# X_test = scaler.transform(X_test)\n",
    "\n",
    "# # Definir el modelo de la red recurrente\n",
    "# model = Sequential()\n",
    "# model.add(Embedding(input_dim=cant_cols, output_dim=embedding_dim, input_length=max_length))\n",
    "# model.add(LSTM(units=128, dropout=0.2, recurrent_dropout=0.2))\n",
    "# model.add(Dense(units=64, activation='relu'))\n",
    "# model.add(Dropout(0.5))\n",
    "# model.add(Dense(units=1, activation='sigmoid'))\n",
    "\n",
    "# # Compilar el modelo\n",
    "# model.compile(loss='binary_crossentropy', optimizer=Adam(learning_rate=0.001), metrics=['accuracy'])\n",
    "\n",
    "# # Entrenar el modelo\n",
    "# model.fit(X_train, y_train, batch_size=64, epochs=10, validation_data=(X_test, y_test))\n",
    "\n",
    "# # Evaluar el modelo\n",
    "# loss, accuracy = model.evaluate(X_test, y_test)\n",
    "# print(\"Loss:\", loss)\n",
    "# print(\"Accuracy:\", accuracy)"
   ]
  }
 ],
 "metadata": {
  "kernelspec": {
   "display_name": "Python 3 (ipykernel)",
   "language": "python",
   "name": "python3"
  },
  "language_info": {
   "codemirror_mode": {
    "name": "ipython",
    "version": 3
   },
   "file_extension": ".py",
   "mimetype": "text/x-python",
   "name": "python",
   "nbconvert_exporter": "python",
   "pygments_lexer": "ipython3",
   "version": "3.10.6"
  }
 },
 "nbformat": 4,
 "nbformat_minor": 4
}
