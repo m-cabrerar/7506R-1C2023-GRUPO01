{
 "cells": [
  {
   "attachments": {},
   "cell_type": "markdown",
   "metadata": {},
   "source": [
    "# Trabajo Práctico 2 : Críticas Cinematográficas\n",
    "\n",
    "### Grupo 01 - Integrantes:\n",
    "        Cabrera Rodríguez, Mateo \n",
    "        Gonzalez Alejo, Camila\n",
    "        Bocanegra, Eduardo Martín"
   ]
  },
  {
   "attachments": {},
   "cell_type": "markdown",
   "metadata": {},
   "source": [
    "# Setup"
   ]
  },
  {
   "cell_type": "code",
   "execution_count": 9,
   "metadata": {},
   "outputs": [
    {
     "name": "stdout",
     "output_type": "stream",
     "text": [
      "Requirement already satisfied: pandas in /opt/conda/lib/python3.10/site-packages (from -r ./requirements.txt (line 1)) (2.0.1)\n",
      "Requirement already satisfied: numpy in /opt/conda/lib/python3.10/site-packages (from -r ./requirements.txt (line 2)) (1.23.5)\n",
      "Requirement already satisfied: seaborn in /opt/conda/lib/python3.10/site-packages (from -r ./requirements.txt (line 3)) (0.12.2)\n",
      "Requirement already satisfied: scikit-learn in /opt/conda/lib/python3.10/site-packages (from -r ./requirements.txt (line 4)) (1.2.2)\n",
      "Requirement already satisfied: graphviz in /opt/conda/lib/python3.10/site-packages (from -r ./requirements.txt (line 5)) (0.20.1)\n",
      "Requirement already satisfied: xgboost in /opt/conda/lib/python3.10/site-packages (from -r ./requirements.txt (line 6)) (1.7.6)\n",
      "Requirement already satisfied: plotly in /opt/conda/lib/python3.10/site-packages (from -r ./requirements.txt (line 7)) (5.15.0)\n",
      "Requirement already satisfied: joblib in /opt/conda/lib/python3.10/site-packages (from -r ./requirements.txt (line 8)) (1.2.0)\n",
      "Requirement already satisfied: nltk in /opt/conda/lib/python3.10/site-packages (from -r ./requirements.txt (line 9)) (3.8.1)\n",
      "Requirement already satisfied: python-dateutil>=2.8.2 in /opt/conda/lib/python3.10/site-packages (from pandas->-r ./requirements.txt (line 1)) (2.8.2)\n",
      "Requirement already satisfied: pytz>=2020.1 in /opt/conda/lib/python3.10/site-packages (from pandas->-r ./requirements.txt (line 1)) (2023.3)\n",
      "Requirement already satisfied: tzdata>=2022.1 in /opt/conda/lib/python3.10/site-packages (from pandas->-r ./requirements.txt (line 1)) (2023.3)\n",
      "Requirement already satisfied: matplotlib!=3.6.1,>=3.1 in /opt/conda/lib/python3.10/site-packages (from seaborn->-r ./requirements.txt (line 3)) (3.7.1)\n",
      "Requirement already satisfied: scipy>=1.3.2 in /opt/conda/lib/python3.10/site-packages (from scikit-learn->-r ./requirements.txt (line 4)) (1.10.1)\n",
      "Requirement already satisfied: threadpoolctl>=2.0.0 in /opt/conda/lib/python3.10/site-packages (from scikit-learn->-r ./requirements.txt (line 4)) (3.1.0)\n",
      "Requirement already satisfied: tenacity>=6.2.0 in /opt/conda/lib/python3.10/site-packages (from plotly->-r ./requirements.txt (line 7)) (8.2.2)\n",
      "Requirement already satisfied: packaging in /opt/conda/lib/python3.10/site-packages (from plotly->-r ./requirements.txt (line 7)) (23.1)\n",
      "Requirement already satisfied: click in /opt/conda/lib/python3.10/site-packages (from nltk->-r ./requirements.txt (line 9)) (8.1.3)\n",
      "Requirement already satisfied: regex>=2021.8.3 in /opt/conda/lib/python3.10/site-packages (from nltk->-r ./requirements.txt (line 9)) (2023.6.3)\n",
      "Requirement already satisfied: tqdm in /opt/conda/lib/python3.10/site-packages (from nltk->-r ./requirements.txt (line 9)) (4.65.0)\n",
      "Requirement already satisfied: contourpy>=1.0.1 in /opt/conda/lib/python3.10/site-packages (from matplotlib!=3.6.1,>=3.1->seaborn->-r ./requirements.txt (line 3)) (1.0.7)\n",
      "Requirement already satisfied: cycler>=0.10 in /opt/conda/lib/python3.10/site-packages (from matplotlib!=3.6.1,>=3.1->seaborn->-r ./requirements.txt (line 3)) (0.11.0)\n",
      "Requirement already satisfied: fonttools>=4.22.0 in /opt/conda/lib/python3.10/site-packages (from matplotlib!=3.6.1,>=3.1->seaborn->-r ./requirements.txt (line 3)) (4.39.4)\n",
      "Requirement already satisfied: kiwisolver>=1.0.1 in /opt/conda/lib/python3.10/site-packages (from matplotlib!=3.6.1,>=3.1->seaborn->-r ./requirements.txt (line 3)) (1.4.4)\n",
      "Requirement already satisfied: pillow>=6.2.0 in /opt/conda/lib/python3.10/site-packages (from matplotlib!=3.6.1,>=3.1->seaborn->-r ./requirements.txt (line 3)) (9.5.0)\n",
      "Requirement already satisfied: pyparsing>=2.3.1 in /opt/conda/lib/python3.10/site-packages (from matplotlib!=3.6.1,>=3.1->seaborn->-r ./requirements.txt (line 3)) (3.0.9)\n",
      "Requirement already satisfied: six>=1.5 in /opt/conda/lib/python3.10/site-packages (from python-dateutil>=2.8.2->pandas->-r ./requirements.txt (line 1)) (1.16.0)\n"
     ]
    }
   ],
   "source": [
    "!pip install -r ./requirements.txt"
   ]
  },
  {
   "attachments": {},
   "cell_type": "markdown",
   "metadata": {},
   "source": [
    "### Cargar bibliotecas"
   ]
  },
  {
   "cell_type": "code",
   "execution_count": 12,
   "metadata": {},
   "outputs": [
    {
     "name": "stderr",
     "output_type": "stream",
     "text": [
      "[nltk_data] Downloading package punkt to /home/jovyan/nltk_data...\n",
      "[nltk_data]   Package punkt is already up-to-date!\n",
      "[nltk_data] Downloading package stopwords to /home/jovyan/nltk_data...\n",
      "[nltk_data]   Package stopwords is already up-to-date!\n",
      "[nltk_data] Downloading package wordnet to /home/jovyan/nltk_data...\n",
      "[nltk_data]   Package wordnet is already up-to-date!\n"
     ]
    },
    {
     "data": {
      "text/plain": [
       "True"
      ]
     },
     "execution_count": 12,
     "metadata": {},
     "output_type": "execute_result"
    }
   ],
   "source": [
    "import pandas as pd\n",
    "import sklearn\n",
    "from sklearn.model_selection import GridSearchCV\n",
    "from sklearn.feature_extraction.text import CountVectorizer\n",
    "from sklearn.model_selection import train_test_split\n",
    "from sklearn.naive_bayes import BernoulliNB\n",
    "from sklearn.ensemble import RandomForestClassifier\n",
    "from sklearn.model_selection import StratifiedKFold, RandomizedSearchCV\n",
    "from sklearn.metrics import f1_score, make_scorer\n",
    "import joblib\n",
    "from sklearn import metrics\n",
    "import plotly as py\n",
    "\n",
    "import nltk\n",
    "from nltk.corpus import stopwords\n",
    "from nltk.tokenize import word_tokenize\n",
    "from nltk.stem import WordNetLemmatizer\n",
    "import re\n",
    "\n",
    "\n",
    "nltk.download('punkt')\n",
    "nltk.download('stopwords')\n",
    "nltk.download('wordnet')"
   ]
  },
  {
   "attachments": {},
   "cell_type": "markdown",
   "metadata": {},
   "source": [
    "### Cargar dataset"
   ]
  },
  {
   "cell_type": "code",
   "execution_count": 2,
   "metadata": {},
   "outputs": [
    {
     "name": "stdout",
     "output_type": "stream",
     "text": [
      "   ID                                          review_es sentimiento\n",
      "0   0  Uno de los otros críticos ha mencionado que de...    positivo\n",
      "1   1  Una pequeña pequeña producción.La técnica de f...    positivo\n",
      "2   2  Pensé que esta era una manera maravillosa de p...    positivo\n",
      "3   3  Básicamente, hay una familia donde un niño peq...    negativo\n",
      "4   4  El \"amor en el tiempo\" de Petter Mattei es una...    positivo\n"
     ]
    }
   ],
   "source": [
    "ds = pd.read_csv(\"datasets/train.csv\")\n",
    "print(ds.head())"
   ]
  },
  {
   "attachments": {},
   "cell_type": "markdown",
   "metadata": {},
   "source": [
    "# Visualización de los datos"
   ]
  },
  {
   "cell_type": "code",
   "execution_count": 38,
   "metadata": {},
   "outputs": [
    {
     "data": {
      "application/vnd.plotly.v1+json": {
       "config": {
        "plotlyServerURL": "https://plot.ly"
       },
       "data": [
        {
         "type": "bar",
         "x": [
          "positivo",
          "negativo"
         ],
         "y": [
          25000,
          25000
         ]
        }
       ],
       "layout": {
        "template": {
         "data": {
          "bar": [
           {
            "error_x": {
             "color": "#2a3f5f"
            },
            "error_y": {
             "color": "#2a3f5f"
            },
            "marker": {
             "line": {
              "color": "#E5ECF6",
              "width": 0.5
             },
             "pattern": {
              "fillmode": "overlay",
              "size": 10,
              "solidity": 0.2
             }
            },
            "type": "bar"
           }
          ],
          "barpolar": [
           {
            "marker": {
             "line": {
              "color": "#E5ECF6",
              "width": 0.5
             },
             "pattern": {
              "fillmode": "overlay",
              "size": 10,
              "solidity": 0.2
             }
            },
            "type": "barpolar"
           }
          ],
          "carpet": [
           {
            "aaxis": {
             "endlinecolor": "#2a3f5f",
             "gridcolor": "white",
             "linecolor": "white",
             "minorgridcolor": "white",
             "startlinecolor": "#2a3f5f"
            },
            "baxis": {
             "endlinecolor": "#2a3f5f",
             "gridcolor": "white",
             "linecolor": "white",
             "minorgridcolor": "white",
             "startlinecolor": "#2a3f5f"
            },
            "type": "carpet"
           }
          ],
          "choropleth": [
           {
            "colorbar": {
             "outlinewidth": 0,
             "ticks": ""
            },
            "type": "choropleth"
           }
          ],
          "contour": [
           {
            "colorbar": {
             "outlinewidth": 0,
             "ticks": ""
            },
            "colorscale": [
             [
              0,
              "#0d0887"
             ],
             [
              0.1111111111111111,
              "#46039f"
             ],
             [
              0.2222222222222222,
              "#7201a8"
             ],
             [
              0.3333333333333333,
              "#9c179e"
             ],
             [
              0.4444444444444444,
              "#bd3786"
             ],
             [
              0.5555555555555556,
              "#d8576b"
             ],
             [
              0.6666666666666666,
              "#ed7953"
             ],
             [
              0.7777777777777778,
              "#fb9f3a"
             ],
             [
              0.8888888888888888,
              "#fdca26"
             ],
             [
              1,
              "#f0f921"
             ]
            ],
            "type": "contour"
           }
          ],
          "contourcarpet": [
           {
            "colorbar": {
             "outlinewidth": 0,
             "ticks": ""
            },
            "type": "contourcarpet"
           }
          ],
          "heatmap": [
           {
            "colorbar": {
             "outlinewidth": 0,
             "ticks": ""
            },
            "colorscale": [
             [
              0,
              "#0d0887"
             ],
             [
              0.1111111111111111,
              "#46039f"
             ],
             [
              0.2222222222222222,
              "#7201a8"
             ],
             [
              0.3333333333333333,
              "#9c179e"
             ],
             [
              0.4444444444444444,
              "#bd3786"
             ],
             [
              0.5555555555555556,
              "#d8576b"
             ],
             [
              0.6666666666666666,
              "#ed7953"
             ],
             [
              0.7777777777777778,
              "#fb9f3a"
             ],
             [
              0.8888888888888888,
              "#fdca26"
             ],
             [
              1,
              "#f0f921"
             ]
            ],
            "type": "heatmap"
           }
          ],
          "heatmapgl": [
           {
            "colorbar": {
             "outlinewidth": 0,
             "ticks": ""
            },
            "colorscale": [
             [
              0,
              "#0d0887"
             ],
             [
              0.1111111111111111,
              "#46039f"
             ],
             [
              0.2222222222222222,
              "#7201a8"
             ],
             [
              0.3333333333333333,
              "#9c179e"
             ],
             [
              0.4444444444444444,
              "#bd3786"
             ],
             [
              0.5555555555555556,
              "#d8576b"
             ],
             [
              0.6666666666666666,
              "#ed7953"
             ],
             [
              0.7777777777777778,
              "#fb9f3a"
             ],
             [
              0.8888888888888888,
              "#fdca26"
             ],
             [
              1,
              "#f0f921"
             ]
            ],
            "type": "heatmapgl"
           }
          ],
          "histogram": [
           {
            "marker": {
             "pattern": {
              "fillmode": "overlay",
              "size": 10,
              "solidity": 0.2
             }
            },
            "type": "histogram"
           }
          ],
          "histogram2d": [
           {
            "colorbar": {
             "outlinewidth": 0,
             "ticks": ""
            },
            "colorscale": [
             [
              0,
              "#0d0887"
             ],
             [
              0.1111111111111111,
              "#46039f"
             ],
             [
              0.2222222222222222,
              "#7201a8"
             ],
             [
              0.3333333333333333,
              "#9c179e"
             ],
             [
              0.4444444444444444,
              "#bd3786"
             ],
             [
              0.5555555555555556,
              "#d8576b"
             ],
             [
              0.6666666666666666,
              "#ed7953"
             ],
             [
              0.7777777777777778,
              "#fb9f3a"
             ],
             [
              0.8888888888888888,
              "#fdca26"
             ],
             [
              1,
              "#f0f921"
             ]
            ],
            "type": "histogram2d"
           }
          ],
          "histogram2dcontour": [
           {
            "colorbar": {
             "outlinewidth": 0,
             "ticks": ""
            },
            "colorscale": [
             [
              0,
              "#0d0887"
             ],
             [
              0.1111111111111111,
              "#46039f"
             ],
             [
              0.2222222222222222,
              "#7201a8"
             ],
             [
              0.3333333333333333,
              "#9c179e"
             ],
             [
              0.4444444444444444,
              "#bd3786"
             ],
             [
              0.5555555555555556,
              "#d8576b"
             ],
             [
              0.6666666666666666,
              "#ed7953"
             ],
             [
              0.7777777777777778,
              "#fb9f3a"
             ],
             [
              0.8888888888888888,
              "#fdca26"
             ],
             [
              1,
              "#f0f921"
             ]
            ],
            "type": "histogram2dcontour"
           }
          ],
          "mesh3d": [
           {
            "colorbar": {
             "outlinewidth": 0,
             "ticks": ""
            },
            "type": "mesh3d"
           }
          ],
          "parcoords": [
           {
            "line": {
             "colorbar": {
              "outlinewidth": 0,
              "ticks": ""
             }
            },
            "type": "parcoords"
           }
          ],
          "pie": [
           {
            "automargin": true,
            "type": "pie"
           }
          ],
          "scatter": [
           {
            "fillpattern": {
             "fillmode": "overlay",
             "size": 10,
             "solidity": 0.2
            },
            "type": "scatter"
           }
          ],
          "scatter3d": [
           {
            "line": {
             "colorbar": {
              "outlinewidth": 0,
              "ticks": ""
             }
            },
            "marker": {
             "colorbar": {
              "outlinewidth": 0,
              "ticks": ""
             }
            },
            "type": "scatter3d"
           }
          ],
          "scattercarpet": [
           {
            "marker": {
             "colorbar": {
              "outlinewidth": 0,
              "ticks": ""
             }
            },
            "type": "scattercarpet"
           }
          ],
          "scattergeo": [
           {
            "marker": {
             "colorbar": {
              "outlinewidth": 0,
              "ticks": ""
             }
            },
            "type": "scattergeo"
           }
          ],
          "scattergl": [
           {
            "marker": {
             "colorbar": {
              "outlinewidth": 0,
              "ticks": ""
             }
            },
            "type": "scattergl"
           }
          ],
          "scattermapbox": [
           {
            "marker": {
             "colorbar": {
              "outlinewidth": 0,
              "ticks": ""
             }
            },
            "type": "scattermapbox"
           }
          ],
          "scatterpolar": [
           {
            "marker": {
             "colorbar": {
              "outlinewidth": 0,
              "ticks": ""
             }
            },
            "type": "scatterpolar"
           }
          ],
          "scatterpolargl": [
           {
            "marker": {
             "colorbar": {
              "outlinewidth": 0,
              "ticks": ""
             }
            },
            "type": "scatterpolargl"
           }
          ],
          "scatterternary": [
           {
            "marker": {
             "colorbar": {
              "outlinewidth": 0,
              "ticks": ""
             }
            },
            "type": "scatterternary"
           }
          ],
          "surface": [
           {
            "colorbar": {
             "outlinewidth": 0,
             "ticks": ""
            },
            "colorscale": [
             [
              0,
              "#0d0887"
             ],
             [
              0.1111111111111111,
              "#46039f"
             ],
             [
              0.2222222222222222,
              "#7201a8"
             ],
             [
              0.3333333333333333,
              "#9c179e"
             ],
             [
              0.4444444444444444,
              "#bd3786"
             ],
             [
              0.5555555555555556,
              "#d8576b"
             ],
             [
              0.6666666666666666,
              "#ed7953"
             ],
             [
              0.7777777777777778,
              "#fb9f3a"
             ],
             [
              0.8888888888888888,
              "#fdca26"
             ],
             [
              1,
              "#f0f921"
             ]
            ],
            "type": "surface"
           }
          ],
          "table": [
           {
            "cells": {
             "fill": {
              "color": "#EBF0F8"
             },
             "line": {
              "color": "white"
             }
            },
            "header": {
             "fill": {
              "color": "#C8D4E3"
             },
             "line": {
              "color": "white"
             }
            },
            "type": "table"
           }
          ]
         },
         "layout": {
          "annotationdefaults": {
           "arrowcolor": "#2a3f5f",
           "arrowhead": 0,
           "arrowwidth": 1
          },
          "autotypenumbers": "strict",
          "coloraxis": {
           "colorbar": {
            "outlinewidth": 0,
            "ticks": ""
           }
          },
          "colorscale": {
           "diverging": [
            [
             0,
             "#8e0152"
            ],
            [
             0.1,
             "#c51b7d"
            ],
            [
             0.2,
             "#de77ae"
            ],
            [
             0.3,
             "#f1b6da"
            ],
            [
             0.4,
             "#fde0ef"
            ],
            [
             0.5,
             "#f7f7f7"
            ],
            [
             0.6,
             "#e6f5d0"
            ],
            [
             0.7,
             "#b8e186"
            ],
            [
             0.8,
             "#7fbc41"
            ],
            [
             0.9,
             "#4d9221"
            ],
            [
             1,
             "#276419"
            ]
           ],
           "sequential": [
            [
             0,
             "#0d0887"
            ],
            [
             0.1111111111111111,
             "#46039f"
            ],
            [
             0.2222222222222222,
             "#7201a8"
            ],
            [
             0.3333333333333333,
             "#9c179e"
            ],
            [
             0.4444444444444444,
             "#bd3786"
            ],
            [
             0.5555555555555556,
             "#d8576b"
            ],
            [
             0.6666666666666666,
             "#ed7953"
            ],
            [
             0.7777777777777778,
             "#fb9f3a"
            ],
            [
             0.8888888888888888,
             "#fdca26"
            ],
            [
             1,
             "#f0f921"
            ]
           ],
           "sequentialminus": [
            [
             0,
             "#0d0887"
            ],
            [
             0.1111111111111111,
             "#46039f"
            ],
            [
             0.2222222222222222,
             "#7201a8"
            ],
            [
             0.3333333333333333,
             "#9c179e"
            ],
            [
             0.4444444444444444,
             "#bd3786"
            ],
            [
             0.5555555555555556,
             "#d8576b"
            ],
            [
             0.6666666666666666,
             "#ed7953"
            ],
            [
             0.7777777777777778,
             "#fb9f3a"
            ],
            [
             0.8888888888888888,
             "#fdca26"
            ],
            [
             1,
             "#f0f921"
            ]
           ]
          },
          "colorway": [
           "#636efa",
           "#EF553B",
           "#00cc96",
           "#ab63fa",
           "#FFA15A",
           "#19d3f3",
           "#FF6692",
           "#B6E880",
           "#FF97FF",
           "#FECB52"
          ],
          "font": {
           "color": "#2a3f5f"
          },
          "geo": {
           "bgcolor": "white",
           "lakecolor": "white",
           "landcolor": "#E5ECF6",
           "showlakes": true,
           "showland": true,
           "subunitcolor": "white"
          },
          "hoverlabel": {
           "align": "left"
          },
          "hovermode": "closest",
          "mapbox": {
           "style": "light"
          },
          "paper_bgcolor": "white",
          "plot_bgcolor": "#E5ECF6",
          "polar": {
           "angularaxis": {
            "gridcolor": "white",
            "linecolor": "white",
            "ticks": ""
           },
           "bgcolor": "#E5ECF6",
           "radialaxis": {
            "gridcolor": "white",
            "linecolor": "white",
            "ticks": ""
           }
          },
          "scene": {
           "xaxis": {
            "backgroundcolor": "#E5ECF6",
            "gridcolor": "white",
            "gridwidth": 2,
            "linecolor": "white",
            "showbackground": true,
            "ticks": "",
            "zerolinecolor": "white"
           },
           "yaxis": {
            "backgroundcolor": "#E5ECF6",
            "gridcolor": "white",
            "gridwidth": 2,
            "linecolor": "white",
            "showbackground": true,
            "ticks": "",
            "zerolinecolor": "white"
           },
           "zaxis": {
            "backgroundcolor": "#E5ECF6",
            "gridcolor": "white",
            "gridwidth": 2,
            "linecolor": "white",
            "showbackground": true,
            "ticks": "",
            "zerolinecolor": "white"
           }
          },
          "shapedefaults": {
           "line": {
            "color": "#2a3f5f"
           }
          },
          "ternary": {
           "aaxis": {
            "gridcolor": "white",
            "linecolor": "white",
            "ticks": ""
           },
           "baxis": {
            "gridcolor": "white",
            "linecolor": "white",
            "ticks": ""
           },
           "bgcolor": "#E5ECF6",
           "caxis": {
            "gridcolor": "white",
            "linecolor": "white",
            "ticks": ""
           }
          },
          "title": {
           "x": 0.05
          },
          "xaxis": {
           "automargin": true,
           "gridcolor": "white",
           "linecolor": "white",
           "ticks": "",
           "title": {
            "standoff": 15
           },
           "zerolinecolor": "white",
           "zerolinewidth": 2
          },
          "yaxis": {
           "automargin": true,
           "gridcolor": "white",
           "linecolor": "white",
           "ticks": "",
           "title": {
            "standoff": 15
           },
           "zerolinecolor": "white",
           "zerolinewidth": 2
          }
         }
        },
        "title": {
         "text": "Distribución de tweets reales y falsos"
        }
       }
      }
     },
     "metadata": {},
     "output_type": "display_data"
    }
   ],
   "source": [
    "x = ds['sentimiento'].value_counts()\n",
    "fig = py.graph_objs.Figure([py.graph_objs.Bar(x=x.index, y=x.values)])\n",
    "fig.update_layout(title_text='Distribución de tweets reales y falsos')\n",
    "fig.show()"
   ]
  },
  {
   "attachments": {},
   "cell_type": "markdown",
   "metadata": {},
   "source": [
    "Observamos el gráfico y confirmamos que es un data set balanceado. No hará falta hacer over o undersampling."
   ]
  },
  {
   "attachments": {},
   "cell_type": "markdown",
   "metadata": {},
   "source": [
    "# Preprocesamiento de datos"
   ]
  },
  {
   "cell_type": "code",
   "execution_count": 17,
   "metadata": {},
   "outputs": [],
   "source": [
    "reviews = ds[\"review_es\"]\n",
    "sentiments = [1 if sentiment == \"positivo\" else 0 for sentiment in ds[\"sentimiento\"]]"
   ]
  },
  {
   "cell_type": "code",
   "execution_count": 19,
   "metadata": {},
   "outputs": [],
   "source": [
    "vectorizador = CountVectorizer()\n",
    "reviews_vectorized = vectorizador.fit_transform(reviews)"
   ]
  },
  {
   "cell_type": "code",
   "execution_count": 20,
   "metadata": {},
   "outputs": [],
   "source": [
    "X_train, X_test, y_train, y_test = train_test_split(reviews_vectorized, sentiments, test_size=0.2, random_state=42)"
   ]
  },
  {
   "cell_type": "code",
   "execution_count": 34,
   "metadata": {},
   "outputs": [
    {
     "name": "stdout",
     "output_type": "stream",
     "text": [
      "0.499025\n"
     ]
    }
   ],
   "source": [
    "print(sum(y_train) / len(y_train))"
   ]
  },
  {
   "attachments": {},
   "cell_type": "markdown",
   "metadata": {},
   "source": [
    "# Entrenamiento de modelos"
   ]
  },
  {
   "attachments": {},
   "cell_type": "markdown",
   "metadata": {
    "jp-MarkdownHeadingCollapsed": true
   },
   "source": [
    "## Bernoulli"
   ]
  },
  {
   "cell_type": "code",
   "execution_count": 21,
   "metadata": {},
   "outputs": [
    {
     "data": {
      "text/html": [
       "<style>#sk-container-id-1 {color: black;background-color: white;}#sk-container-id-1 pre{padding: 0;}#sk-container-id-1 div.sk-toggleable {background-color: white;}#sk-container-id-1 label.sk-toggleable__label {cursor: pointer;display: block;width: 100%;margin-bottom: 0;padding: 0.3em;box-sizing: border-box;text-align: center;}#sk-container-id-1 label.sk-toggleable__label-arrow:before {content: \"▸\";float: left;margin-right: 0.25em;color: #696969;}#sk-container-id-1 label.sk-toggleable__label-arrow:hover:before {color: black;}#sk-container-id-1 div.sk-estimator:hover label.sk-toggleable__label-arrow:before {color: black;}#sk-container-id-1 div.sk-toggleable__content {max-height: 0;max-width: 0;overflow: hidden;text-align: left;background-color: #f0f8ff;}#sk-container-id-1 div.sk-toggleable__content pre {margin: 0.2em;color: black;border-radius: 0.25em;background-color: #f0f8ff;}#sk-container-id-1 input.sk-toggleable__control:checked~div.sk-toggleable__content {max-height: 200px;max-width: 100%;overflow: auto;}#sk-container-id-1 input.sk-toggleable__control:checked~label.sk-toggleable__label-arrow:before {content: \"▾\";}#sk-container-id-1 div.sk-estimator input.sk-toggleable__control:checked~label.sk-toggleable__label {background-color: #d4ebff;}#sk-container-id-1 div.sk-label input.sk-toggleable__control:checked~label.sk-toggleable__label {background-color: #d4ebff;}#sk-container-id-1 input.sk-hidden--visually {border: 0;clip: rect(1px 1px 1px 1px);clip: rect(1px, 1px, 1px, 1px);height: 1px;margin: -1px;overflow: hidden;padding: 0;position: absolute;width: 1px;}#sk-container-id-1 div.sk-estimator {font-family: monospace;background-color: #f0f8ff;border: 1px dotted black;border-radius: 0.25em;box-sizing: border-box;margin-bottom: 0.5em;}#sk-container-id-1 div.sk-estimator:hover {background-color: #d4ebff;}#sk-container-id-1 div.sk-parallel-item::after {content: \"\";width: 100%;border-bottom: 1px solid gray;flex-grow: 1;}#sk-container-id-1 div.sk-label:hover label.sk-toggleable__label {background-color: #d4ebff;}#sk-container-id-1 div.sk-serial::before {content: \"\";position: absolute;border-left: 1px solid gray;box-sizing: border-box;top: 0;bottom: 0;left: 50%;z-index: 0;}#sk-container-id-1 div.sk-serial {display: flex;flex-direction: column;align-items: center;background-color: white;padding-right: 0.2em;padding-left: 0.2em;position: relative;}#sk-container-id-1 div.sk-item {position: relative;z-index: 1;}#sk-container-id-1 div.sk-parallel {display: flex;align-items: stretch;justify-content: center;background-color: white;position: relative;}#sk-container-id-1 div.sk-item::before, #sk-container-id-1 div.sk-parallel-item::before {content: \"\";position: absolute;border-left: 1px solid gray;box-sizing: border-box;top: 0;bottom: 0;left: 50%;z-index: -1;}#sk-container-id-1 div.sk-parallel-item {display: flex;flex-direction: column;z-index: 1;position: relative;background-color: white;}#sk-container-id-1 div.sk-parallel-item:first-child::after {align-self: flex-end;width: 50%;}#sk-container-id-1 div.sk-parallel-item:last-child::after {align-self: flex-start;width: 50%;}#sk-container-id-1 div.sk-parallel-item:only-child::after {width: 0;}#sk-container-id-1 div.sk-dashed-wrapped {border: 1px dashed gray;margin: 0 0.4em 0.5em 0.4em;box-sizing: border-box;padding-bottom: 0.4em;background-color: white;}#sk-container-id-1 div.sk-label label {font-family: monospace;font-weight: bold;display: inline-block;line-height: 1.2em;}#sk-container-id-1 div.sk-label-container {text-align: center;}#sk-container-id-1 div.sk-container {/* jupyter's `normalize.less` sets `[hidden] { display: none; }` but bootstrap.min.css set `[hidden] { display: none !important; }` so we also need the `!important` here to be able to override the default hidden behavior on the sphinx rendered scikit-learn.org. See: https://github.com/scikit-learn/scikit-learn/issues/21755 */display: inline-block !important;position: relative;}#sk-container-id-1 div.sk-text-repr-fallback {display: none;}</style><div id=\"sk-container-id-1\" class=\"sk-top-container\"><div class=\"sk-text-repr-fallback\"><pre>BernoulliNB()</pre><b>In a Jupyter environment, please rerun this cell to show the HTML representation or trust the notebook. <br />On GitHub, the HTML representation is unable to render, please try loading this page with nbviewer.org.</b></div><div class=\"sk-container\" hidden><div class=\"sk-item\"><div class=\"sk-estimator sk-toggleable\"><input class=\"sk-toggleable__control sk-hidden--visually\" id=\"sk-estimator-id-1\" type=\"checkbox\" checked><label for=\"sk-estimator-id-1\" class=\"sk-toggleable__label sk-toggleable__label-arrow\">BernoulliNB</label><div class=\"sk-toggleable__content\"><pre>BernoulliNB()</pre></div></div></div></div></div>"
      ],
      "text/plain": [
       "BernoulliNB()"
      ]
     },
     "execution_count": 21,
     "metadata": {},
     "output_type": "execute_result"
    }
   ],
   "source": [
    "nb_model = BernoulliNB()\n",
    "nb_model.fit(X_train, y_train)"
   ]
  },
  {
   "cell_type": "code",
   "execution_count": 22,
   "metadata": {},
   "outputs": [
    {
     "name": "stdout",
     "output_type": "stream",
     "text": [
      "Accuracy: 0.8466\n",
      "Precision: 0.8670157068062827\n",
      "Recall: 0.8215915856320699\n",
      "F1 Score: 0.8436926839209293\n"
     ]
    }
   ],
   "source": [
    "y_pred = nb_model.predict(X_test)\n",
    "print(\"Accuracy:\", metrics.accuracy_score(y_test, y_pred))\n",
    "print(\"Precision:\", metrics.precision_score(y_test, y_pred))\n",
    "print(\"Recall:\", metrics.recall_score(y_test, y_pred))\n",
    "print(\"F1 Score:\", metrics.f1_score(y_test, y_pred))"
   ]
  },
  {
   "cell_type": "code",
   "execution_count": 78,
   "metadata": {},
   "outputs": [],
   "source": [
    "test_ds = pd.read_csv(\"datasets/test.csv\")\n",
    "test_ds[\"sentimiento\"] = nb_model.predict(vectorizador.transform(test_ds[\"review_es\"]))\n",
    "# convert \"sentimiento\" to \"positivo\" or \"negativo\"\n",
    "test_ds[\"sentimiento\"] = test_ds[\"sentimiento\"].apply(lambda x: \"positivo\" if x == 1 else \"negativo\")\n",
    "test_ds[[\"ID\",\"sentimiento\"]].to_csv(\"submissions/binomialNB.csv\", index=False)"
   ]
  },
  {
   "cell_type": "code",
   "execution_count": 28,
   "metadata": {},
   "outputs": [],
   "source": [
    "def remove_special_characters(text):\n",
    "    # Eliminar puntuaciones y caracteres especiales excepto letras y números\n",
    "    text = re.sub(r\"[^\\w\\s]\", \"\", text)\n",
    "    return text\n",
    "\n",
    "def convert_to_lowercase(text):\n",
    "    # Convertir el texto a minúsculas\n",
    "    text = text.lower()\n",
    "    return text\n",
    "\n",
    "def tokenize_text(text):\n",
    "    # Tokenización de palabras\n",
    "    tokens = word_tokenize(text, language=\"spanish\")\n",
    "    return tokens\n",
    "\n",
    "def remove_stop_words(tokens):\n",
    "    # Eliminar palabras vacías\n",
    "    stop_words = set(stopwords.words(\"spanish\"))\n",
    "    filtered_tokens = [token for token in tokens if token not in stop_words]\n",
    "    return filtered_tokens\n",
    "\n",
    "\n",
    "def lemmatize_tokens(tokens):\n",
    "    lemmatizer = WordNetLemmatizer()\n",
    "    lemmas = [lemmatizer.lemmatize(token) for token in tokens]\n",
    "    return lemmas"
   ]
  },
  {
   "cell_type": "code",
   "execution_count": 45,
   "metadata": {},
   "outputs": [],
   "source": [
    "X_preprocessed = []\n",
    "\n",
    "for review in reviews:\n",
    "    #review = remove_special_characters(review)\n",
    "    review = convert_to_lowercase(review)\n",
    "    tokens = tokenize_text(review)\n",
    "    tokens = remove_stop_words(tokens)\n",
    "    #tokens = lemmatize_tokens(tokens)\n",
    "    review = \" \".join(tokens)\n",
    "    X_preprocessed.append(review)\n",
    "\n",
    "X_train, X_test, y_train, y_test = train_test_split(X_preprocessed, sentiments, test_size=0.2, random_state=42)"
   ]
  },
  {
   "cell_type": "code",
   "execution_count": 17,
   "metadata": {},
   "outputs": [
    {
     "name": "stdout",
     "output_type": "stream",
     "text": [
      "Original: Uno de los otros críticos ha mencionado que después de ver solo 1 Oz Episodio, estará enganchado. Tienen razón, ya que esto es exactamente lo que sucedió conmigo. La primera cosa que me golpeó sobre Oz fue su brutalidad y sus escenas de violencia inconfiadas, que se encuentran a la derecha de la palabra. Confía en mí, este no es un espectáculo para los débiles de corazón o tímido. Este espectáculo no extrae punzones con respecto a las drogas, el sexo o la violencia. Es Hardcore, en el uso clásico de la palabra. Se llama OZ, ya que es el apodo dado al Penitenciario del Estado de Seguridad Máximo de Oswald. Se centra principalmente en la ciudad de Emeralda, una sección experimental de la prisión donde todas las células tienen frentes de vidrio y se enfrentan hacia adentro, por lo que la privacidad no es alta en la agenda. Em City es el hogar de muchos ... Fariarios, musulmanes, gangstas, latinos, cristianos, italianos, irlandeses y más ... así que las esposas, las miradas de muerte, las relaciones peligrosas y los acuerdos sombreados nunca están lejos. Yo diría el principal atractivo de El espectáculo se debe al hecho de que va donde otros espectáculos no se atreverían. Olvídate de las imágenes bonitas pintadas para las audiencias convencionales, olvidan el encanto, olviden el romance ... Oz no se mete. El primer episodio que he visto me sorprendió tan desagradable que fue surrealista, no podía decir que estaba listo para ello, pero cuando observé más, desarrollé un gusto por Oz, y me acostumbré a los altos niveles de violencia gráfica. No solo la violencia, sino la injusticia (Guardias torcidas que se vendrán por un níquel, los reclusos que se matarán en orden y se alejarán con él, de manera educada, los reclusos de clase media se convirtieron en perras de la prisión debido a su falta de habilidades callejeras O experiencia en la prisión) viendo oz, puede sentirse cómodo con lo que es incómodo visualización ... eso es si puedes ponerte en contacto con tu lado más oscuro.\n",
      "remove_special_characters: Uno de los otros críticos ha mencionado que después de ver solo 1 Oz Episodio estará enganchado Tienen razón ya que esto es exactamente lo que sucedió conmigo La primera cosa que me golpeó sobre Oz fue su brutalidad y sus escenas de violencia inconfiadas que se encuentran a la derecha de la palabra Confía en mí este no es un espectáculo para los débiles de corazón o tímido Este espectáculo no extrae punzones con respecto a las drogas el sexo o la violencia Es Hardcore en el uso clásico de la palabra Se llama OZ ya que es el apodo dado al Penitenciario del Estado de Seguridad Máximo de Oswald Se centra principalmente en la ciudad de Emeralda una sección experimental de la prisión donde todas las células tienen frentes de vidrio y se enfrentan hacia adentro por lo que la privacidad no es alta en la agenda Em City es el hogar de muchos  Fariarios musulmanes gangstas latinos cristianos italianos irlandeses y más  así que las esposas las miradas de muerte las relaciones peligrosas y los acuerdos sombreados nunca están lejos Yo diría el principal atractivo de El espectáculo se debe al hecho de que va donde otros espectáculos no se atreverían Olvídate de las imágenes bonitas pintadas para las audiencias convencionales olvidan el encanto olviden el romance  Oz no se mete El primer episodio que he visto me sorprendió tan desagradable que fue surrealista no podía decir que estaba listo para ello pero cuando observé más desarrollé un gusto por Oz y me acostumbré a los altos niveles de violencia gráfica No solo la violencia sino la injusticia Guardias torcidas que se vendrán por un níquel los reclusos que se matarán en orden y se alejarán con él de manera educada los reclusos de clase media se convirtieron en perras de la prisión debido a su falta de habilidades callejeras O experiencia en la prisión viendo oz puede sentirse cómodo con lo que es incómodo visualización  eso es si puedes ponerte en contacto con tu lado más oscuro\n",
      "convert_to_lowercase: uno de los otros críticos ha mencionado que después de ver solo 1 oz episodio, estará enganchado. tienen razón, ya que esto es exactamente lo que sucedió conmigo. la primera cosa que me golpeó sobre oz fue su brutalidad y sus escenas de violencia inconfiadas, que se encuentran a la derecha de la palabra. confía en mí, este no es un espectáculo para los débiles de corazón o tímido. este espectáculo no extrae punzones con respecto a las drogas, el sexo o la violencia. es hardcore, en el uso clásico de la palabra. se llama oz, ya que es el apodo dado al penitenciario del estado de seguridad máximo de oswald. se centra principalmente en la ciudad de emeralda, una sección experimental de la prisión donde todas las células tienen frentes de vidrio y se enfrentan hacia adentro, por lo que la privacidad no es alta en la agenda. em city es el hogar de muchos ... fariarios, musulmanes, gangstas, latinos, cristianos, italianos, irlandeses y más ... así que las esposas, las miradas de muerte, las relaciones peligrosas y los acuerdos sombreados nunca están lejos. yo diría el principal atractivo de el espectáculo se debe al hecho de que va donde otros espectáculos no se atreverían. olvídate de las imágenes bonitas pintadas para las audiencias convencionales, olvidan el encanto, olviden el romance ... oz no se mete. el primer episodio que he visto me sorprendió tan desagradable que fue surrealista, no podía decir que estaba listo para ello, pero cuando observé más, desarrollé un gusto por oz, y me acostumbré a los altos niveles de violencia gráfica. no solo la violencia, sino la injusticia (guardias torcidas que se vendrán por un níquel, los reclusos que se matarán en orden y se alejarán con él, de manera educada, los reclusos de clase media se convirtieron en perras de la prisión debido a su falta de habilidades callejeras o experiencia en la prisión) viendo oz, puede sentirse cómodo con lo que es incómodo visualización ... eso es si puedes ponerte en contacto con tu lado más oscuro.\n",
      "tokenize_text: ['Uno', 'de', 'los', 'otros', 'críticos', 'ha', 'mencionado', 'que', 'después', 'de', 'ver', 'solo', '1', 'Oz', 'Episodio', ',', 'estará', 'enganchado', '.', 'Tienen', 'razón', ',', 'ya', 'que', 'esto', 'es', 'exactamente', 'lo', 'que', 'sucedió', 'conmigo', '.', 'La', 'primera', 'cosa', 'que', 'me', 'golpeó', 'sobre', 'Oz', 'fue', 'su', 'brutalidad', 'y', 'sus', 'escenas', 'de', 'violencia', 'inconfiadas', ',', 'que', 'se', 'encuentran', 'a', 'la', 'derecha', 'de', 'la', 'palabra', '.', 'Confía', 'en', 'mí', ',', 'este', 'no', 'es', 'un', 'espectáculo', 'para', 'los', 'débiles', 'de', 'corazón', 'o', 'tímido', '.', 'Este', 'espectáculo', 'no', 'extrae', 'punzones', 'con', 'respecto', 'a', 'las', 'drogas', ',', 'el', 'sexo', 'o', 'la', 'violencia', '.', 'Es', 'Hardcore', ',', 'en', 'el', 'uso', 'clásico', 'de', 'la', 'palabra', '.', 'Se', 'llama', 'OZ', ',', 'ya', 'que', 'es', 'el', 'apodo', 'dado', 'al', 'Penitenciario', 'del', 'Estado', 'de', 'Seguridad', 'Máximo', 'de', 'Oswald', '.', 'Se', 'centra', 'principalmente', 'en', 'la', 'ciudad', 'de', 'Emeralda', ',', 'una', 'sección', 'experimental', 'de', 'la', 'prisión', 'donde', 'todas', 'las', 'células', 'tienen', 'frentes', 'de', 'vidrio', 'y', 'se', 'enfrentan', 'hacia', 'adentro', ',', 'por', 'lo', 'que', 'la', 'privacidad', 'no', 'es', 'alta', 'en', 'la', 'agenda', '.', 'Em', 'City', 'es', 'el', 'hogar', 'de', 'muchos', '...', 'Fariarios', ',', 'musulmanes', ',', 'gangstas', ',', 'latinos', ',', 'cristianos', ',', 'italianos', ',', 'irlandeses', 'y', 'más', '...', 'así', 'que', 'las', 'esposas', ',', 'las', 'miradas', 'de', 'muerte', ',', 'las', 'relaciones', 'peligrosas', 'y', 'los', 'acuerdos', 'sombreados', 'nunca', 'están', 'lejos', '.', 'Yo', 'diría', 'el', 'principal', 'atractivo', 'de', 'El', 'espectáculo', 'se', 'debe', 'al', 'hecho', 'de', 'que', 'va', 'donde', 'otros', 'espectáculos', 'no', 'se', 'atreverían', '.', 'Olvídate', 'de', 'las', 'imágenes', 'bonitas', 'pintadas', 'para', 'las', 'audiencias', 'convencionales', ',', 'olvidan', 'el', 'encanto', ',', 'olviden', 'el', 'romance', '...', 'Oz', 'no', 'se', 'mete', '.', 'El', 'primer', 'episodio', 'que', 'he', 'visto', 'me', 'sorprendió', 'tan', 'desagradable', 'que', 'fue', 'surrealista', ',', 'no', 'podía', 'decir', 'que', 'estaba', 'listo', 'para', 'ello', ',', 'pero', 'cuando', 'observé', 'más', ',', 'desarrollé', 'un', 'gusto', 'por', 'Oz', ',', 'y', 'me', 'acostumbré', 'a', 'los', 'altos', 'niveles', 'de', 'violencia', 'gráfica', '.', 'No', 'solo', 'la', 'violencia', ',', 'sino', 'la', 'injusticia', '(', 'Guardias', 'torcidas', 'que', 'se', 'vendrán', 'por', 'un', 'níquel', ',', 'los', 'reclusos', 'que', 'se', 'matarán', 'en', 'orden', 'y', 'se', 'alejarán', 'con', 'él', ',', 'de', 'manera', 'educada', ',', 'los', 'reclusos', 'de', 'clase', 'media', 'se', 'convirtieron', 'en', 'perras', 'de', 'la', 'prisión', 'debido', 'a', 'su', 'falta', 'de', 'habilidades', 'callejeras', 'O', 'experiencia', 'en', 'la', 'prisión', ')', 'viendo', 'oz', ',', 'puede', 'sentirse', 'cómodo', 'con', 'lo', 'que', 'es', 'incómodo', 'visualización', '...', 'eso', 'es', 'si', 'puedes', 'ponerte', 'en', 'contacto', 'con', 'tu', 'lado', 'más', 'oscuro', '.']\n",
      "remove_stop_words: ['Uno', 'críticos', 'mencionado', 'después', 'ver', 'solo', '1', 'Oz', 'Episodio', ',', 'enganchado', '.', 'Tienen', 'razón', ',', 'exactamente', 'sucedió', 'conmigo', '.', 'La', 'primera', 'cosa', 'golpeó', 'Oz', 'brutalidad', 'escenas', 'violencia', 'inconfiadas', ',', 'encuentran', 'derecha', 'palabra', '.', 'Confía', ',', 'espectáculo', 'débiles', 'corazón', 'tímido', '.', 'Este', 'espectáculo', 'extrae', 'punzones', 'respecto', 'drogas', ',', 'sexo', 'violencia', '.', 'Es', 'Hardcore', ',', 'uso', 'clásico', 'palabra', '.', 'Se', 'llama', 'OZ', ',', 'apodo', 'dado', 'Penitenciario', 'Estado', 'Seguridad', 'Máximo', 'Oswald', '.', 'Se', 'centra', 'principalmente', 'ciudad', 'Emeralda', ',', 'sección', 'experimental', 'prisión', 'todas', 'células', 'frentes', 'vidrio', 'enfrentan', 'hacia', 'adentro', ',', 'privacidad', 'alta', 'agenda', '.', 'Em', 'City', 'hogar', '...', 'Fariarios', ',', 'musulmanes', ',', 'gangstas', ',', 'latinos', ',', 'cristianos', ',', 'italianos', ',', 'irlandeses', '...', 'así', 'esposas', ',', 'miradas', 'muerte', ',', 'relaciones', 'peligrosas', 'acuerdos', 'sombreados', 'nunca', 'lejos', '.', 'Yo', 'diría', 'principal', 'atractivo', 'El', 'espectáculo', 'debe', 'hecho', 'va', 'espectáculos', 'atreverían', '.', 'Olvídate', 'imágenes', 'bonitas', 'pintadas', 'audiencias', 'convencionales', ',', 'olvidan', 'encanto', ',', 'olviden', 'romance', '...', 'Oz', 'mete', '.', 'El', 'primer', 'episodio', 'visto', 'sorprendió', 'tan', 'desagradable', 'surrealista', ',', 'podía', 'decir', 'listo', 'ello', ',', 'observé', ',', 'desarrollé', 'gusto', 'Oz', ',', 'acostumbré', 'altos', 'niveles', 'violencia', 'gráfica', '.', 'No', 'solo', 'violencia', ',', 'sino', 'injusticia', '(', 'Guardias', 'torcidas', 'vendrán', 'níquel', ',', 'reclusos', 'matarán', 'orden', 'alejarán', ',', 'manera', 'educada', ',', 'reclusos', 'clase', 'media', 'convirtieron', 'perras', 'prisión', 'debido', 'falta', 'habilidades', 'callejeras', 'O', 'experiencia', 'prisión', ')', 'viendo', 'oz', ',', 'puede', 'sentirse', 'cómodo', 'incómodo', 'visualización', '...', 'si', 'puedes', 'ponerte', 'contacto', 'lado', 'oscuro', '.']\n",
      "lemmatize_tokens: ['Uno', 'críticos', 'mencionado', 'después', 'ver', 'solo', '1', 'Oz', 'Episodio', ',', 'enganchado', '.', 'Tienen', 'razón', ',', 'exactamente', 'sucedió', 'conmigo', '.', 'La', 'primera', 'cosa', 'golpeó', 'Oz', 'brutalidad', 'escenas', 'violencia', 'inconfiadas', ',', 'encuentran', 'derecha', 'palabra', '.', 'Confía', ',', 'espectáculo', 'débiles', 'corazón', 'tímido', '.', 'Este', 'espectáculo', 'extrae', 'punzones', 'respecto', 'drogas', ',', 'sexo', 'violencia', '.', 'Es', 'Hardcore', ',', 'uso', 'clásico', 'palabra', '.', 'Se', 'llama', 'OZ', ',', 'apodo', 'dado', 'Penitenciario', 'Estado', 'Seguridad', 'Máximo', 'Oswald', '.', 'Se', 'centrum', 'principalmente', 'ciudad', 'Emeralda', ',', 'sección', 'experimental', 'prisión', 'toda', 'células', 'frentes', 'vidrio', 'enfrentan', 'hacia', 'adentro', ',', 'privacidad', 'alta', 'agenda', '.', 'Em', 'City', 'hogar', '...', 'Fariarios', ',', 'musulmanes', ',', 'gangsta', ',', 'latino', ',', 'cristianos', ',', 'italianos', ',', 'irlandeses', '...', 'así', 'esposas', ',', 'miradas', 'muerte', ',', 'relaciones', 'peligrosas', 'acuerdos', 'sombreados', 'nunca', 'lejos', '.', 'Yo', 'diría', 'principal', 'atractivo', 'El', 'espectáculo', 'debe', 'hecho', 'va', 'espectáculos', 'atreverían', '.', 'Olvídate', 'imágenes', 'bonitas', 'pintadas', 'audiencias', 'convencionales', ',', 'olvidan', 'encanto', ',', 'olviden', 'romance', '...', 'Oz', 'mete', '.', 'El', 'primer', 'episodio', 'visto', 'sorprendió', 'tan', 'desagradable', 'surrealista', ',', 'podía', 'decir', 'listo', 'ello', ',', 'observé', ',', 'desarrollé', 'gusto', 'Oz', ',', 'acostumbré', 'alto', 'niveles', 'violencia', 'gráfica', '.', 'No', 'solo', 'violencia', ',', 'sino', 'injusticia', '(', 'Guardias', 'torcidas', 'vendrán', 'níquel', ',', 'reclusos', 'matarán', 'orden', 'alejarán', ',', 'manera', 'educada', ',', 'reclusos', 'clase', 'medium', 'convirtieron', 'perras', 'prisión', 'debido', 'falta', 'habilidades', 'callejeras', 'O', 'experiencia', 'prisión', ')', 'viendo', 'oz', ',', 'puede', 'sentirse', 'cómodo', 'incómodo', 'visualización', '...', 'si', 'puedes', 'ponerte', 'contacto', 'lado', 'oscuro', '.']\n",
      "X_preprocessed[0]: críticos mencionado después ver solo 1 oz episodio enganchado razón exactamente sucedió conmigo primera cosa golpeó oz brutalidad escenas violencia inconfiadas encuentran derecha palabra confía espectáculo débiles corazón tímido espectáculo extrae punzones respecto drogas sexo violencia hardcore uso clásico palabra llama oz apodo dado penitenciario seguridad máximo oswald centrum principalmente ciudad emeralda sección experimental prisión toda células frentes vidrio enfrentan hacia adentro privacidad alta agenda em city hogar fariarios musulmanes gangsta latino cristianos italianos irlandeses así esposas miradas muerte relaciones peligrosas acuerdos sombreados nunca lejos diría principal atractivo espectáculo debe hecho va espectáculos atreverían olvídate imágenes bonitas pintadas audiencias convencionales olvidan encanto olviden romance oz mete primer episodio visto sorprendió tan desagradable surrealista podía decir listo ello observé desarrollé gusto oz acostumbré alto niveles violencia gráfica solo violencia sino injusticia guardias torcidas vendrán níquel reclusos matarán orden alejarán manera educada reclusos clase medium convirtieron perras prisión debido falta habilidades callejeras experiencia prisión viendo oz puede sentirse cómodo incómodo visualización si puedes ponerte contacto lado oscuro\n"
     ]
    }
   ],
   "source": [
    "review_0 = reviews[0]\n",
    "print(\"Original:\", review_0)\n",
    "print(\"remove_special_characters:\", remove_special_characters(review_0))\n",
    "print(\"convert_to_lowercase:\", convert_to_lowercase(review_0))\n",
    "print(\"tokenize_text:\", tokenize_text(review_0))\n",
    "print(\"remove_stop_words:\", remove_stop_words(tokenize_text(review_0)))\n",
    "print(\"lemmatize_tokens:\", lemmatize_tokens(remove_stop_words(tokenize_text(review_0))))\n",
    "print(\"X_preprocessed[0]:\", X_preprocessed[0])"
   ]
  },
  {
   "cell_type": "code",
   "execution_count": 46,
   "metadata": {},
   "outputs": [],
   "source": [
    "# Vectorizar las reviews\n",
    "vectorizador = sklearn.feature_extraction.text.TfidfVectorizer()\n",
    "X_train_v = vectorizador.fit_transform(X_train)\n",
    "X_test_v = vectorizador.transform(X_test)"
   ]
  },
  {
   "cell_type": "code",
   "execution_count": null,
   "metadata": {},
   "outputs": [
    {
     "name": "stdout",
     "output_type": "stream",
     "text": [
      "Fitting 5 folds for each of 72 candidates, totalling 360 fits\n",
      "{'alpha': 0.5, 'binarize': 0.0, 'fit_prior': True}\n"
     ]
    }
   ],
   "source": [
    "param_grid = {\n",
    "    \"alpha\": [0.1, 0.5, 1.0, 2.0, 5.0, 10.0],\n",
    "    \"binarize\": [0.0, 0.5, 1.0, 2.0, 5.0, 10.0],\n",
    "    \"fit_prior\": [True, False]\n",
    "}\n",
    "\n",
    "nb_model = BernoulliNB()\n",
    "grid_search = GridSearchCV(estimator=nb_model, param_grid=param_grid, cv=5, n_jobs=-1, verbose=2)\n",
    "grid_search.fit(reviews_vectorized, sentiments)\n",
    "\n",
    "print(grid_search.best_params_)"
   ]
  },
  {
   "cell_type": "code",
   "execution_count": 37,
   "metadata": {},
   "outputs": [],
   "source": [
    "best_params = {'alpha': 0.5, 'binarize': 0.0, 'fit_prior': True}"
   ]
  },
  {
   "cell_type": "code",
   "execution_count": 47,
   "metadata": {},
   "outputs": [
    {
     "name": "stdout",
     "output_type": "stream",
     "text": [
      "Accuracy: 0.8456\n",
      "Precision: 0.8681272382557405\n",
      "Recall: 0.8178209962294106\n",
      "F1 Score: 0.8422235847128551\n"
     ]
    }
   ],
   "source": [
    "nb_model = BernoulliNB(**best_params)\n",
    "nb_model.fit(X_train_v, y_train)\n",
    "\n",
    "y_pred = nb_model.predict(X_test_v)\n",
    "print(\"Accuracy:\", metrics.accuracy_score(y_test, y_pred))\n",
    "print(\"Precision:\", metrics.precision_score(y_test, y_pred))\n",
    "print(\"Recall:\", metrics.recall_score(y_test, y_pred))\n",
    "print(\"F1 Score:\", metrics.f1_score(y_test, y_pred))"
   ]
  },
  {
   "cell_type": "code",
   "execution_count": 25,
   "metadata": {},
   "outputs": [],
   "source": [
    "test_ds = pd.read_csv(\"datasets/test.csv\")\n",
    "test_ds[\"sentimiento\"] = nb_model.predict(vectorizador.transform(test_ds[\"review_es\"]))\n",
    "# convert \"sentimiento\" to \"positivo\" or \"negativo\"\n",
    "test_ds[\"sentimiento\"] = test_ds[\"sentimiento\"].apply(lambda x: \"positivo\" if x == 1 else \"negativo\")\n",
    "test_ds[[\"ID\",\"sentimiento\"]].to_csv(\"submissions/binomialNB_tokenizado.csv\", index=False)"
   ]
  },
  {
   "attachments": {},
   "cell_type": "markdown",
   "metadata": {},
   "source": [
    "## Pysentimiento"
   ]
  },
  {
   "cell_type": "code",
   "execution_count": 1,
   "metadata": {},
   "outputs": [
    {
     "name": "stderr",
     "output_type": "stream",
     "text": [
      "c:\\Users\\digix\\AppData\\Local\\Programs\\Python\\Python310\\lib\\site-packages\\tqdm\\auto.py:21: TqdmWarning: IProgress not found. Please update jupyter and ipywidgets. See https://ipywidgets.readthedocs.io/en/stable/user_install.html\n",
      "  from .autonotebook import tqdm as notebook_tqdm\n"
     ]
    }
   ],
   "source": [
    "from pysentimiento import create_analyzer\n",
    "import transformers\n",
    "\n",
    "transformers.logging.set_verbosity(transformers.logging.ERROR)\n",
    "\n",
    "analyzer = create_analyzer(task=\"sentiment\", lang=\"es\")"
   ]
  },
  {
   "cell_type": "code",
   "execution_count": 10,
   "metadata": {},
   "outputs": [
    {
     "name": "stdout",
     "output_type": "stream",
     "text": [
      "negativo\n"
     ]
    }
   ],
   "source": [
    "prediction = analyzer.predict(reviews[0])\n",
    "\n",
    "print(\"positivo\" if prediction.probas[\"POS\"] > prediction.probas[\"NEG\"] else \"negativo\")"
   ]
  },
  {
   "cell_type": "code",
   "execution_count": 12,
   "metadata": {},
   "outputs": [],
   "source": [
    "test_ds = pd.read_csv(\"datasets/test.csv\")\n",
    "reviews = test_ds[\"review_es\"].tolist()\n",
    "for i in range(len(reviews)):\n",
    "    prediction = analyzer.predict(reviews[i])\n",
    "    test_ds.loc[i, \"sentimiento\"] = \"positivo\" if prediction.probas[\"POS\"] > prediction.probas[\"NEG\"] else \"negativo\"\n",
    "\n",
    "test_ds[[\"ID\",\"sentimiento\"]].to_csv(\"submissions/pysentimiento.csv\", index=False)\n"
   ]
  },
  {
   "attachments": {},
   "cell_type": "markdown",
   "metadata": {},
   "source": [
    "## Random Forest"
   ]
  },
  {
   "cell_type": "code",
   "execution_count": 6,
   "metadata": {},
   "outputs": [
    {
     "name": "stdout",
     "output_type": "stream",
     "text": [
      "Fitting 6 folds for each of 100 candidates, totalling 600 fits\n"
     ]
    },
    {
     "data": {
      "text/html": [
       "<style>#sk-container-id-1 {color: black;background-color: white;}#sk-container-id-1 pre{padding: 0;}#sk-container-id-1 div.sk-toggleable {background-color: white;}#sk-container-id-1 label.sk-toggleable__label {cursor: pointer;display: block;width: 100%;margin-bottom: 0;padding: 0.3em;box-sizing: border-box;text-align: center;}#sk-container-id-1 label.sk-toggleable__label-arrow:before {content: \"▸\";float: left;margin-right: 0.25em;color: #696969;}#sk-container-id-1 label.sk-toggleable__label-arrow:hover:before {color: black;}#sk-container-id-1 div.sk-estimator:hover label.sk-toggleable__label-arrow:before {color: black;}#sk-container-id-1 div.sk-toggleable__content {max-height: 0;max-width: 0;overflow: hidden;text-align: left;background-color: #f0f8ff;}#sk-container-id-1 div.sk-toggleable__content pre {margin: 0.2em;color: black;border-radius: 0.25em;background-color: #f0f8ff;}#sk-container-id-1 input.sk-toggleable__control:checked~div.sk-toggleable__content {max-height: 200px;max-width: 100%;overflow: auto;}#sk-container-id-1 input.sk-toggleable__control:checked~label.sk-toggleable__label-arrow:before {content: \"▾\";}#sk-container-id-1 div.sk-estimator input.sk-toggleable__control:checked~label.sk-toggleable__label {background-color: #d4ebff;}#sk-container-id-1 div.sk-label input.sk-toggleable__control:checked~label.sk-toggleable__label {background-color: #d4ebff;}#sk-container-id-1 input.sk-hidden--visually {border: 0;clip: rect(1px 1px 1px 1px);clip: rect(1px, 1px, 1px, 1px);height: 1px;margin: -1px;overflow: hidden;padding: 0;position: absolute;width: 1px;}#sk-container-id-1 div.sk-estimator {font-family: monospace;background-color: #f0f8ff;border: 1px dotted black;border-radius: 0.25em;box-sizing: border-box;margin-bottom: 0.5em;}#sk-container-id-1 div.sk-estimator:hover {background-color: #d4ebff;}#sk-container-id-1 div.sk-parallel-item::after {content: \"\";width: 100%;border-bottom: 1px solid gray;flex-grow: 1;}#sk-container-id-1 div.sk-label:hover label.sk-toggleable__label {background-color: #d4ebff;}#sk-container-id-1 div.sk-serial::before {content: \"\";position: absolute;border-left: 1px solid gray;box-sizing: border-box;top: 0;bottom: 0;left: 50%;z-index: 0;}#sk-container-id-1 div.sk-serial {display: flex;flex-direction: column;align-items: center;background-color: white;padding-right: 0.2em;padding-left: 0.2em;position: relative;}#sk-container-id-1 div.sk-item {position: relative;z-index: 1;}#sk-container-id-1 div.sk-parallel {display: flex;align-items: stretch;justify-content: center;background-color: white;position: relative;}#sk-container-id-1 div.sk-item::before, #sk-container-id-1 div.sk-parallel-item::before {content: \"\";position: absolute;border-left: 1px solid gray;box-sizing: border-box;top: 0;bottom: 0;left: 50%;z-index: -1;}#sk-container-id-1 div.sk-parallel-item {display: flex;flex-direction: column;z-index: 1;position: relative;background-color: white;}#sk-container-id-1 div.sk-parallel-item:first-child::after {align-self: flex-end;width: 50%;}#sk-container-id-1 div.sk-parallel-item:last-child::after {align-self: flex-start;width: 50%;}#sk-container-id-1 div.sk-parallel-item:only-child::after {width: 0;}#sk-container-id-1 div.sk-dashed-wrapped {border: 1px dashed gray;margin: 0 0.4em 0.5em 0.4em;box-sizing: border-box;padding-bottom: 0.4em;background-color: white;}#sk-container-id-1 div.sk-label label {font-family: monospace;font-weight: bold;display: inline-block;line-height: 1.2em;}#sk-container-id-1 div.sk-label-container {text-align: center;}#sk-container-id-1 div.sk-container {/* jupyter's `normalize.less` sets `[hidden] { display: none; }` but bootstrap.min.css set `[hidden] { display: none !important; }` so we also need the `!important` here to be able to override the default hidden behavior on the sphinx rendered scikit-learn.org. See: https://github.com/scikit-learn/scikit-learn/issues/21755 */display: inline-block !important;position: relative;}#sk-container-id-1 div.sk-text-repr-fallback {display: none;}</style><div id=\"sk-container-id-1\" class=\"sk-top-container\"><div class=\"sk-text-repr-fallback\"><pre>RandomizedSearchCV(cv=StratifiedKFold(n_splits=6, random_state=None, shuffle=False),\n",
       "                   estimator=RandomForestClassifier(random_state=42),\n",
       "                   n_iter=100, n_jobs=-1,\n",
       "                   param_distributions={&#x27;criterion&#x27;: [&#x27;gini&#x27;, &#x27;entropy&#x27;],\n",
       "                                        &#x27;max_depth&#x27;: [4, 5, 6, 7, 8],\n",
       "                                        &#x27;max_features&#x27;: [&#x27;auto&#x27;, &#x27;sqrt&#x27;,\n",
       "                                                         &#x27;log2&#x27;],\n",
       "                                        &#x27;min_samples_leaf&#x27;: [1, 2, 4],\n",
       "                                        &#x27;min_samples_split&#x27;: [2, 5, 10],\n",
       "                                        &#x27;n_estimators&#x27;: [10, 100, 200, 300,\n",
       "                                                         500]},\n",
       "                   scoring=make_scorer(f1_score, zero_division=1), verbose=2)</pre><b>In a Jupyter environment, please rerun this cell to show the HTML representation or trust the notebook. <br />On GitHub, the HTML representation is unable to render, please try loading this page with nbviewer.org.</b></div><div class=\"sk-container\" hidden><div class=\"sk-item sk-dashed-wrapped\"><div class=\"sk-label-container\"><div class=\"sk-label sk-toggleable\"><input class=\"sk-toggleable__control sk-hidden--visually\" id=\"sk-estimator-id-1\" type=\"checkbox\" ><label for=\"sk-estimator-id-1\" class=\"sk-toggleable__label sk-toggleable__label-arrow\">RandomizedSearchCV</label><div class=\"sk-toggleable__content\"><pre>RandomizedSearchCV(cv=StratifiedKFold(n_splits=6, random_state=None, shuffle=False),\n",
       "                   estimator=RandomForestClassifier(random_state=42),\n",
       "                   n_iter=100, n_jobs=-1,\n",
       "                   param_distributions={&#x27;criterion&#x27;: [&#x27;gini&#x27;, &#x27;entropy&#x27;],\n",
       "                                        &#x27;max_depth&#x27;: [4, 5, 6, 7, 8],\n",
       "                                        &#x27;max_features&#x27;: [&#x27;auto&#x27;, &#x27;sqrt&#x27;,\n",
       "                                                         &#x27;log2&#x27;],\n",
       "                                        &#x27;min_samples_leaf&#x27;: [1, 2, 4],\n",
       "                                        &#x27;min_samples_split&#x27;: [2, 5, 10],\n",
       "                                        &#x27;n_estimators&#x27;: [10, 100, 200, 300,\n",
       "                                                         500]},\n",
       "                   scoring=make_scorer(f1_score, zero_division=1), verbose=2)</pre></div></div></div><div class=\"sk-parallel\"><div class=\"sk-parallel-item\"><div class=\"sk-item\"><div class=\"sk-label-container\"><div class=\"sk-label sk-toggleable\"><input class=\"sk-toggleable__control sk-hidden--visually\" id=\"sk-estimator-id-2\" type=\"checkbox\" ><label for=\"sk-estimator-id-2\" class=\"sk-toggleable__label sk-toggleable__label-arrow\">estimator: RandomForestClassifier</label><div class=\"sk-toggleable__content\"><pre>RandomForestClassifier(random_state=42)</pre></div></div></div><div class=\"sk-serial\"><div class=\"sk-item\"><div class=\"sk-estimator sk-toggleable\"><input class=\"sk-toggleable__control sk-hidden--visually\" id=\"sk-estimator-id-3\" type=\"checkbox\" ><label for=\"sk-estimator-id-3\" class=\"sk-toggleable__label sk-toggleable__label-arrow\">RandomForestClassifier</label><div class=\"sk-toggleable__content\"><pre>RandomForestClassifier(random_state=42)</pre></div></div></div></div></div></div></div></div></div></div>"
      ],
      "text/plain": [
       "RandomizedSearchCV(cv=StratifiedKFold(n_splits=6, random_state=None, shuffle=False),\n",
       "                   estimator=RandomForestClassifier(random_state=42),\n",
       "                   n_iter=100, n_jobs=-1,\n",
       "                   param_distributions={'criterion': ['gini', 'entropy'],\n",
       "                                        'max_depth': [4, 5, 6, 7, 8],\n",
       "                                        'max_features': ['auto', 'sqrt',\n",
       "                                                         'log2'],\n",
       "                                        'min_samples_leaf': [1, 2, 4],\n",
       "                                        'min_samples_split': [2, 5, 10],\n",
       "                                        'n_estimators': [10, 100, 200, 300,\n",
       "                                                         500]},\n",
       "                   scoring=make_scorer(f1_score, zero_division=1), verbose=2)"
      ]
     },
     "execution_count": 6,
     "metadata": {},
     "output_type": "execute_result"
    }
   ],
   "source": [
    "#Random forest\n",
    "\n",
    "FOLDS = 6\n",
    "kfold = StratifiedKFold(n_splits=FOLDS)\n",
    "scorer_fn = make_scorer(f1_score, zero_division=1)\n",
    "\n",
    "hiperparametros = { \n",
    "    'n_estimators': [10, 100, 200, 300, 500],\n",
    "    'max_features': ['auto', 'sqrt', 'log2'],\n",
    "    'max_depth' : [4,5,6,7,8],\n",
    "    'criterion' :['gini', 'entropy'],\n",
    "    'min_samples_split': [2, 5, 10],\n",
    "    'min_samples_leaf': [1, 2, 4]\n",
    "}\n",
    "\n",
    "rfc = RandomForestClassifier(random_state=42)\n",
    "\n",
    "gs = RandomizedSearchCV(rfc, hiperparametros, scoring=scorer_fn, cv=kfold, n_jobs=-1, verbose=2, n_iter=100)\n",
    "gs.fit(reviews_vectorized, sentiments)"
   ]
  },
  {
   "cell_type": "code",
   "execution_count": 7,
   "metadata": {},
   "outputs": [
    {
     "name": "stdout",
     "output_type": "stream",
     "text": [
      "{'n_estimators': 500, 'min_samples_split': 2, 'min_samples_leaf': 4, 'max_features': 'sqrt', 'max_depth': 8, 'criterion': 'gini'}\n"
     ]
    }
   ],
   "source": [
    "print(gs.best_params_)"
   ]
  },
  {
   "cell_type": "code",
   "execution_count": 8,
   "metadata": {},
   "outputs": [
    {
     "data": {
      "text/html": [
       "<style>#sk-container-id-2 {color: black;background-color: white;}#sk-container-id-2 pre{padding: 0;}#sk-container-id-2 div.sk-toggleable {background-color: white;}#sk-container-id-2 label.sk-toggleable__label {cursor: pointer;display: block;width: 100%;margin-bottom: 0;padding: 0.3em;box-sizing: border-box;text-align: center;}#sk-container-id-2 label.sk-toggleable__label-arrow:before {content: \"▸\";float: left;margin-right: 0.25em;color: #696969;}#sk-container-id-2 label.sk-toggleable__label-arrow:hover:before {color: black;}#sk-container-id-2 div.sk-estimator:hover label.sk-toggleable__label-arrow:before {color: black;}#sk-container-id-2 div.sk-toggleable__content {max-height: 0;max-width: 0;overflow: hidden;text-align: left;background-color: #f0f8ff;}#sk-container-id-2 div.sk-toggleable__content pre {margin: 0.2em;color: black;border-radius: 0.25em;background-color: #f0f8ff;}#sk-container-id-2 input.sk-toggleable__control:checked~div.sk-toggleable__content {max-height: 200px;max-width: 100%;overflow: auto;}#sk-container-id-2 input.sk-toggleable__control:checked~label.sk-toggleable__label-arrow:before {content: \"▾\";}#sk-container-id-2 div.sk-estimator input.sk-toggleable__control:checked~label.sk-toggleable__label {background-color: #d4ebff;}#sk-container-id-2 div.sk-label input.sk-toggleable__control:checked~label.sk-toggleable__label {background-color: #d4ebff;}#sk-container-id-2 input.sk-hidden--visually {border: 0;clip: rect(1px 1px 1px 1px);clip: rect(1px, 1px, 1px, 1px);height: 1px;margin: -1px;overflow: hidden;padding: 0;position: absolute;width: 1px;}#sk-container-id-2 div.sk-estimator {font-family: monospace;background-color: #f0f8ff;border: 1px dotted black;border-radius: 0.25em;box-sizing: border-box;margin-bottom: 0.5em;}#sk-container-id-2 div.sk-estimator:hover {background-color: #d4ebff;}#sk-container-id-2 div.sk-parallel-item::after {content: \"\";width: 100%;border-bottom: 1px solid gray;flex-grow: 1;}#sk-container-id-2 div.sk-label:hover label.sk-toggleable__label {background-color: #d4ebff;}#sk-container-id-2 div.sk-serial::before {content: \"\";position: absolute;border-left: 1px solid gray;box-sizing: border-box;top: 0;bottom: 0;left: 50%;z-index: 0;}#sk-container-id-2 div.sk-serial {display: flex;flex-direction: column;align-items: center;background-color: white;padding-right: 0.2em;padding-left: 0.2em;position: relative;}#sk-container-id-2 div.sk-item {position: relative;z-index: 1;}#sk-container-id-2 div.sk-parallel {display: flex;align-items: stretch;justify-content: center;background-color: white;position: relative;}#sk-container-id-2 div.sk-item::before, #sk-container-id-2 div.sk-parallel-item::before {content: \"\";position: absolute;border-left: 1px solid gray;box-sizing: border-box;top: 0;bottom: 0;left: 50%;z-index: -1;}#sk-container-id-2 div.sk-parallel-item {display: flex;flex-direction: column;z-index: 1;position: relative;background-color: white;}#sk-container-id-2 div.sk-parallel-item:first-child::after {align-self: flex-end;width: 50%;}#sk-container-id-2 div.sk-parallel-item:last-child::after {align-self: flex-start;width: 50%;}#sk-container-id-2 div.sk-parallel-item:only-child::after {width: 0;}#sk-container-id-2 div.sk-dashed-wrapped {border: 1px dashed gray;margin: 0 0.4em 0.5em 0.4em;box-sizing: border-box;padding-bottom: 0.4em;background-color: white;}#sk-container-id-2 div.sk-label label {font-family: monospace;font-weight: bold;display: inline-block;line-height: 1.2em;}#sk-container-id-2 div.sk-label-container {text-align: center;}#sk-container-id-2 div.sk-container {/* jupyter's `normalize.less` sets `[hidden] { display: none; }` but bootstrap.min.css set `[hidden] { display: none !important; }` so we also need the `!important` here to be able to override the default hidden behavior on the sphinx rendered scikit-learn.org. See: https://github.com/scikit-learn/scikit-learn/issues/21755 */display: inline-block !important;position: relative;}#sk-container-id-2 div.sk-text-repr-fallback {display: none;}</style><div id=\"sk-container-id-2\" class=\"sk-top-container\"><div class=\"sk-text-repr-fallback\"><pre>RandomForestClassifier(max_depth=8, min_samples_leaf=4, n_estimators=500)</pre><b>In a Jupyter environment, please rerun this cell to show the HTML representation or trust the notebook. <br />On GitHub, the HTML representation is unable to render, please try loading this page with nbviewer.org.</b></div><div class=\"sk-container\" hidden><div class=\"sk-item\"><div class=\"sk-estimator sk-toggleable\"><input class=\"sk-toggleable__control sk-hidden--visually\" id=\"sk-estimator-id-4\" type=\"checkbox\" checked><label for=\"sk-estimator-id-4\" class=\"sk-toggleable__label sk-toggleable__label-arrow\">RandomForestClassifier</label><div class=\"sk-toggleable__content\"><pre>RandomForestClassifier(max_depth=8, min_samples_leaf=4, n_estimators=500)</pre></div></div></div></div></div>"
      ],
      "text/plain": [
       "RandomForestClassifier(max_depth=8, min_samples_leaf=4, n_estimators=500)"
      ]
     },
     "execution_count": 8,
     "metadata": {},
     "output_type": "execute_result"
    }
   ],
   "source": [
    "best_params = {'n_estimators': 500, 'min_samples_split': 2, 'min_samples_leaf': 4, 'max_features': 'sqrt', 'max_depth': 8, 'criterion': 'gini'}\n",
    "\n",
    "rfc = RandomForestClassifier(**best_params)\n",
    "rfc.fit(X_train_v, y_train)"
   ]
  },
  {
   "cell_type": "code",
   "execution_count": 9,
   "metadata": {},
   "outputs": [
    {
     "name": "stdout",
     "output_type": "stream",
     "text": [
      "Accuracy: 0.8225\n",
      "Precision: 0.8022222222222222\n",
      "Recall: 0.8596943838063108\n",
      "F1 Score: 0.8299645559919533\n"
     ]
    }
   ],
   "source": [
    "y_pred = rfc.predict(X_test_v)\n",
    "print(\"Accuracy:\", metrics.accuracy_score(y_test, y_pred))\n",
    "print(\"Precision:\", metrics.precision_score(y_test, y_pred))\n",
    "print(\"Recall:\", metrics.recall_score(y_test, y_pred))\n",
    "print(\"F1 Score:\", metrics.f1_score(y_test, y_pred))"
   ]
  },
  {
   "cell_type": "code",
   "execution_count": 11,
   "metadata": {},
   "outputs": [],
   "source": [
    "test_ds = pd.read_csv(\"datasets/test.csv\")\n",
    "test_ds[\"sentimiento\"] = rfc.predict(vectorizador.transform(test_ds[\"review_es\"]))\n",
    "# convert \"sentimiento\" to \"positivo\" or \"negativo\"\n",
    "test_ds[\"sentimiento\"] = test_ds[\"sentimiento\"].apply(lambda x: \"positivo\" if x == 1 else \"negativo\")\n",
    "test_ds[[\"ID\",\"sentimiento\"]].to_csv(\"datasets/randomforest.csv\", index=False)"
   ]
  },
  {
   "attachments": {},
   "cell_type": "markdown",
   "metadata": {},
   "source": [
    "## XGBoost"
   ]
  },
  {
   "cell_type": "code",
   "execution_count": 12,
   "metadata": {},
   "outputs": [
    {
     "name": "stdout",
     "output_type": "stream",
     "text": [
      "Fitting 6 folds for each of 100 candidates, totalling 600 fits\n",
      "{'subsample': 0.9, 'n_estimators': 500, 'min_child_weight': 2, 'max_depth': 4, 'learning_rate': 0.3, 'gamma': 0.1, 'colsample_bytree': 0.7}\n"
     ]
    }
   ],
   "source": [
    "# XGBoost\n",
    "from xgboost import XGBClassifier\n",
    "\n",
    "hiperparametros = {\n",
    "    'n_estimators': [10, 100, 200, 300, 500],\n",
    "    'max_depth': [4, 5, 6, 7, 8],\n",
    "    'learning_rate': [0.01, 0.05, 0.1, 0.2, 0.3],\n",
    "    'gamma': [0, 0.1, 0.2, 0.3, 0.4],\n",
    "    'min_child_weight': [1, 2, 3, 4, 5],\n",
    "    'subsample': [0.5, 0.6, 0.7, 0.8, 0.9],\n",
    "    'colsample_bytree': [0.5, 0.6, 0.7, 0.8, 0.9]\n",
    "}\n",
    "\n",
    "xgb = XGBClassifier(random_state=42)\n",
    "\n",
    "gs = RandomizedSearchCV(xgb, hiperparametros, scoring=scorer_fn, cv=kfold, n_jobs=-1, verbose=2, n_iter=100)\n",
    "gs.fit(reviews_vectorized, sentiments)\n",
    "\n",
    "print(gs.best_params_)"
   ]
  },
  {
   "cell_type": "code",
   "execution_count": 66,
   "metadata": {},
   "outputs": [
    {
     "name": "stdout",
     "output_type": "stream",
     "text": [
      "Accuracy: 0.8703\n",
      "Precision: 0.8661448140900195\n",
      "Recall: 0.8783488787457829\n",
      "F1 Score: 0.8722041580451277\n"
     ]
    }
   ],
   "source": [
    "best_params = {'subsample': 0.9, 'n_estimators': 500, 'min_child_weight': 2, 'max_depth': 4, 'learning_rate': 0.3, 'gamma': 0.1, 'colsample_bytree': 0.7}\n",
    "\n",
    "xgb = XGBClassifier(**best_params)\n",
    "xgb.fit(X_train_v, y_train)\n",
    "\n",
    "y_pred = xgb.predict(X_test_v)\n",
    "print(\"Accuracy:\", metrics.accuracy_score(y_test, y_pred))\n",
    "print(\"Precision:\", metrics.precision_score(y_test, y_pred))\n",
    "print(\"Recall:\", metrics.recall_score(y_test, y_pred))\n",
    "print(\"F1 Score:\", metrics.f1_score(y_test, y_pred))"
   ]
  },
  {
   "attachments": {},
   "cell_type": "markdown",
   "metadata": {},
   "source": [
    "F1 Score: 0.8701989363797518"
   ]
  },
  {
   "cell_type": "code",
   "execution_count": 60,
   "metadata": {},
   "outputs": [],
   "source": [
    "test_ds = pd.read_csv(\"datasets/test.csv\")\n",
    "test_ds[\"sentimiento\"] = xgb.predict(vectorizador.transform(test_ds[\"review_es\"]))\n",
    "# convert \"sentimiento\" to \"positivo\" or \"negativo\"\n",
    "test_ds[\"sentimiento\"] = test_ds[\"sentimiento\"].apply(lambda x: \"positivo\" if x == 1 else \"negativo\")\n",
    "test_ds[[\"ID\",\"sentimiento\"]].to_csv(\"submissions/xgboost.csv\", index=False)"
   ]
  },
  {
   "attachments": {},
   "cell_type": "markdown",
   "metadata": {},
   "source": [
    "## SVM"
   ]
  },
  {
   "cell_type": "code",
   "execution_count": 7,
   "metadata": {},
   "outputs": [
    {
     "name": "stdout",
     "output_type": "stream",
     "text": [
      "              precision    recall  f1-score   support\n",
      "\n",
      "           0       0.86      0.85      0.86      4961\n",
      "           1       0.85      0.87      0.86      5039\n",
      "\n",
      "    accuracy                           0.86     10000\n",
      "   macro avg       0.86      0.86      0.86     10000\n",
      "weighted avg       0.86      0.86      0.86     10000\n",
      "\n",
      "              precision    recall  f1-score   support\n",
      "\n",
      "           0       0.88      0.76      0.82      4961\n",
      "           1       0.80      0.90      0.85      5039\n",
      "\n",
      "    accuracy                           0.83     10000\n",
      "   macro avg       0.84      0.83      0.83     10000\n",
      "weighted avg       0.84      0.83      0.83     10000\n",
      "\n",
      "              precision    recall  f1-score   support\n",
      "\n",
      "           0       0.88      0.84      0.86      4961\n",
      "           1       0.85      0.89      0.87      5039\n",
      "\n",
      "    accuracy                           0.86     10000\n",
      "   macro avg       0.86      0.86      0.86     10000\n",
      "weighted avg       0.86      0.86      0.86     10000\n",
      "\n",
      "              precision    recall  f1-score   support\n",
      "\n",
      "           0       0.49      0.50      0.49      4961\n",
      "           1       0.50      0.49      0.49      5039\n",
      "\n",
      "    accuracy                           0.49     10000\n",
      "   macro avg       0.49      0.49      0.49     10000\n",
      "weighted avg       0.49      0.49      0.49     10000\n",
      "\n"
     ]
    }
   ],
   "source": [
    "from sklearn import svm\n",
    "from sklearn.feature_extraction.text import TfidfVectorizer\n",
    "from sklearn.model_selection import train_test_split\n",
    "from sklearn.metrics import accuracy_score\n",
    "\n",
    "kernels = ['linear', 'poly', 'rbf', 'sigmoid']\n",
    "svm_classifiers = {}\n",
    "\n",
    "for kernel in kernels:\n",
    "    # Create an SVM classifier with the current kernel\n",
    "    svm_classifier = svm.SVC(kernel=kernel)\n",
    "\n",
    "    # Train the classifier on the training data\n",
    "    svm_classifier.fit(X_train_v, y_train)\n",
    "\n",
    "    # Make predictions on the test data\n",
    "    y_pred = svm_classifier.predict(X_test_v)\n",
    "\n",
    "    # Evaluate the model\n",
    "    print(sklearn.metrics.classification_report(y_test, y_pred))\n",
    "    svm_classifiers[kernel] = svm_classifier"
   ]
  },
  {
   "cell_type": "code",
   "execution_count": 14,
   "metadata": {},
   "outputs": [],
   "source": [
    "# Guardamos los modelos entrenados\n",
    "\n",
    "for kernel, svm_classifier in svm_classifiers.items():\n",
    "    joblib.dump(svm_classifier, f\"models/svm_classifier_{kernel}.pkl\")"
   ]
  },
  {
   "cell_type": "code",
   "execution_count": 8,
   "metadata": {},
   "outputs": [],
   "source": [
    "test_ds = pd.read_csv(\"datasets/test.csv\")\n",
    "for classfier in svm_classifiers:\n",
    "    test_ds[\"sentimiento\"] = svm_classifiers[classfier].predict(vectorizador.transform(test_ds[\"review_es\"]))\n",
    "    # convert \"sentimiento\" to \"positivo\" or \"negativo\"\n",
    "    test_ds[\"sentimiento\"] = test_ds[\"sentimiento\"].apply(lambda x: \"positivo\" if x == 1 else \"negativo\")\n",
    "    test_ds[[\"ID\",\"sentimiento\"]].to_csv(\"submissions/svm_\" + classfier + \".csv\", index=False)"
   ]
  },
  {
   "attachments": {},
   "cell_type": "markdown",
   "metadata": {},
   "source": [
    "Observamos que el mejor fue el Radial Basis Function kernel, por lo que vamos a buscar hiperparámetros para ver si podemos mejorar ese."
   ]
  },
  {
   "cell_type": "code",
   "execution_count": 37,
   "metadata": {},
   "outputs": [
    {
     "name": "stdout",
     "output_type": "stream",
     "text": [
      "Fitting 6 folds for each of 100 candidates, totalling 600 fits\n"
     ]
    }
   ],
   "source": [
    "# Observamos que el mejor fue el Radial Basis Function kernel, por lo que vamos a buscar hiperparámetros para ver si podemos mejorar ese.\n",
    "\n",
    "FOLDS = 6\n",
    "kfold = StratifiedKFold(n_splits=FOLDS)\n",
    "scorer_fn = make_scorer(f1_score)\n",
    "\n",
    "hiperparametros = {\n",
    "    'C': [0.1, 1, 10, 100, 1000],\n",
    "    'gamma': [1, 0.1, 0.01, 0.001, 0.0001],\n",
    "    'kernel': ['rbf'],\n",
    "    'degree': [1, 2, 3, 4, 5]\n",
    "}\n",
    "\n",
    "svm_classifier = svm.SVC()\n",
    "\n",
    "gs = RandomizedSearchCV(svm_classifier, hiperparametros, scoring=scorer_fn, cv=kfold, n_jobs=-1, verbose=2, n_iter=100)\n",
    "gs.fit(reviews_vectorized, sentiments)\n",
    "\n",
    "print(gs.best_params_)"
   ]
  },
  {
   "attachments": {},
   "cell_type": "markdown",
   "metadata": {},
   "source": [
    "# Visualizacion de Datos"
   ]
  },
  {
   "attachments": {},
   "cell_type": "markdown",
   "metadata": {},
   "source": [
    "# Preprocesamiento de Datos"
   ]
  },
  {
   "attachments": {},
   "cell_type": "markdown",
   "metadata": {},
   "source": [
    "# Transformacion de Datos"
   ]
  },
  {
   "attachments": {},
   "cell_type": "markdown",
   "metadata": {},
   "source": [
    "# Exploracion de Datos"
   ]
  },
  {
   "attachments": {},
   "cell_type": "markdown",
   "metadata": {},
   "source": [
    "# Analisis de Datos"
   ]
  }
 ],
 "metadata": {
  "kernelspec": {
   "display_name": "Python 3 (ipykernel)",
   "language": "python",
   "name": "python3"
  },
  "language_info": {
   "codemirror_mode": {
    "name": "ipython",
    "version": 3
   },
   "file_extension": ".py",
   "mimetype": "text/x-python",
   "name": "python",
   "nbconvert_exporter": "python",
   "pygments_lexer": "ipython3",
   "version": "3.10.11"
  }
 },
 "nbformat": 4,
 "nbformat_minor": 4
}
