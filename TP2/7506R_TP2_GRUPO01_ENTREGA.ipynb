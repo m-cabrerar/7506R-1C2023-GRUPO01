{
 "cells": [
  {
   "attachments": {},
   "cell_type": "markdown",
   "metadata": {},
   "source": [
    "# Trabajo Práctico 2 : Críticas Cinematográficas\n",
    "\n",
    "### Grupo 01 - Integrantes:\n",
    "        Cabrera Rodríguez, Mateo \n",
    "        Gonzalez Alejo, Camila\n",
    "        Bocanegra, Eduardo Martín"
   ]
  },
  {
   "attachments": {},
   "cell_type": "markdown",
   "metadata": {},
   "source": [
    "# Setup"
   ]
  },
  {
   "attachments": {},
   "cell_type": "markdown",
   "metadata": {},
   "source": [
    "### Cargar bibliotecas"
   ]
  },
  {
   "cell_type": "code",
   "execution_count": 1,
   "metadata": {},
   "outputs": [],
   "source": [
    "import pandas as pd\n",
    "from sklearn.feature_extraction.text import CountVectorizer\n",
    "from sklearn.model_selection import train_test_split\n",
    "from sklearn.naive_bayes import BernoulliNB\n",
    "from sklearn import metrics"
   ]
  },
  {
   "attachments": {},
   "cell_type": "markdown",
   "metadata": {},
   "source": [
    "### Cargar dataset"
   ]
  },
  {
   "cell_type": "code",
   "execution_count": 2,
   "metadata": {},
   "outputs": [
    {
     "name": "stdout",
     "output_type": "stream",
     "text": [
      "   ID                                          review_es sentimiento\n",
      "0   0  Uno de los otros críticos ha mencionado que de...    positivo\n",
      "1   1  Una pequeña pequeña producción.La técnica de f...    positivo\n",
      "2   2  Pensé que esta era una manera maravillosa de p...    positivo\n",
      "3   3  Básicamente, hay una familia donde un niño peq...    negativo\n",
      "4   4  El \"amor en el tiempo\" de Petter Mattei es una...    positivo\n"
     ]
    }
   ],
   "source": [
    "ds = pd.read_csv(\"datasets/train.csv\")\n",
    "print(ds.head())"
   ]
  },
  {
   "cell_type": "code",
   "execution_count": 3,
   "metadata": {},
   "outputs": [],
   "source": [
    "reviews = ds[\"review_es\"]\n",
    "sentiments = [1 if sentiment == \"positivo\" else 0 for sentiment in ds[\"sentimiento\"]]"
   ]
  },
  {
   "cell_type": "code",
   "execution_count": 4,
   "metadata": {},
   "outputs": [],
   "source": [
    "X_train, X_test, y_train, y_test = train_test_split(reviews, sentiments, test_size=0.2, random_state=42)"
   ]
  },
  {
   "cell_type": "code",
   "execution_count": 5,
   "metadata": {},
   "outputs": [],
   "source": [
    "# Vectorizar las reviews\n",
    "vectorizador = CountVectorizer()\n",
    "X_train_v = vectorizador.fit_transform(X_train)\n",
    "X_test_v = vectorizador.transform(X_test)\n"
   ]
  },
  {
   "cell_type": "code",
   "execution_count": 6,
   "metadata": {},
   "outputs": [
    {
     "data": {
      "text/html": [
       "<style>#sk-container-id-1 {color: black;background-color: white;}#sk-container-id-1 pre{padding: 0;}#sk-container-id-1 div.sk-toggleable {background-color: white;}#sk-container-id-1 label.sk-toggleable__label {cursor: pointer;display: block;width: 100%;margin-bottom: 0;padding: 0.3em;box-sizing: border-box;text-align: center;}#sk-container-id-1 label.sk-toggleable__label-arrow:before {content: \"▸\";float: left;margin-right: 0.25em;color: #696969;}#sk-container-id-1 label.sk-toggleable__label-arrow:hover:before {color: black;}#sk-container-id-1 div.sk-estimator:hover label.sk-toggleable__label-arrow:before {color: black;}#sk-container-id-1 div.sk-toggleable__content {max-height: 0;max-width: 0;overflow: hidden;text-align: left;background-color: #f0f8ff;}#sk-container-id-1 div.sk-toggleable__content pre {margin: 0.2em;color: black;border-radius: 0.25em;background-color: #f0f8ff;}#sk-container-id-1 input.sk-toggleable__control:checked~div.sk-toggleable__content {max-height: 200px;max-width: 100%;overflow: auto;}#sk-container-id-1 input.sk-toggleable__control:checked~label.sk-toggleable__label-arrow:before {content: \"▾\";}#sk-container-id-1 div.sk-estimator input.sk-toggleable__control:checked~label.sk-toggleable__label {background-color: #d4ebff;}#sk-container-id-1 div.sk-label input.sk-toggleable__control:checked~label.sk-toggleable__label {background-color: #d4ebff;}#sk-container-id-1 input.sk-hidden--visually {border: 0;clip: rect(1px 1px 1px 1px);clip: rect(1px, 1px, 1px, 1px);height: 1px;margin: -1px;overflow: hidden;padding: 0;position: absolute;width: 1px;}#sk-container-id-1 div.sk-estimator {font-family: monospace;background-color: #f0f8ff;border: 1px dotted black;border-radius: 0.25em;box-sizing: border-box;margin-bottom: 0.5em;}#sk-container-id-1 div.sk-estimator:hover {background-color: #d4ebff;}#sk-container-id-1 div.sk-parallel-item::after {content: \"\";width: 100%;border-bottom: 1px solid gray;flex-grow: 1;}#sk-container-id-1 div.sk-label:hover label.sk-toggleable__label {background-color: #d4ebff;}#sk-container-id-1 div.sk-serial::before {content: \"\";position: absolute;border-left: 1px solid gray;box-sizing: border-box;top: 0;bottom: 0;left: 50%;z-index: 0;}#sk-container-id-1 div.sk-serial {display: flex;flex-direction: column;align-items: center;background-color: white;padding-right: 0.2em;padding-left: 0.2em;position: relative;}#sk-container-id-1 div.sk-item {position: relative;z-index: 1;}#sk-container-id-1 div.sk-parallel {display: flex;align-items: stretch;justify-content: center;background-color: white;position: relative;}#sk-container-id-1 div.sk-item::before, #sk-container-id-1 div.sk-parallel-item::before {content: \"\";position: absolute;border-left: 1px solid gray;box-sizing: border-box;top: 0;bottom: 0;left: 50%;z-index: -1;}#sk-container-id-1 div.sk-parallel-item {display: flex;flex-direction: column;z-index: 1;position: relative;background-color: white;}#sk-container-id-1 div.sk-parallel-item:first-child::after {align-self: flex-end;width: 50%;}#sk-container-id-1 div.sk-parallel-item:last-child::after {align-self: flex-start;width: 50%;}#sk-container-id-1 div.sk-parallel-item:only-child::after {width: 0;}#sk-container-id-1 div.sk-dashed-wrapped {border: 1px dashed gray;margin: 0 0.4em 0.5em 0.4em;box-sizing: border-box;padding-bottom: 0.4em;background-color: white;}#sk-container-id-1 div.sk-label label {font-family: monospace;font-weight: bold;display: inline-block;line-height: 1.2em;}#sk-container-id-1 div.sk-label-container {text-align: center;}#sk-container-id-1 div.sk-container {/* jupyter's `normalize.less` sets `[hidden] { display: none; }` but bootstrap.min.css set `[hidden] { display: none !important; }` so we also need the `!important` here to be able to override the default hidden behavior on the sphinx rendered scikit-learn.org. See: https://github.com/scikit-learn/scikit-learn/issues/21755 */display: inline-block !important;position: relative;}#sk-container-id-1 div.sk-text-repr-fallback {display: none;}</style><div id=\"sk-container-id-1\" class=\"sk-top-container\"><div class=\"sk-text-repr-fallback\"><pre>BernoulliNB()</pre><b>In a Jupyter environment, please rerun this cell to show the HTML representation or trust the notebook. <br />On GitHub, the HTML representation is unable to render, please try loading this page with nbviewer.org.</b></div><div class=\"sk-container\" hidden><div class=\"sk-item\"><div class=\"sk-estimator sk-toggleable\"><input class=\"sk-toggleable__control sk-hidden--visually\" id=\"sk-estimator-id-1\" type=\"checkbox\" checked><label for=\"sk-estimator-id-1\" class=\"sk-toggleable__label sk-toggleable__label-arrow\">BernoulliNB</label><div class=\"sk-toggleable__content\"><pre>BernoulliNB()</pre></div></div></div></div></div>"
      ],
      "text/plain": [
       "BernoulliNB()"
      ]
     },
     "execution_count": 6,
     "metadata": {},
     "output_type": "execute_result"
    }
   ],
   "source": [
    "nb_model = BernoulliNB()\n",
    "nb_model.fit(X_train_v, y_train)"
   ]
  },
  {
   "cell_type": "code",
   "execution_count": 7,
   "metadata": {},
   "outputs": [
    {
     "name": "stdout",
     "output_type": "stream",
     "text": [
      "Accuracy: 0.8466\n",
      "Precision: 0.8670157068062827\n",
      "Recall: 0.8215915856320699\n",
      "F1 Score: 0.8436926839209293\n"
     ]
    }
   ],
   "source": [
    "y_pred = nb_model.predict(X_test_v)\n",
    "print(\"Accuracy:\", metrics.accuracy_score(y_test, y_pred))\n",
    "print(\"Precision:\", metrics.precision_score(y_test, y_pred))\n",
    "print(\"Recall:\", metrics.recall_score(y_test, y_pred))\n",
    "print(\"F1 Score:\", metrics.f1_score(y_test, y_pred))"
   ]
  },
  {
   "cell_type": "code",
   "execution_count": 78,
   "metadata": {},
   "outputs": [],
   "source": [
    "test_ds = pd.read_csv(\"datasets/test.csv\")\n",
    "test_ds[\"sentimiento\"] = nb_model.predict(vectorizador.transform(test_ds[\"review_es\"]))\n",
    "# convert \"sentimiento\" to \"positivo\" or \"negativo\"\n",
    "test_ds[\"sentimiento\"] = test_ds[\"sentimiento\"].apply(lambda x: \"positivo\" if x == 1 else \"negativo\")\n",
    "test_ds[[\"ID\",\"sentimiento\"]].to_csv(\"datasets/binomialNB.csv\", index=False)"
   ]
  },
  {
   "cell_type": "code",
   "execution_count": 15,
   "metadata": {},
   "outputs": [
    {
     "name": "stderr",
     "output_type": "stream",
     "text": [
      "[nltk_data] Downloading package punkt to\n",
      "[nltk_data]     C:\\Users\\digix\\AppData\\Roaming\\nltk_data...\n",
      "[nltk_data]   Package punkt is already up-to-date!\n",
      "[nltk_data] Downloading package stopwords to\n",
      "[nltk_data]     C:\\Users\\digix\\AppData\\Roaming\\nltk_data...\n",
      "[nltk_data]   Package stopwords is already up-to-date!\n",
      "[nltk_data] Downloading package wordnet to\n",
      "[nltk_data]     C:\\Users\\digix\\AppData\\Roaming\\nltk_data...\n"
     ]
    }
   ],
   "source": [
    "import nltk\n",
    "from nltk.corpus import stopwords\n",
    "from nltk.tokenize import word_tokenize\n",
    "from nltk.stem import WordNetLemmatizer\n",
    "import re\n",
    "\n",
    "nltk.download('punkt')\n",
    "nltk.download('stopwords')\n",
    "nltk.download('wordnet')\n",
    "\n",
    "\n",
    "def remove_special_characters(text):\n",
    "    # Eliminar puntuaciones y caracteres especiales excepto letras y números\n",
    "    text = re.sub(r\"[^\\w\\s]\", \"\", text)\n",
    "    return text\n",
    "\n",
    "def convert_to_lowercase(text):\n",
    "    # Convertir el texto a minúsculas\n",
    "    text = text.lower()\n",
    "    return text\n",
    "\n",
    "def tokenize_text(text):\n",
    "    # Tokenización de palabras\n",
    "    tokens = word_tokenize(text, language=\"spanish\")\n",
    "    return tokens\n",
    "\n",
    "def remove_stop_words(tokens):\n",
    "    # Eliminar palabras vacías\n",
    "    stop_words = set(stopwords.words(\"spanish\"))\n",
    "    filtered_tokens = [token for token in tokens if token not in stop_words]\n",
    "    return filtered_tokens\n",
    "\n",
    "\n",
    "def lemmatize_tokens(tokens):\n",
    "    lemmatizer = WordNetLemmatizer()\n",
    "    lemmas = [lemmatizer.lemmatize(token) for token in tokens]\n",
    "    return lemmas"
   ]
  },
  {
   "cell_type": "code",
   "execution_count": 16,
   "metadata": {},
   "outputs": [],
   "source": [
    "X_preprocessed = []\n",
    "\n",
    "for review in reviews:\n",
    "    review = remove_special_characters(review)\n",
    "    review = convert_to_lowercase(review)\n",
    "    tokens = tokenize_text(review)\n",
    "    tokens = remove_stop_words(tokens)\n",
    "    tokens = lemmatize_tokens(tokens)\n",
    "    review = \" \".join(tokens)\n",
    "    X_preprocessed.append(review)\n",
    "\n",
    "X_train, X_test, y_train, y_test = train_test_split(X_preprocessed, sentiments, test_size=0.2, random_state=42)"
   ]
  },
  {
   "cell_type": "code",
   "execution_count": 17,
   "metadata": {},
   "outputs": [
    {
     "name": "stdout",
     "output_type": "stream",
     "text": [
      "Original: Uno de los otros críticos ha mencionado que después de ver solo 1 Oz Episodio, estará enganchado. Tienen razón, ya que esto es exactamente lo que sucedió conmigo. La primera cosa que me golpeó sobre Oz fue su brutalidad y sus escenas de violencia inconfiadas, que se encuentran a la derecha de la palabra. Confía en mí, este no es un espectáculo para los débiles de corazón o tímido. Este espectáculo no extrae punzones con respecto a las drogas, el sexo o la violencia. Es Hardcore, en el uso clásico de la palabra. Se llama OZ, ya que es el apodo dado al Penitenciario del Estado de Seguridad Máximo de Oswald. Se centra principalmente en la ciudad de Emeralda, una sección experimental de la prisión donde todas las células tienen frentes de vidrio y se enfrentan hacia adentro, por lo que la privacidad no es alta en la agenda. Em City es el hogar de muchos ... Fariarios, musulmanes, gangstas, latinos, cristianos, italianos, irlandeses y más ... así que las esposas, las miradas de muerte, las relaciones peligrosas y los acuerdos sombreados nunca están lejos. Yo diría el principal atractivo de El espectáculo se debe al hecho de que va donde otros espectáculos no se atreverían. Olvídate de las imágenes bonitas pintadas para las audiencias convencionales, olvidan el encanto, olviden el romance ... Oz no se mete. El primer episodio que he visto me sorprendió tan desagradable que fue surrealista, no podía decir que estaba listo para ello, pero cuando observé más, desarrollé un gusto por Oz, y me acostumbré a los altos niveles de violencia gráfica. No solo la violencia, sino la injusticia (Guardias torcidas que se vendrán por un níquel, los reclusos que se matarán en orden y se alejarán con él, de manera educada, los reclusos de clase media se convirtieron en perras de la prisión debido a su falta de habilidades callejeras O experiencia en la prisión) viendo oz, puede sentirse cómodo con lo que es incómodo visualización ... eso es si puedes ponerte en contacto con tu lado más oscuro.\n",
      "remove_special_characters: Uno de los otros críticos ha mencionado que después de ver solo 1 Oz Episodio estará enganchado Tienen razón ya que esto es exactamente lo que sucedió conmigo La primera cosa que me golpeó sobre Oz fue su brutalidad y sus escenas de violencia inconfiadas que se encuentran a la derecha de la palabra Confía en mí este no es un espectáculo para los débiles de corazón o tímido Este espectáculo no extrae punzones con respecto a las drogas el sexo o la violencia Es Hardcore en el uso clásico de la palabra Se llama OZ ya que es el apodo dado al Penitenciario del Estado de Seguridad Máximo de Oswald Se centra principalmente en la ciudad de Emeralda una sección experimental de la prisión donde todas las células tienen frentes de vidrio y se enfrentan hacia adentro por lo que la privacidad no es alta en la agenda Em City es el hogar de muchos  Fariarios musulmanes gangstas latinos cristianos italianos irlandeses y más  así que las esposas las miradas de muerte las relaciones peligrosas y los acuerdos sombreados nunca están lejos Yo diría el principal atractivo de El espectáculo se debe al hecho de que va donde otros espectáculos no se atreverían Olvídate de las imágenes bonitas pintadas para las audiencias convencionales olvidan el encanto olviden el romance  Oz no se mete El primer episodio que he visto me sorprendió tan desagradable que fue surrealista no podía decir que estaba listo para ello pero cuando observé más desarrollé un gusto por Oz y me acostumbré a los altos niveles de violencia gráfica No solo la violencia sino la injusticia Guardias torcidas que se vendrán por un níquel los reclusos que se matarán en orden y se alejarán con él de manera educada los reclusos de clase media se convirtieron en perras de la prisión debido a su falta de habilidades callejeras O experiencia en la prisión viendo oz puede sentirse cómodo con lo que es incómodo visualización  eso es si puedes ponerte en contacto con tu lado más oscuro\n",
      "convert_to_lowercase: uno de los otros críticos ha mencionado que después de ver solo 1 oz episodio, estará enganchado. tienen razón, ya que esto es exactamente lo que sucedió conmigo. la primera cosa que me golpeó sobre oz fue su brutalidad y sus escenas de violencia inconfiadas, que se encuentran a la derecha de la palabra. confía en mí, este no es un espectáculo para los débiles de corazón o tímido. este espectáculo no extrae punzones con respecto a las drogas, el sexo o la violencia. es hardcore, en el uso clásico de la palabra. se llama oz, ya que es el apodo dado al penitenciario del estado de seguridad máximo de oswald. se centra principalmente en la ciudad de emeralda, una sección experimental de la prisión donde todas las células tienen frentes de vidrio y se enfrentan hacia adentro, por lo que la privacidad no es alta en la agenda. em city es el hogar de muchos ... fariarios, musulmanes, gangstas, latinos, cristianos, italianos, irlandeses y más ... así que las esposas, las miradas de muerte, las relaciones peligrosas y los acuerdos sombreados nunca están lejos. yo diría el principal atractivo de el espectáculo se debe al hecho de que va donde otros espectáculos no se atreverían. olvídate de las imágenes bonitas pintadas para las audiencias convencionales, olvidan el encanto, olviden el romance ... oz no se mete. el primer episodio que he visto me sorprendió tan desagradable que fue surrealista, no podía decir que estaba listo para ello, pero cuando observé más, desarrollé un gusto por oz, y me acostumbré a los altos niveles de violencia gráfica. no solo la violencia, sino la injusticia (guardias torcidas que se vendrán por un níquel, los reclusos que se matarán en orden y se alejarán con él, de manera educada, los reclusos de clase media se convirtieron en perras de la prisión debido a su falta de habilidades callejeras o experiencia en la prisión) viendo oz, puede sentirse cómodo con lo que es incómodo visualización ... eso es si puedes ponerte en contacto con tu lado más oscuro.\n",
      "tokenize_text: ['Uno', 'de', 'los', 'otros', 'críticos', 'ha', 'mencionado', 'que', 'después', 'de', 'ver', 'solo', '1', 'Oz', 'Episodio', ',', 'estará', 'enganchado', '.', 'Tienen', 'razón', ',', 'ya', 'que', 'esto', 'es', 'exactamente', 'lo', 'que', 'sucedió', 'conmigo', '.', 'La', 'primera', 'cosa', 'que', 'me', 'golpeó', 'sobre', 'Oz', 'fue', 'su', 'brutalidad', 'y', 'sus', 'escenas', 'de', 'violencia', 'inconfiadas', ',', 'que', 'se', 'encuentran', 'a', 'la', 'derecha', 'de', 'la', 'palabra', '.', 'Confía', 'en', 'mí', ',', 'este', 'no', 'es', 'un', 'espectáculo', 'para', 'los', 'débiles', 'de', 'corazón', 'o', 'tímido', '.', 'Este', 'espectáculo', 'no', 'extrae', 'punzones', 'con', 'respecto', 'a', 'las', 'drogas', ',', 'el', 'sexo', 'o', 'la', 'violencia', '.', 'Es', 'Hardcore', ',', 'en', 'el', 'uso', 'clásico', 'de', 'la', 'palabra', '.', 'Se', 'llama', 'OZ', ',', 'ya', 'que', 'es', 'el', 'apodo', 'dado', 'al', 'Penitenciario', 'del', 'Estado', 'de', 'Seguridad', 'Máximo', 'de', 'Oswald', '.', 'Se', 'centra', 'principalmente', 'en', 'la', 'ciudad', 'de', 'Emeralda', ',', 'una', 'sección', 'experimental', 'de', 'la', 'prisión', 'donde', 'todas', 'las', 'células', 'tienen', 'frentes', 'de', 'vidrio', 'y', 'se', 'enfrentan', 'hacia', 'adentro', ',', 'por', 'lo', 'que', 'la', 'privacidad', 'no', 'es', 'alta', 'en', 'la', 'agenda', '.', 'Em', 'City', 'es', 'el', 'hogar', 'de', 'muchos', '...', 'Fariarios', ',', 'musulmanes', ',', 'gangstas', ',', 'latinos', ',', 'cristianos', ',', 'italianos', ',', 'irlandeses', 'y', 'más', '...', 'así', 'que', 'las', 'esposas', ',', 'las', 'miradas', 'de', 'muerte', ',', 'las', 'relaciones', 'peligrosas', 'y', 'los', 'acuerdos', 'sombreados', 'nunca', 'están', 'lejos', '.', 'Yo', 'diría', 'el', 'principal', 'atractivo', 'de', 'El', 'espectáculo', 'se', 'debe', 'al', 'hecho', 'de', 'que', 'va', 'donde', 'otros', 'espectáculos', 'no', 'se', 'atreverían', '.', 'Olvídate', 'de', 'las', 'imágenes', 'bonitas', 'pintadas', 'para', 'las', 'audiencias', 'convencionales', ',', 'olvidan', 'el', 'encanto', ',', 'olviden', 'el', 'romance', '...', 'Oz', 'no', 'se', 'mete', '.', 'El', 'primer', 'episodio', 'que', 'he', 'visto', 'me', 'sorprendió', 'tan', 'desagradable', 'que', 'fue', 'surrealista', ',', 'no', 'podía', 'decir', 'que', 'estaba', 'listo', 'para', 'ello', ',', 'pero', 'cuando', 'observé', 'más', ',', 'desarrollé', 'un', 'gusto', 'por', 'Oz', ',', 'y', 'me', 'acostumbré', 'a', 'los', 'altos', 'niveles', 'de', 'violencia', 'gráfica', '.', 'No', 'solo', 'la', 'violencia', ',', 'sino', 'la', 'injusticia', '(', 'Guardias', 'torcidas', 'que', 'se', 'vendrán', 'por', 'un', 'níquel', ',', 'los', 'reclusos', 'que', 'se', 'matarán', 'en', 'orden', 'y', 'se', 'alejarán', 'con', 'él', ',', 'de', 'manera', 'educada', ',', 'los', 'reclusos', 'de', 'clase', 'media', 'se', 'convirtieron', 'en', 'perras', 'de', 'la', 'prisión', 'debido', 'a', 'su', 'falta', 'de', 'habilidades', 'callejeras', 'O', 'experiencia', 'en', 'la', 'prisión', ')', 'viendo', 'oz', ',', 'puede', 'sentirse', 'cómodo', 'con', 'lo', 'que', 'es', 'incómodo', 'visualización', '...', 'eso', 'es', 'si', 'puedes', 'ponerte', 'en', 'contacto', 'con', 'tu', 'lado', 'más', 'oscuro', '.']\n",
      "remove_stop_words: ['Uno', 'críticos', 'mencionado', 'después', 'ver', 'solo', '1', 'Oz', 'Episodio', ',', 'enganchado', '.', 'Tienen', 'razón', ',', 'exactamente', 'sucedió', 'conmigo', '.', 'La', 'primera', 'cosa', 'golpeó', 'Oz', 'brutalidad', 'escenas', 'violencia', 'inconfiadas', ',', 'encuentran', 'derecha', 'palabra', '.', 'Confía', ',', 'espectáculo', 'débiles', 'corazón', 'tímido', '.', 'Este', 'espectáculo', 'extrae', 'punzones', 'respecto', 'drogas', ',', 'sexo', 'violencia', '.', 'Es', 'Hardcore', ',', 'uso', 'clásico', 'palabra', '.', 'Se', 'llama', 'OZ', ',', 'apodo', 'dado', 'Penitenciario', 'Estado', 'Seguridad', 'Máximo', 'Oswald', '.', 'Se', 'centra', 'principalmente', 'ciudad', 'Emeralda', ',', 'sección', 'experimental', 'prisión', 'todas', 'células', 'frentes', 'vidrio', 'enfrentan', 'hacia', 'adentro', ',', 'privacidad', 'alta', 'agenda', '.', 'Em', 'City', 'hogar', '...', 'Fariarios', ',', 'musulmanes', ',', 'gangstas', ',', 'latinos', ',', 'cristianos', ',', 'italianos', ',', 'irlandeses', '...', 'así', 'esposas', ',', 'miradas', 'muerte', ',', 'relaciones', 'peligrosas', 'acuerdos', 'sombreados', 'nunca', 'lejos', '.', 'Yo', 'diría', 'principal', 'atractivo', 'El', 'espectáculo', 'debe', 'hecho', 'va', 'espectáculos', 'atreverían', '.', 'Olvídate', 'imágenes', 'bonitas', 'pintadas', 'audiencias', 'convencionales', ',', 'olvidan', 'encanto', ',', 'olviden', 'romance', '...', 'Oz', 'mete', '.', 'El', 'primer', 'episodio', 'visto', 'sorprendió', 'tan', 'desagradable', 'surrealista', ',', 'podía', 'decir', 'listo', 'ello', ',', 'observé', ',', 'desarrollé', 'gusto', 'Oz', ',', 'acostumbré', 'altos', 'niveles', 'violencia', 'gráfica', '.', 'No', 'solo', 'violencia', ',', 'sino', 'injusticia', '(', 'Guardias', 'torcidas', 'vendrán', 'níquel', ',', 'reclusos', 'matarán', 'orden', 'alejarán', ',', 'manera', 'educada', ',', 'reclusos', 'clase', 'media', 'convirtieron', 'perras', 'prisión', 'debido', 'falta', 'habilidades', 'callejeras', 'O', 'experiencia', 'prisión', ')', 'viendo', 'oz', ',', 'puede', 'sentirse', 'cómodo', 'incómodo', 'visualización', '...', 'si', 'puedes', 'ponerte', 'contacto', 'lado', 'oscuro', '.']\n",
      "lemmatize_tokens: ['Uno', 'críticos', 'mencionado', 'después', 'ver', 'solo', '1', 'Oz', 'Episodio', ',', 'enganchado', '.', 'Tienen', 'razón', ',', 'exactamente', 'sucedió', 'conmigo', '.', 'La', 'primera', 'cosa', 'golpeó', 'Oz', 'brutalidad', 'escenas', 'violencia', 'inconfiadas', ',', 'encuentran', 'derecha', 'palabra', '.', 'Confía', ',', 'espectáculo', 'débiles', 'corazón', 'tímido', '.', 'Este', 'espectáculo', 'extrae', 'punzones', 'respecto', 'drogas', ',', 'sexo', 'violencia', '.', 'Es', 'Hardcore', ',', 'uso', 'clásico', 'palabra', '.', 'Se', 'llama', 'OZ', ',', 'apodo', 'dado', 'Penitenciario', 'Estado', 'Seguridad', 'Máximo', 'Oswald', '.', 'Se', 'centrum', 'principalmente', 'ciudad', 'Emeralda', ',', 'sección', 'experimental', 'prisión', 'toda', 'células', 'frentes', 'vidrio', 'enfrentan', 'hacia', 'adentro', ',', 'privacidad', 'alta', 'agenda', '.', 'Em', 'City', 'hogar', '...', 'Fariarios', ',', 'musulmanes', ',', 'gangsta', ',', 'latino', ',', 'cristianos', ',', 'italianos', ',', 'irlandeses', '...', 'así', 'esposas', ',', 'miradas', 'muerte', ',', 'relaciones', 'peligrosas', 'acuerdos', 'sombreados', 'nunca', 'lejos', '.', 'Yo', 'diría', 'principal', 'atractivo', 'El', 'espectáculo', 'debe', 'hecho', 'va', 'espectáculos', 'atreverían', '.', 'Olvídate', 'imágenes', 'bonitas', 'pintadas', 'audiencias', 'convencionales', ',', 'olvidan', 'encanto', ',', 'olviden', 'romance', '...', 'Oz', 'mete', '.', 'El', 'primer', 'episodio', 'visto', 'sorprendió', 'tan', 'desagradable', 'surrealista', ',', 'podía', 'decir', 'listo', 'ello', ',', 'observé', ',', 'desarrollé', 'gusto', 'Oz', ',', 'acostumbré', 'alto', 'niveles', 'violencia', 'gráfica', '.', 'No', 'solo', 'violencia', ',', 'sino', 'injusticia', '(', 'Guardias', 'torcidas', 'vendrán', 'níquel', ',', 'reclusos', 'matarán', 'orden', 'alejarán', ',', 'manera', 'educada', ',', 'reclusos', 'clase', 'medium', 'convirtieron', 'perras', 'prisión', 'debido', 'falta', 'habilidades', 'callejeras', 'O', 'experiencia', 'prisión', ')', 'viendo', 'oz', ',', 'puede', 'sentirse', 'cómodo', 'incómodo', 'visualización', '...', 'si', 'puedes', 'ponerte', 'contacto', 'lado', 'oscuro', '.']\n",
      "X_preprocessed[0]: críticos mencionado después ver solo 1 oz episodio enganchado razón exactamente sucedió conmigo primera cosa golpeó oz brutalidad escenas violencia inconfiadas encuentran derecha palabra confía espectáculo débiles corazón tímido espectáculo extrae punzones respecto drogas sexo violencia hardcore uso clásico palabra llama oz apodo dado penitenciario seguridad máximo oswald centrum principalmente ciudad emeralda sección experimental prisión toda células frentes vidrio enfrentan hacia adentro privacidad alta agenda em city hogar fariarios musulmanes gangsta latino cristianos italianos irlandeses así esposas miradas muerte relaciones peligrosas acuerdos sombreados nunca lejos diría principal atractivo espectáculo debe hecho va espectáculos atreverían olvídate imágenes bonitas pintadas audiencias convencionales olvidan encanto olviden romance oz mete primer episodio visto sorprendió tan desagradable surrealista podía decir listo ello observé desarrollé gusto oz acostumbré alto niveles violencia gráfica solo violencia sino injusticia guardias torcidas vendrán níquel reclusos matarán orden alejarán manera educada reclusos clase medium convirtieron perras prisión debido falta habilidades callejeras experiencia prisión viendo oz puede sentirse cómodo incómodo visualización si puedes ponerte contacto lado oscuro\n"
     ]
    }
   ],
   "source": [
    "review_0 = reviews[0]\n",
    "print(\"Original:\", review_0)\n",
    "print(\"remove_special_characters:\", remove_special_characters(review_0))\n",
    "print(\"convert_to_lowercase:\", convert_to_lowercase(review_0))\n",
    "print(\"tokenize_text:\", tokenize_text(review_0))\n",
    "print(\"remove_stop_words:\", remove_stop_words(tokenize_text(review_0)))\n",
    "print(\"lemmatize_tokens:\", lemmatize_tokens(remove_stop_words(tokenize_text(review_0))))\n",
    "print(\"X_preprocessed[0]:\", X_preprocessed[0])"
   ]
  },
  {
   "cell_type": "code",
   "execution_count": 22,
   "metadata": {},
   "outputs": [],
   "source": [
    "# Vectorizar las reviews\n",
    "vectorizador = CountVectorizer()\n",
    "X_train_v = vectorizador.fit_transform(X_train)\n",
    "X_test_v = vectorizador.transform(X_test)"
   ]
  },
  {
   "cell_type": "code",
   "execution_count": 19,
   "metadata": {},
   "outputs": [
    {
     "name": "stdout",
     "output_type": "stream",
     "text": [
      "Fitting 5 folds for each of 72 candidates, totalling 360 fits\n",
      "{'alpha': 1.0, 'binarize': 0.0, 'fit_prior': True}\n"
     ]
    }
   ],
   "source": [
    "from sklearn.model_selection import GridSearchCV\n",
    "\n",
    "param_grid = {\n",
    "    \"alpha\": [0.1, 0.5, 1.0, 2.0, 5.0, 10.0],\n",
    "    \"binarize\": [0.0, 0.5, 1.0, 2.0, 5.0, 10.0],\n",
    "    \"fit_prior\": [True, False]\n",
    "}\n",
    "\n",
    "nb_model = BernoulliNB()\n",
    "grid_search = GridSearchCV(estimator=nb_model, param_grid=param_grid, cv=5, n_jobs=-1, verbose=2)\n",
    "grid_search.fit(X_train_v, y_train)\n",
    "\n",
    "print(grid_search.best_params_)"
   ]
  },
  {
   "cell_type": "code",
   "execution_count": 20,
   "metadata": {},
   "outputs": [],
   "source": [
    "best_params = {'alpha': 1.0, 'binarize': 0.0, 'fit_prior': True}"
   ]
  },
  {
   "cell_type": "code",
   "execution_count": 24,
   "metadata": {},
   "outputs": [
    {
     "name": "stdout",
     "output_type": "stream",
     "text": [
      "Accuracy: 0.8368\n",
      "Precision: 0.8659505907626208\n",
      "Recall: 0.7999603095852351\n",
      "F1 Score: 0.8316484423354652\n"
     ]
    }
   ],
   "source": [
    "nb_model = BernoulliNB(**best_params)\n",
    "nb_model.fit(X_train_v, y_train)\n",
    "\n",
    "y_pred = nb_model.predict(X_test_v)\n",
    "print(\"Accuracy:\", metrics.accuracy_score(y_test, y_pred))\n",
    "print(\"Precision:\", metrics.precision_score(y_test, y_pred))\n",
    "print(\"Recall:\", metrics.recall_score(y_test, y_pred))\n",
    "print(\"F1 Score:\", metrics.f1_score(y_test, y_pred))"
   ]
  },
  {
   "cell_type": "code",
   "execution_count": 25,
   "metadata": {},
   "outputs": [],
   "source": [
    "test_ds = pd.read_csv(\"datasets/test.csv\")\n",
    "test_ds[\"sentimiento\"] = nb_model.predict(vectorizador.transform(test_ds[\"review_es\"]))\n",
    "# convert \"sentimiento\" to \"positivo\" or \"negativo\"\n",
    "test_ds[\"sentimiento\"] = test_ds[\"sentimiento\"].apply(lambda x: \"positivo\" if x == 1 else \"negativo\")\n",
    "test_ds[[\"ID\",\"sentimiento\"]].to_csv(\"datasets/binomialNB_tokenizado.csv\", index=False)"
   ]
  },
  {
   "attachments": {},
   "cell_type": "markdown",
   "metadata": {},
   "source": [
    "# Visualizacion de Datos"
   ]
  },
  {
   "attachments": {},
   "cell_type": "markdown",
   "metadata": {},
   "source": [
    "# Preprocesamiento de Datos"
   ]
  },
  {
   "attachments": {},
   "cell_type": "markdown",
   "metadata": {},
   "source": [
    "# Transformacion de Datos"
   ]
  },
  {
   "attachments": {},
   "cell_type": "markdown",
   "metadata": {},
   "source": [
    "# Exploracion de Datos"
   ]
  },
  {
   "attachments": {},
   "cell_type": "markdown",
   "metadata": {},
   "source": [
    "# Analisis de Datos"
   ]
  }
 ],
 "metadata": {
  "kernelspec": {
   "display_name": "Python 3",
   "language": "python",
   "name": "python3"
  },
  "language_info": {
   "codemirror_mode": {
    "name": "ipython",
    "version": 3
   },
   "file_extension": ".py",
   "mimetype": "text/x-python",
   "name": "python",
   "nbconvert_exporter": "python",
   "pygments_lexer": "ipython3",
   "version": "3.10.5"
  },
  "orig_nbformat": 4
 },
 "nbformat": 4,
 "nbformat_minor": 2
}
