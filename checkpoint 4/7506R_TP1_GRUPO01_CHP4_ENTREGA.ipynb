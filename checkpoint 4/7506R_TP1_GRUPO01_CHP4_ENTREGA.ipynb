{
 "cells": [
  {
   "attachments": {},
   "cell_type": "markdown",
   "id": "028bc993-bce5-4997-b5ad-61ded8144bb8",
   "metadata": {},
   "source": [
    "# Trabajo Práctico 1 : Reservas de Hotel\n",
    "\n",
    "### Grupo 01 - Integrantes:\n",
    "        Cabrera Rodríguez, Mateo \n",
    "        Gonzalez Alejo, Camila\n",
    "        Bocanegra, Eduardo Martín"
   ]
  },
  {
   "attachments": {},
   "cell_type": "markdown",
   "id": "59d979ae-022a-472e-ab8c-dfbe37fdff6f",
   "metadata": {},
   "source": [
    "### Instalar dependencias"
   ]
  },
  {
   "cell_type": "code",
   "execution_count": 1,
   "id": "824c7944-1de4-4eff-b50a-ac202bce8f2c",
   "metadata": {},
   "outputs": [
    {
     "name": "stdout",
     "output_type": "stream",
     "text": [
      "Requirement already satisfied: pandas in /opt/conda/lib/python3.10/site-packages (from -r ../requirements.txt (line 1)) (2.0.1)\n",
      "Requirement already satisfied: numpy in /opt/conda/lib/python3.10/site-packages (from -r ../requirements.txt (line 2)) (1.24.3)\n",
      "Requirement already satisfied: seaborn in /opt/conda/lib/python3.10/site-packages (from -r ../requirements.txt (line 3)) (0.12.2)\n",
      "Requirement already satisfied: scikit-learn in /opt/conda/lib/python3.10/site-packages (from -r ../requirements.txt (line 4)) (1.2.2)\n",
      "Requirement already satisfied: graphviz in /opt/conda/lib/python3.10/site-packages (from -r ../requirements.txt (line 5)) (0.20.1)\n",
      "Requirement already satisfied: xgboost in /opt/conda/lib/python3.10/site-packages (from -r ../requirements.txt (line 6)) (1.7.5)\n",
      "Requirement already satisfied: plotly in /opt/conda/lib/python3.10/site-packages (from -r ../requirements.txt (line 7)) (5.14.1)\n",
      "Requirement already satisfied: joblib in /opt/conda/lib/python3.10/site-packages (from -r ../requirements.txt (line 8)) (1.2.0)\n",
      "Requirement already satisfied: python-dateutil>=2.8.2 in /opt/conda/lib/python3.10/site-packages (from pandas->-r ../requirements.txt (line 1)) (2.8.2)\n",
      "Requirement already satisfied: pytz>=2020.1 in /opt/conda/lib/python3.10/site-packages (from pandas->-r ../requirements.txt (line 1)) (2023.3)\n",
      "Requirement already satisfied: tzdata>=2022.1 in /opt/conda/lib/python3.10/site-packages (from pandas->-r ../requirements.txt (line 1)) (2023.3)\n",
      "Requirement already satisfied: matplotlib!=3.6.1,>=3.1 in /opt/conda/lib/python3.10/site-packages (from seaborn->-r ../requirements.txt (line 3)) (3.7.1)\n",
      "Requirement already satisfied: scipy>=1.3.2 in /opt/conda/lib/python3.10/site-packages (from scikit-learn->-r ../requirements.txt (line 4)) (1.10.1)\n",
      "Requirement already satisfied: threadpoolctl>=2.0.0 in /opt/conda/lib/python3.10/site-packages (from scikit-learn->-r ../requirements.txt (line 4)) (3.1.0)\n",
      "Requirement already satisfied: tenacity>=6.2.0 in /opt/conda/lib/python3.10/site-packages (from plotly->-r ../requirements.txt (line 7)) (8.2.2)\n",
      "Requirement already satisfied: packaging in /opt/conda/lib/python3.10/site-packages (from plotly->-r ../requirements.txt (line 7)) (23.1)\n",
      "Requirement already satisfied: contourpy>=1.0.1 in /opt/conda/lib/python3.10/site-packages (from matplotlib!=3.6.1,>=3.1->seaborn->-r ../requirements.txt (line 3)) (1.0.7)\n",
      "Requirement already satisfied: cycler>=0.10 in /opt/conda/lib/python3.10/site-packages (from matplotlib!=3.6.1,>=3.1->seaborn->-r ../requirements.txt (line 3)) (0.11.0)\n",
      "Requirement already satisfied: fonttools>=4.22.0 in /opt/conda/lib/python3.10/site-packages (from matplotlib!=3.6.1,>=3.1->seaborn->-r ../requirements.txt (line 3)) (4.39.4)\n",
      "Requirement already satisfied: kiwisolver>=1.0.1 in /opt/conda/lib/python3.10/site-packages (from matplotlib!=3.6.1,>=3.1->seaborn->-r ../requirements.txt (line 3)) (1.4.4)\n",
      "Requirement already satisfied: pillow>=6.2.0 in /opt/conda/lib/python3.10/site-packages (from matplotlib!=3.6.1,>=3.1->seaborn->-r ../requirements.txt (line 3)) (9.5.0)\n",
      "Requirement already satisfied: pyparsing>=2.3.1 in /opt/conda/lib/python3.10/site-packages (from matplotlib!=3.6.1,>=3.1->seaborn->-r ../requirements.txt (line 3)) (3.0.9)\n",
      "Requirement already satisfied: six>=1.5 in /opt/conda/lib/python3.10/site-packages (from python-dateutil>=2.8.2->pandas->-r ../requirements.txt (line 1)) (1.16.0)\n",
      "Note: you may need to restart the kernel to use updated packages.\n"
     ]
    }
   ],
   "source": [
    "pip install -r ../requirements.txt"
   ]
  },
  {
   "attachments": {},
   "cell_type": "markdown",
   "id": "d14ea277-c19c-4431-999a-40353e735293",
   "metadata": {},
   "source": [
    "### Cargado de bibliotecas"
   ]
  },
  {
   "cell_type": "code",
   "execution_count": 17,
   "id": "285a29d6-7d23-43e9-9dea-b44346cdeaf0",
   "metadata": {
    "tags": []
   },
   "outputs": [],
   "source": [
    "# Datos\n",
    "import numpy as np\n",
    "import pandas as pd\n",
    "\n",
    "# Preprocesado\n",
    "from sklearn.preprocessing import StandardScaler, MinMaxScaler\n",
    "from sklearn.preprocessing import LabelEncoder\n",
    "from sklearn import preprocessing\n",
    "\n",
    "# Plots\n",
    "import matplotlib.pyplot as plt\n",
    "import seaborn as sns\n",
    "import plotly.graph_objects as go \n",
    "\n",
    "# Modelado\n",
    "from sklearn.model_selection import train_test_split\n",
    "from sklearn.experimental import enable_halving_search_cv\n",
    "from sklearn.model_selection import HalvingGridSearchCV, StratifiedKFold\n",
    "from tensorflow import keras\n",
    "from keras.utils.vis_utils import plot_model\n",
    "from keras.callbacks import EarlyStopping\n",
    "import tensorflow as tf\n",
    "\n",
    "# Metricas\n",
    "from sklearn.metrics import confusion_matrix, classification_report\n",
    "from sklearn.metrics import accuracy_score, make_scorer, f1_score"
   ]
  },
  {
   "attachments": {},
   "cell_type": "markdown",
   "id": "239f2e80-d3e8-4d7f-923f-480438749db5",
   "metadata": {},
   "source": [
    "### Modo Testing o Kaggle"
   ]
  },
  {
   "cell_type": "code",
   "execution_count": 3,
   "id": "a98d039e-5a6b-48b5-8b1f-75e5ed721082",
   "metadata": {
    "tags": []
   },
   "outputs": [],
   "source": [
    "TESTING = False"
   ]
  },
  {
   "attachments": {},
   "cell_type": "markdown",
   "id": "841ea532-92b3-4bc5-a896-1192f8c1ad5d",
   "metadata": {
    "tags": []
   },
   "source": [
    "### Cargado de Dataset"
   ]
  },
  {
   "cell_type": "code",
   "execution_count": 4,
   "id": "cb1c59fd-8fe2-40c3-802c-2adb4ce9c82a",
   "metadata": {
    "tags": []
   },
   "outputs": [],
   "source": [
    "ds = pd.read_csv('../datasets/hoteles_train2.csv')\n",
    "ds_test = pd.read_csv('../datasets/hotels_test.csv')"
   ]
  },
  {
   "attachments": {},
   "cell_type": "markdown",
   "id": "ea64f470-9bd6-4e68-ad28-a65a1239ec0c",
   "metadata": {},
   "source": [
    "#### Trabajo sobre nulos"
   ]
  },
  {
   "cell_type": "code",
   "execution_count": 5,
   "id": "c5677b81-86f2-41a8-86aa-acdeb31d2bc3",
   "metadata": {
    "tags": []
   },
   "outputs": [],
   "source": [
    "# Trabajo sobre valores nulos\n",
    "agents = ds['agent'].unique()\n",
    "agents = np.delete(agents, 1)\n",
    "ds['agent'].fillna(0, inplace=True)\n",
    "\n",
    "agents = ds_test['agent'].unique()\n",
    "agents = np.delete(agents, 1)\n",
    "ds_test['agent'].fillna(0, inplace=True)"
   ]
  },
  {
   "attachments": {},
   "cell_type": "markdown",
   "id": "60d28273-d459-4785-826c-f2e4a64004e7",
   "metadata": {},
   "source": [
    "#### Transformacion de variables categoricas"
   ]
  },
  {
   "cell_type": "code",
   "execution_count": 6,
   "id": "2fccedad-aa0a-435e-a669-cfbb9f4b5ee5",
   "metadata": {
    "tags": []
   },
   "outputs": [],
   "source": [
    "# Transformacion de variables categoricas\n",
    "\n",
    "import string\n",
    "\n",
    "# encoding ordinal\n",
    "\n",
    "ds = ds.replace({'meal': {'BB': 0, 'HB': 1, 'FB': 2, 'SC': 3, 'Undefined': 3},\n",
    "                 'arrival_date_month': {'January': 1, 'February': 2, 'March': 3, 'April': 4, 'May': 5, 'June': 6, 'July': 7, 'August': 8, 'September': 9, 'October': 10,'November': 11, 'December': 12},\n",
    "                 'reserved_room_type': {a : n for n, a in enumerate(string.ascii_uppercase)},\n",
    "                 'assigned_room_type': {a : n for n, a in enumerate(string.ascii_uppercase)},\n",
    "                 'deposit_type': {'No Deposit': 0, 'Refundable': 1, 'Non Refund': 2},\n",
    "                 'agent': {agent : 1 for agent in agents}})\n",
    "\n",
    "ds_test = ds_test.replace({'meal': {'BB': 0, 'HB': 1, 'FB': 2, 'SC': 3, 'Undefined': 4},# ver que hacer con undefined\n",
    "                 'arrival_date_month': {'January': 1, 'February': 2, 'March': 3, 'April': 4, 'May': 5, 'June': 6, 'July': 7, 'August': 8, 'September': 9, 'October': 10,'November': 11, 'December': 12},\n",
    "                 'reserved_room_type': {a : n for n, a in enumerate(string.ascii_uppercase)},\n",
    "                 'assigned_room_type': {a : n for n, a in enumerate(string.ascii_uppercase)},\n",
    "                 'deposit_type': {'No Deposit': 0, 'Refundable': 1, 'Non Refund': 2},\n",
    "                 'agent': {agent : 1 for agent in agents}})\n",
    "\n",
    "# Si meal es Undefined o vacío, reemplazamos por SC (dice el paper)\n",
    "# ds['meal'] = ds['meal'].apply(lambda x: 'SC' if x in ['Undefined', 'null', ''] else x)\n",
    "# ds = pd.get_dummies(ds, columns=['assigned_room_type'], drop_first=True)\n",
    "# ds = pd.get_dummies(ds, columns=['reserved_room_type'], drop_first=True)\n",
    "# ds = pd.get_dummies(ds, columns=['meal'], drop_first=True)\n",
    "# ds = pd.get_dummies(ds, columns=['deposit_type'], drop_first=True)\n",
    "# ds = pd.get_dummies(ds, columns=['agent'], drop_first=True)"
   ]
  },
  {
   "cell_type": "code",
   "execution_count": 7,
   "id": "c4619610-dcec-4949-94ae-8c89d49e03ab",
   "metadata": {
    "tags": []
   },
   "outputs": [],
   "source": [
    "label_encoder = LabelEncoder()\n",
    "ds['market_segment'] = label_encoder.fit_transform(ds['market_segment'])\n",
    "ds['distribution_channel'] = label_encoder.fit_transform(ds['distribution_channel'])\n",
    "ds['customer_type'] = label_encoder.fit_transform(ds['customer_type'])\n",
    "\n",
    "ds_test['market_segment'] = label_encoder.fit_transform(ds_test['market_segment'])\n",
    "ds_test['distribution_channel'] = label_encoder.fit_transform(ds_test['distribution_channel'])\n",
    "ds_test['customer_type'] = label_encoder.fit_transform(ds_test['customer_type'])\n",
    "\n",
    "#ds['arrival_date_month'] = label_encoder.fit_transform(ds['arrival_date_month'])"
   ]
  },
  {
   "attachments": {},
   "cell_type": "markdown",
   "id": "eb2c33d9-0ecf-4c53-861b-4397787798b6",
   "metadata": {},
   "source": [
    "#### Separacion de datos"
   ]
  },
  {
   "cell_type": "code",
   "execution_count": 8,
   "id": "2c6326e3-14fa-4471-b1b4-f255b68faae7",
   "metadata": {
    "tags": []
   },
   "outputs": [],
   "source": [
    "# Definicion de excluidos y target\n",
    "\n",
    "excluidos = ['hotel', 'reservation_status_date', 'id']\n",
    "\n",
    "target = 'is_canceled'\n",
    "features = [col for col in ds.columns if col not in excluidos+[target]]"
   ]
  },
  {
   "attachments": {},
   "cell_type": "markdown",
   "id": "96c85c30-2ab2-449f-8856-7de4acc41d90",
   "metadata": {
    "tags": []
   },
   "source": [
    "### Definicion de la funcion de metricas"
   ]
  },
  {
   "cell_type": "code",
   "execution_count": 9,
   "id": "ac3d0762-8df3-4c41-80da-8a2a4a52fe06",
   "metadata": {
    "tags": []
   },
   "outputs": [],
   "source": [
    "def metricas(y_pred,y_test):\n",
    "\n",
    "  print(classification_report(y_test,y_pred))\n",
    "  \n",
    "  cm = confusion_matrix(y_test,y_pred)\n",
    "  sns.heatmap(cm, cmap='Blues',annot=True,fmt='g')\n",
    "  plt.xlabel('Predicted')\n",
    "  plt.ylabel('True')"
   ]
  },
  {
   "attachments": {},
   "cell_type": "markdown",
   "id": "1cbc0c4e-98af-429a-920a-6c7c53640a24",
   "metadata": {
    "tags": []
   },
   "source": [
    "### Generacion del dataset de prueba"
   ]
  },
  {
   "cell_type": "code",
   "execution_count": 10,
   "id": "05427c43-fb5e-4dc8-a2b8-553e8e618c77",
   "metadata": {
    "tags": []
   },
   "outputs": [],
   "source": [
    "# Separamos conjunto de Train y Test\n",
    "x = ds[features].values\n",
    "y = ds[target].values\n",
    "if TESTING:\n",
    "    x_train, x_test, y_train, y_test = train_test_split(x, y , test_size=0.20, random_state=0, stratify=ds[target])\n",
    "else:\n",
    "    x_train, x_test, y_train, y_test = train_test_split(x, y , test_size=0.10, random_state=0, stratify=ds[target])\n",
    "    x_predict = ds_test[features].values"
   ]
  },
  {
   "attachments": {},
   "cell_type": "markdown",
   "id": "e34f3088-0381-4820-9085-5795cc6b3e98",
   "metadata": {},
   "source": [
    "### Escalado"
   ]
  },
  {
   "cell_type": "code",
   "execution_count": 11,
   "id": "db016ae4-d334-48e6-abc6-287d19985a63",
   "metadata": {},
   "outputs": [
    {
     "data": {
      "text/html": [
       "<div>\n",
       "<style scoped>\n",
       "    .dataframe tbody tr th:only-of-type {\n",
       "        vertical-align: middle;\n",
       "    }\n",
       "\n",
       "    .dataframe tbody tr th {\n",
       "        vertical-align: top;\n",
       "    }\n",
       "\n",
       "    .dataframe thead th {\n",
       "        text-align: right;\n",
       "    }\n",
       "</style>\n",
       "<table border=\"1\" class=\"dataframe\">\n",
       "  <thead>\n",
       "    <tr style=\"text-align: right;\">\n",
       "      <th></th>\n",
       "      <th>0</th>\n",
       "      <th>1</th>\n",
       "      <th>2</th>\n",
       "      <th>3</th>\n",
       "      <th>4</th>\n",
       "      <th>5</th>\n",
       "      <th>6</th>\n",
       "      <th>7</th>\n",
       "      <th>8</th>\n",
       "      <th>9</th>\n",
       "      <th>...</th>\n",
       "      <th>16</th>\n",
       "      <th>17</th>\n",
       "      <th>18</th>\n",
       "      <th>19</th>\n",
       "      <th>20</th>\n",
       "      <th>21</th>\n",
       "      <th>22</th>\n",
       "      <th>23</th>\n",
       "      <th>24</th>\n",
       "      <th>25</th>\n",
       "    </tr>\n",
       "  </thead>\n",
       "  <tbody>\n",
       "    <tr>\n",
       "      <th>0</th>\n",
       "      <td>-0.047744</td>\n",
       "      <td>-0.218377</td>\n",
       "      <td>-0.510788</td>\n",
       "      <td>-0.609088</td>\n",
       "      <td>-0.997454</td>\n",
       "      <td>1.082731</td>\n",
       "      <td>-0.799573</td>\n",
       "      <td>0.232002</td>\n",
       "      <td>2.292948</td>\n",
       "      <td>-0.082267</td>\n",
       "      <td>...</td>\n",
       "      <td>-0.570302</td>\n",
       "      <td>-0.672259</td>\n",
       "      <td>1.350256</td>\n",
       "      <td>-0.445022</td>\n",
       "      <td>-0.036671</td>\n",
       "      <td>-0.142672</td>\n",
       "      <td>-0.224872</td>\n",
       "      <td>0.577424</td>\n",
       "      <td>-0.228987</td>\n",
       "      <td>0.616248</td>\n",
       "    </tr>\n",
       "    <tr>\n",
       "      <th>1</th>\n",
       "      <td>-1.014095</td>\n",
       "      <td>-0.218377</td>\n",
       "      <td>-0.185351</td>\n",
       "      <td>-0.239070</td>\n",
       "      <td>-0.542630</td>\n",
       "      <td>0.076709</td>\n",
       "      <td>-0.799573</td>\n",
       "      <td>0.232002</td>\n",
       "      <td>-0.257369</td>\n",
       "      <td>-0.082267</td>\n",
       "      <td>...</td>\n",
       "      <td>-0.570302</td>\n",
       "      <td>-0.672259</td>\n",
       "      <td>-0.323842</td>\n",
       "      <td>-0.445022</td>\n",
       "      <td>-0.036671</td>\n",
       "      <td>-0.142672</td>\n",
       "      <td>-0.224872</td>\n",
       "      <td>0.127588</td>\n",
       "      <td>-0.228987</td>\n",
       "      <td>-0.674704</td>\n",
       "    </tr>\n",
       "    <tr>\n",
       "      <th>2</th>\n",
       "      <td>0.448978</td>\n",
       "      <td>-1.629365</td>\n",
       "      <td>0.790962</td>\n",
       "      <td>0.796981</td>\n",
       "      <td>0.139606</td>\n",
       "      <td>-0.929313</td>\n",
       "      <td>0.260828</td>\n",
       "      <td>0.232002</td>\n",
       "      <td>-0.257369</td>\n",
       "      <td>-0.082267</td>\n",
       "      <td>...</td>\n",
       "      <td>-0.570302</td>\n",
       "      <td>-0.672259</td>\n",
       "      <td>-0.323842</td>\n",
       "      <td>-0.445022</td>\n",
       "      <td>-0.036671</td>\n",
       "      <td>-0.142672</td>\n",
       "      <td>1.552000</td>\n",
       "      <td>-0.682033</td>\n",
       "      <td>-0.228987</td>\n",
       "      <td>0.616248</td>\n",
       "    </tr>\n",
       "    <tr>\n",
       "      <th>3</th>\n",
       "      <td>0.223195</td>\n",
       "      <td>1.192612</td>\n",
       "      <td>-0.185351</td>\n",
       "      <td>-0.091063</td>\n",
       "      <td>1.276665</td>\n",
       "      <td>-0.929313</td>\n",
       "      <td>0.791029</td>\n",
       "      <td>0.232002</td>\n",
       "      <td>-0.257369</td>\n",
       "      <td>-0.082267</td>\n",
       "      <td>...</td>\n",
       "      <td>-0.570302</td>\n",
       "      <td>-0.672259</td>\n",
       "      <td>-0.323842</td>\n",
       "      <td>-0.445022</td>\n",
       "      <td>-0.036671</td>\n",
       "      <td>-0.142672</td>\n",
       "      <td>-0.224872</td>\n",
       "      <td>-0.073295</td>\n",
       "      <td>-0.228987</td>\n",
       "      <td>-0.674704</td>\n",
       "    </tr>\n",
       "    <tr>\n",
       "      <th>4</th>\n",
       "      <td>-0.941845</td>\n",
       "      <td>-0.218377</td>\n",
       "      <td>0.790962</td>\n",
       "      <td>0.870985</td>\n",
       "      <td>0.821841</td>\n",
       "      <td>-0.929313</td>\n",
       "      <td>-0.269372</td>\n",
       "      <td>0.232002</td>\n",
       "      <td>-0.257369</td>\n",
       "      <td>-0.082267</td>\n",
       "      <td>...</td>\n",
       "      <td>1.209868</td>\n",
       "      <td>0.958883</td>\n",
       "      <td>-0.323842</td>\n",
       "      <td>-0.445022</td>\n",
       "      <td>-0.036671</td>\n",
       "      <td>-0.142672</td>\n",
       "      <td>-0.224872</td>\n",
       "      <td>0.577424</td>\n",
       "      <td>-0.228987</td>\n",
       "      <td>0.616248</td>\n",
       "    </tr>\n",
       "  </tbody>\n",
       "</table>\n",
       "<p>5 rows × 26 columns</p>\n",
       "</div>"
      ],
      "text/plain": [
       "         0         1         2         3         4         5         6    \n",
       "0 -0.047744 -0.218377 -0.510788 -0.609088 -0.997454  1.082731 -0.799573  \\\n",
       "1 -1.014095 -0.218377 -0.185351 -0.239070 -0.542630  0.076709 -0.799573   \n",
       "2  0.448978 -1.629365  0.790962  0.796981  0.139606 -0.929313  0.260828   \n",
       "3  0.223195  1.192612 -0.185351 -0.091063  1.276665 -0.929313  0.791029   \n",
       "4 -0.941845 -0.218377  0.790962  0.870985  0.821841 -0.929313 -0.269372   \n",
       "\n",
       "         7         8         9   ...        16        17        18        19   \n",
       "0  0.232002  2.292948 -0.082267  ... -0.570302 -0.672259  1.350256 -0.445022  \\\n",
       "1  0.232002 -0.257369 -0.082267  ... -0.570302 -0.672259 -0.323842 -0.445022   \n",
       "2  0.232002 -0.257369 -0.082267  ... -0.570302 -0.672259 -0.323842 -0.445022   \n",
       "3  0.232002 -0.257369 -0.082267  ... -0.570302 -0.672259 -0.323842 -0.445022   \n",
       "4  0.232002 -0.257369 -0.082267  ...  1.209868  0.958883 -0.323842 -0.445022   \n",
       "\n",
       "         20        21        22        23        24        25  \n",
       "0 -0.036671 -0.142672 -0.224872  0.577424 -0.228987  0.616248  \n",
       "1 -0.036671 -0.142672 -0.224872  0.127588 -0.228987 -0.674704  \n",
       "2 -0.036671 -0.142672  1.552000 -0.682033 -0.228987  0.616248  \n",
       "3 -0.036671 -0.142672 -0.224872 -0.073295 -0.228987 -0.674704  \n",
       "4 -0.036671 -0.142672 -0.224872  0.577424 -0.228987  0.616248  \n",
       "\n",
       "[5 rows x 26 columns]"
      ]
     },
     "execution_count": 11,
     "metadata": {},
     "output_type": "execute_result"
    }
   ],
   "source": [
    "# Vimos que el StandardScaler funciona mejor que el MinMaxScaler al entrenar la red\n",
    "sscaler=StandardScaler()\n",
    "sscaler.fit(x_train)\n",
    "x_train = sscaler.transform(x_train)\n",
    "x_test = sscaler.transform(x_test)\n",
    "x_predict = sscaler.transform(x_predict)\n",
    "    \n",
    "pd.DataFrame(x_train).head()"
   ]
  },
  {
   "attachments": {},
   "cell_type": "markdown",
   "id": "f3c6964a-e1c1-458d-82dc-2e5e42ca8913",
   "metadata": {},
   "source": [
    "### Modelo"
   ]
  },
  {
   "attachments": {},
   "cell_type": "markdown",
   "id": "58ff8633-77dc-4b3c-a3a9-721bf3d8c773",
   "metadata": {},
   "source": [
    "#### Creacion del modelo"
   ]
  },
  {
   "cell_type": "code",
   "execution_count": 12,
   "id": "c5c05350-6e2e-4dca-a876-d44f48c7acdf",
   "metadata": {},
   "outputs": [
    {
     "name": "stderr",
     "output_type": "stream",
     "text": [
      "2023-05-26 00:09:11.148872: I tensorflow/core/platform/cpu_feature_guard.cc:193] This TensorFlow binary is optimized with oneAPI Deep Neural Network Library (oneDNN) to use the following CPU instructions in performance-critical operations:  SSE4.1 SSE4.2 AVX AVX2 FMA\n",
      "To enable them in other operations, rebuild TensorFlow with the appropriate compiler flags.\n"
     ]
    }
   ],
   "source": [
    "inputs = len(pd.DataFrame(x_train).columns)\n",
    "cant_clases = len(np.unique(y_train))\n",
    "max_neuronas = 64\n",
    "\n",
    "\n",
    "# Usamos Early Stopping para prevenir overfitting durante el entrenamiento\n",
    "early_stopping = EarlyStopping(\n",
    "    monitor='val_accuracy',\n",
    "    patience=10,\n",
    "    restore_best_weights=True,\n",
    ")\n",
    "\n",
    "\n",
    "# Probamos con funciones de activacion sigmoid y relu y obtuvimos mejores resultados usando relu\n",
    "# Probamos \n",
    "# Tambien estamos usando DropOut para prevenir overfitting\n",
    "modelo = keras.Sequential([\n",
    "    keras.layers.Dense(max_neuronas,input_shape=(inputs,), activation=\"relu\"),\n",
    "    keras.layers.Dense(max_neuronas//2, activation=\"relu\"),\n",
    "    keras.layers.Dense(max_neuronas//2, activation=\"relu\"),\n",
    "    keras.layers.Dense(max_neuronas//6, activation='relu'),\n",
    "    keras.layers.Dense(max_neuronas, activation='relu'),\n",
    "    tf.keras.layers.Dropout(0.5),\n",
    "    #keras.layers.Dense(1, activation='sigmoid')\n",
    "    keras.layers.Dense(cant_clases, activation='softmax')\n",
    "])\n",
    "\n",
    "optimizer = keras.optimizers.Adam(learning_rate=0.001)\n",
    "modelo.compile(\n",
    "  optimizer=optimizer,\n",
    "  #loss='mse', \n",
    "  #loss=tf.losses.BinaryCrossentropy(),\n",
    "  loss=tf.losses.SparseCategoricalCrossentropy(),\n",
    "  metrics=['accuracy']\n",
    ")"
   ]
  },
  {
   "attachments": {},
   "cell_type": "markdown",
   "id": "eb0f882f-0cef-4de5-8fe1-3e178dfcd160",
   "metadata": {},
   "source": [
    "#### Entrenamiento del modelo"
   ]
  },
  {
   "cell_type": "code",
   "execution_count": 13,
   "id": "2875e32c-5d3d-46ff-abe4-399e30eef3ab",
   "metadata": {},
   "outputs": [
    {
     "name": "stdout",
     "output_type": "stream",
     "text": [
      "Epoch 1/100\n",
      "1736/1736 [==============================] - 2s 752us/step - loss: 0.4605 - accuracy: 0.7638 - val_loss: 0.4268 - val_accuracy: 0.7850\n",
      "Epoch 2/100\n",
      "1736/1736 [==============================] - 1s 684us/step - loss: 0.4182 - accuracy: 0.7912 - val_loss: 0.4115 - val_accuracy: 0.7984\n",
      "Epoch 3/100\n",
      "1736/1736 [==============================] - 1s 691us/step - loss: 0.4072 - accuracy: 0.7976 - val_loss: 0.3974 - val_accuracy: 0.8074\n",
      "Epoch 4/100\n",
      "1736/1736 [==============================] - 1s 681us/step - loss: 0.3991 - accuracy: 0.8042 - val_loss: 0.3944 - val_accuracy: 0.8117\n",
      "Epoch 5/100\n",
      "1736/1736 [==============================] - 1s 690us/step - loss: 0.3931 - accuracy: 0.8063 - val_loss: 0.3930 - val_accuracy: 0.8072\n",
      "Epoch 6/100\n",
      "1736/1736 [==============================] - 1s 691us/step - loss: 0.3885 - accuracy: 0.8095 - val_loss: 0.3889 - val_accuracy: 0.8078\n",
      "Epoch 7/100\n",
      "1736/1736 [==============================] - 1s 696us/step - loss: 0.3845 - accuracy: 0.8138 - val_loss: 0.3915 - val_accuracy: 0.8061\n",
      "Epoch 8/100\n",
      "1736/1736 [==============================] - 1s 692us/step - loss: 0.3808 - accuracy: 0.8153 - val_loss: 0.3909 - val_accuracy: 0.8096\n",
      "Epoch 9/100\n",
      "1736/1736 [==============================] - 1s 679us/step - loss: 0.3778 - accuracy: 0.8166 - val_loss: 0.3915 - val_accuracy: 0.8057\n",
      "Epoch 10/100\n",
      "1736/1736 [==============================] - 1s 689us/step - loss: 0.3746 - accuracy: 0.8185 - val_loss: 0.3870 - val_accuracy: 0.8108\n",
      "Epoch 11/100\n",
      "1736/1736 [==============================] - 1s 689us/step - loss: 0.3723 - accuracy: 0.8204 - val_loss: 0.3835 - val_accuracy: 0.8130\n",
      "Epoch 12/100\n",
      "1736/1736 [==============================] - 1s 690us/step - loss: 0.3701 - accuracy: 0.8216 - val_loss: 0.3854 - val_accuracy: 0.8091\n",
      "Epoch 13/100\n",
      "1736/1736 [==============================] - 1s 693us/step - loss: 0.3680 - accuracy: 0.8232 - val_loss: 0.3835 - val_accuracy: 0.8158\n",
      "Epoch 14/100\n",
      "1736/1736 [==============================] - 1s 696us/step - loss: 0.3650 - accuracy: 0.8244 - val_loss: 0.3825 - val_accuracy: 0.8145\n",
      "Epoch 15/100\n",
      "1736/1736 [==============================] - 1s 697us/step - loss: 0.3633 - accuracy: 0.8251 - val_loss: 0.3812 - val_accuracy: 0.8156\n",
      "Epoch 16/100\n",
      "1736/1736 [==============================] - 1s 683us/step - loss: 0.3609 - accuracy: 0.8258 - val_loss: 0.3845 - val_accuracy: 0.8111\n",
      "Epoch 17/100\n",
      "1736/1736 [==============================] - 1s 697us/step - loss: 0.3597 - accuracy: 0.8267 - val_loss: 0.3787 - val_accuracy: 0.8168\n",
      "Epoch 18/100\n",
      "1736/1736 [==============================] - 1s 690us/step - loss: 0.3579 - accuracy: 0.8296 - val_loss: 0.3817 - val_accuracy: 0.8142\n",
      "Epoch 19/100\n",
      "1736/1736 [==============================] - 1s 692us/step - loss: 0.3567 - accuracy: 0.8275 - val_loss: 0.3835 - val_accuracy: 0.8161\n",
      "Epoch 20/100\n",
      "1736/1736 [==============================] - 1s 688us/step - loss: 0.3547 - accuracy: 0.8311 - val_loss: 0.3830 - val_accuracy: 0.8153\n",
      "Epoch 21/100\n",
      "1736/1736 [==============================] - 1s 691us/step - loss: 0.3518 - accuracy: 0.8316 - val_loss: 0.3905 - val_accuracy: 0.8142\n",
      "Epoch 22/100\n",
      "1736/1736 [==============================] - 1s 688us/step - loss: 0.3505 - accuracy: 0.8310 - val_loss: 0.3877 - val_accuracy: 0.8135\n",
      "Epoch 23/100\n",
      "1736/1736 [==============================] - 1s 695us/step - loss: 0.3507 - accuracy: 0.8321 - val_loss: 0.3864 - val_accuracy: 0.8155\n",
      "Epoch 24/100\n",
      "1736/1736 [==============================] - 1s 687us/step - loss: 0.3484 - accuracy: 0.8324 - val_loss: 0.3825 - val_accuracy: 0.8185\n",
      "Epoch 25/100\n",
      "1736/1736 [==============================] - 1s 683us/step - loss: 0.3481 - accuracy: 0.8329 - val_loss: 0.3859 - val_accuracy: 0.8151\n",
      "Epoch 26/100\n",
      "1736/1736 [==============================] - 1s 693us/step - loss: 0.3463 - accuracy: 0.8346 - val_loss: 0.3834 - val_accuracy: 0.8179\n",
      "Epoch 27/100\n",
      "1736/1736 [==============================] - 1s 696us/step - loss: 0.3446 - accuracy: 0.8346 - val_loss: 0.3868 - val_accuracy: 0.8137\n",
      "Epoch 28/100\n",
      "1736/1736 [==============================] - 1s 695us/step - loss: 0.3447 - accuracy: 0.8345 - val_loss: 0.3813 - val_accuracy: 0.8171\n",
      "Epoch 29/100\n",
      "1736/1736 [==============================] - 1s 688us/step - loss: 0.3428 - accuracy: 0.8369 - val_loss: 0.3908 - val_accuracy: 0.8169\n",
      "Epoch 30/100\n",
      "1736/1736 [==============================] - 1s 702us/step - loss: 0.3410 - accuracy: 0.8356 - val_loss: 0.3857 - val_accuracy: 0.8171\n",
      "Epoch 31/100\n",
      "1736/1736 [==============================] - 1s 704us/step - loss: 0.3394 - accuracy: 0.8359 - val_loss: 0.3904 - val_accuracy: 0.8180\n",
      "Epoch 32/100\n",
      "1736/1736 [==============================] - 1s 691us/step - loss: 0.3401 - accuracy: 0.8377 - val_loss: 0.3860 - val_accuracy: 0.8177\n",
      "Epoch 33/100\n",
      "1736/1736 [==============================] - 1s 686us/step - loss: 0.3362 - accuracy: 0.8378 - val_loss: 0.3982 - val_accuracy: 0.8130\n",
      "Epoch 34/100\n",
      "1736/1736 [==============================] - 1s 709us/step - loss: 0.3376 - accuracy: 0.8387 - val_loss: 0.3892 - val_accuracy: 0.8164\n"
     ]
    }
   ],
   "source": [
    "epochs = 100\n",
    "batch_size = 32\n",
    "\n",
    "history = modelo.fit(\n",
    "    x_train,\n",
    "    y_train,\n",
    "    epochs=epochs,\n",
    "    batch_size=batch_size,\n",
    "    validation_data=(x_test,y_test),\n",
    "    use_multiprocessing=True,\n",
    "    callbacks=[early_stopping]\n",
    ")"
   ]
  },
  {
   "attachments": {},
   "cell_type": "markdown",
   "id": "64b9ff9a-0f2e-471b-8c48-3992713f6023",
   "metadata": {},
   "source": [
    "### Metricas del modelo"
   ]
  },
  {
   "cell_type": "code",
   "execution_count": 14,
   "id": "6f0ca061-2a18-4404-a27a-7df640419864",
   "metadata": {},
   "outputs": [
    {
     "data": {
      "image/png": "[encoded data removed]",
      "text/plain": [
       "<Figure size 1200x400 with 2 Axes>"
      ]
     },
     "metadata": {},
     "output_type": "display_data"
    }
   ],
   "source": [
    "plt.figure(figsize=(12, 4))\n",
    "\n",
    "plt.subplot(1, 2, 1)\n",
    "plt.plot(history.history['loss'], label='Training Loss')\n",
    "plt.plot(history.history['val_loss'], label='Validation Loss')\n",
    "plt.legend()\n",
    "plt.title('Loss')\n",
    "\n",
    "plt.subplot(1, 2, 2)\n",
    "plt.plot(history.history['accuracy'], label='Training Accuracy')\n",
    "plt.plot(history.history['val_accuracy'], label='Validation Accuracy')\n",
    "plt.legend()\n",
    "plt.title('Accuracy')\n",
    "\n",
    "plt.show()"
   ]
  },
  {
   "attachments": {},
   "cell_type": "markdown",
   "id": "1f8bf9d3",
   "metadata": {},
   "source": [
    "Podemos obsservar que tanto en el entrenamiento como en la validación del modelo, la precision y la curva de perdida van a la par, lo que indica que el modelo no sufre de \"overfiting\" ni \"underfiting\"."
   ]
  },
  {
   "cell_type": "code",
   "execution_count": 15,
   "id": "dc88d90a",
   "metadata": {},
   "outputs": [
    {
     "name": "stdout",
     "output_type": "stream",
     "text": [
      "              precision    recall  f1-score   support\n",
      "\n",
      "           0       0.81      0.83      0.82      3085\n",
      "           1       0.83      0.80      0.82      3087\n",
      "\n",
      "    accuracy                           0.82      6172\n",
      "   macro avg       0.82      0.82      0.82      6172\n",
      "weighted avg       0.82      0.82      0.82      6172\n",
      "\n"
     ]
    },
    {
     "data": {
      "image/png": "[encoded data removed]",
      "text/plain": [
       "<Figure size 640x480 with 2 Axes>"
      ]
     },
     "metadata": {},
     "output_type": "display_data"
    }
   ],
   "source": [
    "y_predict = modelo.predict(x_test, batch_size=64, verbose=False)\n",
    "#y_predict_classes = (y_predict > 0.5).astype(int)\n",
    "y_predict_bool = np.argmax(y_predict, axis=1)\n",
    "\n",
    "#metricas(y_predict_classes,y_test)\n",
    "metricas(y_predict_bool,y_test)"
   ]
  },
  {
   "attachments": {},
   "cell_type": "markdown",
   "id": "aed8922e",
   "metadata": {},
   "source": [
    "Precision: En este caso, la precisión de las clasificaciones de la clase 0 es del 80% y el 83% para clase 1. Lo que quiere decir que el 0.80 del total de las clasificaciones como tipo 0, efectivamente eran de ese tipo, lo mismo para el tipo 1.\n",
    "\n",
    "Recall: En este caso, el recall para la clase 0 es del 84%. Y vemos que para las instancias de clase 1, el 79% se ha identificado correctamente.\n",
    "\n",
    "F1-score: El f1-score para la clase 0 es del 0.82, lo que muestra un rendimiento aceptable, tambien un buen score para la clase 1 que es de 0.81.\n",
    "\n",
    "Exactitud: En este caso, la exactitud general del modelo es del 0.82, lo que indica que el 82% de las predicciones son correctas en general."
   ]
  },
  {
   "cell_type": "markdown",
   "id": "d09758ac-822a-4cee-b809-b944b3ce98d0",
   "metadata": {},
   "source": [
    "### Prediccion Kaggle"
   ]
  },
  {
   "cell_type": "code",
   "execution_count": 16,
   "id": "a633a8e5-be46-40b3-85ec-57150f1ca178",
   "metadata": {},
   "outputs": [
    {
     "name": "stdout",
     "output_type": "stream",
     "text": [
      "                                     id  is_canceled\n",
      "0  e6d0d58a-ab96-44d3-b28f-85df1cc15f1e            1\n",
      "1  aba9aac2-4495-4645-a60e-90328713c999            0\n",
      "2  b345b5dc-c804-4d77-a39f-1f4e65d1f1ad            0\n",
      "3  ce1b400e-afa1-4946-bdff-004b859eb61c            1\n",
      "4  c4fbec0d-8e2e-4db2-9d4f-a6ccb9f51214            1\n"
     ]
    }
   ],
   "source": [
    "if not TESTING: \n",
    "    y_predict = modelo.predict(x_predict, verbose=False)\n",
    "    y_predict_bool = np.argmax(y_predict, axis=1)\n",
    "    nn_result = pd.DataFrame({'id': ds_test['id'], 'is_canceled': y_predict_bool})\n",
    "    print(nn_result.head())\n",
    "    nn_result.to_csv('../predicts/predicts_nn.csv', index=False)"
   ]
  }
 ],
 "metadata": {
  "kernelspec": {
   "display_name": "Python 3 (ipykernel)",
   "language": "python",
   "name": "python3"
  },
  "language_info": {
   "codemirror_mode": {
    "name": "ipython",
    "version": 3
   },
   "file_extension": ".py",
   "mimetype": "text/x-python",
   "name": "python",
   "nbconvert_exporter": "python",
   "pygments_lexer": "ipython3",
   "version": "3.10.11"
  }
 },
 "nbformat": 4,
 "nbformat_minor": 5
}
