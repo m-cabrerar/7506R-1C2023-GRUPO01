{
 "cells": [
  {
   "attachments": {},
   "cell_type": "markdown",
   "id": "028bc993-bce5-4997-b5ad-61ded8144bb8",
   "metadata": {},
   "source": [
    "# Trabajo Práctico 1 : Reservas de Hotel\n",
    "\n",
    "### Grupo 01 - Integrantes:\n",
    "        Cabrera Rodríguez, Mateo \n",
    "        Gonzalez Alejo, Camila\n",
    "        Bocanegra, Eduardo Martín"
   ]
  },
  {
   "attachments": {},
   "cell_type": "markdown",
   "id": "59d979ae-022a-472e-ab8c-dfbe37fdff6f",
   "metadata": {},
   "source": [
    "### Instalar dependencias"
   ]
  },
  {
   "cell_type": "code",
   "execution_count": 1,
   "id": "824c7944-1de4-4eff-b50a-ac202bce8f2c",
   "metadata": {},
   "outputs": [
    {
     "name": "stdout",
     "output_type": "stream",
     "text": [
      "Requirement already satisfied: pandas in /opt/conda/lib/python3.10/site-packages (from -r ../requirements.txt (line 1)) (2.0.1)\n",
      "Requirement already satisfied: numpy in /opt/conda/lib/python3.10/site-packages (from -r ../requirements.txt (line 2)) (1.24.3)\n",
      "Requirement already satisfied: seaborn in /opt/conda/lib/python3.10/site-packages (from -r ../requirements.txt (line 3)) (0.12.2)\n",
      "Requirement already satisfied: scikit-learn in /opt/conda/lib/python3.10/site-packages (from -r ../requirements.txt (line 4)) (1.2.2)\n",
      "Requirement already satisfied: graphviz in /opt/conda/lib/python3.10/site-packages (from -r ../requirements.txt (line 5)) (0.20.1)\n",
      "Requirement already satisfied: xgboost in /opt/conda/lib/python3.10/site-packages (from -r ../requirements.txt (line 6)) (1.7.5)\n",
      "Requirement already satisfied: plotly in /opt/conda/lib/python3.10/site-packages (from -r ../requirements.txt (line 7)) (5.14.1)\n",
      "Requirement already satisfied: joblib in /opt/conda/lib/python3.10/site-packages (from -r ../requirements.txt (line 8)) (1.2.0)\n",
      "Requirement already satisfied: python-dateutil>=2.8.2 in /opt/conda/lib/python3.10/site-packages (from pandas->-r ../requirements.txt (line 1)) (2.8.2)\n",
      "Requirement already satisfied: pytz>=2020.1 in /opt/conda/lib/python3.10/site-packages (from pandas->-r ../requirements.txt (line 1)) (2023.3)\n",
      "Requirement already satisfied: tzdata>=2022.1 in /opt/conda/lib/python3.10/site-packages (from pandas->-r ../requirements.txt (line 1)) (2023.3)\n",
      "Requirement already satisfied: matplotlib!=3.6.1,>=3.1 in /opt/conda/lib/python3.10/site-packages (from seaborn->-r ../requirements.txt (line 3)) (3.7.1)\n",
      "Requirement already satisfied: scipy>=1.3.2 in /opt/conda/lib/python3.10/site-packages (from scikit-learn->-r ../requirements.txt (line 4)) (1.10.1)\n",
      "Requirement already satisfied: threadpoolctl>=2.0.0 in /opt/conda/lib/python3.10/site-packages (from scikit-learn->-r ../requirements.txt (line 4)) (3.1.0)\n",
      "Requirement already satisfied: tenacity>=6.2.0 in /opt/conda/lib/python3.10/site-packages (from plotly->-r ../requirements.txt (line 7)) (8.2.2)\n",
      "Requirement already satisfied: packaging in /opt/conda/lib/python3.10/site-packages (from plotly->-r ../requirements.txt (line 7)) (23.1)\n",
      "Requirement already satisfied: contourpy>=1.0.1 in /opt/conda/lib/python3.10/site-packages (from matplotlib!=3.6.1,>=3.1->seaborn->-r ../requirements.txt (line 3)) (1.0.7)\n",
      "Requirement already satisfied: cycler>=0.10 in /opt/conda/lib/python3.10/site-packages (from matplotlib!=3.6.1,>=3.1->seaborn->-r ../requirements.txt (line 3)) (0.11.0)\n",
      "Requirement already satisfied: fonttools>=4.22.0 in /opt/conda/lib/python3.10/site-packages (from matplotlib!=3.6.1,>=3.1->seaborn->-r ../requirements.txt (line 3)) (4.39.4)\n",
      "Requirement already satisfied: kiwisolver>=1.0.1 in /opt/conda/lib/python3.10/site-packages (from matplotlib!=3.6.1,>=3.1->seaborn->-r ../requirements.txt (line 3)) (1.4.4)\n",
      "Requirement already satisfied: pillow>=6.2.0 in /opt/conda/lib/python3.10/site-packages (from matplotlib!=3.6.1,>=3.1->seaborn->-r ../requirements.txt (line 3)) (9.5.0)\n",
      "Requirement already satisfied: pyparsing>=2.3.1 in /opt/conda/lib/python3.10/site-packages (from matplotlib!=3.6.1,>=3.1->seaborn->-r ../requirements.txt (line 3)) (3.0.9)\n",
      "Requirement already satisfied: six>=1.5 in /opt/conda/lib/python3.10/site-packages (from python-dateutil>=2.8.2->pandas->-r ../requirements.txt (line 1)) (1.16.0)\n",
      "Note: you may need to restart the kernel to use updated packages.\n"
     ]
    }
   ],
   "source": [
    "pip install -r ../requirements.txt"
   ]
  },
  {
   "attachments": {},
   "cell_type": "markdown",
   "id": "d14ea277-c19c-4431-999a-40353e735293",
   "metadata": {},
   "source": [
    "### Cargado de bibliotecas"
   ]
  },
  {
   "cell_type": "code",
   "execution_count": 17,
   "id": "285a29d6-7d23-43e9-9dea-b44346cdeaf0",
   "metadata": {
    "tags": []
   },
   "outputs": [],
   "source": [
    "# Datos\n",
    "import numpy as np\n",
    "import pandas as pd\n",
    "\n",
    "# Preprocesado\n",
    "from sklearn.preprocessing import StandardScaler, MinMaxScaler\n",
    "from sklearn.preprocessing import LabelEncoder\n",
    "from sklearn import preprocessing\n",
    "\n",
    "# Plots\n",
    "import matplotlib.pyplot as plt\n",
    "import seaborn as sns\n",
    "import plotly.graph_objects as go \n",
    "\n",
    "# Modelado\n",
    "from sklearn.model_selection import train_test_split\n",
    "from sklearn.experimental import enable_halving_search_cv\n",
    "from sklearn.model_selection import HalvingGridSearchCV, StratifiedKFold\n",
    "from tensorflow import keras\n",
    "from keras.utils.vis_utils import plot_model\n",
    "from keras.callbacks import EarlyStopping\n",
    "import tensorflow as tf\n",
    "\n",
    "# Metricas\n",
    "from sklearn.metrics import confusion_matrix, classification_report\n",
    "from sklearn.metrics import accuracy_score, make_scorer, f1_score"
   ]
  },
  {
   "attachments": {},
   "cell_type": "markdown",
   "id": "239f2e80-d3e8-4d7f-923f-480438749db5",
   "metadata": {},
   "source": [
    "### Modo Testing o Kaggle"
   ]
  },
  {
   "cell_type": "code",
   "execution_count": 3,
   "id": "a98d039e-5a6b-48b5-8b1f-75e5ed721082",
   "metadata": {
    "tags": []
   },
   "outputs": [],
   "source": [
    "TESTING = True"
   ]
  },
  {
   "attachments": {},
   "cell_type": "markdown",
   "id": "841ea532-92b3-4bc5-a896-1192f8c1ad5d",
   "metadata": {
    "tags": []
   },
   "source": [
    "### Cargado de Dataset"
   ]
  },
  {
   "cell_type": "code",
   "execution_count": 4,
   "id": "cb1c59fd-8fe2-40c3-802c-2adb4ce9c82a",
   "metadata": {
    "tags": []
   },
   "outputs": [],
   "source": [
    "ds = pd.read_csv('../datasets/hoteles_train2.csv')\n",
    "ds_test = pd.read_csv('../datasets/hotels_test.csv')"
   ]
  },
  {
   "attachments": {},
   "cell_type": "markdown",
   "id": "ea64f470-9bd6-4e68-ad28-a65a1239ec0c",
   "metadata": {},
   "source": [
    "#### Trabajo sobre nulos"
   ]
  },
  {
   "cell_type": "code",
   "execution_count": 5,
   "id": "c5677b81-86f2-41a8-86aa-acdeb31d2bc3",
   "metadata": {
    "tags": []
   },
   "outputs": [],
   "source": [
    "# Trabajo sobre valores nulos\n",
    "agents = ds['agent'].unique()\n",
    "agents = np.delete(agents, 1)\n",
    "ds['agent'].fillna(0, inplace=True)\n",
    "\n",
    "agents = ds_test['agent'].unique()\n",
    "agents = np.delete(agents, 1)\n",
    "ds_test['agent'].fillna(0, inplace=True)"
   ]
  },
  {
   "attachments": {},
   "cell_type": "markdown",
   "id": "60d28273-d459-4785-826c-f2e4a64004e7",
   "metadata": {},
   "source": [
    "#### Transformacion de variables categoricas"
   ]
  },
  {
   "cell_type": "code",
   "execution_count": 6,
   "id": "2fccedad-aa0a-435e-a669-cfbb9f4b5ee5",
   "metadata": {
    "tags": []
   },
   "outputs": [],
   "source": [
    "# Transformacion de variables categoricas\n",
    "\n",
    "import string\n",
    "\n",
    "# encoding ordinal\n",
    "\n",
    "ds = ds.replace({'meal': {'BB': 0, 'HB': 1, 'FB': 2, 'SC': 3, 'Undefined': 3},\n",
    "                 'arrival_date_month': {'January': 1, 'February': 2, 'March': 3, 'April': 4, 'May': 5, 'June': 6, 'July': 7, 'August': 8, 'September': 9, 'October': 10,'November': 11, 'December': 12},\n",
    "                 'reserved_room_type': {a : n for n, a in enumerate(string.ascii_uppercase)},\n",
    "                 'assigned_room_type': {a : n for n, a in enumerate(string.ascii_uppercase)},\n",
    "                 'deposit_type': {'No Deposit': 0, 'Refundable': 1, 'Non Refund': 2},\n",
    "                 'agent': {agent : 1 for agent in agents}})\n",
    "\n",
    "ds_test = ds_test.replace({'meal': {'BB': 0, 'HB': 1, 'FB': 2, 'SC': 3, 'Undefined': 4},# ver que hacer con undefined\n",
    "                 'arrival_date_month': {'January': 1, 'February': 2, 'March': 3, 'April': 4, 'May': 5, 'June': 6, 'July': 7, 'August': 8, 'September': 9, 'October': 10,'November': 11, 'December': 12},\n",
    "                 'reserved_room_type': {a : n for n, a in enumerate(string.ascii_uppercase)},\n",
    "                 'assigned_room_type': {a : n for n, a in enumerate(string.ascii_uppercase)},\n",
    "                 'deposit_type': {'No Deposit': 0, 'Refundable': 1, 'Non Refund': 2},\n",
    "                 'agent': {agent : 1 for agent in agents}})\n",
    "\n",
    "# Si meal es Undefined o vacío, reemplazamos por SC (dice el paper)\n",
    "# ds['meal'] = ds['meal'].apply(lambda x: 'SC' if x in ['Undefined', 'null', ''] else x)\n",
    "# ds = pd.get_dummies(ds, columns=['assigned_room_type'], drop_first=True)\n",
    "# ds = pd.get_dummies(ds, columns=['reserved_room_type'], drop_first=True)\n",
    "# ds = pd.get_dummies(ds, columns=['meal'], drop_first=True)\n",
    "# ds = pd.get_dummies(ds, columns=['deposit_type'], drop_first=True)\n",
    "# ds = pd.get_dummies(ds, columns=['agent'], drop_first=True)"
   ]
  },
  {
   "cell_type": "code",
   "execution_count": 7,
   "id": "c4619610-dcec-4949-94ae-8c89d49e03ab",
   "metadata": {
    "tags": []
   },
   "outputs": [],
   "source": [
    "label_encoder = LabelEncoder()\n",
    "ds['market_segment'] = label_encoder.fit_transform(ds['market_segment'])\n",
    "ds['distribution_channel'] = label_encoder.fit_transform(ds['distribution_channel'])\n",
    "ds['customer_type'] = label_encoder.fit_transform(ds['customer_type'])\n",
    "\n",
    "ds_test['market_segment'] = label_encoder.fit_transform(ds_test['market_segment'])\n",
    "ds_test['distribution_channel'] = label_encoder.fit_transform(ds_test['distribution_channel'])\n",
    "ds_test['customer_type'] = label_encoder.fit_transform(ds_test['customer_type'])\n",
    "\n",
    "#ds['arrival_date_month'] = label_encoder.fit_transform(ds['arrival_date_month'])"
   ]
  },
  {
   "attachments": {},
   "cell_type": "markdown",
   "id": "eb2c33d9-0ecf-4c53-861b-4397787798b6",
   "metadata": {},
   "source": [
    "#### Separacion de datos"
   ]
  },
  {
   "cell_type": "code",
   "execution_count": 8,
   "id": "2c6326e3-14fa-4471-b1b4-f255b68faae7",
   "metadata": {
    "tags": []
   },
   "outputs": [],
   "source": [
    "# Definicion de excluidos y target\n",
    "\n",
    "excluidos = ['hotel', 'reservation_status_date', 'id']\n",
    "\n",
    "target = 'is_canceled'\n",
    "features = [col for col in ds.columns if col not in excluidos+[target]]"
   ]
  },
  {
   "attachments": {},
   "cell_type": "markdown",
   "id": "96c85c30-2ab2-449f-8856-7de4acc41d90",
   "metadata": {
    "tags": []
   },
   "source": [
    "### Definicion de la funcion de metricas"
   ]
  },
  {
   "cell_type": "code",
   "execution_count": 9,
   "id": "ac3d0762-8df3-4c41-80da-8a2a4a52fe06",
   "metadata": {
    "tags": []
   },
   "outputs": [],
   "source": [
    "def metricas(y_pred,y_test):\n",
    "\n",
    "  print(classification_report(y_test,y_pred))\n",
    "  \n",
    "  cm = confusion_matrix(y_test,y_pred)\n",
    "  sns.heatmap(cm, cmap='Blues',annot=True,fmt='g')\n",
    "  plt.xlabel('Predicted')\n",
    "  plt.ylabel('True')"
   ]
  },
  {
   "attachments": {},
   "cell_type": "markdown",
   "id": "1cbc0c4e-98af-429a-920a-6c7c53640a24",
   "metadata": {
    "tags": []
   },
   "source": [
    "### Generacion del dataset de prueba"
   ]
  },
  {
   "cell_type": "code",
   "execution_count": 10,
   "id": "05427c43-fb5e-4dc8-a2b8-553e8e618c77",
   "metadata": {
    "tags": []
   },
   "outputs": [],
   "source": [
    "# Separamos conjunto de Train y Test\n",
    "x = ds[features].values\n",
    "y = ds[target].values\n",
    "x_predict = ds_test[features].values\n",
    "\n",
    "if TESTING:\n",
    "    x_train, x_test, y_train, y_test = train_test_split(x, y , test_size=0.20, random_state=0, stratify=ds[target])\n",
    "else:\n",
    "    x_train, x_test, y_train, y_test = train_test_split(x, y , test_size=0.10, random_state=0, stratify=ds[target])"
   ]
  },
  {
   "attachments": {},
   "cell_type": "markdown",
   "id": "e34f3088-0381-4820-9085-5795cc6b3e98",
   "metadata": {},
   "source": [
    "### Escalado"
   ]
  },
  {
   "cell_type": "code",
   "execution_count": 11,
   "id": "db016ae4-d334-48e6-abc6-287d19985a63",
   "metadata": {},
   "outputs": [
    {
     "data": {
      "text/html": [
       "<div>\n",
       "<style scoped>\n",
       "    .dataframe tbody tr th:only-of-type {\n",
       "        vertical-align: middle;\n",
       "    }\n",
       "\n",
       "    .dataframe tbody tr th {\n",
       "        vertical-align: top;\n",
       "    }\n",
       "\n",
       "    .dataframe thead th {\n",
       "        text-align: right;\n",
       "    }\n",
       "</style>\n",
       "<table border=\"1\" class=\"dataframe\">\n",
       "  <thead>\n",
       "    <tr style=\"text-align: right;\">\n",
       "      <th></th>\n",
       "      <th>0</th>\n",
       "      <th>1</th>\n",
       "      <th>2</th>\n",
       "      <th>3</th>\n",
       "      <th>4</th>\n",
       "      <th>5</th>\n",
       "      <th>6</th>\n",
       "      <th>7</th>\n",
       "      <th>8</th>\n",
       "      <th>9</th>\n",
       "      <th>...</th>\n",
       "      <th>16</th>\n",
       "      <th>17</th>\n",
       "      <th>18</th>\n",
       "      <th>19</th>\n",
       "      <th>20</th>\n",
       "      <th>21</th>\n",
       "      <th>22</th>\n",
       "      <th>23</th>\n",
       "      <th>24</th>\n",
       "      <th>25</th>\n",
       "    </tr>\n",
       "  </thead>\n",
       "  <tbody>\n",
       "    <tr>\n",
       "      <th>0</th>\n",
       "      <td>0.005841</td>\n",
       "      <td>-1.629843</td>\n",
       "      <td>0.789827</td>\n",
       "      <td>0.721923</td>\n",
       "      <td>-0.655316</td>\n",
       "      <td>0.074218</td>\n",
       "      <td>0.259688</td>\n",
       "      <td>0.227687</td>\n",
       "      <td>-0.256998</td>\n",
       "      <td>-0.081175</td>\n",
       "      <td>...</td>\n",
       "      <td>2.398055</td>\n",
       "      <td>2.590625</td>\n",
       "      <td>-0.325857</td>\n",
       "      <td>-0.445401</td>\n",
       "      <td>-0.035953</td>\n",
       "      <td>-0.14259</td>\n",
       "      <td>-0.222254</td>\n",
       "      <td>-0.167905</td>\n",
       "      <td>-0.228418</td>\n",
       "      <td>1.909289</td>\n",
       "    </tr>\n",
       "    <tr>\n",
       "      <th>1</th>\n",
       "      <td>1.242850</td>\n",
       "      <td>1.192710</td>\n",
       "      <td>-0.836485</td>\n",
       "      <td>-0.757367</td>\n",
       "      <td>1.390447</td>\n",
       "      <td>1.080018</td>\n",
       "      <td>0.789056</td>\n",
       "      <td>0.227687</td>\n",
       "      <td>4.838575</td>\n",
       "      <td>-0.081175</td>\n",
       "      <td>...</td>\n",
       "      <td>2.991698</td>\n",
       "      <td>2.590625</td>\n",
       "      <td>4.751219</td>\n",
       "      <td>-0.445401</td>\n",
       "      <td>-0.035953</td>\n",
       "      <td>-0.14259</td>\n",
       "      <td>1.550105</td>\n",
       "      <td>0.118103</td>\n",
       "      <td>-0.228418</td>\n",
       "      <td>0.617433</td>\n",
       "    </tr>\n",
       "    <tr>\n",
       "      <th>2</th>\n",
       "      <td>-1.014465</td>\n",
       "      <td>-1.629843</td>\n",
       "      <td>1.440352</td>\n",
       "      <td>1.461568</td>\n",
       "      <td>0.253912</td>\n",
       "      <td>-0.931583</td>\n",
       "      <td>-0.269681</td>\n",
       "      <td>0.227687</td>\n",
       "      <td>-0.256998</td>\n",
       "      <td>-0.081175</td>\n",
       "      <td>...</td>\n",
       "      <td>-0.570159</td>\n",
       "      <td>0.959702</td>\n",
       "      <td>4.751219</td>\n",
       "      <td>-0.445401</td>\n",
       "      <td>-0.035953</td>\n",
       "      <td>-0.14259</td>\n",
       "      <td>-0.222254</td>\n",
       "      <td>-0.868129</td>\n",
       "      <td>-0.228418</td>\n",
       "      <td>0.617433</td>\n",
       "    </tr>\n",
       "    <tr>\n",
       "      <th>3</th>\n",
       "      <td>-0.608148</td>\n",
       "      <td>-1.629843</td>\n",
       "      <td>0.139302</td>\n",
       "      <td>0.204172</td>\n",
       "      <td>0.935833</td>\n",
       "      <td>0.074218</td>\n",
       "      <td>-0.269681</td>\n",
       "      <td>0.227687</td>\n",
       "      <td>-0.256998</td>\n",
       "      <td>-0.081175</td>\n",
       "      <td>...</td>\n",
       "      <td>-0.570159</td>\n",
       "      <td>-0.671221</td>\n",
       "      <td>-0.325857</td>\n",
       "      <td>-0.445401</td>\n",
       "      <td>-0.035953</td>\n",
       "      <td>-0.14259</td>\n",
       "      <td>-0.222254</td>\n",
       "      <td>0.516792</td>\n",
       "      <td>-0.228418</td>\n",
       "      <td>-0.674424</td>\n",
       "    </tr>\n",
       "    <tr>\n",
       "      <th>4</th>\n",
       "      <td>0.520509</td>\n",
       "      <td>-0.218566</td>\n",
       "      <td>0.464565</td>\n",
       "      <td>0.500030</td>\n",
       "      <td>0.253912</td>\n",
       "      <td>-0.931583</td>\n",
       "      <td>0.259688</td>\n",
       "      <td>0.227687</td>\n",
       "      <td>-0.256998</td>\n",
       "      <td>-0.081175</td>\n",
       "      <td>...</td>\n",
       "      <td>-0.570159</td>\n",
       "      <td>-0.671221</td>\n",
       "      <td>-0.325857</td>\n",
       "      <td>-0.445401</td>\n",
       "      <td>-0.035953</td>\n",
       "      <td>-0.14259</td>\n",
       "      <td>-0.222254</td>\n",
       "      <td>0.124398</td>\n",
       "      <td>-0.228418</td>\n",
       "      <td>0.617433</td>\n",
       "    </tr>\n",
       "  </tbody>\n",
       "</table>\n",
       "<p>5 rows × 26 columns</p>\n",
       "</div>"
      ],
      "text/plain": [
       "         0         1         2         3         4         5         6    \n",
       "0  0.005841 -1.629843  0.789827  0.721923 -0.655316  0.074218  0.259688  \\\n",
       "1  1.242850  1.192710 -0.836485 -0.757367  1.390447  1.080018  0.789056   \n",
       "2 -1.014465 -1.629843  1.440352  1.461568  0.253912 -0.931583 -0.269681   \n",
       "3 -0.608148 -1.629843  0.139302  0.204172  0.935833  0.074218 -0.269681   \n",
       "4  0.520509 -0.218566  0.464565  0.500030  0.253912 -0.931583  0.259688   \n",
       "\n",
       "         7         8         9   ...        16        17        18        19   \n",
       "0  0.227687 -0.256998 -0.081175  ...  2.398055  2.590625 -0.325857 -0.445401  \\\n",
       "1  0.227687  4.838575 -0.081175  ...  2.991698  2.590625  4.751219 -0.445401   \n",
       "2  0.227687 -0.256998 -0.081175  ... -0.570159  0.959702  4.751219 -0.445401   \n",
       "3  0.227687 -0.256998 -0.081175  ... -0.570159 -0.671221 -0.325857 -0.445401   \n",
       "4  0.227687 -0.256998 -0.081175  ... -0.570159 -0.671221 -0.325857 -0.445401   \n",
       "\n",
       "         20       21        22        23        24        25  \n",
       "0 -0.035953 -0.14259 -0.222254 -0.167905 -0.228418  1.909289  \n",
       "1 -0.035953 -0.14259  1.550105  0.118103 -0.228418  0.617433  \n",
       "2 -0.035953 -0.14259 -0.222254 -0.868129 -0.228418  0.617433  \n",
       "3 -0.035953 -0.14259 -0.222254  0.516792 -0.228418 -0.674424  \n",
       "4 -0.035953 -0.14259 -0.222254  0.124398 -0.228418  0.617433  \n",
       "\n",
       "[5 rows x 26 columns]"
      ]
     },
     "execution_count": 11,
     "metadata": {},
     "output_type": "execute_result"
    }
   ],
   "source": [
    "# Vimos que el StandardScaler funciona mejor que el MinMaxScaler al entrenar la red\n",
    "sscaler=StandardScaler()\n",
    "sscaler.fit(x_train)\n",
    "x_train = sscaler.transform(x_train)\n",
    "x_test = sscaler.transform(x_test)\n",
    "if not TESTING: x_predict = sscaler.transform(x_predict)\n",
    "    \n",
    "pd.DataFrame(x_train).head()"
   ]
  },
  {
   "attachments": {},
   "cell_type": "markdown",
   "id": "f3c6964a-e1c1-458d-82dc-2e5e42ca8913",
   "metadata": {},
   "source": [
    "### Modelo"
   ]
  },
  {
   "attachments": {},
   "cell_type": "markdown",
   "id": "58ff8633-77dc-4b3c-a3a9-721bf3d8c773",
   "metadata": {},
   "source": [
    "#### Creacion del modelo"
   ]
  },
  {
   "cell_type": "code",
   "execution_count": 12,
   "id": "c5c05350-6e2e-4dca-a876-d44f48c7acdf",
   "metadata": {},
   "outputs": [
    {
     "name": "stderr",
     "output_type": "stream",
     "text": [
      "2023-05-26 00:14:01.351455: I tensorflow/core/platform/cpu_feature_guard.cc:193] This TensorFlow binary is optimized with oneAPI Deep Neural Network Library (oneDNN) to use the following CPU instructions in performance-critical operations:  SSE4.1 SSE4.2 AVX AVX2 FMA\n",
      "To enable them in other operations, rebuild TensorFlow with the appropriate compiler flags.\n"
     ]
    }
   ],
   "source": [
    "inputs = len(pd.DataFrame(x_train).columns)\n",
    "cant_clases = len(np.unique(y_train))\n",
    "max_neuronas = 64\n",
    "\n",
    "\n",
    "# Usamos Early Stopping para prevenir overfitting durante el entrenamiento\n",
    "early_stopping = EarlyStopping(\n",
    "    monitor='val_accuracy',\n",
    "    patience=10,\n",
    "    restore_best_weights=True,\n",
    ")\n",
    "\n",
    "\n",
    "# Probamos con funciones de activacion sigmoid y relu y obtuvimos mejores resultados usando relu\n",
    "# Probamos \n",
    "# Tambien estamos usando DropOut para prevenir overfitting\n",
    "modelo = keras.Sequential([\n",
    "    keras.layers.Dense(max_neuronas,input_shape=(inputs,), activation=\"relu\"),\n",
    "    keras.layers.Dense(max_neuronas//2, activation=\"relu\"),\n",
    "    keras.layers.Dense(max_neuronas//2, activation=\"relu\"),\n",
    "    keras.layers.Dense(max_neuronas//6, activation='relu'),\n",
    "    keras.layers.Dense(max_neuronas, activation='relu'),\n",
    "    tf.keras.layers.Dropout(0.5),\n",
    "    #keras.layers.Dense(1, activation='sigmoid')\n",
    "    keras.layers.Dense(cant_clases, activation='softmax')\n",
    "])\n",
    "\n",
    "optimizer = keras.optimizers.Adam(learning_rate=0.001)\n",
    "modelo.compile(\n",
    "  optimizer=optimizer,\n",
    "  #loss='mse', \n",
    "  #loss=tf.losses.BinaryCrossentropy(),\n",
    "  loss=tf.losses.SparseCategoricalCrossentropy(),\n",
    "  metrics=['accuracy']\n",
    ")"
   ]
  },
  {
   "attachments": {},
   "cell_type": "markdown",
   "id": "eb0f882f-0cef-4de5-8fe1-3e178dfcd160",
   "metadata": {},
   "source": [
    "#### Entrenamiento del modelo"
   ]
  },
  {
   "cell_type": "code",
   "execution_count": 13,
   "id": "2875e32c-5d3d-46ff-abe4-399e30eef3ab",
   "metadata": {},
   "outputs": [
    {
     "name": "stdout",
     "output_type": "stream",
     "text": [
      "Epoch 1/100\n",
      "1543/1543 [==============================] - 2s 843us/step - loss: 0.4621 - accuracy: 0.7606 - val_loss: 0.4259 - val_accuracy: 0.7789\n",
      "Epoch 2/100\n",
      "1543/1543 [==============================] - 1s 743us/step - loss: 0.4189 - accuracy: 0.7894 - val_loss: 0.4134 - val_accuracy: 0.7895\n",
      "Epoch 3/100\n",
      "1543/1543 [==============================] - 1s 751us/step - loss: 0.4067 - accuracy: 0.7961 - val_loss: 0.4015 - val_accuracy: 0.7972\n",
      "Epoch 4/100\n",
      "1543/1543 [==============================] - 1s 759us/step - loss: 0.4005 - accuracy: 0.8013 - val_loss: 0.4003 - val_accuracy: 0.7989\n",
      "Epoch 5/100\n",
      "1543/1543 [==============================] - 1s 754us/step - loss: 0.3949 - accuracy: 0.8057 - val_loss: 0.3954 - val_accuracy: 0.7999\n",
      "Epoch 6/100\n",
      "1543/1543 [==============================] - 1s 760us/step - loss: 0.3898 - accuracy: 0.8082 - val_loss: 0.3962 - val_accuracy: 0.8044\n",
      "Epoch 7/100\n",
      "1543/1543 [==============================] - 1s 754us/step - loss: 0.3848 - accuracy: 0.8100 - val_loss: 0.3951 - val_accuracy: 0.8070\n",
      "Epoch 8/100\n",
      "1543/1543 [==============================] - 1s 752us/step - loss: 0.3813 - accuracy: 0.8132 - val_loss: 0.3880 - val_accuracy: 0.8092\n",
      "Epoch 9/100\n",
      "1543/1543 [==============================] - 1s 759us/step - loss: 0.3790 - accuracy: 0.8137 - val_loss: 0.3949 - val_accuracy: 0.8055\n",
      "Epoch 10/100\n",
      "1543/1543 [==============================] - 1s 747us/step - loss: 0.3752 - accuracy: 0.8167 - val_loss: 0.3912 - val_accuracy: 0.8097\n",
      "Epoch 11/100\n",
      "1543/1543 [==============================] - 1s 760us/step - loss: 0.3727 - accuracy: 0.8179 - val_loss: 0.3865 - val_accuracy: 0.8132\n",
      "Epoch 12/100\n",
      "1543/1543 [==============================] - 1s 755us/step - loss: 0.3720 - accuracy: 0.8184 - val_loss: 0.3901 - val_accuracy: 0.8101\n",
      "Epoch 13/100\n",
      "1543/1543 [==============================] - 1s 760us/step - loss: 0.3681 - accuracy: 0.8195 - val_loss: 0.3871 - val_accuracy: 0.8136\n",
      "Epoch 14/100\n",
      "1543/1543 [==============================] - 1s 753us/step - loss: 0.3647 - accuracy: 0.8216 - val_loss: 0.3884 - val_accuracy: 0.8107\n",
      "Epoch 15/100\n",
      "1543/1543 [==============================] - 1s 753us/step - loss: 0.3631 - accuracy: 0.8237 - val_loss: 0.3859 - val_accuracy: 0.8149\n",
      "Epoch 16/100\n",
      "1543/1543 [==============================] - 1s 759us/step - loss: 0.3622 - accuracy: 0.8243 - val_loss: 0.3888 - val_accuracy: 0.8119\n",
      "Epoch 17/100\n",
      "1543/1543 [==============================] - 1s 758us/step - loss: 0.3600 - accuracy: 0.8247 - val_loss: 0.3852 - val_accuracy: 0.8167\n",
      "Epoch 18/100\n",
      "1543/1543 [==============================] - 1s 755us/step - loss: 0.3585 - accuracy: 0.8256 - val_loss: 0.3896 - val_accuracy: 0.8089\n",
      "Epoch 19/100\n",
      "1543/1543 [==============================] - 1s 760us/step - loss: 0.3572 - accuracy: 0.8263 - val_loss: 0.3851 - val_accuracy: 0.8114\n",
      "Epoch 20/100\n",
      "1543/1543 [==============================] - 1s 759us/step - loss: 0.3553 - accuracy: 0.8285 - val_loss: 0.3907 - val_accuracy: 0.8151\n",
      "Epoch 21/100\n",
      "1543/1543 [==============================] - 1s 755us/step - loss: 0.3534 - accuracy: 0.8292 - val_loss: 0.3857 - val_accuracy: 0.8170\n",
      "Epoch 22/100\n",
      "1543/1543 [==============================] - 1s 757us/step - loss: 0.3527 - accuracy: 0.8298 - val_loss: 0.3945 - val_accuracy: 0.8137\n",
      "Epoch 23/100\n",
      "1543/1543 [==============================] - 1s 753us/step - loss: 0.3515 - accuracy: 0.8298 - val_loss: 0.3832 - val_accuracy: 0.8168\n",
      "Epoch 24/100\n",
      "1543/1543 [==============================] - 1s 753us/step - loss: 0.3493 - accuracy: 0.8314 - val_loss: 0.3853 - val_accuracy: 0.8132\n",
      "Epoch 25/100\n",
      "1543/1543 [==============================] - 1s 760us/step - loss: 0.3493 - accuracy: 0.8297 - val_loss: 0.3885 - val_accuracy: 0.8120\n",
      "Epoch 26/100\n",
      "1543/1543 [==============================] - 1s 746us/step - loss: 0.3455 - accuracy: 0.8326 - val_loss: 0.3866 - val_accuracy: 0.8124\n",
      "Epoch 27/100\n",
      "1543/1543 [==============================] - 1s 760us/step - loss: 0.3466 - accuracy: 0.8324 - val_loss: 0.3925 - val_accuracy: 0.8182\n",
      "Epoch 28/100\n",
      "1543/1543 [==============================] - 1s 764us/step - loss: 0.3456 - accuracy: 0.8336 - val_loss: 0.3964 - val_accuracy: 0.8180\n",
      "Epoch 29/100\n",
      "1543/1543 [==============================] - 1s 747us/step - loss: 0.3429 - accuracy: 0.8350 - val_loss: 0.3988 - val_accuracy: 0.8128\n",
      "Epoch 30/100\n",
      "1543/1543 [==============================] - 1s 757us/step - loss: 0.3416 - accuracy: 0.8349 - val_loss: 0.3939 - val_accuracy: 0.8152\n",
      "Epoch 31/100\n",
      "1543/1543 [==============================] - 1s 761us/step - loss: 0.3405 - accuracy: 0.8356 - val_loss: 0.3882 - val_accuracy: 0.8158\n",
      "Epoch 32/100\n",
      "1543/1543 [==============================] - 1s 752us/step - loss: 0.3394 - accuracy: 0.8364 - val_loss: 0.3952 - val_accuracy: 0.8163\n",
      "Epoch 33/100\n",
      "1543/1543 [==============================] - 1s 754us/step - loss: 0.3398 - accuracy: 0.8363 - val_loss: 0.3951 - val_accuracy: 0.8133\n",
      "Epoch 34/100\n",
      "1543/1543 [==============================] - 1s 751us/step - loss: 0.3385 - accuracy: 0.8364 - val_loss: 0.3873 - val_accuracy: 0.8175\n",
      "Epoch 35/100\n",
      "1543/1543 [==============================] - 1s 773us/step - loss: 0.3361 - accuracy: 0.8381 - val_loss: 0.3955 - val_accuracy: 0.8137\n",
      "Epoch 36/100\n",
      "1543/1543 [==============================] - 1s 765us/step - loss: 0.3362 - accuracy: 0.8384 - val_loss: 0.3971 - val_accuracy: 0.8171\n",
      "Epoch 37/100\n",
      "1543/1543 [==============================] - 1s 753us/step - loss: 0.3356 - accuracy: 0.8380 - val_loss: 0.3977 - val_accuracy: 0.8147\n"
     ]
    }
   ],
   "source": [
    "epochs = 100\n",
    "batch_size = 32\n",
    "\n",
    "history = modelo.fit(\n",
    "    x_train,\n",
    "    y_train,\n",
    "    epochs=epochs,\n",
    "    batch_size=batch_size,\n",
    "    validation_data=(x_test,y_test),\n",
    "    use_multiprocessing=True,\n",
    "    callbacks=[early_stopping]\n",
    ")"
   ]
  },
  {
   "attachments": {},
   "cell_type": "markdown",
   "id": "64b9ff9a-0f2e-471b-8c48-3992713f6023",
   "metadata": {},
   "source": [
    "### Metricas del modelo"
   ]
  },
  {
   "cell_type": "code",
   "execution_count": 14,
   "id": "6f0ca061-2a18-4404-a27a-7df640419864",
   "metadata": {},
   "outputs": [
    {
     "data": {
      "image/png": "[encoded data removed]",
      "text/plain": [
       "<Figure size 1200x400 with 2 Axes>"
      ]
     },
     "metadata": {},
     "output_type": "display_data"
    }
   ],
   "source": [
    "plt.figure(figsize=(12, 4))\n",
    "\n",
    "plt.subplot(1, 2, 1)\n",
    "plt.plot(history.history['loss'], label='Training Loss')\n",
    "plt.plot(history.history['val_loss'], label='Validation Loss')\n",
    "plt.legend()\n",
    "plt.title('Loss')\n",
    "\n",
    "plt.subplot(1, 2, 2)\n",
    "plt.plot(history.history['accuracy'], label='Training Accuracy')\n",
    "plt.plot(history.history['val_accuracy'], label='Validation Accuracy')\n",
    "plt.legend()\n",
    "plt.title('Accuracy')\n",
    "\n",
    "plt.show()"
   ]
  },
  {
   "attachments": {},
   "cell_type": "markdown",
   "id": "1f8bf9d3",
   "metadata": {},
   "source": [
    "Podemos obsservar que tanto en el entrenamiento como en la validación del modelo, la precision y la curva de perdida van a la par, lo que indica que el modelo no sufre de \"overfiting\" ni \"underfiting\"."
   ]
  },
  {
   "cell_type": "code",
   "execution_count": 15,
   "id": "dc88d90a",
   "metadata": {},
   "outputs": [
    {
     "name": "stdout",
     "output_type": "stream",
     "text": [
      "              precision    recall  f1-score   support\n",
      "\n",
      "           0       0.81      0.84      0.82      6170\n",
      "           1       0.83      0.80      0.81      6173\n",
      "\n",
      "    accuracy                           0.82     12343\n",
      "   macro avg       0.82      0.82      0.82     12343\n",
      "weighted avg       0.82      0.82      0.82     12343\n",
      "\n"
     ]
    },
    {
     "data": {
      "image/png": "[encoded data removed]",
      "text/plain": [
       "<Figure size 640x480 with 2 Axes>"
      ]
     },
     "metadata": {},
     "output_type": "display_data"
    }
   ],
   "source": [
    "y_predict = modelo.predict(x_test, batch_size=64, verbose=False)\n",
    "#y_predict_classes = (y_predict > 0.5).astype(int)\n",
    "y_predict_bool = np.argmax(y_predict, axis=1)\n",
    "\n",
    "#metricas(y_predict_classes,y_test)\n",
    "metricas(y_predict_bool,y_test)"
   ]
  },
  {
   "attachments": {},
   "cell_type": "markdown",
   "id": "aed8922e",
   "metadata": {},
   "source": [
    "Precision: En este caso, la precisión de las clasificaciones de la clase 0 es del 82% y el 81% para clase 1. Lo que quiere decir que el 0.80 del total de las clasificaciones como tipo 0, efectivamente eran de ese tipo, lo mismo para el tipo 1.\n",
    "\n",
    "Recall: En este caso, el recall para la clase 0 es del 84%. Y vemos que para las instancias de clase 1, el 80% se ha identificado correctamente.\n",
    "\n",
    "F1-score: El f1-score para la clase 0 es del 0.82, lo que muestra un rendimiento aceptable, tambien un buen score para la clase 1 que es de 0.81.\n",
    "\n",
    "Exactitud: En este caso, la exactitud general del modelo es del 0.82, lo que indica que el 82% de las predicciones son correctas en general."
   ]
  },
  {
   "cell_type": "markdown",
   "id": "d09758ac-822a-4cee-b809-b944b3ce98d0",
   "metadata": {},
   "source": [
    "### Prediccion Kaggle"
   ]
  },
  {
   "cell_type": "code",
   "execution_count": 16,
   "id": "a633a8e5-be46-40b3-85ec-57150f1ca178",
   "metadata": {},
   "outputs": [],
   "source": [
    "if not TESTING: \n",
    "    y_predict = modelo.predict(x_predict, verbose=False)\n",
    "    y_predict_bool = np.argmax(y_predict, axis=1)\n",
    "    nn_result = pd.DataFrame({'id': ds_test['id'], 'is_canceled': y_predict_bool})\n",
    "    print(nn_result.head())\n",
    "    nn_result.to_csv('../predicts/predicts_nn.csv', index=False)"
   ]
  }
 ],
 "metadata": {
  "kernelspec": {
   "display_name": "Python 3 (ipykernel)",
   "language": "python",
   "name": "python3"
  },
  "language_info": {
   "codemirror_mode": {
    "name": "ipython",
    "version": 3
   },
   "file_extension": ".py",
   "mimetype": "text/x-python",
   "name": "python",
   "nbconvert_exporter": "python",
   "pygments_lexer": "ipython3",
   "version": "3.10.11"
  }
 },
 "nbformat": 4,
 "nbformat_minor": 5
}
